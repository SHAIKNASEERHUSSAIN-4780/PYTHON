{
 "cells": [
  {
   "cell_type": "markdown",
   "id": "6c5ee6cb-fe80-4293-8289-1059b47e51b8",
   "metadata": {},
   "source": [
    "## Built-In-Fuctions\n",
    "Built-In-Functions are predefined functions that are already in python."
   ]
  },
  {
   "cell_type": "code",
   "execution_count": 6,
   "id": "0a7185f9-3041-4493-ac6a-518422ce0b74",
   "metadata": {},
   "outputs": [
    {
     "name": "stdin",
     "output_type": "stream",
     "text": [
      "Enter a name: Naseer\n"
     ]
    },
    {
     "name": "stdout",
     "output_type": "stream",
     "text": [
      "Naseer\n"
     ]
    }
   ],
   "source": [
    "'''\n",
    "input Function:\n",
    "The input function are used to accept the user input.\n",
    "'''\n",
    "a=input(\"Enter a name:\")\n",
    "print(a)"
   ]
  },
  {
   "cell_type": "code",
   "execution_count": 3,
   "id": "cd9a2145-0035-45ef-ac79-bba1c9f55da3",
   "metadata": {},
   "outputs": [
    {
     "name": "stdin",
     "output_type": "stream",
     "text": [
      "Enter a number: 12\n"
     ]
    },
    {
     "name": "stdout",
     "output_type": "stream",
     "text": [
      "12\n"
     ]
    }
   ],
   "source": [
    "'''\n",
    "eval function:\n",
    "The eval function is used to evaluate the value of a string.\n",
    "'''\n",
    "a=eval(input(\"Enter a number:\"))\n",
    "print(a)"
   ]
  },
  {
   "cell_type": "code",
   "execution_count": 4,
   "id": "74f41920-21df-46f3-ae6a-6a4afb43ffff",
   "metadata": {},
   "outputs": [
    {
     "name": "stdin",
     "output_type": "stream",
     "text": [
      "Enter a number: 23\n"
     ]
    },
    {
     "name": "stdout",
     "output_type": "stream",
     "text": [
      "23\n"
     ]
    }
   ],
   "source": [
    "'''\n",
    "Composition:\n",
    "The value returned by one function is used as an argument for another function in a nested manner.\n",
    "'''\n",
    "a=eval(input(\"Enter a number:\"))\n",
    "print(a)"
   ]
  },
  {
   "cell_type": "code",
   "execution_count": 7,
   "id": "05ee8c09-d557-469a-b9e2-07ae54fac9ed",
   "metadata": {},
   "outputs": [
    {
     "name": "stdout",
     "output_type": "stream",
     "text": [
      "Hello\n",
      "Use \\n for newline.\n"
     ]
    }
   ],
   "source": [
    "'''\n",
    "print Function:\n",
    "It is used to return the output or value of a variable.\n",
    "'''\n",
    "print(\"Hello\")\n",
    "print(r'Use \\n for newline.')"
   ]
  },
  {
   "cell_type": "code",
   "execution_count": 10,
   "id": "354c3af0-d687-49f8-9027-9406ef95f4dd",
   "metadata": {},
   "outputs": [
    {
     "name": "stdout",
     "output_type": "stream",
     "text": [
      "<class 'int'>\n"
     ]
    }
   ],
   "source": [
    "'''\n",
    "type Function:\n",
    "It is used to return the datatype of the variable.\n",
    "'''\n",
    "a=10\n",
    "print(type(a))"
   ]
  },
  {
   "cell_type": "code",
   "execution_count": 12,
   "id": "1e024d30-0288-446e-b9c5-74c9ddbecb12",
   "metadata": {},
   "outputs": [
    {
     "name": "stdout",
     "output_type": "stream",
     "text": [
      "89.62 90\n"
     ]
    }
   ],
   "source": [
    "'''\n",
    "round Function:\n",
    "It is used to round a number to decimal number.\n",
    "Syntax: round(var,places)\n",
    "'''\n",
    "print(round(89.625,2),round(89.635))"
   ]
  },
  {
   "cell_type": "code",
   "execution_count": 13,
   "id": "cf2676bf-2672-4dac-9b14-c4e6a4b0e4b3",
   "metadata": {},
   "outputs": [
    {
     "name": "stdin",
     "output_type": "stream",
     "text": [
      "Enter a number: 25\n"
     ]
    },
    {
     "name": "stdout",
     "output_type": "stream",
     "text": [
      "25\n"
     ]
    }
   ],
   "source": [
    "'''\n",
    "Type Conversion:\n",
    "It is used to convert one datatype to other datatype.\n",
    "Syntax: var=datatype(var)\n",
    "'''\n",
    "a=int(input(\"Enter a number:\"))\n",
    "print(a)"
   ]
  },
  {
   "cell_type": "code",
   "execution_count": 15,
   "id": "1a8569b0-2328-4227-bf7e-1d5cd196a40f",
   "metadata": {},
   "outputs": [
    {
     "name": "stdout",
     "output_type": "stream",
     "text": [
      "The maximum value is 123\n",
      "The minimum value 122\n"
     ]
    }
   ],
   "source": [
    "'''\n",
    "min and max Functions:\n",
    "It is used to find the maximum and minimum numbers between two numbers.\n",
    "Syntax: min(var1,var2) and max(var1,var2)\n",
    "'''\n",
    "a=max(123,122)\n",
    "print(\"The maximum value is\",a)\n",
    "a=min(123,122)\n",
    "print(\"The minimum value\",a)"
   ]
  },
  {
   "cell_type": "markdown",
   "id": "8aeec764-ff98-4493-ae9f-b599cbfee799",
   "metadata": {},
   "source": [
    "## Math module\n",
    "The math operations are\n",
    "+ floor(x) - Return the largest integer less than or equal to x.\n",
    "+ ceil(x) - Return the smallest integer greater than or equal to x.\n",
    "+ fabs(x) - Return the absolute value of x.\n",
    "+ exp(x) - Return the value of expression e**x.\n",
    "+ log(x,b) - Return the log(x) to the base b.\n",
    "+ log10(x) - Return the log(x) to the base 10.\n",
    "+ pow(x,y) - Return x raised to the power y.\n",
    "+ sqrt(x) - Return the square root of x.\n",
    "+ cos(x) - Return the cosine of x radius.\n",
    "+ sin(x) - Return the sine of x radius.\n",
    "+ tan(x) - Return the tangent of x radius.\n",
    "+ acos(x) - Return the inverse cosine of x radius.\n",
    "+ asin(x) - Return the inverse sine of x radius.\n",
    "+ atan(x) - Return the inverse tangent of x radius.\n",
    "+ degrees(x) - Return a value in degree equivalent of input value x.\n",
    "+ radians(x) - Return a value in radian equivalent of input value x."
   ]
  },
  {
   "cell_type": "code",
   "execution_count": 20,
   "id": "358d5fb6-f505-4870-b288-dacd4358ae7d",
   "metadata": {},
   "outputs": [
    {
     "name": "stdout",
     "output_type": "stream",
     "text": [
      "124\n",
      "123\n",
      "12.0\n",
      "2.718281828459045\n",
      "0.30102999566398114\n",
      "0.3010299956639812\n",
      "4.0\n",
      "1.4142135623730951\n",
      "-1.0\n",
      "-1.2246467991473532e-16\n",
      "1.2246467991473532e-16\n",
      "0.0\n",
      "1.5707963267948966\n",
      "0.7853981633974483\n",
      "180.0\n",
      "3.141592653589793\n"
     ]
    }
   ],
   "source": [
    "from math import *\n",
    "print(ceil(123.5))\n",
    "print(floor(123.5))\n",
    "print(fabs(-12))\n",
    "print(exp(1))\n",
    "print(log(2,10))\n",
    "print(log10(2))\n",
    "print(pow(2,2))\n",
    "print(sqrt(2))\n",
    "print(cos(pi))\n",
    "print(tan(pi))\n",
    "print(sin(pi))\n",
    "print(acos(1))\n",
    "print(asin(1))\n",
    "print(atan(1))\n",
    "print(degrees(pi))\n",
    "print(radians(180))"
   ]
  },
  {
   "cell_type": "markdown",
   "id": "4741995f-4d00-4d3d-9a72-7cb6310ad8e5",
   "metadata": {},
   "source": [
    "## Function definition and call\n",
    "Functions are used to divide a problem into several sub-problems in a systematical way.\n",
    "Functions contain two parts. They are\n",
    "+ Function definition - It is used to define the function name and parameters.\n",
    "    * def function_name(parameters):\n",
    "+ Function call - It is used to call the function to execute the function.\n",
    "    * function_name(parameters)\n",
    "Functions are of two types. They are\n",
    "+ Fruitful function - The function that returns a value is called fruitful function.\n",
    "+ Void function - The function that doesnot return a value is called void function."
   ]
  },
  {
   "cell_type": "code",
   "execution_count": 25,
   "id": "592ed33a-9c0a-4ac1-b971-28b82ee172ee",
   "metadata": {},
   "outputs": [],
   "source": [
    "# Void function\n",
    "def main():\n",
    "    '''\n",
    "    Objective: To print Hello.\n",
    "    Input parameters: None.\n",
    "    Output: None.\n",
    "    '''\n",
    "    print(\"Hello\")"
   ]
  },
  {
   "cell_type": "code",
   "execution_count": 23,
   "id": "6023b07d-09ff-485a-bfaf-6c509845d9d5",
   "metadata": {},
   "outputs": [
    {
     "name": "stdout",
     "output_type": "stream",
     "text": [
      "Hello\n"
     ]
    }
   ],
   "source": [
    "# Fruitful function\n",
    "def main():\n",
    "    '''\n",
    "    Objective: To print Hello .\n",
    "    Input parameters:None.\n",
    "    Ouput: Hello\n",
    "    '''\n",
    "    print(\"Hello\")\n",
    "if __name__==\"__main__\":\n",
    "    main()"
   ]
  },
  {
   "cell_type": "code",
   "execution_count": 26,
   "id": "a60809b9-e09f-41d1-b64e-02857ee9ae72",
   "metadata": {},
   "outputs": [
    {
     "name": "stdout",
     "output_type": "stream",
     "text": [
      "Help on function main in module __main__:\n",
      "\n",
      "main()\n",
      "    Objective: To print Hello.\n",
      "    Input parameters: None.\n",
      "    Output: None.\n",
      "\n"
     ]
    }
   ],
   "source": [
    "'''\n",
    "Function help\n",
    "The help is used to provide the description provided by the user.\n",
    "'''\n",
    "help(main)"
   ]
  },
  {
   "cell_type": "code",
   "execution_count": 27,
   "id": "af4839a4-958e-42b4-98b5-5a11cfce7496",
   "metadata": {},
   "outputs": [
    {
     "name": "stdout",
     "output_type": "stream",
     "text": [
      "Enter the values to find the area of rectangle:\n"
     ]
    },
    {
     "name": "stdin",
     "output_type": "stream",
     "text": [
      "Enter the rectangle length: 2\n",
      "Enter the rectangle breadth: 3\n"
     ]
    },
    {
     "name": "stdout",
     "output_type": "stream",
     "text": [
      "Area of rectangle: 6\n"
     ]
    }
   ],
   "source": [
    "def area(l,b):\n",
    "    '''\n",
    "    Objective: To compute the area of rectangle.\n",
    "    Input parameters: l,b - numeric values.\n",
    "    Return value: area - numeric value\n",
    "    '''\n",
    "    area=l*b\n",
    "    return area\n",
    "def main():\n",
    "    '''\n",
    "    Objective: To compute the area of rectange.\n",
    "    Input parameters: None.\n",
    "    Return Value: None.\n",
    "    '''\n",
    "    print(\"Enter the values to find the area of rectangle:\")\n",
    "    l=int(input(\"Enter the rectangle length:\"))\n",
    "    b=int(input(\"Enter the rectangle breadth:\"))\n",
    "    print('Area of rectangle:',area(l,b))\n",
    "if __name__==\"__main__\":\n",
    "    main()"
   ]
  },
  {
   "cell_type": "code",
   "execution_count": 29,
   "id": "2eab96ac-8d8b-4ebf-b943-8b6d0a7cff84",
   "metadata": {},
   "outputs": [
    {
     "ename": "ModuleNotFoundError",
     "evalue": "No module named 'area'",
     "output_type": "error",
     "traceback": [
      "\u001b[1;31m---------------------------------------------------------------------------\u001b[0m",
      "\u001b[1;31mModuleNotFoundError\u001b[0m                       Traceback (most recent call last)",
      "Cell \u001b[1;32mIn[29], line 7\u001b[0m\n\u001b[0;32m      5\u001b[0m \u001b[38;5;28;01mimport\u001b[39;00m \u001b[38;5;21;01msys\u001b[39;00m\n\u001b[0;32m      6\u001b[0m sys\u001b[38;5;241m.\u001b[39mpath\u001b[38;5;241m.\u001b[39mappend(\u001b[38;5;124m'\u001b[39m\u001b[38;5;124marea\u001b[39m\u001b[38;5;124m'\u001b[39m)\n\u001b[1;32m----> 7\u001b[0m \u001b[38;5;28;01mimport\u001b[39;00m \u001b[38;5;21;01marea\u001b[39;00m\n\u001b[0;32m      8\u001b[0m \u001b[38;5;28;01mdef\u001b[39;00m \u001b[38;5;21mmain\u001b[39m():\n\u001b[0;32m      9\u001b[0m \u001b[38;5;250m    \u001b[39m\u001b[38;5;124;03m'''\u001b[39;00m\n\u001b[0;32m     10\u001b[0m \u001b[38;5;124;03m    Purpose: To compute the area of rectangle.\u001b[39;00m\n\u001b[0;32m     11\u001b[0m \u001b[38;5;124;03m    Input parameters: None\u001b[39;00m\n\u001b[0;32m     12\u001b[0m \u001b[38;5;124;03m    Return Value: None\u001b[39;00m\n\u001b[0;32m     13\u001b[0m \u001b[38;5;124;03m    '''\u001b[39;00m\n",
      "\u001b[1;31mModuleNotFoundError\u001b[0m: No module named 'area'"
     ]
    }
   ],
   "source": [
    "'''\n",
    "Importing User-Defined module\n",
    "To create the user-defined module we need to use the sys module to import the module.\n",
    "'''\n",
    "import sys\n",
    "sys.path.append('area')\n",
    "import area\n",
    "def main():\n",
    "    '''\n",
    "    Purpose: To compute the area of rectangle.\n",
    "    Input parameters: None\n",
    "    Return Value: None\n",
    "    '''\n",
    "    print(\"Enter the values to find the area of rectangle:\")\n",
    "    l=int(input(\"Enter the length of rectangle:\"))\n",
    "    b=int(input(\"Enter the breadth of rectangle:\"))\n",
    "    print(\"The area of rectangle:\",area.area(l,b))\n",
    "if __name__==\"__main__\":\n",
    "    main()"
   ]
  },
  {
   "cell_type": "code",
   "execution_count": 32,
   "id": "6cd19d69-43b2-4a25-b892-0d8c94d41ab4",
   "metadata": {
    "scrolled": true
   },
   "outputs": [
    {
     "name": "stdin",
     "output_type": "stream",
     "text": [
      "Enter maximum marks in a subject: 150\n",
      "Enter marks in a subject: 155\n"
     ]
    },
    {
     "ename": "AssertionError",
     "evalue": "",
     "output_type": "error",
     "traceback": [
      "\u001b[1;31m---------------------------------------------------------------------------\u001b[0m",
      "\u001b[1;31mAssertionError\u001b[0m                            Traceback (most recent call last)",
      "Cell \u001b[1;32mIn[32], line 25\u001b[0m\n\u001b[0;32m     23\u001b[0m     \u001b[38;5;28mprint\u001b[39m(\u001b[38;5;124m\"\u001b[39m\u001b[38;5;124mPercentage is:\u001b[39m\u001b[38;5;124m\"\u001b[39m,percent(marks,maxMarks))\n\u001b[0;32m     24\u001b[0m \u001b[38;5;28;01mif\u001b[39;00m \u001b[38;5;18m__name__\u001b[39m\u001b[38;5;241m==\u001b[39m\u001b[38;5;124m\"\u001b[39m\u001b[38;5;124m__main__\u001b[39m\u001b[38;5;124m\"\u001b[39m:\n\u001b[1;32m---> 25\u001b[0m     main()\n",
      "Cell \u001b[1;32mIn[32], line 22\u001b[0m, in \u001b[0;36mmain\u001b[1;34m()\u001b[0m\n\u001b[0;32m     20\u001b[0m \u001b[38;5;28;01massert\u001b[39;00m maxMarks\u001b[38;5;241m>\u001b[39m\u001b[38;5;241m=\u001b[39m\u001b[38;5;241m0\u001b[39m \u001b[38;5;129;01mand\u001b[39;00m maxMarks\u001b[38;5;241m<\u001b[39m\u001b[38;5;241m=\u001b[39m\u001b[38;5;241m500\u001b[39m\n\u001b[0;32m     21\u001b[0m marks\u001b[38;5;241m=\u001b[39m\u001b[38;5;28mfloat\u001b[39m(\u001b[38;5;28minput\u001b[39m(\u001b[38;5;124m\"\u001b[39m\u001b[38;5;124mEnter marks in a subject:\u001b[39m\u001b[38;5;124m\"\u001b[39m))\n\u001b[1;32m---> 22\u001b[0m \u001b[38;5;28;01massert\u001b[39;00m marks\u001b[38;5;241m>\u001b[39m\u001b[38;5;241m=\u001b[39m\u001b[38;5;241m0\u001b[39m \u001b[38;5;129;01mand\u001b[39;00m marks\u001b[38;5;241m<\u001b[39m\u001b[38;5;241m=\u001b[39mmaxMarks\n\u001b[0;32m     23\u001b[0m \u001b[38;5;28mprint\u001b[39m(\u001b[38;5;124m\"\u001b[39m\u001b[38;5;124mPercentage is:\u001b[39m\u001b[38;5;124m\"\u001b[39m,percent(marks,maxMarks))\n",
      "\u001b[1;31mAssertionError\u001b[0m: "
     ]
    }
   ],
   "source": [
    "'''\n",
    "assert function\n",
    "It is used in place of if to check for error values.\n",
    "'''\n",
    "def percent(marks,maxMarks):\n",
    "    '''\n",
    "    Objective: To find the percentage of marks obtained in a subject.\n",
    "    Input parameters: marks,maxMarks - float.\n",
    "    Return values: percentage - float.\n",
    "    '''\n",
    "    percentage=(marks/maxMarks)*100\n",
    "    return percentage\n",
    "def main():\n",
    "    '''\n",
    "    Objective: To find the percentage of marks obtained in a subject.\n",
    "    Input parameters: None.\n",
    "    Return Values: None.\n",
    "    '''\n",
    "    maxMarks=float(input(\"Enter maximum marks in a subject:\"))\n",
    "    assert maxMarks>=0 and maxMarks<=500\n",
    "    marks=float(input(\"Enter marks in a subject:\"))\n",
    "    assert marks>=0 and marks<=maxMarks\n",
    "    print(\"Percentage is:\",percent(marks,maxMarks))\n",
    "if __name__==\"__main__\":\n",
    "    main()"
   ]
  },
  {
   "cell_type": "code",
   "execution_count": 10,
   "id": "0295ced4-bc03-4d38-884a-a407fd4f3ef1",
   "metadata": {},
   "outputs": [
    {
     "name": "stdin",
     "output_type": "stream",
     "text": [
      " 5\n"
     ]
    },
    {
     "name": "stdout",
     "output_type": "stream",
     "text": [
      "    * \n",
      "  * * * \n",
      "* * * * * \n",
      "  * * * \n",
      "    * \n"
     ]
    }
   ],
   "source": [
    "n=int(input())\n",
    "for i in range(n):\n",
    "    if i>n//2:\n",
    "        print(\"  \"*(i-n//2)+\"* \"*2*(n-i-1)+\"* \")\n",
    "    else:\n",
    "        print(\"  \"*(n//2-i)+\"* \"*(2*i)+\"* \")"
   ]
  },
  {
   "cell_type": "code",
   "execution_count": 11,
   "id": "1a74c32d-d894-424f-b34c-73b294f46a15",
   "metadata": {},
   "outputs": [
    {
     "name": "stdin",
     "output_type": "stream",
     "text": [
      " 5\n"
     ]
    },
    {
     "name": "stdout",
     "output_type": "stream",
     "text": [
      "* * * * * \n",
      "*       * \n",
      "*       * \n",
      "*       * \n",
      "* * * * * \n"
     ]
    }
   ],
   "source": [
    "n=int(input())\n",
    "for i in range(n):\n",
    "    for j in range(n):\n",
    "        if i==0 or i==n-1 or j==0 or j==n-1:\n",
    "            print(\"*\",end=\" \")\n",
    "        else:\n",
    "            print(\" \",end=\" \")\n",
    "    print()"
   ]
  },
  {
   "cell_type": "code",
   "execution_count": 15,
   "id": "56c9ccba-e295-4f04-b05d-e8779a4e3fb6",
   "metadata": {},
   "outputs": [
    {
     "name": "stdout",
     "output_type": "stream",
     "text": [
      "35\n"
     ]
    }
   ],
   "source": [
    "def nMultiple(a=0,num=1):\n",
    "    return a*num\n",
    "print(nMultiple(num=5,a=7))"
   ]
  }
 ],
 "metadata": {
  "kernelspec": {
   "display_name": "Python 3 (ipykernel)",
   "language": "python",
   "name": "python3"
  },
  "language_info": {
   "codemirror_mode": {
    "name": "ipython",
    "version": 3
   },
   "file_extension": ".py",
   "mimetype": "text/x-python",
   "name": "python",
   "nbconvert_exporter": "python",
   "pygments_lexer": "ipython3",
   "version": "3.11.5"
  }
 },
 "nbformat": 4,
 "nbformat_minor": 5
}
