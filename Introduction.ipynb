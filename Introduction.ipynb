{
 "cells": [
  {
   "cell_type": "code",
   "execution_count": 1,
   "id": "eedc213e-4f1b-41dc-8db4-26f5aa958616",
   "metadata": {},
   "outputs": [
    {
     "name": "stdout",
     "output_type": "stream",
     "text": [
      "Hello World\n",
      "Hello\n",
      "what's\n",
      "happening\n"
     ]
    }
   ],
   "source": [
    "'''\n",
    "Strings:\n",
    "To define a string in python we use '' or \"\" or \"\"\"\"\"\".\n",
    "'' and \"\" are used to define a string in single line. \n",
    "We use the \"\"\"\"\"\" to define a string in muliplte lines.\n",
    "'''\n",
    "print('Hello World')\n",
    "print('''Hello\n",
    "what's\n",
    "happening''')"
   ]
  },
  {
   "cell_type": "code",
   "execution_count": 2,
   "id": "2b0adc41-e4b3-4ed9-8bf4-c68b31ec9a71",
   "metadata": {},
   "outputs": [
    {
     "name": "stdout",
     "output_type": "stream",
     "text": [
      "HelloWorld\n",
      "HelloHelloHelloHelloHello\n"
     ]
    }
   ],
   "source": [
    "'''\n",
    "String operations:\n",
    "+ is used for string concatenation.\n",
    "* is used for string repetation.\n",
    "'''\n",
    "print('Hello'+'World')\n",
    "print('Hello'*5)"
   ]
  },
  {
   "cell_type": "markdown",
   "id": "59c386f3-901b-424c-8ee6-b31f38748c20",
   "metadata": {},
   "source": [
    "## Operators\n",
    "Operators are used for to perform operations between variables.\n",
    "To perform a operation we need to parts.\n",
    "+ One is operand on which we perform the operation.\n",
    "+ One is operator which we use to perform the operation.\n",
    "There are operators such as\n",
    "+ Conditional operator or relational operator.\n",
    "+ Logical operator.\n",
    "+ Bitwise operator.\n",
    "+ Assignment operator."
   ]
  },
  {
   "cell_type": "markdown",
   "id": "3f426d31-2cf8-496a-9d4f-4faafb4fbcc2",
   "metadata": {},
   "source": [
    "### Order of operators\n",
    "- When an expression contains more than one operator, the order of evaluation depends on the order of operations. Python follows \"PEMDAS\" principle\n",
    "  - P -> Paranthesis\n",
    "  - E -> Exponential\n",
    "  - M -> Multiplication\n",
    "  - D -> Division\n",
    "  - A -> Addition\n",
    "  - S -> Subtraction"
   ]
  },
  {
   "cell_type": "markdown",
   "id": "a45d0c20-32d8-4b77-bfc7-ec2bb0d7375d",
   "metadata": {},
   "source": [
    "### Arthimetic operator\n",
    "- The arthimetic operator are\n",
    "  - \\+ - addition operator\n",
    "  - \\- subtraction operator\n",
    "  - \\* - multiplication operator\n",
    "  - \\/ - division operator\n",
    "  - \\% - modular division operator\n",
    "  - \\// - floor division operator"
   ]
  },
  {
   "cell_type": "code",
   "execution_count": 1,
   "id": "88955588-865d-49ae-af6f-5473d18d5c57",
   "metadata": {},
   "outputs": [
    {
     "name": "stdout",
     "output_type": "stream",
     "text": [
      "Addition: 30\n",
      "Subtraction: -10\n",
      "Multiplication: 200\n",
      "Division: 0.5\n",
      "Modular Division: 10\n",
      "Floor Division: 0\n"
     ]
    }
   ],
   "source": [
    "a = 10\n",
    "b = 20\n",
    "print(\"Addition:\", a+b)\n",
    "print(\"Subtraction:\", a-b)\n",
    "print(\"Multiplication:\", a*b)\n",
    "print(\"Division:\", a/b)\n",
    "print(\"Modular Division:\", a%b)\n",
    "print(\"Floor Division:\", a//b)"
   ]
  },
  {
   "cell_type": "markdown",
   "id": "e07f92d8-afe8-496f-b894-db12bac961c2",
   "metadata": {},
   "source": [
    "### Relational operator or conditional operator\n",
    "The relational operator are used for comparing two expressions and yield True or False.\n",
    "In python we can't compare two different datatypes values as they doesn't match the type, so the comparison of two operators will be false.\n",
    "The relational operators are\n",
    "+ ==  - to find whether two expressions are equal or not.\n",
    "+ <  - to find less than.\n",
    "+ \\>  - greater than.\n",
    "+ <=  - less than or equal to.\n",
    "+ \\>=  - greater than or equal to.\n",
    "+ !=  - not equal to."
   ]
  },
  {
   "cell_type": "code",
   "execution_count": 2,
   "id": "69b91edb-8f97-4fc4-818b-7e9c78bac4ef",
   "metadata": {},
   "outputs": [
    {
     "name": "stdout",
     "output_type": "stream",
     "text": [
      "Equal to: False\n",
      "Greater than: False\n",
      "Greater than or equal to: False\n",
      "Less than: True\n",
      "Less than or equal to: True\n",
      "Not equal to: True\n"
     ]
    }
   ],
   "source": [
    "a = 10\n",
    "b = 20\n",
    "print(\"Equal to:\", a==b)\n",
    "print(\"Greater than:\", a > b)\n",
    "print(\"Greater than or equal to:\", a>= b)\n",
    "print(\"Less than:\", a < b)\n",
    "print(\"Less than or equal to:\", a <= b)\n",
    "print(\"Not equal to:\", a != b)"
   ]
  },
  {
   "cell_type": "markdown",
   "id": "2656f3a9-ed71-421a-a9bf-77853c35db47",
   "metadata": {},
   "source": [
    "### Assignment operator\n",
    "- The assignment operator are\n",
    "  - \\+= - Addition assignment\n",
    "  - \\-= - Subtraction assignment\n",
    "  - \\*= - Multiplication assignment\n",
    "  - \\/= - Division assignment\n",
    "  - \\%= - Modular assignment\n",
    "  - \\//= - Floor assignment"
   ]
  },
  {
   "cell_type": "code",
   "execution_count": 3,
   "id": "28c236fa-2536-4c55-a30a-cfdf947238f0",
   "metadata": {},
   "outputs": [
    {
     "name": "stdout",
     "output_type": "stream",
     "text": [
      "Addition assignment: 30\n",
      "Subtraction assignment: 10\n",
      "Mulitplication assignment: 200\n",
      "Division assignment: 10.0\n",
      "Modular divison assignment: 10.0\n",
      "Floor division assignment: 0.0\n"
     ]
    }
   ],
   "source": [
    "a = 10\n",
    "b = 20\n",
    "a += b\n",
    "print(\"Addition assignment:\", a)\n",
    "a -= b\n",
    "print(\"Subtraction assignment:\", a)\n",
    "a *= b\n",
    "print(\"Mulitplication assignment:\", a)\n",
    "a /= b\n",
    "print(\"Division assignment:\", a)\n",
    "a %= b\n",
    "print(\"Modular divison assignment:\", a)\n",
    "a //= b\n",
    "print(\"Floor division assignment:\", a)"
   ]
  },
  {
   "cell_type": "markdown",
   "id": "1b397190-7a23-40d7-ae64-5a8eabde36cc",
   "metadata": {},
   "source": [
    "### 🧠 Logical Operators in Python\n",
    "\n",
    "Logical operators are used to perform logical operations on **Boolean expressions**. They return `True` or `False` based on the logic applied.\n",
    "\n",
    "#### ✅ Types of Logical Operators\n",
    "\n",
    "| Operator | Description                             | Syntax Example        |\n",
    "|----------|-----------------------------------------|------------------------|\n",
    "| `and`    | Returns `True` if **both** conditions are true | `x > 5 and y < 10`   |\n",
    "| `or`     | Returns `True` if **at least one** condition is true | `x > 5 or y < 10` |\n",
    "| `not`    | Reverses the result (True → False, False → True) | `not(x > 5)`        |\n",
    "\n",
    "---\n",
    "\n",
    "### 🔍 Truth Tables\n",
    "\n",
    "#### 1. `and` Operator\n",
    "\n",
    "| A     | B     | A and B |\n",
    "|-------|-------|---------|\n",
    "| True  | True  | True    |\n",
    "| True  | False | False   |\n",
    "| False | True  | False   |\n",
    "| False | False | False   |\n",
    "\n",
    "#### 2. `or` Operator\n",
    "\n",
    "| A     | B     | A or B  |\n",
    "|-------|-------|---------|\n",
    "| True  | True  | True    |\n",
    "| True  | False | True    |\n",
    "| False | True  | True    |\n",
    "| False | False | False   |\n",
    "\n",
    "#### 3. `not` Operator\n",
    "\n",
    "| A     | not A |\n",
    "|-------|-------|\n",
    "| True  | False |\n",
    "| False | True  |\n",
    "\n",
    "---\n",
    "\n",
    "### 💡 Examples\n",
    "\n",
    "~~~python\n",
    "x = 10\n",
    "y = 5\n",
    "\n",
    "# and\n",
    "print(x > 5 and y > 3)  # True\n",
    "\n",
    "# or\n",
    "print(x < 5 or y == 5)  # True\n",
    "\n",
    "# not\n",
    "print(not(x == 10))     # False\n",
    "~~~"
   ]
  },
  {
   "cell_type": "markdown",
   "id": "bf3b2bcc-26a0-42c0-8ca6-45457a723de4",
   "metadata": {},
   "source": [
    "### 💠 Special Operators in Python\n",
    "\n",
    "Python provides two **special operators** used for object comparison and membership testing:\n",
    "\n",
    "- `is` → Identity Operator  \n",
    "- `in` → Membership Operator  \n",
    "\n",
    "---\n",
    "\n",
    "## ✅ `is` Operator (Identity)\n",
    "\n",
    "The `is` operator checks whether two variables refer to the **same object in memory**.\n",
    "\n",
    "- **Returns** `True` if both variables point to the **same memory address**.\n",
    "- `is not` checks if they are different objects.\n",
    "\n",
    "**🔹 Truth Table for `is`:**\n",
    "\n",
    "| Variable x | Variable y | `x is y` | `x is not y` |\n",
    "|------------|------------|----------|---------------|\n",
    "| same obj   | same obj   | True     | False         |\n",
    "| diff obj   | diff obj   | False    | True          |\n",
    "\n",
    "---\n",
    "\n",
    "## ✅ `in` Operator (Membership)\n",
    "\n",
    "The `in` operator checks whether a **value exists in a sequence** (list, tuple, string, etc.).\n",
    "\n",
    "- **Returns** `True` if the value is found, else `False`.\n",
    "- `not in` returns `True` if the value is **not** present.\n",
    "\n",
    "**🔹 Truth Table for `in`:**\n",
    "\n",
    "| Element | Sequence        | `element in sequence` | `element not in sequence` |\n",
    "|---------|------------------|------------------------|----------------------------|\n",
    "| 10      | [10, 20, 30]     | True                   | False                      |\n",
    "| \"a\"     | \"apple\"          | True                   | False                      |\n",
    "| 5       | (1, 2, 3)        | False                  | True                       |\n",
    "\n",
    "---\n",
    "\n",
    "## 🧠 Summary Table\n",
    "\n",
    "| Operator  | Type       | Description                                  | Example               |\n",
    "|-----------|------------|----------------------------------------------|------------------------|\n",
    "| `is`      | Identity   | True if two variables refer to same object   | `a is b`               |\n",
    "| `is not`  | Identity   | True if variables are different objects      | `a is not b`           |\n",
    "| `in`      | Membership | True if value exists in a sequence           | `'a' in 'data'`        |\n",
    "| `not in`  | Membership | True if value **not** in a sequence          | `'z' not in 'cat'`     |\n"
   ]
  },
  {
   "cell_type": "code",
   "execution_count": 4,
   "id": "381e7bfa-bf80-46ce-9a20-96b9cfc198cb",
   "metadata": {},
   "outputs": [
    {
     "name": "stdout",
     "output_type": "stream",
     "text": [
      "x is y: True\n",
      "x is z: False\n",
      "x == z: True\n",
      "x is not z: True\n",
      "\n",
      "---\n",
      "\n",
      "20 in lst: True\n",
      "40 not in lst: True\n",
      "'t' in name: True\n",
      "'z' in name: False\n"
     ]
    }
   ],
   "source": [
    "# Identity Operator (`is` and `is not`)\n",
    "x = [1, 2, 3]\n",
    "y = x\n",
    "z = [1, 2, 3]\n",
    "\n",
    "print(\"x is y:\", x is y)         # True – same object\n",
    "print(\"x is z:\", x is z)         # False – different object, same content\n",
    "print(\"x == z:\", x == z)         # True – same content\n",
    "print(\"x is not z:\", x is not z) # True – different objects\n",
    "\n",
    "print(\"\\n---\\n\")\n",
    "\n",
    "# Membership Operator (`in` and `not in`)\n",
    "lst = [10, 20, 30]\n",
    "print(\"20 in lst:\", 20 in lst)           # True\n",
    "print(\"40 not in lst:\", 40 not in lst)   # True\n",
    "\n",
    "name = \"Python\"\n",
    "print(\"'t' in name:\", \"t\" in name)       # True\n",
    "print(\"'z' in name:\", \"z\" in name)       # False\n"
   ]
  },
  {
   "cell_type": "markdown",
   "id": "39784095-0a7a-4566-af5f-815f1734c0f7",
   "metadata": {},
   "source": [
    "### ⚙️ Bitwise Operators in Python\n",
    "\n",
    "Bitwise operators operate on bits and perform **bit-by-bit operations**. These are used primarily in low-level programming, cryptography, and optimization tasks.\n",
    "\n",
    "---\n",
    "\n",
    "## 🧮 List of Bitwise Operators\n",
    "\n",
    "| Operator | Name                | Description                                               | Example      |\n",
    "|----------|---------------------|-----------------------------------------------------------|--------------|\n",
    "| `&`      | Bitwise AND         | Sets each bit to 1 if **both bits** are 1                | `a & b`      |\n",
    "| `|`      | Bitwise OR          | Sets each bit to 1 if **at least one** bit is 1          | `a | b`      |\n",
    "| `^`      | Bitwise XOR         | Sets each bit to 1 if **only one** of the bits is 1      | `a ^ b`      |\n",
    "| `~`      | Bitwise NOT         | Inverts all the bits (1's complement)                    | `~a`         |\n",
    "| `<<`     | Left Shift          | Shifts bits to the left and fills with 0 on the right    | `a << 2`     |\n",
    "| `>>`     | Right Shift         | Shifts bits to the right and discards rightmost bits     | `a >> 2`     |\n",
    "\n",
    "---\n",
    "\n",
    "## 🔢 Binary Examples\n",
    "\n",
    "Assume:\n",
    "\n",
    "\n",
    "\n",
    "| Operation      | Binary Form           | Decimal Result |\n",
    "|----------------|------------------------|----------------|\n",
    "| `a & b`        | `0b1010 & 0b0100` → `0b0000` | 0          |\n",
    "| `a | b`        | `0b1010 | 0b0100` → `0b1110` | 14         |\n",
    "| `a ^ b`        | `0b1010 ^ 0b0100` → `0b1110` | 14         |\n",
    "| `~a`           | `~0b1010` → `-0b1011`        | -11        |\n",
    "| `a << 1`       | `0b1010 << 1` → `0b10100`    | 20         |\n",
    "| `a >> 1`       | `0b1010 >> 1` → `0b0101`     | 5          |\n",
    "\n",
    "> ℹ️ Python uses **two's complement** for negative numbers.\n",
    "\n",
    "---\n",
    "\n",
    "## 🧠 Summary Table\n",
    "\n",
    "| Symbol | Name          | Action                              |\n",
    "|--------|---------------|-------------------------------------|\n",
    "| `&`    | AND           | Bits set to 1 in **both** numbers   |\n",
    "| `|`    | OR            | Bits set to 1 in **either** number  |\n",
    "| `^`    | XOR           | Bits set to 1 in **only one**       |\n",
    "| `~`    | NOT           | Inverts all bits                    |\n",
    "| `<<`   | Left Shift    | Shift bits to the left              |\n",
    "| `>>`   | Right Shift   | Shift bits to the right             |\n"
   ]
  },
  {
   "cell_type": "code",
   "execution_count": 5,
   "id": "f3c9609f-5dd6-44d9-9f4f-3e9db2d9da7b",
   "metadata": {},
   "outputs": [
    {
     "name": "stdout",
     "output_type": "stream",
     "text": [
      "a & b = 0\n",
      "a | b = 14\n",
      "a ^ b = 14\n",
      "~a = -11\n",
      "a << 1 = 20\n",
      "a >> 1 = 5\n"
     ]
    }
   ],
   "source": [
    "a = 10  # Binary: 1010\n",
    "b = 4   # Binary: 0100\n",
    "\n",
    "print(\"a & b =\", a & b)    # 0\n",
    "print(\"a | b =\", a | b)    # 14\n",
    "print(\"a ^ b =\", a ^ b)    # 14\n",
    "print(\"~a =\", ~a)          # -11 (1's complement in two's complement)\n",
    "print(\"a << 1 =\", a << 1)  # 20\n",
    "print(\"a >> 1 =\", a >> 1)  # 5\n"
   ]
  },
  {
   "cell_type": "code",
   "execution_count": 7,
   "id": "43b69a98-2a88-4fa4-8191-5aeb3649cd8b",
   "metadata": {},
   "outputs": [
    {
     "name": "stdout",
     "output_type": "stream",
     "text": [
      "True False False True False True\n"
     ]
    }
   ],
   "source": [
    "print(23==23, 25<23, 23>25, 23!=24, 2>=3, 2<=3)"
   ]
  },
  {
   "cell_type": "markdown",
   "id": "8af895fb-5401-4581-be92-7c1d00596b59",
   "metadata": {},
   "source": [
    "### pass\n",
    "pass is used in loops or functions or classes to tell that the code is empty or provided in future as they need atleast one statement."
   ]
  },
  {
   "cell_type": "markdown",
   "id": "b8e81fe7-c819-43f9-a1f2-1665ee215409",
   "metadata": {},
   "source": [
    "### Literals"
   ]
  },
  {
   "cell_type": "code",
   "execution_count": 3,
   "id": "e1cad828-03f0-43e7-bab7-57a821d9194a",
   "metadata": {},
   "outputs": [
    {
     "name": "stdout",
     "output_type": "stream",
     "text": [
      "64\n",
      "Binary Literal: 0b1000000\n",
      "Octal Literal: 0o100\n",
      "HexaDecimal Literal: 0x40\n"
     ]
    }
   ],
   "source": [
    "x = 64\n",
    "print(x)\n",
    "\n",
    "# Binary Literals\n",
    "print(\"Binary Literal:\", bin(x))\n",
    "\n",
    "# Octol Literals\n",
    "print(\"Octal Literal:\", oct(x))\n",
    "\n",
    "# Hexa Literals\n",
    "print(\"HexaDecimal Literal:\", hex(x))"
   ]
  },
  {
   "cell_type": "markdown",
   "id": "da0dc8a7-3717-4cad-a261-1a419d9e4d3f",
   "metadata": {},
   "source": [
    "### Python Math Module\n",
    "- Python offers many modules like math, random, os, sys,... etc. This math contains all mathematical related properties and methods those are related to calculations, trignometric, logarithms, etc.,"
   ]
  },
  {
   "cell_type": "code",
   "execution_count": 5,
   "id": "5025dd79-e460-4ebb-8c56-17f2ebfe03cf",
   "metadata": {},
   "outputs": [
    {
     "name": "stdout",
     "output_type": "stream",
     "text": [
      "1\n",
      "3\n",
      "2\n",
      "4.0\n",
      "4.0\n",
      "3.141592653589793\n",
      "2.718281828459045\n"
     ]
    }
   ],
   "source": [
    "import math\n",
    "\n",
    "# abs\n",
    "print(abs(-1)) # return the absolute value of the number\n",
    "\n",
    "#ceil\n",
    "print(math.ceil(2.8)) # return the successing number\n",
    "\n",
    "# floor\n",
    "print(math.floor(2.8)) # return the preceeding integer\n",
    "\n",
    "# sqrt\n",
    "print(math.sqrt(16)) # return the square root\n",
    "\n",
    "# pow\n",
    "print(math.pow(2, 2)) # return the power of the number a by b times\n",
    "\n",
    "# pi\n",
    "print(math.pi) # return the pi value\n",
    "\n",
    "# e\n",
    "print(math.e) # return the exponential value"
   ]
  },
  {
   "cell_type": "markdown",
   "id": "76f5eb46-de10-452e-a6d2-822d3782ee1d",
   "metadata": {},
   "source": [
    "### Number type conversions\n",
    "- Sometimes its necessary to perform conversion between built-in-types. To convert between types we have some pre-defined functions in python\n",
    "  1. int()\n",
    "  2. float()\n",
    "  3. ord()\n",
    "  4. hex()\n",
    "  5. oct()\n",
    "  6. complex()\n",
    "  7. str()\n",
    "  8. tuple()\n",
    "  9. list()\n",
    "  10. set()\n",
    "  11. dict()"
   ]
  },
  {
   "cell_type": "markdown",
   "id": "add5ad9e-23b7-4544-824c-8be09f0b5cf4",
   "metadata": {},
   "source": [
    "### Dream Job"
   ]
  },
  {
   "cell_type": "code",
   "execution_count": 2,
   "id": "7d2fe1b2-edb3-4318-b925-271bc7eda1d7",
   "metadata": {},
   "outputs": [
    {
     "name": "stdin",
     "output_type": "stream",
     "text": [
      "What is your name?  naseer\n",
      "What is the name of your dream company?  cybercrime\n",
      "What is your favourite programming language?  python\n"
     ]
    },
    {
     "name": "stdout",
     "output_type": "stream",
     "text": [
      "I am naseer, I wishh to work at cybercrime and my favourite programming language is python\n"
     ]
    }
   ],
   "source": [
    "name = input(\"What is your name? \")\n",
    "dream_company = input(\"What is the name of your dream company? \")\n",
    "programming_lng = input(\"What is your favourite programming language? \")\n",
    "# I am naseer, I wish to work at amazon and my favourite programming language is python\n",
    "\n",
    "description = \"I am \" + name + \", I wishh to work at \" + dream_company + \" and my favourite programming language is \" + programming_lng\n",
    "\n",
    "# String concatenation\n",
    "print(description)"
   ]
  }
 ],
 "metadata": {
  "kernelspec": {
   "display_name": "Python 3 (ipykernel)",
   "language": "python",
   "name": "python3"
  },
  "language_info": {
   "codemirror_mode": {
    "name": "ipython",
    "version": 3
   },
   "file_extension": ".py",
   "mimetype": "text/x-python",
   "name": "python",
   "nbconvert_exporter": "python",
   "pygments_lexer": "ipython3",
   "version": "3.12.7"
  }
 },
 "nbformat": 4,
 "nbformat_minor": 5
}
