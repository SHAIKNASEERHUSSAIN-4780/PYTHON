{
 "cells": [
  {
   "cell_type": "markdown",
   "id": "35b8aef5-1628-4281-8ea1-3845be4f1efb",
   "metadata": {},
   "source": [
    "### If Condition\n",
    "To check whether a condition is true or false.<br>\n",
    "syntax:<br>\n",
    "if (condition):<br>\n",
    "    execute the statement"
   ]
  },
  {
   "cell_type": "code",
   "execution_count": 1,
   "id": "eaccdfdd-ab74-4055-89b8-b07cb23bb79b",
   "metadata": {},
   "outputs": [
    {
     "name": "stdout",
     "output_type": "stream",
     "text": [
      "\t Login System \n",
      "===================\n"
     ]
    },
    {
     "name": "stdin",
     "output_type": "stream",
     "text": [
      " Enter password  magic\n"
     ]
    },
    {
     "name": "stdout",
     "output_type": "stream",
     "text": [
      " Login Successful !!\n",
      " Welcome to System.\n"
     ]
    }
   ],
   "source": [
    "def authenticate(password):\n",
    "    '''\n",
    "    Objective: To authenticate user and allow access to system.\n",
    "    Input Parameter: password - String.\n",
    "    Return Value: message - String\n",
    "    '''\n",
    "    if password=='magic':\n",
    "        message=' Login Successful !!\\n Welcome to System.'\n",
    "    if password!='magic':\n",
    "        message=' Password mismathc !!\\n '\n",
    "    return message\n",
    "def main():\n",
    "    '''\n",
    "    Objevtive: To authenticate user and allow access to system.\n",
    "    Input Parameter: None\n",
    "    Return Value: None\n",
    "    '''\n",
    "    print('\\t Login System ')\n",
    "    print('===================')\n",
    "    password=input(\" Enter password \")\n",
    "    message = authenticate(password)\n",
    "    print(message)\n",
    "if __name__==\"__main__\":\n",
    "    main()"
   ]
  },
  {
   "cell_type": "markdown",
   "id": "944e0441-a021-45d8-b361-08f41c2e0893",
   "metadata": {},
   "source": [
    "### If-else Condition\n",
    "To check whether a condition is true or false.<br>\n",
    "syntax:<br>\n",
    "if (condition):<br>\n",
    "execute the statement<br>\n",
    "else:<br>\n",
    "execute other statement"
   ]
  },
  {
   "cell_type": "code",
   "execution_count": 2,
   "id": "6f0af044-80cd-4049-8715-21e7fd4eff9e",
   "metadata": {},
   "outputs": [
    {
     "name": "stdout",
     "output_type": "stream",
     "text": [
      "\t Login System \n",
      "===================\n"
     ]
    },
    {
     "name": "stdin",
     "output_type": "stream",
     "text": [
      " Enter password  magic\n"
     ]
    },
    {
     "name": "stdout",
     "output_type": "stream",
     "text": [
      " Login Successful !!\n",
      " Welcome to System.\n"
     ]
    }
   ],
   "source": [
    "def authenticate(password):\n",
    "    '''\n",
    "    Objective: To authenticate user and allow access to system.\n",
    "    Input Parameter: password - String.\n",
    "    Return Value: message - String\n",
    "    '''\n",
    "    if password=='magic':\n",
    "        message=' Login Successful !!\\n Welcome to System.'\n",
    "    else:\n",
    "        message=' Password mismathc !!\\n '\n",
    "    return message\n",
    "def main():\n",
    "    '''\n",
    "    Objevtive: To authenticate user and allow access to system.\n",
    "    Input Parameter: None\n",
    "    Return Value: None\n",
    "    '''\n",
    "    print('\\t Login System ')\n",
    "    print('===================')\n",
    "    password=input(\" Enter password \")\n",
    "    message = authenticate(password)\n",
    "    print(message)\n",
    "if __name__==\"__main__\":\n",
    "    main()"
   ]
  },
  {
   "cell_type": "markdown",
   "id": "9b6b16a3-58ba-43c0-b0f7-d4ffa9cae3c8",
   "metadata": {},
   "source": [
    "### If-elif-else Condition\n",
    "To check whether a condition is true or false.<br>\n",
    "syntax:<br>\n",
    "if (condition):<br>\n",
    "    execute statement 1<br>\n",
    "elif (condition):<br>\n",
    "    execute statement 2<br>\n",
    "else:<br>\n",
    "    execute statement 3"
   ]
  },
  {
   "cell_type": "code",
   "execution_count": 5,
   "id": "a51563ac-ef0e-49dc-9e14-3a45404e2851",
   "metadata": {},
   "outputs": [
    {
     "name": "stdin",
     "output_type": "stream",
     "text": [
      "Enter your marks:  70\n"
     ]
    },
    {
     "name": "stdout",
     "output_type": "stream",
     "text": [
      "Marks: 70.0 \n",
      "Grade: C\n"
     ]
    }
   ],
   "source": [
    "def assignGrade(marks):\n",
    "    ''' \n",
    "    Objective: To assign grade on the basis of marks obtained.\n",
    "    Input Parameters: marks - Numeric value.\n",
    "    Return Value: grade - String\n",
    "    '''\n",
    "    assert marks>=0 or marks <=100\n",
    "    if marks>=90:\n",
    "        grade='A'\n",
    "    elif marks>=80:\n",
    "        grade='B'\n",
    "    elif marks>=70:\n",
    "        grade='C'\n",
    "    elif marks>=50:\n",
    "        grade='D'\n",
    "    else:\n",
    "        grade='F'\n",
    "    return grade\n",
    "def main():\n",
    "    '''\n",
    "    Objective: To assign grade on the basis of marks obtained.\n",
    "    Input Parameters: None.\n",
    "    Return Value: None.\n",
    "    '''\n",
    "    marks=float(input(\"Enter your marks: \"))\n",
    "    print(\"Marks:\", marks, \"\\nGrade:\", assignGrade(marks))\n",
    "if __name__==\"__main__\":\n",
    "    main()"
   ]
  },
  {
   "cell_type": "code",
   "execution_count": 8,
   "id": "ca6672ff-a0bf-4d9a-81a7-9dd15b2a5cc0",
   "metadata": {},
   "outputs": [
    {
     "name": "stdin",
     "output_type": "stream",
     "text": [
      " Enter first number:  78\n",
      " Enter second number:  65\n",
      " Enter thrid number:  89\n"
     ]
    },
    {
     "name": "stdout",
     "output_type": "stream",
     "text": [
      "Maximum number is 89\n"
     ]
    }
   ],
   "source": [
    "'''\n",
    "Nested If Condition\n",
    "To check whether a condition is true or false.\n",
    "syntax:\n",
    "if (condition):\n",
    "    if(condition):\n",
    "        execute the statement1\n",
    "    else:\n",
    "        execute the statement2\n",
    "elif (condition):\n",
    "    execute the statement3\n",
    "else:\n",
    "    execute the statement4\n",
    "'''\n",
    "def maximum3(n1,n2,n3):\n",
    "    '''\n",
    "    Objective: To find maximum of three numbers.\n",
    "    Input Parameters: n1,n2,n3 - numeric values\n",
    "    Return Values: maxNumber - numeric value\n",
    "    '''\n",
    "    if n1>n2:\n",
    "        if n1>n3:\n",
    "            maxNumber=n1\n",
    "        else:\n",
    "            maxNumber=n3\n",
    "    elif n2>n3:\n",
    "        maxNumber=n2\n",
    "    else:\n",
    "        maxNumber = n3\n",
    "    return maxNumber\n",
    "def main():\n",
    "    '''\n",
    "    Objective: To find maximum of three numbers.\n",
    "    Input Parameters: None\n",
    "    Return Values: None\n",
    "    '''\n",
    "    n1=int(input(\" Enter first number: \"))\n",
    "    n2=int(input(\" Enter second number: \"))\n",
    "    n3=int(input(\" Enter thrid number: \"))\n",
    "    maximum = maximum3(n1,n2,n3)\n",
    "    print(\"Maximum number is\", maximum)\n",
    "if __name__==\"__main__\":\n",
    "    main()"
   ]
  },
  {
   "cell_type": "code",
   "execution_count": 9,
   "id": "9b7c93e9-0575-4803-b858-abeb62eea69f",
   "metadata": {},
   "outputs": [
    {
     "name": "stdin",
     "output_type": "stream",
     "text": [
      "Enter first number:  78\n",
      "Enter second number:  65\n",
      "Enter third number:  89\n"
     ]
    },
    {
     "name": "stdout",
     "output_type": "stream",
     "text": [
      "Maximum number is 89\n"
     ]
    }
   ],
   "source": [
    "def max3(n1,n2,n3):\n",
    "    '''\n",
    "    Objective: To find maximum of three numbers.\n",
    "    Input Paramenters: n1,n2,n3 - numeric values.\n",
    "    Return Values: number - numberic value.\n",
    "    '''\n",
    "    def max2(n1,n2):\n",
    "        '''\n",
    "        Objective: To find maximum of two numbers.\n",
    "        Input Parameters: n1,n2 - numeric values.\n",
    "        Return Values: number - numeric value.\n",
    "        '''\n",
    "        if n1>n2:\n",
    "            return n1\n",
    "        else:\n",
    "            return n2\n",
    "    return max2(max2(n1,n2),n3)\n",
    "def main():\n",
    "    '''\n",
    "    Objective: To find maximum of three numbers.\n",
    "    Input Parameters: None.\n",
    "    Return Values: None.\n",
    "    '''\n",
    "    n1=int(input(\"Enter first number: \"))\n",
    "    n2=int(input(\"Enter second number: \"))\n",
    "    n3=int(input(\"Enter third number: \"))\n",
    "    maximum=max3(n1,n2,n3)\n",
    "    print(\"Maximum number is\",maximum)\n",
    "if __name__==\"__main__\":\n",
    "    main()"
   ]
  },
  {
   "cell_type": "code",
   "execution_count": 12,
   "id": "38d84098-4e64-446d-ab50-c17a3a890c9a",
   "metadata": {},
   "outputs": [
    {
     "name": "stdin",
     "output_type": "stream",
     "text": [
      "Enter the number:  10\n"
     ]
    },
    {
     "name": "stdout",
     "output_type": "stream",
     "text": [
      "0 1 2 3 4 5 6 7 8 9 "
     ]
    }
   ],
   "source": [
    "'''\n",
    "for loop\n",
    "Used to loop a condition until it is true.\n",
    "Syntax:\n",
    "for i in range(n):\n",
    "    statement\n",
    "'''\n",
    "n=int(input(\"Enter the number: \"))\n",
    "for i in range(n):\n",
    "    print(i,end=\" \")"
   ]
  },
  {
   "cell_type": "code",
   "execution_count": 15,
   "id": "adc6512d-47af-4fa5-a79b-7c71e0700293",
   "metadata": {},
   "outputs": [
    {
     "name": "stdin",
     "output_type": "stream",
     "text": [
      "Enter the number:  10\n"
     ]
    },
    {
     "name": "stdout",
     "output_type": "stream",
     "text": [
      "0 1 2 3 4 5 6 7 8 9 10 "
     ]
    }
   ],
   "source": [
    "''' \n",
    "while loop\n",
    "Used to loop a statemnt until the condition is true.\n",
    "Syntax:\n",
    "while(condition):\n",
    "    statement\n",
    "    '''\n",
    "n=int(input(\"Enter the number: \"))\n",
    "i=0\n",
    "while i<=n:\n",
    "    print(i,end=\" \")\n",
    "    i+=1\n"
   ]
  },
  {
   "cell_type": "code",
   "execution_count": 17,
   "id": "bf65ae78-3475-45d5-89ac-c68782d79bd0",
   "metadata": {},
   "outputs": [
    {
     "name": "stdout",
     "output_type": "stream",
     "text": [
      "0 1 2 3 4 5 6 7 8 9 "
     ]
    }
   ],
   "source": [
    "'''\n",
    "Break statement\n",
    "Used to exit the loop.\n",
    "Syntax:\n",
    "loop:\n",
    "    condition:\n",
    "        break\n",
    "'''\n",
    "i=0\n",
    "while 1:\n",
    "    if i==10:\n",
    "        break\n",
    "    else:\n",
    "        print(i,end=\" \")\n",
    "        i+=1"
   ]
  },
  {
   "cell_type": "code",
   "execution_count": 18,
   "id": "7a9e9108-ca62-47cd-8bca-27319a0c4ab0",
   "metadata": {},
   "outputs": [
    {
     "name": "stdout",
     "output_type": "stream",
     "text": [
      "1 2 3 4 6 7 8 9 "
     ]
    }
   ],
   "source": [
    "'''\n",
    "Continue statement\n",
    "Used to skip a iteration.\n",
    "Syntax:\n",
    "loop:\n",
    "    condition:\n",
    "        continue\n",
    "'''\n",
    "for i in range(1,10):\n",
    "    if i==5:\n",
    "        continue\n",
    "    print(i,end=\" \")"
   ]
  },
  {
   "cell_type": "code",
   "execution_count": 19,
   "id": "24c6adfa-6fc1-4875-ba27-ca99aff7dcf2",
   "metadata": {},
   "outputs": [],
   "source": [
    "'''\n",
    "pass statement\n",
    "Used to tell a condition is empty.\n",
    "loop or class or function:\n",
    "    pass\n",
    "'''\n",
    "for i in range(1,10):\n",
    "    pass"
   ]
  }
 ],
 "metadata": {
  "kernelspec": {
   "display_name": "Python 3 (ipykernel)",
   "language": "python",
   "name": "python3"
  },
  "language_info": {
   "codemirror_mode": {
    "name": "ipython",
    "version": 3
   },
   "file_extension": ".py",
   "mimetype": "text/x-python",
   "name": "python",
   "nbconvert_exporter": "python",
   "pygments_lexer": "ipython3",
   "version": "3.11.5"
  }
 },
 "nbformat": 4,
 "nbformat_minor": 5
}
