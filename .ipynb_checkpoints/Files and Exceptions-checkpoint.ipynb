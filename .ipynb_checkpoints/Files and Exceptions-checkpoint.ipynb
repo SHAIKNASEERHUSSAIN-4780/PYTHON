{
 "cells": [
  {
   "cell_type": "markdown",
   "id": "105e5aec-0ba3-4601-a0a5-d1dac95809dc",
   "metadata": {},
   "source": [
    "### Files Handling\n",
    "- file is a stream of bytes\n",
    "- Before performing a read or write operation a file, we need to open the file.\n",
    "  + open()\n",
    "- We can open file any of three modes\n",
    "  + read(r)\n",
    "  + write(w)\n",
    "  + append(a)\n",
    "- To open a file we need to perform open('file_name','w')"
   ]
  },
  {
   "cell_type": "code",
   "execution_count": 13,
   "id": "ed7d000c-09f3-431f-87fd-b22fdabde6a5",
   "metadata": {},
   "outputs": [
    {
     "name": "stdout",
     "output_type": "stream",
     "text": [
      "Python is an ineractive programming language. Simple syntax of the language makes\n",
      "Python programs easy to read and write.\n",
      "122\n",
      "122\n"
     ]
    }
   ],
   "source": [
    "f = open(\"python\",'w')\n",
    "f.write('''Python is an ineractive programming language. Simple syntax of the language makes\n",
    "Python programs easy to read and write.''')\n",
    "f.close()\n",
    "f = open('python','r')\n",
    "print(f.read())\n",
    "print(f.tell()) # It print number of characters are read in the file.\n",
    "f.read(4)\n",
    "print(f.tell())\n",
    "f.close()"
   ]
  },
  {
   "cell_type": "code",
   "execution_count": 17,
   "id": "cdd5b5ab-9bff-47bc-9146-b77ec1f4109e",
   "metadata": {},
   "outputs": [
    {
     "data": {
      "text/plain": [
       "'Python is an ineractive programming language. Simple syntax of the language makes\\n'"
      ]
     },
     "execution_count": 17,
     "metadata": {},
     "output_type": "execute_result"
    }
   ],
   "source": [
    "f = open('python','r')\n",
    "f.readline() # It read a complete line in the file."
   ]
  },
  {
   "cell_type": "code",
   "execution_count": 18,
   "id": "ad99d0e6-5f70-4a2c-93e6-f79e53653873",
   "metadata": {},
   "outputs": [
    {
     "data": {
      "text/plain": [
       "0"
      ]
     },
     "execution_count": 18,
     "metadata": {},
     "output_type": "execute_result"
    }
   ],
   "source": [
    "f.seek(0) # It's used read from a particular position in a file is to use the seek function"
   ]
  },
  {
   "cell_type": "markdown",
   "id": "1d8a3b8e-1835-4dac-9453-ae000243e8be",
   "metadata": {},
   "source": [
    "### Writing Structures To a File\n",
    "- To write a structure such as list or dictionary to a file and read it subsequently, we may use the python module pickle. Pickling refers to the process of converting the structure to a byte stream before writing to the file. While reading the contents of the file, a reverse process called umpickling."
   ]
  },
  {
   "cell_type": "code",
   "execution_count": 21,
   "id": "97e277ff-83f6-42e0-936b-315b801a9f67",
   "metadata": {},
   "outputs": [
    {
     "name": "stdout",
     "output_type": "stream",
     "text": [
      "['hello', 'world'] {1: 'One', 2: 'Two'}\n"
     ]
    }
   ],
   "source": [
    "# fileStructure\n",
    "import pickle\n",
    "def main():\n",
    "    '''\n",
    "    Objective: To write and read a list and dicctionary to and from a file.\n",
    "    Input Parameter: None\n",
    "    Return Value: None\n",
    "    '''\n",
    "    f = open('file1', 'wb')\n",
    "    pickle.dump(['hello', 'world'], f)\n",
    "    pickle.dump({1:'One', 2:'Two'}, f)\n",
    "    f.close()\n",
    "    f = open('file1', 'rb')\n",
    "    value1 = pickle.load(f)\n",
    "    value2 = pickle.load(f)\n",
    "    print(value1, value2)\n",
    "    f.close()\n",
    "if __name__==\"__main__\":\n",
    "    main()"
   ]
  },
  {
   "cell_type": "markdown",
   "id": "d2b945d7-a20a-4c59-80ab-619f7d00a628",
   "metadata": {},
   "source": [
    "### Errors and Exceptions\n",
    "- Exceptions are errors that occur in a code"
   ]
  },
  {
   "cell_type": "code",
   "execution_count": 26,
   "id": "8160213a-3049-47be-94db-580a82187741",
   "metadata": {},
   "outputs": [
    {
     "name": "stdout",
     "output_type": "stream",
     "text": [
      "<class 'BaseException'>,<class 'BaseExceptionGroup'>,<class 'Exception'>,<class 'GeneratorExit'>,<class 'KeyboardInterrupt'>,<class 'SystemExit'>,<class 'ArithmeticError'>,<class 'AssertionError'>,<class 'AttributeError'>,<class 'BufferError'>,<class 'EOFError'>,<class 'ImportError'>,<class 'LookupError'>,<class 'MemoryError'>,<class 'NameError'>,<class 'OSError'>,<class 'ReferenceError'>,<class 'RuntimeError'>,<class 'StopAsyncIteration'>,<class 'StopIteration'>,<class 'SyntaxError'>,<class 'SystemError'>,<class 'TypeError'>,<class 'ValueError'>,<class 'Warning'>,<class 'FloatingPointError'>,<class 'OverflowError'>,<class 'ZeroDivisionError'>,<class 'BytesWarning'>,<class 'DeprecationWarning'>,<class 'EncodingWarning'>,<class 'FutureWarning'>,<class 'ImportWarning'>,<class 'PendingDeprecationWarning'>,<class 'ResourceWarning'>,<class 'RuntimeWarning'>,<class 'SyntaxWarning'>,<class 'UnicodeWarning'>,<class 'UserWarning'>,<class 'BlockingIOError'>,<class 'ChildProcessError'>,<class 'ConnectionError'>,<class 'FileExistsError'>,<class 'FileNotFoundError'>,<class 'InterruptedError'>,<class 'IsADirectoryError'>,<class 'NotADirectoryError'>,<class 'PermissionError'>,<class 'ProcessLookupError'>,<class 'TimeoutError'>,<class 'IndentationError'>,<class 'IndexError'>,<class 'KeyError'>,<class 'ModuleNotFoundError'>,<class 'NotImplementedError'>,<class 'RecursionError'>,<class 'UnboundLocalError'>,<class 'UnicodeError'>,<class 'BrokenPipeError'>,<class 'ConnectionAbortedError'>,<class 'ConnectionRefusedError'>,<class 'ConnectionResetError'>,<class 'TabError'>,<class 'UnicodeDecodeError'>,<class 'UnicodeEncodeError'>,<class 'UnicodeTranslateError'>,<class 'ExceptionGroup'>,<class 'OSError'>,<class 'OSError'>,<class 'OSError'>,"
     ]
    }
   ],
   "source": [
    "exceptions_list = [obj for name, obj in __builtins__.__dict__.items() if isinstance(obj, type) and issubclass(obj, BaseException)]\n",
    "\n",
    "for exception in exceptions_list:\n",
    "    print(exception,end=\",\")"
   ]
  },
  {
   "cell_type": "markdown",
   "id": "c0201a45-aac8-4f50-b2e1-d585a991a470",
   "metadata": {},
   "source": [
    "##### NameError:\n",
    "- This exception occurs whenever a name tahat appers in a statement is not found globally.\n",
    "##### TypeError:\n",
    "- This exception occurs when an operation or function is applied to an object of inappropiate type.\n",
    "##### ValueError:\n",
    "- This exception occurs whenever an inappropriate argument value, even though of correct type, is used in a function call.\n",
    "##### ZeroDivisionError:\n",
    "- This exception occurs when we try to perform numeric division in which the denominator happend to be zero.\n",
    "##### OSError:\n",
    "- This exceptioin occurs wheneer there is a system related error such as disk full or an error related to input/output.\n",
    "##### IndexError:\n",
    "- This exception occurs whenever we try to access an index that is out of a valid range."
   ]
  },
  {
   "cell_type": "markdown",
   "id": "a9e32109-b818-44e9-953b-aff3a3c20eb0",
   "metadata": {},
   "source": [
    "### Handling Exceptions Using Try...Except\n",
    "- To handle the exceptions, we use the try block comprises statement that have the potential to raise an exception, except block describes the action to be taken when an exception is raised."
   ]
  },
  {
   "cell_type": "code",
   "execution_count": 28,
   "id": "774b8583-3abe-4968-8ee7-b5df903163f8",
   "metadata": {},
   "outputs": [
    {
     "name": "stdout",
     "output_type": "stream",
     "text": [
      "Problem with Input Output...\n",
      "Program continues smoothly beyond try...except block\n"
     ]
    }
   ],
   "source": [
    "# File Exception Error\n",
    "def main():\n",
    "    '''\n",
    "    Objective: To open a file for reading\n",
    "    Input Parameter: None\n",
    "    Output Parameter: None\n",
    "    '''\n",
    "    try:\n",
    "        f = open('file_name', 'r')\n",
    "    except IOError:\n",
    "        print(\"Problem with Input Output...\")\n",
    "    print(\"Program continues smoothly beyond try...except block\")\n",
    "if __name__==\"__main__\":\n",
    "    main()"
   ]
  },
  {
   "cell_type": "code",
   "execution_count": 29,
   "id": "289f34a5-4303-4736-bbd5-c565ba4c9e26",
   "metadata": {},
   "outputs": [
    {
     "name": "stdout",
     "output_type": "stream",
     "text": [
      "Problem with Input Ouptu...\n",
      "(<class 'FileNotFoundError'>, FileNotFoundError(2, 'No such file or directory'), <traceback object at 0x000002EA0988D300>)\n",
      "Program continues smoothly beyond try...except block\n"
     ]
    }
   ],
   "source": [
    "import sys\n",
    "def main():\n",
    "    '''\n",
    "    Objective: To open a file for reading\n",
    "    Input Parameter: None\n",
    "    Output Parameter: None\n",
    "    '''\n",
    "    try:\n",
    "        f= open('file_name','r')\n",
    "    except IOError:\n",
    "        print(\"Problem with Input Ouptu...\")\n",
    "        print(sys.exc_info())\n",
    "    print(\"Program continues smoothly beyond try...except block\")\n",
    "if __name__==\"__main__\":\n",
    "    main()"
   ]
  },
  {
   "cell_type": "code",
   "execution_count": 30,
   "id": "187f2939-ff59-4dd8-9107-c1826b0cf144",
   "metadata": {},
   "outputs": [
    {
     "name": "stdin",
     "output_type": "stream",
     "text": [
      "Enter price of item purchased: 400\n",
      "Enter weight of item purchased: 0\n"
     ]
    },
    {
     "name": "stdout",
     "output_type": "stream",
     "text": [
      "Invalid input provided by user \n",
      "(<class 'ZeroDivisionError'>, ZeroDivisionError('float division by zero'), <traceback object at 0x000002EA09899400>)\n"
     ]
    }
   ],
   "source": [
    "import sys\n",
    "def main():\n",
    "    '''\n",
    "    Objective: To compute price per unit weight of an item\n",
    "    Input Parameter: None\n",
    "    Return Value: None\n",
    "    '''\n",
    "    price=float(input(\"Enter price of item purchased:\"))\n",
    "    weight = float(input(\"Enter weight of item purchased:\"))\n",
    "    try:\n",
    "        assert price>=0 and weight>=0\n",
    "        result = price/weight\n",
    "    except(ValueError, TypeError, ZeroDivisionError):\n",
    "        print(\"Invalid input provided by user \\n\" + str(sys.exc_info()))\n",
    "    else:\n",
    "        print(\"Price per unit weight: \",result)\n",
    "if __name__==\"__main__\":\n",
    "    main()"
   ]
  },
  {
   "cell_type": "code",
   "execution_count": 33,
   "id": "e7986882-a0a1-448c-b1fc-fd8d38dd6d02",
   "metadata": {},
   "outputs": [
    {
     "name": "stdin",
     "output_type": "stream",
     "text": [
      "Enter price of item purchased: 20\n",
      "Enter weight of item purchased: x\n"
     ]
    },
    {
     "name": "stdout",
     "output_type": "stream",
     "text": [
      "Invalid input provided by user \n",
      "(<class 'ValueError'>, ValueError(\"could not convert string to float: 'x'\"), <traceback object at 0x000002EA0A584800>)\n"
     ]
    }
   ],
   "source": [
    "import sys\n",
    "def main():\n",
    "    '''\n",
    "    Objective: To compute price per unit weight of an item\n",
    "    Input Parameter: None\n",
    "    Return Value: None\n",
    "    '''\n",
    "    try:\n",
    "        price=float(input(\"Enter price of item purchased:\"))\n",
    "        weight = float(input(\"Enter weight of item purchased:\"))\n",
    "        assert price>=0 and weight>=0\n",
    "        result = price/weight\n",
    "    except(ValueError, TypeError, ZeroDivisionError):\n",
    "        print(\"Invalid input provided by user \\n\" + str(sys.exc_info()))\n",
    "    except:\n",
    "        print(str(sys.exc_info()))\n",
    "    else:\n",
    "        print(\"Price per unit weight: \",result)\n",
    "if __name__==\"__main__\":\n",
    "    main()"
   ]
  },
  {
   "cell_type": "markdown",
   "id": "62719ff5-3ff1-4f5b-b400-13bcff583136",
   "metadata": {},
   "source": [
    "##### Raise\n",
    "- Raise is a keyword used to raise an exception.\n",
    "##### finally\n",
    "- finally is akeyword used to print after exceptions are cleared."
   ]
  },
  {
   "cell_type": "code",
   "execution_count": 41,
   "id": "0e274851-9798-4c71-9a90-1300c10b1dde",
   "metadata": {},
   "outputs": [
    {
     "name": "stdout",
     "output_type": "stream",
     "text": [
      "Bye\n",
      "Program continues after handling exception\n"
     ]
    }
   ],
   "source": [
    "# RaiseFinally\n",
    "def main():\n",
    "    '''\n",
    "    Objective: To illustrate the use of raise and dinally clauses.\n",
    "    Input Parameter: None\n",
    "    Return Value: None\n",
    "    '''\n",
    "    marks = 110\n",
    "    try:\n",
    "        if marks<0 or marks>100:\n",
    "            raise ValueError(\"Marks out of range\")\n",
    "    except:\n",
    "        pass\n",
    "    finally:\n",
    "        print(\"Bye\")\n",
    "    print(\"Program continues after handling exception\")\n",
    "if __name__==\"__main__\":\n",
    "    main()"
   ]
  },
  {
   "cell_type": "markdown",
   "id": "8ca38846-ec9a-4d8a-83a8-eef5ade57773",
   "metadata": {},
   "source": [
    "### File Processing Example"
   ]
  },
  {
   "cell_type": "code",
   "execution_count": 48,
   "id": "e8a66835-5d50-40cb-b062-ef18592db48a",
   "metadata": {},
   "outputs": [
    {
     "name": "stdin",
     "output_type": "stream",
     "text": [
      "Enter name of file containing marks:  student\n",
      "Enter output file for moderated marks:  marks\n",
      "Enter moderation percentage:  100\n"
     ]
    },
    {
     "name": "stdout",
     "output_type": "stream",
     "text": [
      "Problem in opening the file\n",
      "Bye\n"
     ]
    },
    {
     "ename": "AttributeError",
     "evalue": "'tuple' object has no attribute 'tb_frame'",
     "output_type": "error",
     "traceback": [
      "\u001b[1;31m---------------------------------------------------------------------------\u001b[0m",
      "\u001b[1;31mFileNotFoundError\u001b[0m                         Traceback (most recent call last)",
      "Cell \u001b[1;32mIn[48], line 11\u001b[0m, in \u001b[0;36mcomputeModeratedMarks\u001b[1;34m(file1, file2, addPercent)\u001b[0m\n\u001b[0;32m     10\u001b[0m \u001b[38;5;28;01mtry\u001b[39;00m:\n\u001b[1;32m---> 11\u001b[0m     fIn \u001b[38;5;241m=\u001b[39m \u001b[38;5;28mopen\u001b[39m(file1, \u001b[38;5;124m'\u001b[39m\u001b[38;5;124mr\u001b[39m\u001b[38;5;124m'\u001b[39m)\n\u001b[0;32m     12\u001b[0m     fOut \u001b[38;5;241m=\u001b[39m \u001b[38;5;28mopen\u001b[39m(file2, \u001b[38;5;124m'\u001b[39m\u001b[38;5;124mr\u001b[39m\u001b[38;5;124m'\u001b[39m)\n",
      "File \u001b[1;32m~\\anaconda3\\Lib\\site-packages\\IPython\\core\\interactiveshell.py:286\u001b[0m, in \u001b[0;36m_modified_open\u001b[1;34m(file, *args, **kwargs)\u001b[0m\n\u001b[0;32m    280\u001b[0m     \u001b[38;5;28;01mraise\u001b[39;00m \u001b[38;5;167;01mValueError\u001b[39;00m(\n\u001b[0;32m    281\u001b[0m         \u001b[38;5;124mf\u001b[39m\u001b[38;5;124m\"\u001b[39m\u001b[38;5;124mIPython won\u001b[39m\u001b[38;5;124m'\u001b[39m\u001b[38;5;124mt let you open fd=\u001b[39m\u001b[38;5;132;01m{\u001b[39;00mfile\u001b[38;5;132;01m}\u001b[39;00m\u001b[38;5;124m by default \u001b[39m\u001b[38;5;124m\"\u001b[39m\n\u001b[0;32m    282\u001b[0m         \u001b[38;5;124m\"\u001b[39m\u001b[38;5;124mas it is likely to crash IPython. If you know what you are doing, \u001b[39m\u001b[38;5;124m\"\u001b[39m\n\u001b[0;32m    283\u001b[0m         \u001b[38;5;124m\"\u001b[39m\u001b[38;5;124myou can use builtins\u001b[39m\u001b[38;5;124m'\u001b[39m\u001b[38;5;124m open.\u001b[39m\u001b[38;5;124m\"\u001b[39m\n\u001b[0;32m    284\u001b[0m     )\n\u001b[1;32m--> 286\u001b[0m \u001b[38;5;28;01mreturn\u001b[39;00m io_open(file, \u001b[38;5;241m*\u001b[39margs, \u001b[38;5;241m*\u001b[39m\u001b[38;5;241m*\u001b[39mkwargs)\n",
      "\u001b[1;31mFileNotFoundError\u001b[0m: [Errno 2] No such file or directory: 'student'",
      "\nDuring handling of the above exception, another exception occurred:\n",
      "\u001b[1;31mSystemExit\u001b[0m                                Traceback (most recent call last)",
      "    \u001b[1;31m[... skipping hidden 1 frame]\u001b[0m\n",
      "Cell \u001b[1;32mIn[48], line 54\u001b[0m\n\u001b[0;32m     53\u001b[0m \u001b[38;5;28;01mif\u001b[39;00m \u001b[38;5;18m__name__\u001b[39m\u001b[38;5;241m==\u001b[39m\u001b[38;5;124m\"\u001b[39m\u001b[38;5;124m__main__\u001b[39m\u001b[38;5;124m\"\u001b[39m:\n\u001b[1;32m---> 54\u001b[0m         main()\n",
      "Cell \u001b[1;32mIn[48], line 48\u001b[0m, in \u001b[0;36mmain\u001b[1;34m()\u001b[0m\n\u001b[0;32m     47\u001b[0m     addPercent \u001b[38;5;241m=\u001b[39m \u001b[38;5;28mint\u001b[39m(\u001b[38;5;28minput\u001b[39m(\u001b[38;5;124m\"\u001b[39m\u001b[38;5;124mEnter moderation percentage: \u001b[39m\u001b[38;5;124m\"\u001b[39m))\n\u001b[1;32m---> 48\u001b[0m     computeModeratedMarks(file1, file2, addPercent)\n\u001b[0;32m     49\u001b[0m \u001b[38;5;28;01mexcept\u001b[39;00m \u001b[38;5;167;01mIOError\u001b[39;00m \u001b[38;5;28;01mas\u001b[39;00m e:\n",
      "Cell \u001b[1;32mIn[48], line 15\u001b[0m, in \u001b[0;36mcomputeModeratedMarks\u001b[1;34m(file1, file2, addPercent)\u001b[0m\n\u001b[0;32m     14\u001b[0m     \u001b[38;5;28mprint\u001b[39m(\u001b[38;5;124m\"\u001b[39m\u001b[38;5;124mProblem in opening the file\u001b[39m\u001b[38;5;124m\"\u001b[39m)\n\u001b[1;32m---> 15\u001b[0m     sys\u001b[38;5;241m.\u001b[39mexit()\n\u001b[0;32m     16\u001b[0m line1 \u001b[38;5;241m=\u001b[39m fIn\u001b[38;5;241m.\u001b[39mradline()\n",
      "\u001b[1;31mSystemExit\u001b[0m: ",
      "\nDuring handling of the above exception, another exception occurred:\n",
      "\u001b[1;31mAttributeError\u001b[0m                            Traceback (most recent call last)",
      "    \u001b[1;31m[... skipping hidden 1 frame]\u001b[0m\n",
      "File \u001b[1;32m~\\anaconda3\\Lib\\site-packages\\IPython\\core\\interactiveshell.py:2097\u001b[0m, in \u001b[0;36mInteractiveShell.showtraceback\u001b[1;34m(self, exc_tuple, filename, tb_offset, exception_only, running_compiled_code)\u001b[0m\n\u001b[0;32m   2094\u001b[0m \u001b[38;5;28;01mif\u001b[39;00m exception_only:\n\u001b[0;32m   2095\u001b[0m     stb \u001b[38;5;241m=\u001b[39m [\u001b[38;5;124m'\u001b[39m\u001b[38;5;124mAn exception has occurred, use \u001b[39m\u001b[38;5;124m%\u001b[39m\u001b[38;5;124mtb to see \u001b[39m\u001b[38;5;124m'\u001b[39m\n\u001b[0;32m   2096\u001b[0m            \u001b[38;5;124m'\u001b[39m\u001b[38;5;124mthe full traceback.\u001b[39m\u001b[38;5;130;01m\\n\u001b[39;00m\u001b[38;5;124m'\u001b[39m]\n\u001b[1;32m-> 2097\u001b[0m     stb\u001b[38;5;241m.\u001b[39mextend(\u001b[38;5;28mself\u001b[39m\u001b[38;5;241m.\u001b[39mInteractiveTB\u001b[38;5;241m.\u001b[39mget_exception_only(etype,\n\u001b[0;32m   2098\u001b[0m                                                      value))\n\u001b[0;32m   2099\u001b[0m \u001b[38;5;28;01melse\u001b[39;00m:\n\u001b[0;32m   2101\u001b[0m     \u001b[38;5;28;01mdef\u001b[39;00m \u001b[38;5;21mcontains_exceptiongroup\u001b[39m(val):\n",
      "File \u001b[1;32m~\\anaconda3\\Lib\\site-packages\\IPython\\core\\ultratb.py:710\u001b[0m, in \u001b[0;36mListTB.get_exception_only\u001b[1;34m(self, etype, value)\u001b[0m\n\u001b[0;32m    702\u001b[0m \u001b[38;5;28;01mdef\u001b[39;00m \u001b[38;5;21mget_exception_only\u001b[39m(\u001b[38;5;28mself\u001b[39m, etype, value):\n\u001b[0;32m    703\u001b[0m \u001b[38;5;250m    \u001b[39m\u001b[38;5;124;03m\"\"\"Only print the exception type and message, without a traceback.\u001b[39;00m\n\u001b[0;32m    704\u001b[0m \n\u001b[0;32m    705\u001b[0m \u001b[38;5;124;03m    Parameters\u001b[39;00m\n\u001b[1;32m   (...)\u001b[0m\n\u001b[0;32m    708\u001b[0m \u001b[38;5;124;03m    value : exception value\u001b[39;00m\n\u001b[0;32m    709\u001b[0m \u001b[38;5;124;03m    \"\"\"\u001b[39;00m\n\u001b[1;32m--> 710\u001b[0m     \u001b[38;5;28;01mreturn\u001b[39;00m ListTB\u001b[38;5;241m.\u001b[39mstructured_traceback(\u001b[38;5;28mself\u001b[39m, etype, value)\n",
      "File \u001b[1;32m~\\anaconda3\\Lib\\site-packages\\IPython\\core\\ultratb.py:568\u001b[0m, in \u001b[0;36mListTB.structured_traceback\u001b[1;34m(self, etype, evalue, etb, tb_offset, context)\u001b[0m\n\u001b[0;32m    565\u001b[0m     chained_exc_ids\u001b[38;5;241m.\u001b[39madd(\u001b[38;5;28mid\u001b[39m(exception[\u001b[38;5;241m1\u001b[39m]))\n\u001b[0;32m    566\u001b[0m     chained_exceptions_tb_offset \u001b[38;5;241m=\u001b[39m \u001b[38;5;241m0\u001b[39m\n\u001b[0;32m    567\u001b[0m     out_list \u001b[38;5;241m=\u001b[39m (\n\u001b[1;32m--> 568\u001b[0m         \u001b[38;5;28mself\u001b[39m\u001b[38;5;241m.\u001b[39mstructured_traceback(\n\u001b[0;32m    569\u001b[0m             etype,\n\u001b[0;32m    570\u001b[0m             evalue,\n\u001b[0;32m    571\u001b[0m             (etb, chained_exc_ids),  \u001b[38;5;66;03m# type: ignore\u001b[39;00m\n\u001b[0;32m    572\u001b[0m             chained_exceptions_tb_offset,\n\u001b[0;32m    573\u001b[0m             context,\n\u001b[0;32m    574\u001b[0m         )\n\u001b[0;32m    575\u001b[0m         \u001b[38;5;241m+\u001b[39m chained_exception_message\n\u001b[0;32m    576\u001b[0m         \u001b[38;5;241m+\u001b[39m out_list)\n\u001b[0;32m    578\u001b[0m \u001b[38;5;28;01mreturn\u001b[39;00m out_list\n",
      "File \u001b[1;32m~\\anaconda3\\Lib\\site-packages\\IPython\\core\\ultratb.py:1435\u001b[0m, in \u001b[0;36mAutoFormattedTB.structured_traceback\u001b[1;34m(self, etype, evalue, etb, tb_offset, number_of_lines_of_context)\u001b[0m\n\u001b[0;32m   1433\u001b[0m \u001b[38;5;28;01melse\u001b[39;00m:\n\u001b[0;32m   1434\u001b[0m     \u001b[38;5;28mself\u001b[39m\u001b[38;5;241m.\u001b[39mtb \u001b[38;5;241m=\u001b[39m etb\n\u001b[1;32m-> 1435\u001b[0m \u001b[38;5;28;01mreturn\u001b[39;00m FormattedTB\u001b[38;5;241m.\u001b[39mstructured_traceback(\n\u001b[0;32m   1436\u001b[0m     \u001b[38;5;28mself\u001b[39m, etype, evalue, etb, tb_offset, number_of_lines_of_context\n\u001b[0;32m   1437\u001b[0m )\n",
      "File \u001b[1;32m~\\anaconda3\\Lib\\site-packages\\IPython\\core\\ultratb.py:1326\u001b[0m, in \u001b[0;36mFormattedTB.structured_traceback\u001b[1;34m(self, etype, value, tb, tb_offset, number_of_lines_of_context)\u001b[0m\n\u001b[0;32m   1323\u001b[0m mode \u001b[38;5;241m=\u001b[39m \u001b[38;5;28mself\u001b[39m\u001b[38;5;241m.\u001b[39mmode\n\u001b[0;32m   1324\u001b[0m \u001b[38;5;28;01mif\u001b[39;00m mode \u001b[38;5;129;01min\u001b[39;00m \u001b[38;5;28mself\u001b[39m\u001b[38;5;241m.\u001b[39mverbose_modes:\n\u001b[0;32m   1325\u001b[0m     \u001b[38;5;66;03m# Verbose modes need a full traceback\u001b[39;00m\n\u001b[1;32m-> 1326\u001b[0m     \u001b[38;5;28;01mreturn\u001b[39;00m VerboseTB\u001b[38;5;241m.\u001b[39mstructured_traceback(\n\u001b[0;32m   1327\u001b[0m         \u001b[38;5;28mself\u001b[39m, etype, value, tb, tb_offset, number_of_lines_of_context\n\u001b[0;32m   1328\u001b[0m     )\n\u001b[0;32m   1329\u001b[0m \u001b[38;5;28;01melif\u001b[39;00m mode \u001b[38;5;241m==\u001b[39m \u001b[38;5;124m'\u001b[39m\u001b[38;5;124mMinimal\u001b[39m\u001b[38;5;124m'\u001b[39m:\n\u001b[0;32m   1330\u001b[0m     \u001b[38;5;28;01mreturn\u001b[39;00m ListTB\u001b[38;5;241m.\u001b[39mget_exception_only(\u001b[38;5;28mself\u001b[39m, etype, value)\n",
      "File \u001b[1;32m~\\anaconda3\\Lib\\site-packages\\IPython\\core\\ultratb.py:1173\u001b[0m, in \u001b[0;36mVerboseTB.structured_traceback\u001b[1;34m(self, etype, evalue, etb, tb_offset, number_of_lines_of_context)\u001b[0m\n\u001b[0;32m   1164\u001b[0m \u001b[38;5;28;01mdef\u001b[39;00m \u001b[38;5;21mstructured_traceback\u001b[39m(\n\u001b[0;32m   1165\u001b[0m     \u001b[38;5;28mself\u001b[39m,\n\u001b[0;32m   1166\u001b[0m     etype: \u001b[38;5;28mtype\u001b[39m,\n\u001b[1;32m   (...)\u001b[0m\n\u001b[0;32m   1170\u001b[0m     number_of_lines_of_context: \u001b[38;5;28mint\u001b[39m \u001b[38;5;241m=\u001b[39m \u001b[38;5;241m5\u001b[39m,\n\u001b[0;32m   1171\u001b[0m ):\n\u001b[0;32m   1172\u001b[0m \u001b[38;5;250m    \u001b[39m\u001b[38;5;124;03m\"\"\"Return a nice text document describing the traceback.\"\"\"\u001b[39;00m\n\u001b[1;32m-> 1173\u001b[0m     formatted_exception \u001b[38;5;241m=\u001b[39m \u001b[38;5;28mself\u001b[39m\u001b[38;5;241m.\u001b[39mformat_exception_as_a_whole(etype, evalue, etb, number_of_lines_of_context,\n\u001b[0;32m   1174\u001b[0m                                                            tb_offset)\n\u001b[0;32m   1176\u001b[0m     colors \u001b[38;5;241m=\u001b[39m \u001b[38;5;28mself\u001b[39m\u001b[38;5;241m.\u001b[39mColors  \u001b[38;5;66;03m# just a shorthand + quicker name lookup\u001b[39;00m\n\u001b[0;32m   1177\u001b[0m     colorsnormal \u001b[38;5;241m=\u001b[39m colors\u001b[38;5;241m.\u001b[39mNormal  \u001b[38;5;66;03m# used a lot\u001b[39;00m\n",
      "File \u001b[1;32m~\\anaconda3\\Lib\\site-packages\\IPython\\core\\ultratb.py:1063\u001b[0m, in \u001b[0;36mVerboseTB.format_exception_as_a_whole\u001b[1;34m(self, etype, evalue, etb, number_of_lines_of_context, tb_offset)\u001b[0m\n\u001b[0;32m   1060\u001b[0m \u001b[38;5;28;01massert\u001b[39;00m \u001b[38;5;28misinstance\u001b[39m(tb_offset, \u001b[38;5;28mint\u001b[39m)\n\u001b[0;32m   1061\u001b[0m head \u001b[38;5;241m=\u001b[39m \u001b[38;5;28mself\u001b[39m\u001b[38;5;241m.\u001b[39mprepare_header(\u001b[38;5;28mstr\u001b[39m(etype), \u001b[38;5;28mself\u001b[39m\u001b[38;5;241m.\u001b[39mlong_header)\n\u001b[0;32m   1062\u001b[0m records \u001b[38;5;241m=\u001b[39m (\n\u001b[1;32m-> 1063\u001b[0m     \u001b[38;5;28mself\u001b[39m\u001b[38;5;241m.\u001b[39mget_records(etb, number_of_lines_of_context, tb_offset) \u001b[38;5;28;01mif\u001b[39;00m etb \u001b[38;5;28;01melse\u001b[39;00m []\n\u001b[0;32m   1064\u001b[0m )\n\u001b[0;32m   1066\u001b[0m frames \u001b[38;5;241m=\u001b[39m []\n\u001b[0;32m   1067\u001b[0m skipped \u001b[38;5;241m=\u001b[39m \u001b[38;5;241m0\u001b[39m\n",
      "File \u001b[1;32m~\\anaconda3\\Lib\\site-packages\\IPython\\core\\ultratb.py:1131\u001b[0m, in \u001b[0;36mVerboseTB.get_records\u001b[1;34m(self, etb, number_of_lines_of_context, tb_offset)\u001b[0m\n\u001b[0;32m   1129\u001b[0m \u001b[38;5;28;01mwhile\u001b[39;00m cf \u001b[38;5;129;01mis\u001b[39;00m \u001b[38;5;129;01mnot\u001b[39;00m \u001b[38;5;28;01mNone\u001b[39;00m:\n\u001b[0;32m   1130\u001b[0m     \u001b[38;5;28;01mtry\u001b[39;00m:\n\u001b[1;32m-> 1131\u001b[0m         mod \u001b[38;5;241m=\u001b[39m inspect\u001b[38;5;241m.\u001b[39mgetmodule(cf\u001b[38;5;241m.\u001b[39mtb_frame)\n\u001b[0;32m   1132\u001b[0m         \u001b[38;5;28;01mif\u001b[39;00m mod \u001b[38;5;129;01mis\u001b[39;00m \u001b[38;5;129;01mnot\u001b[39;00m \u001b[38;5;28;01mNone\u001b[39;00m:\n\u001b[0;32m   1133\u001b[0m             mod_name \u001b[38;5;241m=\u001b[39m mod\u001b[38;5;241m.\u001b[39m\u001b[38;5;18m__name__\u001b[39m\n",
      "\u001b[1;31mAttributeError\u001b[0m: 'tuple' object has no attribute 'tb_frame'"
     ]
    }
   ],
   "source": [
    "# ModeratedMarks\n",
    "import sys\n",
    "def computeModeratedMarks(file1, file2, addPercent):\n",
    "    '''\n",
    "    Objective: To compute moderated marks of students\n",
    "    Input Parameters: file1, file2: file names - string values.\n",
    "                      addPercent - numeric value\n",
    "    Return Value: None\n",
    "    '''\n",
    "    try:\n",
    "        fIn = open(file1, 'r')\n",
    "        fOut = open(file2, 'r')\n",
    "    except IOError:\n",
    "        print(\"Problem in opening the file\")\n",
    "        sys.exit()\n",
    "    line1 = fIn.radline()\n",
    "    while line1!= '':\n",
    "        sList = line1.split(',')\n",
    "        try:\n",
    "            rollNo = int(sList[0])\n",
    "            name = sList[1]\n",
    "            marks = int(sList[2])\n",
    "        except IndexError:\n",
    "            print(\"Undefined Index\")\n",
    "            sys.exit()\n",
    "        except (ValError):\n",
    "            print(\"Unsuccesful conversion to int\"); sys.exit()\n",
    "        maxMarks = 100\n",
    "        moderateMarks = marks+(addPercent*maxMarks)/100\n",
    "        if moderateMarks > 100:\n",
    "            moderateMarks = 100\n",
    "        fOut.write(str(rollNo) + ',' + name + ',' +str(moderatedMarks) + '\\n')\n",
    "        line1 = fIn.readline()\n",
    "    fIn.close()\n",
    "    fOut.close()\n",
    "def main():\n",
    "    '''\n",
    "    Objective: To compute moderated marks based on user input.\n",
    "    Input Parameter: None\n",
    "    Return Value: None\n",
    "    '''\n",
    "    try:\n",
    "        sys.path.append('smaple.txt')\n",
    "        #To compute moderated marks of students\n",
    "        file1 = input(\"Enter name of file containing marks: \")\n",
    "        file2 = input(\"Enter output file for moderated marks: \")\n",
    "        addPercent = int(input(\"Enter moderation percentage: \"))\n",
    "        computeModeratedMarks(file1, file2, addPercent)\n",
    "    except IOError as e:\n",
    "        print(e)\n",
    "    finally:\n",
    "        print(\"Bye\")\n",
    "if __name__==\"__main__\":\n",
    "        main()"
   ]
  }
 ],
 "metadata": {
  "kernelspec": {
   "display_name": "Python 3 (ipykernel)",
   "language": "python",
   "name": "python3"
  },
  "language_info": {
   "codemirror_mode": {
    "name": "ipython",
    "version": 3
   },
   "file_extension": ".py",
   "mimetype": "text/x-python",
   "name": "python",
   "nbconvert_exporter": "python",
   "pygments_lexer": "ipython3",
   "version": "3.11.5"
  }
 },
 "nbformat": 4,
 "nbformat_minor": 5
}
