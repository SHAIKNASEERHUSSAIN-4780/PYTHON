{
 "cells": [
  {
   "cell_type": "markdown",
   "id": "dec0f229-19e2-41df-ba4a-e55e1844d1fc",
   "metadata": {},
   "source": [
    "### Definitions and Notations\n",
    "- A tree is a hierarchical structure. It is a collection of elements called nodes along with a relation called parenthood that defines a hierarchical structure on the nodes. The node not having any parent node is called the root node. Every node other than the root has a unique parent node.\n",
    "  + Leaf: A leaf node is a node which has no children.\n",
    "  + Internal node: A node which is not a leaf node is called internal node or a non-leaf node.\n",
    "  + Path and Path Length: If n<sub>1</sub>, n<sub>2</sub>, ...., n<sub>k</sub> is a sequence of nodes in a tree such that ni is the parent of n<sub>i+1</sub> for 1 <= i <= k - 1, the sequence is called a path of length k-1 from n<sub>1</sub> to n<sub>k</sub>.\n",
    "  + Height: The length of the longest path from the root to a leaf in a tree defines the height of the tree.\n",
    "  + Level: Level of a node is the number of edges on the path from the root to the node.\n",
    "  + Ancestor/Descendent: If there is a path from node n<sub>1</sub> to node n<sub>2</sub>, we say that n<sub>1</sub> is an ancestor of node n<sub>2</sub>, then n<sub>1</sub> is either parent of n<sub>2</sub> or parent of an ancestor of node n<sub>2</sub>. Alse, by definition, a node is an ancestor as well as descendent of itself.\n",
    "  + Siblings: Children of the same node are siblings to each other.\n",
    "  + Subtree: A subtree of a tree is a tree that comprises a node of the tree together with all its dexcendents."
   ]
  },
  {
   "cell_type": "markdown",
   "id": "9974f2b1-69bd-4726-94d2-4ea9bc767cc1",
   "metadata": {},
   "source": [
    "### Binary Search Tree\n",
    "- A binary tree is a particular type of tree whose nodes have two or fewer children. In a binary tree, the child nodes of a node are called the left-child and right-child."
   ]
  },
  {
   "cell_type": "code",
   "execution_count": 5,
   "id": "55c6aef5-4ecc-47af-bf3d-39971179bf2e",
   "metadata": {},
   "outputs": [],
   "source": [
    "class Node:\n",
    "    def __init__(self, value):\n",
    "        '''\n",
    "        Objective: To initialize object of class Node\n",
    "        Input Parameter: self (implicit paramter) - object of type Node\n",
    "        Return Value: None\n",
    "        '''\n",
    "        self.right = None\n",
    "        self.left = None\n",
    "        self.value = value"
   ]
  },
  {
   "cell_type": "code",
   "execution_count": 20,
   "id": "8cf65803-73b2-43e6-9968-43e471bc06f8",
   "metadata": {},
   "outputs": [],
   "source": [
    "import sys\n",
    "sys.path.append(\"Python\")\n",
    "from bNode import Node\n",
    "def main():\n",
    "    '''\n",
    "    Objective: To build a binary search tree\n",
    "    Input Parameterr: None\n",
    "    Return Value: None\n",
    "    '''\n",
    "    bst = Node(15)\n",
    "    bst.right = Node(23)\n",
    "    bst.right.right = Node(30)\n",
    "    bst.right.left = Node(20)\n",
    "    bst.left = Node(10)\n",
    "    bst.left.left = Node(6)\n",
    "    return bst\n",
    "if __name__ == \"__main__\":\n",
    "    main()"
   ]
  },
  {
   "cell_type": "markdown",
   "id": "cd1f0d7f-65ac-4515-9d65-7a8e77092c1f",
   "metadata": {},
   "source": [
    "### Traversal of Binary Search Trees"
   ]
  },
  {
   "cell_type": "markdown",
   "id": "29bac771-5540-4da3-8152-93becd2b2af4",
   "metadata": {},
   "source": [
    "##### Inorder Traversal\n",
    "1. Inorder traversal of the left subtree\n",
    "2. Visit the root\n",
    "3. Inorder traversal of the right subtree"
   ]
  },
  {
   "cell_type": "code",
   "execution_count": 3,
   "id": "7c237e76-9ab5-4118-a1d2-4104961ab8fa",
   "metadata": {},
   "outputs": [],
   "source": [
    "def inorder(root):\n",
    "    '''\n",
    "    Objective: To perform in-order traversal of BST\n",
    "    Input Parameter: root (Node) - root of the BST\n",
    "    Return Value: None\n",
    "    '''\n",
    "    if root is not None:\n",
    "        inorder(root.left)\n",
    "        print(root.value, end=' ')\n",
    "        inorder(root.right)"
   ]
  },
  {
   "cell_type": "code",
   "execution_count": 1,
   "id": "14adec64-745c-49d5-8522-ddb4f9c31b34",
   "metadata": {},
   "outputs": [
    {
     "name": "stdout",
     "output_type": "stream",
     "text": [
      "6 10 15 20 23 30 "
     ]
    }
   ],
   "source": [
    "import sys\n",
    "sys.path.append('Python')\n",
    "from BSTree import main\n",
    "from bTree import inorder\n",
    "bst = main()\n",
    "inorder(bst)"
   ]
  },
  {
   "cell_type": "code",
   "execution_count": 5,
   "id": "af700e57-d2b2-400d-b154-82b692330b4f",
   "metadata": {},
   "outputs": [
    {
     "name": "stdout",
     "output_type": "stream",
     "text": [
      "15 10 6 23 20 30 "
     ]
    }
   ],
   "source": [
    "import sys\n",
    "sys.path.append(\"Python\")\n",
    "from BSTree import main\n",
    "from bTree import preorder\n",
    "bst = main()\n",
    "preorder(bst)"
   ]
  },
  {
   "cell_type": "code",
   "execution_count": 9,
   "id": "cee7ab09-5fb5-4792-825e-b5a7a38b8ec2",
   "metadata": {},
   "outputs": [
    {
     "name": "stdout",
     "output_type": "stream",
     "text": [
      "6 10 20 30 23 15 "
     ]
    }
   ],
   "source": [
    "import sys\n",
    "sys.path.append(\"Python\")\n",
    "from BSTree import main\n",
    "from bTree import postorder\n",
    "bst = main()\n",
    "postorder(bst)"
   ]
  },
  {
   "cell_type": "markdown",
   "id": "92c05b4b-9a9f-4b9c-9b52-ebbbeade864c",
   "metadata": {},
   "source": [
    "### Building Binary Search Tree"
   ]
  },
  {
   "cell_type": "code",
   "execution_count": 16,
   "id": "703d3b3b-cf7d-46b3-a3b5-a1b461f2bdd5",
   "metadata": {},
   "outputs": [],
   "source": [
    "import sys\n",
    "sys.path.append(\"Python\")\n",
    "from bNode import Node\n",
    "def insert(self, value):\n",
    "    '''\n",
    "    objective: To serve as wrapper function for insertVal\n",
    "    Input Parameter: \n",
    "        self (implicit parameter) - object of type binSearchTree\n",
    "        value - value to be inserted\n",
    "    Return Value: None\n",
    "    '''\n",
    "    def insertVal(root, value):\n",
    "        '''\n",
    "        Objective: To insert a value in the binarySearchTree\n",
    "        Input Parameter:\n",
    "            root - object of type Node\n",
    "            value - Value to be inserted\n",
    "        Return Value: object of type Node\n",
    "        '''\n",
    "        if root == None:\n",
    "            root == Node(value)\n",
    "        elif value <= root.value:\n",
    "            root.left = insertVal(root.left, value)\n",
    "        else:\n",
    "            root.right = insertVal(root.right, value)\n",
    "        return root\n",
    "    self.root = insertVal(self.root, value)"
   ]
  },
  {
   "cell_type": "code",
   "execution_count": 32,
   "id": "2290e804-f817-4c4d-8327-b620c6bd95b8",
   "metadata": {},
   "outputs": [
    {
     "name": "stdout",
     "output_type": "stream",
     "text": [
      "1: Insert a value\n",
      "2: Inorder Traversal\n",
      "3: Preorder Traversal\n",
      "4: Postorder Traversal\n",
      "5: Height of the tree\n",
      "6: Quit\n"
     ]
    },
    {
     "name": "stdin",
     "output_type": "stream",
     "text": [
      "Enter the choice:  1\n",
      "Enter value to be inserted:  10\n"
     ]
    },
    {
     "name": "stdout",
     "output_type": "stream",
     "text": [
      "Value Inserted! !\n",
      "\n",
      "1: Insert a value\n",
      "2: Inorder Traversal\n",
      "3: Preorder Traversal\n",
      "4: Postorder Traversal\n",
      "5: Height of the tree\n",
      "6: Quit\n"
     ]
    },
    {
     "name": "stdin",
     "output_type": "stream",
     "text": [
      "Enter the choice:  1\n",
      "Enter value to be inserted:  20\n"
     ]
    },
    {
     "name": "stdout",
     "output_type": "stream",
     "text": [
      "Value Inserted! !\n",
      "\n",
      "1: Insert a value\n",
      "2: Inorder Traversal\n",
      "3: Preorder Traversal\n",
      "4: Postorder Traversal\n",
      "5: Height of the tree\n",
      "6: Quit\n"
     ]
    },
    {
     "name": "stdin",
     "output_type": "stream",
     "text": [
      "Enter the choice:  1\n",
      "Enter value to be inserted:  30\n"
     ]
    },
    {
     "name": "stdout",
     "output_type": "stream",
     "text": [
      "Value Inserted! !\n",
      "\n",
      "1: Insert a value\n",
      "2: Inorder Traversal\n",
      "3: Preorder Traversal\n",
      "4: Postorder Traversal\n",
      "5: Height of the tree\n",
      "6: Quit\n"
     ]
    },
    {
     "name": "stdin",
     "output_type": "stream",
     "text": [
      "Enter the choice:  1\n",
      "Enter value to be inserted:  40\n"
     ]
    },
    {
     "name": "stdout",
     "output_type": "stream",
     "text": [
      "Value Inserted! !\n",
      "\n",
      "1: Insert a value\n",
      "2: Inorder Traversal\n",
      "3: Preorder Traversal\n",
      "4: Postorder Traversal\n",
      "5: Height of the tree\n",
      "6: Quit\n"
     ]
    },
    {
     "name": "stdin",
     "output_type": "stream",
     "text": [
      "Enter the choice:  2\n"
     ]
    },
    {
     "name": "stdout",
     "output_type": "stream",
     "text": [
      "10 20 30 40 \n",
      "1: Insert a value\n",
      "2: Inorder Traversal\n",
      "3: Preorder Traversal\n",
      "4: Postorder Traversal\n",
      "5: Height of the tree\n",
      "6: Quit\n"
     ]
    },
    {
     "name": "stdin",
     "output_type": "stream",
     "text": [
      "Enter the choice:  3\n"
     ]
    },
    {
     "name": "stdout",
     "output_type": "stream",
     "text": [
      "10 20 30 40 \n",
      "1: Insert a value\n",
      "2: Inorder Traversal\n",
      "3: Preorder Traversal\n",
      "4: Postorder Traversal\n",
      "5: Height of the tree\n",
      "6: Quit\n"
     ]
    },
    {
     "name": "stdin",
     "output_type": "stream",
     "text": [
      "Enter the choice:  4\n"
     ]
    },
    {
     "name": "stdout",
     "output_type": "stream",
     "text": [
      "40 30 20 10 \n",
      "1: Insert a value\n",
      "2: Inorder Traversal\n",
      "3: Preorder Traversal\n",
      "4: Postorder Traversal\n",
      "5: Height of the tree\n",
      "6: Quit\n"
     ]
    },
    {
     "name": "stdin",
     "output_type": "stream",
     "text": [
      "Enter the choice:  5\n"
     ]
    },
    {
     "name": "stdout",
     "output_type": "stream",
     "text": [
      "Height of the tree:  3\n",
      "\n",
      "1: Insert a value\n",
      "2: Inorder Traversal\n",
      "3: Preorder Traversal\n",
      "4: Postorder Traversal\n",
      "5: Height of the tree\n",
      "6: Quit\n"
     ]
    },
    {
     "name": "stdin",
     "output_type": "stream",
     "text": [
      "Enter the choice:  6\n"
     ]
    }
   ],
   "source": [
    "import sys\n",
    "sys.path.append(\"Python\")\n",
    "from bNode import Node\n",
    "class binarySearchTree:\n",
    "    def __init__(self):\n",
    "        '''\n",
    "        Objective: To initialize object of type binarySearchTree\n",
    "        Input Parameter: self (implicit parameter) - object of type binarySearchTree\n",
    "        Return Value: None\n",
    "        '''\n",
    "        self.root = None\n",
    "    def insertVal(self, value):\n",
    "        '''\n",
    "        Objective: To initialize object of type binarySearchTree\n",
    "        Input Parameter:\n",
    "            self (implicit parameter) -object of type binarySearchTree\n",
    "            value - data for the node to be inserted\n",
    "        Return Value: None\n",
    "        '''\n",
    "        if self.root is None:\n",
    "            self.root = Node(value)\n",
    "        else:\n",
    "            child = self.root # Although root has no parent, we call it child\n",
    "            parent = None # Root node has no parent node\n",
    "            while child != None:\n",
    "                parent = child\n",
    "                if value <= child.value:\n",
    "                    child = child.left\n",
    "                else:\n",
    "                    child = child.right\n",
    "            if value <= parent.value:\n",
    "                parent.left = Node(value)\n",
    "            else:\n",
    "                parent.right = Node(value)\n",
    "        print(\"Value Inserted! !\")\n",
    "    def inorder(self, root):\n",
    "        '''\n",
    "        Objective: To perform in-order traversal of BST\n",
    "        Input Parameter: root (Node) - root of the BST\n",
    "        Return Value: None\n",
    "        '''\n",
    "        if root is not None:\n",
    "            inorder(root.left)\n",
    "            print(root.value, end=' ')\n",
    "            inorder(root.right)\n",
    "    def preorder(self, root):\n",
    "        '''\n",
    "        Objective: To perform pre-order traversal of BST\n",
    "        Input Parameter: root (Node) - root of the BST\n",
    "        Return Value: None\n",
    "        '''\n",
    "        if root is not None:\n",
    "            print(root.value, end=' ')\n",
    "            preorder(root.left)\n",
    "            preorder(root.right)\n",
    "    def postorder(self, root):\n",
    "        '''\n",
    "        Objective: To perform post-order traversal of BST\n",
    "        Input Parameter: root (Node) - root of the BST\n",
    "        Return Value: None\n",
    "        '''\n",
    "        if root is not None:\n",
    "            postorder(root.left)\n",
    "            postorder(root.right)\n",
    "            print(root.value, end=' ')\n",
    "    def height(self, root):\n",
    "        '''\n",
    "        Objective: To find height of the ree\n",
    "        Input Parameter: root - object of type Node\n",
    "        Return Value: numeric\n",
    "        '''\n",
    "        if root == None or (root.left == None and root.right == None):\n",
    "            return 0\n",
    "        else:\n",
    "            return max(self.height(root.left), self.height(root.right)) + 1\n",
    "def main():\n",
    "    '''\n",
    "    Objective: To provide binary search tree functionality\n",
    "    Input Parameter: None\n",
    "    Return Value: None\n",
    "    '''\n",
    "    bst = binarySearchTree()\n",
    "    while 1:\n",
    "        print(\"1: Insert a value\")\n",
    "        print(\"2: Inorder Traversal\")\n",
    "        print(\"3: Preorder Traversal\")\n",
    "        print(\"4: Postorder Traversal\")\n",
    "        print(\"5: Height of the tree\")\n",
    "        print(\"6: Quit\")\n",
    "        choice = int(input(\"Enter the choice: \"))\n",
    "        if choice == 1:\n",
    "            value = input(\"Enter value to be inserted: \")\n",
    "            bst.insertVal(value)\n",
    "        elif choice == 2:\n",
    "            bst.inorder(bst.root)\n",
    "        elif choice == 3:\n",
    "            bst.preorder(bst.root)\n",
    "        elif choice == 4:\n",
    "            bst.postorder(bst.root)\n",
    "        elif choice == 5:\n",
    "            print(\"Height of the tree: \", bst.height(bst.root))\n",
    "        elif choice == 6:\n",
    "            break\n",
    "        print()\n",
    "if __name__ == \"__main__\":\n",
    "    main()"
   ]
  }
 ],
 "metadata": {
  "kernelspec": {
   "display_name": "Python [conda env:base] *",
   "language": "python",
   "name": "conda-base-py"
  },
  "language_info": {
   "codemirror_mode": {
    "name": "ipython",
    "version": 3
   },
   "file_extension": ".py",
   "mimetype": "text/x-python",
   "name": "python",
   "nbconvert_exporter": "python",
   "pygments_lexer": "ipython3",
   "version": "3.12.7"
  }
 },
 "nbformat": 4,
 "nbformat_minor": 5
}
