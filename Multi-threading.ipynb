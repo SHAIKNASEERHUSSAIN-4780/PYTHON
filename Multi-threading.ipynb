{
 "cells": [
  {
   "cell_type": "markdown",
   "id": "a7079cc6-f336-4130-b885-651799db8d24",
   "metadata": {},
   "source": [
    "### Multi-threading\n",
    "-  "
   ]
  }
 ],
 "metadata": {
  "kernelspec": {
   "display_name": "Python 3 (ipykernel)",
   "language": "python",
   "name": "python3"
  },
  "language_info": {
   "codemirror_mode": {
    "name": "ipython",
    "version": 3
   },
   "file_extension": ".py",
   "mimetype": "text/x-python",
   "name": "python",
   "nbconvert_exporter": "python",
   "pygments_lexer": "ipython3",
   "version": "3.12.7"
  }
 },
 "nbformat": 4,
 "nbformat_minor": 5
}
