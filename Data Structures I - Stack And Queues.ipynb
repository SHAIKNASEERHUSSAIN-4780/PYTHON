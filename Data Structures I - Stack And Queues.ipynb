{
 "cells": [
  {
   "cell_type": "markdown",
   "id": "2c9e54fd-0ab6-4438-ba59-b0c58fa03663",
   "metadata": {},
   "source": [
    "# Stacks\n",
    "- In a stack, objections are stored one over the other, and these objects leave in the reverse order of their arrival. This is called Lat In First Out (LIFO) arrangement.\n",
    "- Based on the above discussion, a stack is characterizes by the following operations:\n",
    "  + push: Place (push) a new element on top of the stack. The push operation is called insertion of an element in a stack.\n",
    "  + pop: Remove (pop) top element from the stack. The pop operation is also called deletion off an element from a stack."
   ]
  },
  {
   "cell_type": "code",
   "execution_count": 2,
   "id": "592f8b6b-3f49-43c8-a736-81ef4a1cbe36",
   "metadata": {},
   "outputs": [],
   "source": [
    "class Stack:\n",
    "    def __init__(self):\n",
    "        '''\n",
    "        Objective: To initialize data members of the Stack\n",
    "        Input Parameter:\n",
    "            self (implicit parameter) - object of type Stack\n",
    "        Return Value: None\n",
    "        '''\n",
    "        self.values = list()\n",
    "    def push(self, element):\n",
    "        '''\n",
    "        Objective: To put element on top of the stack\n",
    "        Input Parameters:\n",
    "            self (implicit parameter) - object of type Stack\n",
    "            element - value to be inserted\n",
    "        Return Value: None\n",
    "        '''\n",
    "        self.values.append(element)\n",
    "    def isEmpty(self):\n",
    "        '''\n",
    "        Objective: To determine if the stack is empty\n",
    "        Input Parameter:\n",
    "            self (implicit parameter) - object of type Stack\n",
    "        Return Value: True if the stack is empty, else False\n",
    "        '''\n",
    "        return len(self.values)  == 0\n",
    "    def pop(self):\n",
    "        '''\n",
    "        Objective: To remove an element from the top of stack\n",
    "        Input Parameter: self (implicit parameter) - object of type Stack\n",
    "        Return Value: top element of the stack, if Stack is not empty, else None\n",
    "        '''\n",
    "        if not(isEmpty(self.values)):\n",
    "            return self.values.pop()\n",
    "        else:\n",
    "            print(\"Stack Underflow\")\n",
    "            return None\n",
    "    def top(self):\n",
    "        '''\n",
    "        Objective: To return top element of the stack\n",
    "        Input Parameter: self (implicit parameter) - object of type Spack\n",
    "        Return Value: Top element of the stack, if stack is not empty else None\n",
    "        '''\n",
    "        if not(isEmpty(self.values)):\n",
    "            return self.values[-1]\n",
    "        else:\n",
    "            print(\"Stack Empty\")\n",
    "            return None\n",
    "    def size(self):\n",
    "        '''\n",
    "        Objective: To return the number of elements in the stack\n",
    "        Input Parameter: self (implicit parameter) - object of type Stack\n",
    "        Return Value: number of elements in stack - numeric\n",
    "        '''\n",
    "        return len(self.values)\n",
    "    def __str__(self):\n",
    "        '''\n",
    "        Objective: To return string representation of a stack\n",
    "        Input Parameter: self (implicit parameter) - object of type Stack\n",
    "        Return Value: string\n",
    "        '''\n",
    "        stringRepr = ''\n",
    "        for i in range(len(self.values) - 1, 0, -1):\n",
    "            stringRepr += str(self.values[i])\n",
    "        return stringRepr"
   ]
  },
  {
   "cell_type": "code",
   "execution_count": 4,
   "id": "fb9c5977-00c0-42e0-8191-33357cdc37ba",
   "metadata": {
    "scrolled": true
   },
   "outputs": [
    {
     "name": "stdout",
     "output_type": "stream",
     "text": [
      "Choose an option: \n",
      "1: Create Stack\n",
      "2: Delete Stack\n",
      "3: Push\n",
      "4: Pop\n",
      "5: Print Stack Data\n",
      "6: Top element\n",
      "7: No. of element\n"
     ]
    },
    {
     "name": "stdin",
     "output_type": "stream",
     "text": [
      "Enter Choice:  1\n"
     ]
    },
    {
     "name": "stdout",
     "output_type": "stream",
     "text": [
      "Stack Created\n",
      "Choose an option: \n",
      "1: Create Stack\n",
      "2: Delete Stack\n",
      "3: Push\n",
      "4: Pop\n",
      "5: Print Stack Data\n",
      "6: Top element\n",
      "7: No. of element\n"
     ]
    },
    {
     "name": "stdin",
     "output_type": "stream",
     "text": [
      "Enter Choice:  4\n"
     ]
    },
    {
     "name": "stdout",
     "output_type": "stream",
     "text": [
      "Stack Underflow\n",
      "Choose an option: \n",
      "1: Create Stack\n",
      "2: Delete Stack\n",
      "3: Push\n",
      "4: Pop\n",
      "5: Print Stack Data\n",
      "6: Top element\n",
      "7: No. of element\n"
     ]
    },
    {
     "name": "stdin",
     "output_type": "stream",
     "text": [
      "Enter Choice:  2\n"
     ]
    },
    {
     "name": "stdout",
     "output_type": "stream",
     "text": [
      "Stack Deleted\n",
      "Choose an option: \n",
      "1: Create Stack\n",
      "2: Delete Stack\n",
      "3: Push\n",
      "4: Pop\n",
      "5: Print Stack Data\n",
      "6: Top element\n",
      "7: No. of element\n"
     ]
    },
    {
     "name": "stdin",
     "output_type": "stream",
     "text": [
      "Enter Choice:  8\n"
     ]
    }
   ],
   "source": [
    "import sys\n",
    "sys.path.append('Python')\n",
    "from stack import Stack\n",
    "def main():\n",
    "    '''\n",
    "    Objective: To provide stack functionality\n",
    "    Input Parameter: None\n",
    "    Return Value: None\n",
    "    '''\n",
    "    while 1:\n",
    "        print('Choose an option: ')\n",
    "        print(\"1: Create Stack\")\n",
    "        print(\"2: Delete Stack\")\n",
    "        print(\"3: Push\")\n",
    "        print(\"4: Pop\")\n",
    "        print(\"5: Print Stack Data\")\n",
    "        print(\"6: Top element\")\n",
    "        print(\"7: No. of element\")\n",
    "        choice = int(input(\"Enter Choice: \"))\n",
    "        if choice == 1:\n",
    "            stk = Stack()\n",
    "            print(\"Stack Created\")\n",
    "        elif choice == 2:\n",
    "            del stk\n",
    "            print(\"Stack Deleted\")\n",
    "        elif choice == 3:\n",
    "            element = int(input(\"Enter element to be inserted: \"))\n",
    "            stk.push(element)\n",
    "        elif choice == 4:\n",
    "            stk.pop()\n",
    "        elif choice == 5:\n",
    "            print(stk)\n",
    "        elif choice == 6:\n",
    "            print(\"Top element:\", stk.top())\n",
    "        elif choice == 7:\n",
    "            print(\"No. of elements\", stk.size())\n",
    "        else:\n",
    "            break\n",
    "if __name__ == \"__main__\":\n",
    "    main()"
   ]
  },
  {
   "cell_type": "markdown",
   "id": "2befd0e8-9993-483a-84f3-146e51c1d980",
   "metadata": {},
   "source": [
    "### Evaluting Arithmetic Expressions"
   ]
  },
  {
   "cell_type": "code",
   "execution_count": 4,
   "id": "98f0a0b0-cf2e-450d-bdb9-080bb587c111",
   "metadata": {},
   "outputs": [
    {
     "name": "stdin",
     "output_type": "stream",
     "text": [
      "Enter a postfix expression-use single digit numbers only:  75-6*4+\n"
     ]
    },
    {
     "name": "stdout",
     "output_type": "stream",
     "text": [
      "16\n"
     ]
    }
   ],
   "source": [
    "import sys\n",
    "sys.path.append('Python')\n",
    "from stack import Stack\n",
    "def evaluatePostfixExp(exp):\n",
    "    '''\n",
    "    Objective: To evaluate postfix ecpression\n",
    "    Input Parameter: exp - string (postfix expression)\n",
    "    Return Value: result  integer\n",
    "    Limitation: operands are single digit integers, Only binary arthimetic operands are \n",
    "    allowed\n",
    "    '''\n",
    "    stk = Stack()\n",
    "    operations = ['+', '-', '*', '/']\n",
    "    for symbol in exp:\n",
    "        if symbol in operations:\n",
    "            operand2 = stk.pop()\n",
    "            operand1 = stk.pop()\n",
    "            result = str(eval(operand1 + symbol + operand2))\n",
    "            stk.push(result)\n",
    "        else:\n",
    "            stk.push(symbol)\n",
    "    result = int(stk.pop())\n",
    "    return result\n",
    "def main():\n",
    "    '''\n",
    "    Objective: To evalutae postfix expression entered by ther user\n",
    "    Input Parameter: None\n",
    "    Return Value: None\n",
    "    Assumption: Input Expressions is correctly formed\n",
    "    '''\n",
    "    exp = input(\"Enter a postfix expression-use single digit numbers only: \")\n",
    "    result = evaluatePostfixExp(exp)\n",
    "    print(result)\n",
    "if __name__ == \"__main__\":\n",
    "    main()"
   ]
  },
  {
   "cell_type": "markdown",
   "id": "28f4d314-e270-4a21-9874-15e86b12eb8e",
   "metadata": {},
   "source": [
    "### Conversion of Infix Expression to Postfix Expression"
   ]
  },
  {
   "cell_type": "code",
   "execution_count": 1,
   "id": "d3917f5d-2887-43db-908a-edfb670a6774",
   "metadata": {},
   "outputs": [
    {
     "name": "stdin",
     "output_type": "stream",
     "text": [
      "Enter the expression in infix notation:  3+(4+5)\n"
     ]
    },
    {
     "name": "stdout",
     "output_type": "stream",
     "text": [
      "345++\n"
     ]
    }
   ],
   "source": [
    "import sys\n",
    "sys.path.append('Python')\n",
    "from stack import Stack\n",
    "def postfix(exp):\n",
    "    '''\n",
    "    Objective: To convert infix expression to postfix\n",
    "    Input Parameter: exp - string (infix expression)\n",
    "    Return Value: result - string (postfix expression)\n",
    "    '''\n",
    "    # precedence: dictionary to store operator: precedence pairs\n",
    "    precedence = {'+':1, '-':1, '*':2, '/':2}\n",
    "    operand = '0123456789' # string of valid operands\n",
    "    result = ''\n",
    "    stk = Stack()\n",
    "    for symbol in exp:\n",
    "        if symbol == '(':\n",
    "            stk.push(symbol)\n",
    "        elif symbol == ')':\n",
    "            val = stk.pop()\n",
    "            while val != '(':\n",
    "                result += val\n",
    "                val = stk.pop()\n",
    "        elif symbol in operand:\n",
    "            result += symbol\n",
    "        elif symbol in precedence:\n",
    "            if not(stk.isEmpty()):\n",
    "                stkTop = stk.top()\n",
    "            while not(stk.isEmpty()) and stkTop != '(' and precedence[stkTop] >= precedence[symbol]:\n",
    "                result += stkTop\n",
    "                stk.pop()\n",
    "                if not(stk.isEmpty()):\n",
    "                    stkTop = stk.top()\n",
    "            stk.push(symbol)\n",
    "    while not(stk.isEmpty()):\n",
    "        result += stk.pop()\n",
    "    return result\n",
    "def main():\n",
    "    '''\n",
    "    Objective: To convert infix expression provided by user to postfix expression\n",
    "    Input Parameter: None\n",
    "    Return Value: None\n",
    "    Assumptions: Input expression is correctly formed\n",
    "    '''\n",
    "    exp = input(\"Enter the expression in infix notation: \")\n",
    "    exp = postfix(exp)\n",
    "    print(exp)\n",
    "if __name__ == \"__main__\":\n",
    "    main()"
   ]
  },
  {
   "cell_type": "markdown",
   "id": "2d92cc83-7751-48d5-a7e9-d21ef2ca3388",
   "metadata": {},
   "source": [
    "### Queue\n",
    "- A queue is daata structure that behaves in First In First Out(FIFO) manner, i.e. objects leave in the same order in which they arrive. All insertions occur at one end called rear, and all deletions operations are also known as enqueue and dequeue operations respectively."
   ]
  },
  {
   "cell_type": "code",
   "execution_count": 7,
   "id": "7c0e37db-12c9-4eca-90f8-83ab2e36ef4f",
   "metadata": {},
   "outputs": [],
   "source": [
    "class Queue:\n",
    "    def __init__(self):\n",
    "        '''\n",
    "        Objective: To initialize data members of object of type Queue\n",
    "        Input Parameter: self (implicit parameter) - object of type Queue\n",
    "        Return Value: None\n",
    "        '''\n",
    "        self.values = list()\n",
    "    def enqueue(self, element):\n",
    "        '''\n",
    "        Objective: To insert an element at the rear end\n",
    "        Input Parameters: \n",
    "            self (implicit parameter) - object of type Queue\n",
    "            element - value to be inserted\n",
    "        Return Value: None\n",
    "        '''\n",
    "        self.values.append(element)\n",
    "    def dequeue(self):\n",
    "        '''\n",
    "        Objective: To remove an element from the front of queue\n",
    "        Input Parameter:\n",
    "            self (implicit parameter) - object of type Queue\n",
    "        Return Value: Front element of the queue, if queue is not empty, else none\n",
    "        '''\n",
    "        if not(self.isEmpty()):\n",
    "            return self.values.pop(0)\n",
    "        else:\n",
    "            print(\"Queue underflow\")\n",
    "            return None\n",
    "    def isEmpty(self):\n",
    "        '''\n",
    "        Objective: To determine whether the queue is empty\n",
    "        Input Parameter:\n",
    "            self (implicit parameter) - object of type Queue\n",
    "        Return Value: True if the queue is empty else False\n",
    "        '''\n",
    "        return len(self.values) == 0\n",
    "    def front(self):\n",
    "        '''\n",
    "        Objective: To return element at the front of queue\n",
    "        Input Parameter:\n",
    "            self (implicit parameter) - object of type Queue\n",
    "        Return Value: Front element of the queue, if queue is not empty, else None\n",
    "        '''\n",
    "        if not(self.isEmpty()):\n",
    "            return self.values[0]\n",
    "        else:\n",
    "            print('Queue Empty')\n",
    "            return None\n",
    "    def size(self):\n",
    "        '''\n",
    "        Objective: To return no.of elements in the queue\n",
    "        Input Parameter:\n",
    "            self (implicit parameter) - object of type Queue\n",
    "        Return Value: number of elements in queue - numeric\n",
    "        '''\n",
    "        return len(self.values)\n",
    "    def __str__(self):\n",
    "        '''\n",
    "        )bjective: To return string representation of object of type Queue\n",
    "        Input Parameter: self (implicit parameter) - object of typw Queue\n",
    "        Return Value: string\n",
    "        '''\n",
    "        stringRepr = ''\n",
    "        for i in self.values:\n",
    "            stringRepr += str(i) + '\\t'\n",
    "        return stringRepr"
   ]
  },
  {
   "cell_type": "code",
   "execution_count": 11,
   "id": "b2134e17-e6d5-433b-811f-995be3a565c0",
   "metadata": {
    "scrolled": true
   },
   "outputs": [
    {
     "name": "stdout",
     "output_type": "stream",
     "text": [
      "Choose an option: \n",
      "1: Create queue\n",
      "2: Delete queue\n",
      "3: Enqueue\n",
      "4: Dequeue\n",
      "5: Print Queue Data\n",
      "6: Front element\n",
      "7: No. of elements\n"
     ]
    },
    {
     "name": "stdin",
     "output_type": "stream",
     "text": [
      "Enter choice:  1\n"
     ]
    },
    {
     "name": "stdout",
     "output_type": "stream",
     "text": [
      "Queue Created\n",
      "Choose an option: \n",
      "1: Create queue\n",
      "2: Delete queue\n",
      "3: Enqueue\n",
      "4: Dequeue\n",
      "5: Print Queue Data\n",
      "6: Front element\n",
      "7: No. of elements\n"
     ]
    },
    {
     "name": "stdin",
     "output_type": "stream",
     "text": [
      "Enter choice:  3\n",
      "Enter element to be inserted:  10\n"
     ]
    },
    {
     "name": "stdout",
     "output_type": "stream",
     "text": [
      "Choose an option: \n",
      "1: Create queue\n",
      "2: Delete queue\n",
      "3: Enqueue\n",
      "4: Dequeue\n",
      "5: Print Queue Data\n",
      "6: Front element\n",
      "7: No. of elements\n"
     ]
    },
    {
     "name": "stdin",
     "output_type": "stream",
     "text": [
      "Enter choice:  3\n",
      "Enter element to be inserted:  20\n"
     ]
    },
    {
     "name": "stdout",
     "output_type": "stream",
     "text": [
      "Choose an option: \n",
      "1: Create queue\n",
      "2: Delete queue\n",
      "3: Enqueue\n",
      "4: Dequeue\n",
      "5: Print Queue Data\n",
      "6: Front element\n",
      "7: No. of elements\n"
     ]
    },
    {
     "name": "stdin",
     "output_type": "stream",
     "text": [
      "Enter choice:  3\n",
      "Enter element to be inserted:  30\n"
     ]
    },
    {
     "name": "stdout",
     "output_type": "stream",
     "text": [
      "Choose an option: \n",
      "1: Create queue\n",
      "2: Delete queue\n",
      "3: Enqueue\n",
      "4: Dequeue\n",
      "5: Print Queue Data\n",
      "6: Front element\n",
      "7: No. of elements\n"
     ]
    },
    {
     "name": "stdin",
     "output_type": "stream",
     "text": [
      "Enter choice:  3\n",
      "Enter element to be inserted:  40\n"
     ]
    },
    {
     "name": "stdout",
     "output_type": "stream",
     "text": [
      "Choose an option: \n",
      "1: Create queue\n",
      "2: Delete queue\n",
      "3: Enqueue\n",
      "4: Dequeue\n",
      "5: Print Queue Data\n",
      "6: Front element\n",
      "7: No. of elements\n"
     ]
    },
    {
     "name": "stdin",
     "output_type": "stream",
     "text": [
      "Enter choice:  3\n",
      "Enter element to be inserted:  50\n"
     ]
    },
    {
     "name": "stdout",
     "output_type": "stream",
     "text": [
      "Choose an option: \n",
      "1: Create queue\n",
      "2: Delete queue\n",
      "3: Enqueue\n",
      "4: Dequeue\n",
      "5: Print Queue Data\n",
      "6: Front element\n",
      "7: No. of elements\n"
     ]
    },
    {
     "name": "stdin",
     "output_type": "stream",
     "text": [
      "Enter choice:  4\n"
     ]
    },
    {
     "name": "stdout",
     "output_type": "stream",
     "text": [
      "Element deleted: 10\n",
      "Choose an option: \n",
      "1: Create queue\n",
      "2: Delete queue\n",
      "3: Enqueue\n",
      "4: Dequeue\n",
      "5: Print Queue Data\n",
      "6: Front element\n",
      "7: No. of elements\n"
     ]
    },
    {
     "name": "stdin",
     "output_type": "stream",
     "text": [
      "Enter choice:  5\n"
     ]
    },
    {
     "name": "stdout",
     "output_type": "stream",
     "text": [
      "20\t30\t40\t50\t\n",
      "Choose an option: \n",
      "1: Create queue\n",
      "2: Delete queue\n",
      "3: Enqueue\n",
      "4: Dequeue\n",
      "5: Print Queue Data\n",
      "6: Front element\n",
      "7: No. of elements\n"
     ]
    },
    {
     "name": "stdin",
     "output_type": "stream",
     "text": [
      "Enter choice:  6\n"
     ]
    },
    {
     "name": "stdout",
     "output_type": "stream",
     "text": [
      "Front element: 20\n",
      "Choose an option: \n",
      "1: Create queue\n",
      "2: Delete queue\n",
      "3: Enqueue\n",
      "4: Dequeue\n",
      "5: Print Queue Data\n",
      "6: Front element\n",
      "7: No. of elements\n"
     ]
    },
    {
     "name": "stdin",
     "output_type": "stream",
     "text": [
      "Enter choice:  7\n"
     ]
    },
    {
     "name": "stdout",
     "output_type": "stream",
     "text": [
      "No. of elements 4\n",
      "Choose an option: \n",
      "1: Create queue\n",
      "2: Delete queue\n",
      "3: Enqueue\n",
      "4: Dequeue\n",
      "5: Print Queue Data\n",
      "6: Front element\n",
      "7: No. of elements\n"
     ]
    },
    {
     "name": "stdin",
     "output_type": "stream",
     "text": [
      "Enter choice:  2\n"
     ]
    },
    {
     "name": "stdout",
     "output_type": "stream",
     "text": [
      "Queue Deleted\n",
      "Choose an option: \n",
      "1: Create queue\n",
      "2: Delete queue\n",
      "3: Enqueue\n",
      "4: Dequeue\n",
      "5: Print Queue Data\n",
      "6: Front element\n",
      "7: No. of elements\n"
     ]
    },
    {
     "name": "stdin",
     "output_type": "stream",
     "text": [
      "Enter choice:  8\n"
     ]
    }
   ],
   "source": [
    "import sys\n",
    "sys.path.append('Python')\n",
    "from myQueue import Queue\n",
    "def main():\n",
    "    '''\n",
    "    Objective: To provide queue functionality\n",
    "    Input Parameter: None\n",
    "    Return Value: None\n",
    "    '''\n",
    "    while 1:\n",
    "        print(\"Choose an option: \")\n",
    "        print(\"1: Create queue\")\n",
    "        print(\"2: Delete queue\")\n",
    "        print(\"3: Enqueue\")\n",
    "        print(\"4: Dequeue\")\n",
    "        print(\"5: Print Queue Data\")\n",
    "        print(\"6: Front element\")\n",
    "        print(\"7: No. of elements\")\n",
    "        choice = int(input(\"Enter choice: \"))\n",
    "        if choice == 1:\n",
    "            q = Queue()\n",
    "            print(\"Queue Created\")\n",
    "        elif choice == 2:\n",
    "            del q\n",
    "            print(\"Queue Deleted\")\n",
    "        elif choice == 3:\n",
    "            element = int(input(\"Enter element to be inserted: \"))\n",
    "            q.enqueue(element)\n",
    "        elif choice == 4:\n",
    "            print(\"Element deleted:\", q.dequeue())\n",
    "        elif choice == 5:\n",
    "            print(q)\n",
    "        elif choice == 6:\n",
    "            print(\"Front element:\",q.front())\n",
    "        elif choice == 7:\n",
    "            print(\"No. of elements\",q.size())\n",
    "        else:\n",
    "            break\n",
    "if __name__ == \"__main__\":\n",
    "    main()"
   ]
  }
 ],
 "metadata": {
  "kernelspec": {
   "display_name": "Python 3 (ipykernel)",
   "language": "python",
   "name": "python3"
  },
  "language_info": {
   "codemirror_mode": {
    "name": "ipython",
    "version": 3
   },
   "file_extension": ".py",
   "mimetype": "text/x-python",
   "name": "python",
   "nbconvert_exporter": "python",
   "pygments_lexer": "ipython3",
   "version": "3.12.7"
  }
 },
 "nbformat": 4,
 "nbformat_minor": 5
}
