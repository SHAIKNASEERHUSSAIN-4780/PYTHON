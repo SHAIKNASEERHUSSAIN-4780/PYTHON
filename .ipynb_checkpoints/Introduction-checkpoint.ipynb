{
 "cells": [
  {
   "cell_type": "code",
   "execution_count": 1,
   "id": "eedc213e-4f1b-41dc-8db4-26f5aa958616",
   "metadata": {},
   "outputs": [
    {
     "name": "stdout",
     "output_type": "stream",
     "text": [
      "Hello World\n",
      "Hello\n",
      "what's\n",
      "happening\n"
     ]
    }
   ],
   "source": [
    "'''\n",
    "Strings:\n",
    "To define a string in python we use '' or \"\" or \"\"\"\"\"\".\n",
    "'' and \"\" are used to define a string in single line. \n",
    "We use the \"\"\"\"\"\" to define a string in muliplte lines.\n",
    "'''\n",
    "print('Hello World')\n",
    "print('''Hello\n",
    "what's\n",
    "happening''')"
   ]
  },
  {
   "cell_type": "code",
   "execution_count": 2,
   "id": "2b0adc41-e4b3-4ed9-8bf4-c68b31ec9a71",
   "metadata": {},
   "outputs": [
    {
     "name": "stdout",
     "output_type": "stream",
     "text": [
      "HelloWorld\n",
      "HelloHelloHelloHelloHello\n"
     ]
    }
   ],
   "source": [
    "'''\n",
    "String operations:\n",
    "+ is used for string concatenation.\n",
    "* is used for string repetation.\n",
    "'''\n",
    "print('Hello'+'World')\n",
    "print('Hello'*5)"
   ]
  },
  {
   "cell_type": "markdown",
   "id": "59c386f3-901b-424c-8ee6-b31f38748c20",
   "metadata": {},
   "source": [
    "## Operators\n",
    "Operators are used for to perform operations between variables.\n",
    "To perform a operation we need to parts.\n",
    "+ One is operand on which we perform the operation.\n",
    "+ One is operator which we use to perform the operation.\n",
    "There are operators such as\n",
    "+ Conditional operator or relational operator.\n",
    "+ Logical operator.\n",
    "+ Bitwise operator.\n",
    "+ Assignment operator."
   ]
  },
  {
   "cell_type": "markdown",
   "id": "3f426d31-2cf8-496a-9d4f-4faafb4fbcc2",
   "metadata": {},
   "source": [
    "### Order of operators\n",
    "- When an expression contains more than one operator, the order of evaluation depends on the order of operations. Python follows \"PEMDAS\" principle\n",
    "  - P -> Paranthesis\n",
    "  - E -> Exponential\n",
    "  - M -> Multiplication\n",
    "  - D -> Division\n",
    "  - A -> Addition\n",
    "  - S -> Subtraction"
   ]
  },
  {
   "cell_type": "markdown",
   "id": "e07f92d8-afe8-496f-b894-db12bac961c2",
   "metadata": {},
   "source": [
    "### Relational operator or conditional operator\n",
    "The relational operator are used for comparing two expressions and yield True or False.\n",
    "The relational operators are\n",
    "+ == - to find whether two expressions are equal or not.\n",
    "+ < - to find less than.\n",
    "+ / >- greater than.\n",
    "+ <= - less than or equal to.\n",
    "+ / >= - greater than or equal to.\n",
    "+ != - not equal to"
   ]
  },
  {
   "cell_type": "code",
   "execution_count": 7,
   "id": "43b69a98-2a88-4fa4-8191-5aeb3649cd8b",
   "metadata": {},
   "outputs": [
    {
     "name": "stdout",
     "output_type": "stream",
     "text": [
      "True False False True False True\n"
     ]
    }
   ],
   "source": [
    "print(23==23, 25<23, 23>25, 23!=24, 2>=3, 2<=3)"
   ]
  },
  {
   "cell_type": "markdown",
   "id": "8af895fb-5401-4581-be92-7c1d00596b59",
   "metadata": {},
   "source": [
    "### pass\n",
    "pass is used in loops or functions or classes to tell that the code is empty or provided in future as they need atleast one statement."
   ]
  },
  {
   "cell_type": "markdown",
   "id": "b8e81fe7-c819-43f9-a1f2-1665ee215409",
   "metadata": {},
   "source": [
    "### Literals"
   ]
  },
  {
   "cell_type": "code",
   "execution_count": 3,
   "id": "e1cad828-03f0-43e7-bab7-57a821d9194a",
   "metadata": {},
   "outputs": [
    {
     "name": "stdout",
     "output_type": "stream",
     "text": [
      "64\n",
      "Binary Literal: 0b1000000\n",
      "Octal Literal: 0o100\n",
      "HexaDecimal Literal: 0x40\n"
     ]
    }
   ],
   "source": [
    "x = 64\n",
    "print(x)\n",
    "\n",
    "# Binary Literals\n",
    "print(\"Binary Literal:\", bin(x))\n",
    "\n",
    "# Octol Literals\n",
    "print(\"Octal Literal:\", oct(x))\n",
    "\n",
    "# Hexa Literals\n",
    "print(\"HexaDecimal Literal:\", hex(x))"
   ]
  },
  {
   "cell_type": "markdown",
   "id": "da0dc8a7-3717-4cad-a261-1a419d9e4d3f",
   "metadata": {},
   "source": [
    "### Python Math Module\n",
    "- Python offers many modules like math, random, os, sys,... etc. This math contains all mathematical related properties and methods those are related to calculations, trignometric, logarithms, etc.,"
   ]
  },
  {
   "cell_type": "code",
   "execution_count": 5,
   "id": "5025dd79-e460-4ebb-8c56-17f2ebfe03cf",
   "metadata": {},
   "outputs": [
    {
     "name": "stdout",
     "output_type": "stream",
     "text": [
      "1\n",
      "3\n",
      "2\n",
      "4.0\n",
      "4.0\n",
      "3.141592653589793\n",
      "2.718281828459045\n"
     ]
    }
   ],
   "source": [
    "import math\n",
    "\n",
    "# abs\n",
    "print(abs(-1)) # return the absolute value of the number\n",
    "\n",
    "#ceil\n",
    "print(math.ceil(2.8)) # return the successing number\n",
    "\n",
    "# floor\n",
    "print(math.floor(2.8)) # return the preceeding integer\n",
    "\n",
    "# sqrt\n",
    "print(math.sqrt(16)) # return the square root\n",
    "\n",
    "# pow\n",
    "print(math.pow(2, 2)) # return the power of the number a by b times\n",
    "\n",
    "# pi\n",
    "print(math.pi) # return the pi value\n",
    "\n",
    "# e\n",
    "print(math.e) # return the exponential value"
   ]
  },
  {
   "cell_type": "markdown",
   "id": "76f5eb46-de10-452e-a6d2-822d3782ee1d",
   "metadata": {},
   "source": [
    "### Number type conversions\n",
    "- Sometimes its necessary to perform conversion between built-in-types. To convert between types we have some pre-defined functions in python\n",
    "  1. int()\n",
    "  2. float()\n",
    "  3. ord()\n",
    "  4. hex()\n",
    "  5. oct()\n",
    "  6. complex()\n",
    "  7. str()\n",
    "  8. tuple()\n",
    "  9. list()\n",
    "  10. set()\n",
    "  11. dict()"
   ]
  }
 ],
 "metadata": {
  "kernelspec": {
   "display_name": "Python 3 (ipykernel)",
   "language": "python",
   "name": "python3"
  },
  "language_info": {
   "codemirror_mode": {
    "name": "ipython",
    "version": 3
   },
   "file_extension": ".py",
   "mimetype": "text/x-python",
   "name": "python",
   "nbconvert_exporter": "python",
   "pygments_lexer": "ipython3",
   "version": "3.12.7"
  }
 },
 "nbformat": 4,
 "nbformat_minor": 5
}
