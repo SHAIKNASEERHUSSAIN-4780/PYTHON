{
 "cells": [
  {
   "cell_type": "markdown",
   "id": "0c000b5e-c8e6-4fdd-a1d3-d7ca68e8fa37",
   "metadata": {},
   "source": [
    "# List Manipulation\n",
    "- The process of arranging data in ascending/descending order is called sorting. The process of searching data in a unsorted and sorted data."
   ]
  },
  {
   "cell_type": "markdown",
   "id": "f4baa405-c9fb-4302-a623-1a855261b306",
   "metadata": {},
   "source": [
    "### Sorting\n",
    "- The process of arranging data in ascending/descending order is called sorting. The attribute or property of data that forms the basis of sorting is called the key."
   ]
  },
  {
   "cell_type": "markdown",
   "id": "a7fdbdf3-f4e6-400f-81f3-11673309e50a",
   "metadata": {},
   "source": [
    "##### Selection Sort\n",
    "- To begin with we find the lexicographically smallest value in the list and interchange this entry in the list with the first value in the list. Next, we find the entry with the smallest value out of the remaining entries , and interchange it with the second value in the list, and proceed in this manner. If there are n values, only n-1 values need to placed in order because when (n-1) values have been put in order, the nth value would automatically\n",
    "be in order. This technique of sorting is called selection sort."
   ]
  },
  {
   "cell_type": "code",
   "execution_count": 4,
   "id": "b8edfcc2-0af7-475e-8036-40bf4a3a38d1",
   "metadata": {},
   "outputs": [
    {
     "name": "stdin",
     "output_type": "stream",
     "text": [
      "Enter a list:  1001 1006 1002 1003 1005 1004\n"
     ]
    },
    {
     "name": "stdout",
     "output_type": "stream",
     "text": [
      "Sorted List\n",
      "['1001', '1002', '1003', '1004', '1005', '1006']\n"
     ]
    }
   ],
   "source": [
    "# selection sort\n",
    "def selectionSort(list1):\n",
    "    '''\n",
    "    Objective: To sort the list list1 in ascending order using selection sort\n",
    "    Input Parameter: list1 - list\n",
    "    Return Value: None\n",
    "    '''\n",
    "    for i in range(len(list1)):\n",
    "        for j in range(i+1,len(list1)):\n",
    "            if list1[i] > list1[j]:\n",
    "                list1[i],list1[j] = list1[j], list1[i]\n",
    "def main():\n",
    "    '''\n",
    "    Objective: To sort the list provided as an input by the user\n",
    "    Input Parameter: None\n",
    "    Return Value: None\n",
    "    '''\n",
    "    list1 = list(map(str,input(\"Enter a list: \").split()))\n",
    "    print(\"Sorted List\")\n",
    "    selectionSort(list1)\n",
    "    print(list1)\n",
    "if __name__==\"__main__\":\n",
    "    main()"
   ]
  },
  {
   "cell_type": "markdown",
   "id": "b4f1ab57-2de5-4ee5-ab9c-1f6219899e69",
   "metadata": {},
   "source": [
    "##### Bubble Sort\n",
    "- The bubble sort is similar to selection sort, in this method alse, the data is sorted by making several passes through list. The nth value and (n-1)th value are compared and interchanged if the nth value is smaller than (n-1)th value, then (n-1)th value and (n-2)th value are compared and interchanged if found out of order, and son on."
   ]
  },
  {
   "cell_type": "code",
   "execution_count": 13,
   "id": "5c51cbe8-0322-4d8d-a5ad-c0fd22ec5f27",
   "metadata": {},
   "outputs": [
    {
     "name": "stdin",
     "output_type": "stream",
     "text": [
      "Enter the list:  1001 1006 1002 1003 1005 1004\n"
     ]
    },
    {
     "name": "stdout",
     "output_type": "stream",
     "text": [
      "Sorted List: \n",
      "['1001', '1002', '1003', '1004', '1005', '1006']\n"
     ]
    }
   ],
   "source": [
    "# Bubble sort\n",
    "def bubbleSort(list1):\n",
    "    '''\n",
    "    Objective: To sort the list list1 in ascending order using bubble sort\n",
    "    Input Parameter: list1 - list\n",
    "    Return Value: None\n",
    "    '''\n",
    "    n = len(list1)-1 # highest valid index in the list\n",
    "    for i in range(n):\n",
    "        for j in range(n, i,-1):\n",
    "            if list1[j] < list1[j-1]: # interchange if out of order\n",
    "                list1[j], list1[j-1] = list1[j-1], list1[j]\n",
    "def main():\n",
    "    '''\n",
    "    Objective: To sort the list provided as an input by the user\n",
    "    Input Parameter: None\n",
    "    Return Value: None\n",
    "    '''\n",
    "    list1 = list(map(str, input(\"Enter the list: \").split()))\n",
    "    print(\"Sorted List: \")\n",
    "    bubbleSort(list1)\n",
    "    print(list1)\n",
    "if __name__==\"__main__\":\n",
    "    main()"
   ]
  },
  {
   "cell_type": "markdown",
   "id": "6b6a803a-cbcc-4272-8c87-36469516f68c",
   "metadata": {},
   "source": [
    "##### Insertion Sort\n",
    "- In insertion sort, the list is logically divided into two parts. Whereas the left part is the sorted part, the right part is the unsorted part comparing the elements yet to be arranged in sorted order."
   ]
  },
  {
   "cell_type": "code",
   "execution_count": 15,
   "id": "2bb063d1-c912-4061-aa79-50c44b6b550f",
   "metadata": {},
   "outputs": [
    {
     "name": "stdin",
     "output_type": "stream",
     "text": [
      " 1001 1006 1002 1003 1005 1004\n"
     ]
    },
    {
     "name": "stdout",
     "output_type": "stream",
     "text": [
      "Sorted List: \n",
      "['1001', '1002', '1003', '1004', '1005', '1006']\n"
     ]
    }
   ],
   "source": [
    "# Insertion Sort\n",
    "def insertionSort(list1):\n",
    "    '''\n",
    "    Objective: To sort the list lsit1 in ascending order using insertion sort\n",
    "    Input Parameter: list1 - list\n",
    "    Return Value: None\n",
    "    '''\n",
    "    for i in range(1, len(list1)):\n",
    "        temp = list1[i]\n",
    "        j = i-1\n",
    "        while j >=0 and list1[j] > temp: # shift list1[j] right\n",
    "            list1[j + 1] = list1[j]\n",
    "            j = j-1\n",
    "            list1[j + 1] = temp\n",
    "def main():\n",
    "    '''\n",
    "    Objective: To sort the list provided as an input by the user\n",
    "    Input Parameter: None\n",
    "    Return Value: None\n",
    "    '''\n",
    "    list1 = list(map(str, input().split()))\n",
    "    print(\"Sorted List: \")\n",
    "    insertionSort(list1)\n",
    "    print(list1)\n",
    "if __name__==\"__main__\":\n",
    "    main()"
   ]
  },
  {
   "cell_type": "markdown",
   "id": "af1484ca-979f-4844-8cc8-840cec4def32",
   "metadata": {},
   "source": [
    "### Searching\n",
    "- The searching is a process of searching a value in a list either the list is sorted or unsorted."
   ]
  },
  {
   "cell_type": "markdown",
   "id": "48733992-f9b9-4031-9d55-e39772dd6716",
   "metadata": {},
   "source": [
    "##### Linear Search\n",
    "- To search for an element in a list, we scan the list from the beginning till the required data value is found or the list is exhausted. This searching technique is known as linear search as the search process is sequential."
   ]
  },
  {
   "cell_type": "code",
   "execution_count": 16,
   "id": "62c62a3d-6d6e-40f2-96f0-3c965bc908ee",
   "metadata": {},
   "outputs": [
    {
     "name": "stdin",
     "output_type": "stream",
     "text": [
      "Enter the list: 1001 1006 1002 1003 1005 1004\n",
      "Enter the value to be searched:  1002\n"
     ]
    },
    {
     "name": "stdout",
     "output_type": "stream",
     "text": [
      "1002 found at index  2\n"
     ]
    }
   ],
   "source": [
    "# Linear Search\n",
    "def linearSearch(list1, searchValue):\n",
    "    '''\n",
    "    Objective: To search for an element in a list using linear search\n",
    "    Input Parameters: \n",
    "        list1 - list\n",
    "        searchValue - numeric value\n",
    "    Return Value: index - numeric value, if searchValue is found, None otherwises\n",
    "    '''\n",
    "    for i in range(len(list1)):\n",
    "        if list1[i] == searchValue:\n",
    "            return i\n",
    "    return None\n",
    "def main():\n",
    "    '''\n",
    "    Objective: To search for an element in the list provided as an input by the user\n",
    "    Input Parameter: None\n",
    "    Return Value: None\n",
    "    '''\n",
    "    list1 = list(map(str, input(\"Enter the list:\").split()))\n",
    "    searchVal = input(\"Enter the value to be searched: \")\n",
    "    searchResult = linearSearch(list1, searchVal)\n",
    "    print(searchVal, 'found at index ', searchResult)\n",
    "if __name__==\"__main__\":\n",
    "    main()"
   ]
  },
  {
   "cell_type": "markdown",
   "id": "c9b446cb-936f-4ed9-bc62-2172d19f383b",
   "metadata": {},
   "source": [
    "##### Binary Search\n",
    "- If the list to be searched is already sorted, wwe can use a fasterr method, called binnary search."
   ]
  },
  {
   "cell_type": "code",
   "execution_count": 28,
   "id": "b495eb69-a0ae-4aa3-a50a-0f4d2b48cf7b",
   "metadata": {},
   "outputs": [
    {
     "name": "stdin",
     "output_type": "stream",
     "text": [
      "Enter a sorted list (ascending order):  101 102 103 104 105 106\n",
      "Enter the value to be searched:  103\n"
     ]
    },
    {
     "name": "stdout",
     "output_type": "stream",
     "text": [
      "103 found at index 2\n"
     ]
    }
   ],
   "source": [
    "# Binary Search\n",
    "def binarySearch(list1, searchValue):\n",
    "    '''\n",
    "    Objective: To search for an element in a sorted list using binary search\n",
    "    Input Parameters:\n",
    "        list1 - list\n",
    "        search Value - any type\n",
    "    Return Value: index - numeric value, if searchValue is found, None otherwise\n",
    "    Assumption: List is sorted in increading order\n",
    "    '''\n",
    "    low, high =0, len(list1)-1\n",
    "    while low <= high:\n",
    "        mid = (low+high)//2\n",
    "        if list1[mid] == searchValue:\n",
    "            return mid\n",
    "        elif list1[mid] < searchValue:\n",
    "            high = mid+1\n",
    "        else:\n",
    "            low = mid-1\n",
    "    return None\n",
    "def isSorted(list1):\n",
    "    '''\n",
    "    Objective: To find whether the list is sorted in ascending order\n",
    "    Input Parameter: list1 - sorted list\n",
    "    Return Value: True if list is sorted\n",
    "                    False otherwise\n",
    "    '''\n",
    "    for i in range(1, len(list1)):\n",
    "        if list1[i] < list1[i-1]:\n",
    "            return False\n",
    "    return True\n",
    "def main():\n",
    "    '''\n",
    "    Objective: To search for an element in the sorted list probided as an input by the user\n",
    "    Input Parameter: None\n",
    "    Return Value: None\n",
    "    '''\n",
    "    list1 = list(map(str,input(\"Enter a sorted list (ascending order): \").split()))\n",
    "    if not(isSorted(list1)):\n",
    "        print(\"Given list is not sorted\")\n",
    "    else:\n",
    "        searchVal = input(\"Enter the value to be searched: \")\n",
    "        print(searchVal, 'found at index', binarySearch(list1, searchVal))\n",
    "if __name__==\"__main__\":\n",
    "    main()"
   ]
  },
  {
   "cell_type": "code",
   "execution_count": 1,
   "id": "4b100dd1-e37e-4a33-b022-5799930d34a4",
   "metadata": {},
   "outputs": [],
   "source": [
    "# Student class\n",
    "class Student:\n",
    "    def __init__(self, rollNo, name, marks):\n",
    "        '''\n",
    "        Objective: To initialize data memebers of object of type Student\n",
    "        Input Parameter:\n",
    "            self (implicit parameter) - object type of Student\n",
    "            rollNo, marks - numeric value\n",
    "            name - string\n",
    "        Return Value: None\n",
    "        '''\n",
    "        self.rollNo = rollNo\n",
    "        self.name = name\n",
    "        self.marks = marks\n",
    "    def __str__(self):\n",
    "        '''\n",
    "        Objective: To return String representation of object of type Student\n",
    "        Input Parameter: self (implicit parameter) - object type of Student\n",
    "        Return Value: string\n",
    "        '''\n",
    "        return 'Roll No: ' + str(self.rollNo) + ', Name: ' + self.name + ', Marks: ' +\\\n",
    "        str(self.marks) + '\\n'"
   ]
  },
  {
   "cell_type": "code",
   "execution_count": 3,
   "id": "826edaf8-c916-482e-8251-8f06a676a4ac",
   "metadata": {},
   "outputs": [],
   "source": [
    "import pickle\n",
    "import sys\n",
    "sys.path.append('Python')\n",
    "from student import Student\n",
    "def textToObject(source, destination):\n",
    "    '''\n",
    "    objective: To convert text data in source file to data in the form of Student objects\n",
    "    and write to destination file\n",
    "    Input Parameters: source, destination - string\n",
    "    Return Value: None\n",
    "    '''\n",
    "    f1 = open(source, 'r')\n",
    "    f2 = open(destination, 'wb')\n",
    "    line = f1.readline()\n",
    "    while line != '':\n",
    "        lst = line.split(',')\n",
    "        student = Student(int(lst[0]), lst[1], float(lst[2]))\n",
    "        pickle.dump(student, f2)\n",
    "        line = f1.readline()\n",
    "    f1.close()\n",
    "    f2.close()\n",
    "def objectToText(source, destination):\n",
    "    '''\n",
    "    Objective: To convert Student object data in source file to text data and write to \n",
    "    destination file\n",
    "    Input Parameters: source, destination - string\n",
    "    Return Value: None\n",
    "    '''\n",
    "    f1 = open(source, 'rb')\n",
    "    f2 = open(destination, 'w')\n",
    "    try:\n",
    "        while True:\n",
    "            student = pickle.load(f1)\n",
    "            line = str(student.rollNo) + ',' + student.name + ',' + str(student.marks) + '\\n'\n",
    "            f2.write(line)\n",
    "    except EOFError:\n",
    "        # Exception is raised when we attempt to read even after all objects have been read\n",
    "        pass\n",
    "    f1.close()\n",
    "    f2.close()"
   ]
  },
  {
   "cell_type": "code",
   "execution_count": 4,
   "id": "b96f5309-5870-4a85-852a-388ec4bf04d4",
   "metadata": {},
   "outputs": [],
   "source": [
    "# Operations for Class Section\n",
    "import pickle\n",
    "import sys\n",
    "sys.path.append(\"\\Ptyhon\")\n",
    "from student import Student\n",
    "class Section:\n",
    "    def __init__(self):\n",
    "        '''\n",
    "        Objective: To initialize data members of objects of class Section\n",
    "        Input Parameters:\n",
    "            self (implicit parameter) - object of type Section\n",
    "        Return Value: None\n",
    "        '''\n",
    "        self.records = list()\n",
    "    def readList(self, source):\n",
    "        '''\n",
    "        Objective: To read objects of Studentss class from source file and insrt them to\n",
    "        list records\n",
    "        Input Parameters:\n",
    "            self (implcit parameter) - object of the type Section\n",
    "            source - string (file name)\n",
    "        Return Value: None\n",
    "        '''\n",
    "        self.records = list()\n",
    "        f = open(source, 'rb')\n",
    "        try:\n",
    "            while True:\n",
    "                student = pickle.load(f)\n",
    "                self.records.append(student)\n",
    "        except EOFError:\n",
    "            pass\n",
    "        print(self)\n",
    "        f.close()\n",
    "    def writeList(self, destination):\n",
    "        '''\n",
    "        Objective: To write objects of Student class in list records to destination file\n",
    "        Input Parameters:\n",
    "            self (implicit parameter) - object of the type Section\n",
    "            destination - string (file name)\n",
    "        Return Value: None\n",
    "        '''\n",
    "        f = open(destination, 'wb')\n",
    "        for student in self.records:\n",
    "            pickle.dump(student, f)\n",
    "        f.clode()\n",
    "    def insertEnd(self, rollNo, name, marks):\n",
    "        '''\n",
    "        Objective: To insert a student record of type Student to list records\n",
    "        Input Parameters:\n",
    "            self (implict parameter) - object of the type Section\n",
    "            rollNo, marks - numberic\n",
    "            name - string\n",
    "        Return Value: string : indicates whether the record is successfully inserted\n",
    "        '''\n",
    "        student = Student(rollNo, name, marks)\n",
    "        if student.rollNo not in [s.rollNo for s in self.records]:\n",
    "            self.records.append(student)\n",
    "            return 'Record inserted succesfully'\n",
    "        return 'Record cannot be inserted! Duplicate roll no.'\n",
    "    def isSorted(self):\n",
    "        '''\n",
    "        Objective: To determine whether the list records is sorted according to the field\n",
    "        roll number in increasing order\n",
    "        Input Parameter: self (implicit parameter) - object of type Section\n",
    "        Return Value: True if list records is sorted\n",
    "                        False otherwise\n",
    "        '''\n",
    "        for i in range(1, len(self.records)):\n",
    "            if self.records[i].rollNo < self.records[i-1].rollNo:\n",
    "                return False\n",
    "        return True\n",
    "    def binarySearch(self, rollNo):\n",
    "        '''\n",
    "        Objective: To search for a roll number in the sorted list records using binary \n",
    "        search\n",
    "        Input Parameters:\n",
    "            self (implicit parameter) - object of type Section\n",
    "            rollNo - numeric(search value)\n",
    "        Return Value: Index of the matched object, if value is found else None\n",
    "        Assumption: List records is sorted in ascending order by rollNo\n",
    "        '''\n",
    "        if not(self.isSorted()):\n",
    "            print('List is not sorted')\n",
    "            return False\n",
    "        low, high = 0, len(self.records) - 1\n",
    "        while low <= high:\n",
    "            mid = (low + high)//2\n",
    "            if self.records[mid].rollNo == rollNo:\n",
    "                return mid\n",
    "            elif rollNo < self.rocords[mid].rooNo:\n",
    "                high = mid - 1\n",
    "            else:\n",
    "                low = mid + 1\n",
    "        return None\n",
    "    def linearSearch(self, rollNo):\n",
    "        '''\n",
    "        Objective: To search for a roll number in list of records using linear search\n",
    "        Input Parameters:\n",
    "            self (implicit parameter) - object of type Section\n",
    "            rollNo - Numberic(search value)\n",
    "        Return Value: Index of the matched object, if value is found else None\n",
    "        '''\n",
    "        for i in range(0, len(self.records)):\n",
    "            if self.records[i].rollNo == rollNo:\n",
    "                return i\n",
    "        return None\n",
    "    def insertionSort(self):\n",
    "        '''\n",
    "        Objective: To sort the list in ascending order of rollNo using insertion sort\n",
    "        Input Parameter:\n",
    "            self (implicit parameter) - object of type Selection\n",
    "        Return Value: None\n",
    "        '''\n",
    "        for i in range(1, len(self.records)):\n",
    "            temp = self.records[i]\n",
    "            j = i - 1\n",
    "            while j >= 0 and self.records[j].rollNo > temp.rollNo:\n",
    "                self.records[j + 1] = self.records[j]\n",
    "                j = j-1\n",
    "            self.records[j + 1] = temp\n",
    "    def sortedInsert(self, rollNo, name, marks):\n",
    "        '''\n",
    "        Objective: To insert a student record of type Student to sorted list records\n",
    "        Input Parameters:\n",
    "            self (implicit parameter) - object of type Parameter\n",
    "            rollNo, marks - numeric value\n",
    "        Return Value: string (indicates whether the record is successfully inserted)\n",
    "        Assumption: List is already sorted with respect to roll number field\n",
    "        '''\n",
    "        student = Student(rollNo, name, marks)\n",
    "        if len(self.records) == 0:\n",
    "            self.records.append(student)\n",
    "            return 'Record inserted successfully '\n",
    "        low, high = 0, len(self.record) -1\n",
    "        mid = (low + high)//2\n",
    "        while low <= high:\n",
    "            mid = (low + high)//2\n",
    "            if self.records[mid].rollNo == rollNo:\n",
    "                return 'Record cannot be inserted! Duplicacy in roll no. '\n",
    "            elif rollNo < self.records[mid].rollNo:\n",
    "                high = mid - 1\n",
    "            else:\n",
    "                low = mid + 1\n",
    "        if self.records[mid].rollNo < rollNo:\n",
    "            self.records.insert(mid + 1, student)\n",
    "        else:\n",
    "            self.records.insert(mid, student)\n",
    "            return 'Record inserted successsfully'\n",
    "            \n",
    "    def delete(self, rollNo):\n",
    "        '''\n",
    "        Objective: To remove a student record of type Student from list records having \n",
    "        roll number rollNo\n",
    "        Input Parameters:\n",
    "            self (implicit parameter) - object of type Section\n",
    "            rollNo - numeric\n",
    "        Return Value: string (indicates whether the record is successfully deleted)\n",
    "        '''\n",
    "        for i in range(0, len(self.records)):\n",
    "            if self.records[i].rollNo == rollNo:\n",
    "                del self.records[i]\n",
    "                return 'Record deleted successfully'\n",
    "        return 'Record not found'\n",
    "    def __str__(self):\n",
    "        '''\n",
    "        Objective: To return string representation of object of type Section\n",
    "        Input Parameter: self (implicit parameter) - object of type Section\n",
    "        Return Value: string\n",
    "        '''\n",
    "        str1 = ''\n",
    "        for i in self.records:\n",
    "            str1 += Student.__str__(i)\n",
    "        return str1"
   ]
  },
  {
   "cell_type": "code",
   "execution_count": 1,
   "id": "5dcb96f5-db55-483a-9fc6-916e02833166",
   "metadata": {},
   "outputs": [
    {
     "name": "stdin",
     "output_type": "stream",
     "text": [
      "Enter source file name:  student.txt\n",
      "Enter destination file name:  studentObjects.txt\n"
     ]
    },
    {
     "name": "stdout",
     "output_type": "stream",
     "text": [
      "Roll No: 101, Name: Alice, Marks: 85.0\n",
      "Roll No: 102, Name: Bob, Marks: 78.0\n",
      "Roll No: 103, Name: Charlie, Marks: 92.0\n",
      "Roll No: 104, Name: David, Marks: 76.0\n",
      "Roll No: 105, Name: Eve, Marks: 88.0\n",
      "\n"
     ]
    },
    {
     "name": "stdin",
     "output_type": "stream",
     "text": [
      "Enter RollNo for record to be searched  103\n"
     ]
    },
    {
     "name": "stdout",
     "output_type": "stream",
     "text": [
      "103 found at indes  2\n",
      "Roll No: 101, Name: Alice, Marks: 85.0\n",
      "Roll No: 102, Name: Bob, Marks: 78.0\n",
      "Roll No: 103, Name: Charlie, Marks: 92.0\n",
      "Roll No: 104, Name: David, Marks: 76.0\n",
      "Roll No: 105, Name: Eve, Marks: 88.0\n",
      "\n"
     ]
    },
    {
     "name": "stdin",
     "output_type": "stream",
     "text": [
      "Enter RollNo for record to be searched  6\n"
     ]
    },
    {
     "name": "stdout",
     "output_type": "stream",
     "text": [
      "6  not found\n"
     ]
    }
   ],
   "source": [
    "import sys\n",
    "sys.path.append('Python')\n",
    "from student import Student\n",
    "from section import Section\n",
    "from impExpObject import *\n",
    "def main():\n",
    "    '''\n",
    "    Objective: To provide list manipulation functionality\n",
    "    Input Parameter: None\n",
    "    Return Value: None\n",
    "    '''\n",
    "    source = input(\"Enter source file name: \")\n",
    "    destination = input(\"Enter destination file name: \")\n",
    "    # read text file and create a file of Student objects.\n",
    "    textToObject(source, destination)\n",
    "    section = Section()\n",
    "    # Reading a file of Student objects \n",
    "    section.readList(destination)\n",
    "    # searching for a record\n",
    "    rollNo = int(input(\"Enter RollNo for record to be searched \"))\n",
    "    message = section.linearSearch(rollNo)\n",
    "    if message != None:\n",
    "        print(rollNo, 'found at indes ', message)\n",
    "    else:\n",
    "        print(rollNo, ' not found')\n",
    "    # sorting and writing it back\n",
    "    section.insertionSort()\n",
    "    section.writeList(destination)\n",
    "    # Reading a list and searching for a record\n",
    "    section.readList(destination)\n",
    "    rollNo = int(input(\"Enter RollNo for record to be searched \"))\n",
    "    message = section.binarySearch(rollNo)\n",
    "    if message == False:\n",
    "        print(\"List is not sorted\")\n",
    "    else:\n",
    "        if message != None:\n",
    "            print(rollNo, ' found at index ', message)\n",
    "        else:\n",
    "            print(rollNo, ' not found')\n",
    "    objectToText(destination, source)\n",
    "if __name__ =='__main__':\n",
    "    main()"
   ]
  },
  {
   "cell_type": "code",
   "execution_count": 9,
   "id": "60367caa-d4c1-4e44-9d8f-6a4031c02149",
   "metadata": {},
   "outputs": [
    {
     "name": "stdin",
     "output_type": "stream",
     "text": [
      "Enter the list elements:  15 12 14 17 13 11 12 16 14\n"
     ]
    },
    {
     "name": "stdout",
     "output_type": "stream",
     "text": [
      "[11, 12, 12, 13, 14, 14, 15, 16, 17]\n"
     ]
    }
   ],
   "source": [
    "# Merge Sort\n",
    "def merge(list1, list2):\n",
    "    '''\n",
    "    Objective: To merge two sorted lists into a single sorted list\n",
    "    Input Parameter: list1, list2 - list\n",
    "    Return Value: sorted list\n",
    "    '''\n",
    "    sortedList = []\n",
    "    while len(list1) != 0 and len(list2) != 0:\n",
    "        if list1[0] < list2[0]:\n",
    "            sortedList.append(list1[0])\n",
    "            list1.remove(list1[0])\n",
    "        else:\n",
    "            sortedList.append(list2[0])\n",
    "            list2.remove(list2[0])\n",
    "    if len(list1) == 0:\n",
    "        sortedList += list2\n",
    "    else:\n",
    "        sortedList += list1\n",
    "    return sortedList\n",
    "def mergeSort(list1):\n",
    "    '''\n",
    "    Objective: To sort the list list1 in ascending order using merge sort\n",
    "    Input Parameter: list1 - list\n",
    "    Return Value: sorted list\n",
    "    '''\n",
    "    if len(list1) <= 1:\n",
    "        return list1\n",
    "    else:\n",
    "        mid = int(len(list1)//2)\n",
    "        list2 = mergeSort(list1[:mid])\n",
    "        list3 = mergeSort(list1[mid:])\n",
    "        return merge(list2, list3)\n",
    "def main():\n",
    "    '''\n",
    "    Objective: To sort the list in ascending order provided by user\n",
    "    Input Parameter: None\n",
    "    Return Value: None\n",
    "    '''\n",
    "    list1 = list(map(int, input(\"Enter the list elements: \").split()))\n",
    "    sortedList = mergeSort(list1)\n",
    "    print(sortedList)\n",
    "if __name__ == \"__main__\":\n",
    "    main()"
   ]
  },
  {
   "cell_type": "code",
   "execution_count": 15,
   "id": "ea2d1f3c-e83e-4d65-a3de-76109199298b",
   "metadata": {},
   "outputs": [
    {
     "name": "stdin",
     "output_type": "stream",
     "text": [
      "Enter the list elements:  15 12 14 17 13 11 12 16 14\n"
     ]
    },
    {
     "name": "stdout",
     "output_type": "stream",
     "text": [
      "['11', '12', '12', '13', '14', '14', '15', '16', '17']\n"
     ]
    }
   ],
   "source": [
    "# Quick Sort\n",
    "def partition(list1, start, end):\n",
    "    '''\n",
    "    Objective: To partition lists into two parts around pivot element\n",
    "    Input Parameters: list1 - list; end, start - numberic values\n",
    "    Return Value: index - integer value (index of pivot element in sorted list)\n",
    "    '''\n",
    "    pivotElement = list1[end]\n",
    "    i = start - 1\n",
    "    for j in range(start, end):\n",
    "        if list1[j] <= pivotElement:\n",
    "            i += 1\n",
    "            list1[i], list1[j] = list1[j], list1[i]\n",
    "    list1[i + 1], list1[end] = list1[end], list1[i + 1]\n",
    "    return i+1\n",
    "def quickSort(list1, start = 0, end = None):\n",
    "    '''\n",
    "    Objective: To sort teh list list1 in ascending order using quick sort\n",
    "    Input Parameter: list1 - list\n",
    "    Return Value: sorted list\n",
    "    '''\n",
    "    if end == None: # Quick sort invoked for the first time\n",
    "        end = len(list1) - 1\n",
    "    if start < end:\n",
    "        splitPoint = partition(list1, start, end)\n",
    "        quickSort(list1, start, splitPoint - 1)\n",
    "        quickSort(list1, splitPoint + 1, end)\n",
    "def main():\n",
    "    '''\n",
    "    Objective: To sort the list provided by the user as input\n",
    "    Input Parameter: None\n",
    "    Return Value: None\n",
    "    '''\n",
    "    list1 = list(map(str, input(\"Enter the list elements: \").split()))\n",
    "    quickSort(list1)\n",
    "    print(list1)\n",
    "if __name__ == \"__main__\":\n",
    "    main()"
   ]
  }
 ],
 "metadata": {
  "kernelspec": {
   "display_name": "Python 3 (ipykernel)",
   "language": "python",
   "name": "python3"
  },
  "language_info": {
   "codemirror_mode": {
    "name": "ipython",
    "version": 3
   },
   "file_extension": ".py",
   "mimetype": "text/x-python",
   "name": "python",
   "nbconvert_exporter": "python",
   "pygments_lexer": "ipython3",
   "version": "3.11.5"
  }
 },
 "nbformat": 4,
 "nbformat_minor": 5
}
