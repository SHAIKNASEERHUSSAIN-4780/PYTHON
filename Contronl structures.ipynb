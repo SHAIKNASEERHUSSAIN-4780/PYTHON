{
 "cells": [
  {
   "cell_type": "markdown",
   "id": "35b8aef5-1628-4281-8ea1-3845be4f1efb",
   "metadata": {},
   "source": [
    "### If Condition\n",
    "To check whether a condition is true or false.<br>\n",
    "syntax:<br>\n",
    "if (condition):<br>\n",
    "    execute the statement"
   ]
  },
  {
   "cell_type": "code",
   "execution_count": 1,
   "id": "eaccdfdd-ab74-4055-89b8-b07cb23bb79b",
   "metadata": {},
   "outputs": [
    {
     "name": "stdout",
     "output_type": "stream",
     "text": [
      "\t Login System \n",
      "===================\n"
     ]
    },
    {
     "name": "stdin",
     "output_type": "stream",
     "text": [
      " Enter password  magic\n"
     ]
    },
    {
     "name": "stdout",
     "output_type": "stream",
     "text": [
      " Login Successful !!\n",
      " Welcome to System.\n"
     ]
    }
   ],
   "source": [
    "def authenticate(password):\n",
    "    '''\n",
    "    Objective: To authenticate user and allow access to system.\n",
    "    Input Parameter: password - String.\n",
    "    Return Value: message - String\n",
    "    '''\n",
    "    if password=='magic':\n",
    "        message=' Login Successful !!\\n Welcome to System.'\n",
    "    if password!='magic':\n",
    "        message=' Password mismathc !!\\n '\n",
    "    return message\n",
    "def main():\n",
    "    '''\n",
    "    Objevtive: To authenticate user and allow access to system.\n",
    "    Input Parameter: None\n",
    "    Return Value: None\n",
    "    '''\n",
    "    print('\\t Login System ')\n",
    "    print('===================')\n",
    "    password=input(\" Enter password \")\n",
    "    message = authenticate(password)\n",
    "    print(message)\n",
    "if __name__==\"__main__\":\n",
    "    main()"
   ]
  },
  {
   "cell_type": "markdown",
   "id": "944e0441-a021-45d8-b361-08f41c2e0893",
   "metadata": {},
   "source": [
    "### If-else Condition\n",
    "To check whether a condition is true or false.<br>\n",
    "syntax:<br>\n",
    "if (condition):<br>\n",
    "execute the statement<br>\n",
    "else:<br>\n",
    "execute other statement"
   ]
  },
  {
   "cell_type": "code",
   "execution_count": 2,
   "id": "6f0af044-80cd-4049-8715-21e7fd4eff9e",
   "metadata": {},
   "outputs": [
    {
     "name": "stdout",
     "output_type": "stream",
     "text": [
      "\t Login System \n",
      "===================\n"
     ]
    },
    {
     "name": "stdin",
     "output_type": "stream",
     "text": [
      " Enter password  magic\n"
     ]
    },
    {
     "name": "stdout",
     "output_type": "stream",
     "text": [
      " Login Successful !!\n",
      " Welcome to System.\n"
     ]
    }
   ],
   "source": [
    "def authenticate(password):\n",
    "    '''\n",
    "    Objective: To authenticate user and allow access to system.\n",
    "    Input Parameter: password - String.\n",
    "    Return Value: message - String\n",
    "    '''\n",
    "    if password=='magic':\n",
    "        message=' Login Successful !!\\n Welcome to System.'\n",
    "    else:\n",
    "        message=' Password mismathc !!\\n '\n",
    "    return message\n",
    "def main():\n",
    "    '''\n",
    "    Objevtive: To authenticate user and allow access to system.\n",
    "    Input Parameter: None\n",
    "    Return Value: None\n",
    "    '''\n",
    "    print('\\t Login System ')\n",
    "    print('===================')\n",
    "    password=input(\" Enter password \")\n",
    "    message = authenticate(password)\n",
    "    print(message)\n",
    "if __name__==\"__main__\":\n",
    "    main()"
   ]
  },
  {
   "cell_type": "markdown",
   "id": "9b6b16a3-58ba-43c0-b0f7-d4ffa9cae3c8",
   "metadata": {},
   "source": [
    "### If-elif-else Condition\n",
    "To check whether a condition is true or false.<br>\n",
    "syntax:<br>\n",
    "if (condition):<br>\n",
    "    execute statement 1<br>\n",
    "elif (condition):<br>\n",
    "    execute statement 2<br>\n",
    "else:<br>\n",
    "    execute statement 3"
   ]
  },
  {
   "cell_type": "code",
   "execution_count": 5,
   "id": "a51563ac-ef0e-49dc-9e14-3a45404e2851",
   "metadata": {},
   "outputs": [
    {
     "name": "stdin",
     "output_type": "stream",
     "text": [
      "Enter your marks:  70\n"
     ]
    },
    {
     "name": "stdout",
     "output_type": "stream",
     "text": [
      "Marks: 70.0 \n",
      "Grade: C\n"
     ]
    }
   ],
   "source": [
    "def assignGrade(marks):\n",
    "    ''' \n",
    "    Objective: To assign grade on the basis of marks obtained.\n",
    "    Input Parameters: marks - Numeric value.\n",
    "    Return Value: grade - String\n",
    "    '''\n",
    "    assert marks>=0 or marks <=100\n",
    "    if marks>=90:\n",
    "        grade='A'\n",
    "    elif marks>=80:\n",
    "        grade='B'\n",
    "    elif marks>=70:\n",
    "        grade='C'\n",
    "    elif marks>=50:\n",
    "        grade='D'\n",
    "    else:\n",
    "        grade='F'\n",
    "    return grade\n",
    "def main():\n",
    "    '''\n",
    "    Objective: To assign grade on the basis of marks obtained.\n",
    "    Input Parameters: None.\n",
    "    Return Value: None.\n",
    "    '''\n",
    "    marks=float(input(\"Enter your marks: \"))\n",
    "    print(\"Marks:\", marks, \"\\nGrade:\", assignGrade(marks))\n",
    "if __name__==\"__main__\":\n",
    "    main()"
   ]
  },
  {
   "cell_type": "code",
   "execution_count": 8,
   "id": "ca6672ff-a0bf-4d9a-81a7-9dd15b2a5cc0",
   "metadata": {},
   "outputs": [
    {
     "name": "stdin",
     "output_type": "stream",
     "text": [
      " Enter first number:  78\n",
      " Enter second number:  65\n",
      " Enter thrid number:  89\n"
     ]
    },
    {
     "name": "stdout",
     "output_type": "stream",
     "text": [
      "Maximum number is 89\n"
     ]
    }
   ],
   "source": [
    "'''\n",
    "Nested If Condition\n",
    "To check whether a condition is true or false.\n",
    "syntax:\n",
    "if (condition):\n",
    "    if(condition):\n",
    "        execute the statement1\n",
    "    else:\n",
    "        execute the statement2\n",
    "elif (condition):\n",
    "    execute the statement3\n",
    "else:\n",
    "    execute the statement4\n",
    "'''\n",
    "def maximum3(n1,n2,n3):\n",
    "    '''\n",
    "    Objective: To find maximum of three numbers.\n",
    "    Input Parameters: n1,n2,n3 - numeric values\n",
    "    Return Values: maxNumber - numeric value\n",
    "    '''\n",
    "    if n1>n2:\n",
    "        if n1>n3:\n",
    "            maxNumber=n1\n",
    "        else:\n",
    "            maxNumber=n3\n",
    "    elif n2>n3:\n",
    "        maxNumber=n2\n",
    "    else:\n",
    "        maxNumber = n3\n",
    "    return maxNumber\n",
    "def main():\n",
    "    '''\n",
    "    Objective: To find maximum of three numbers.\n",
    "    Input Parameters: None\n",
    "    Return Values: None\n",
    "    '''\n",
    "    n1=int(input(\" Enter first number: \"))\n",
    "    n2=int(input(\" Enter second number: \"))\n",
    "    n3=int(input(\" Enter thrid number: \"))\n",
    "    maximum = maximum3(n1,n2,n3)\n",
    "    print(\"Maximum number is\", maximum)\n",
    "if __name__==\"__main__\":\n",
    "    main()"
   ]
  },
  {
   "cell_type": "code",
   "execution_count": 9,
   "id": "9b7c93e9-0575-4803-b858-abeb62eea69f",
   "metadata": {},
   "outputs": [
    {
     "name": "stdin",
     "output_type": "stream",
     "text": [
      "Enter first number:  78\n",
      "Enter second number:  65\n",
      "Enter third number:  89\n"
     ]
    },
    {
     "name": "stdout",
     "output_type": "stream",
     "text": [
      "Maximum number is 89\n"
     ]
    }
   ],
   "source": [
    "def max3(n1,n2,n3):\n",
    "    '''\n",
    "    Objective: To find maximum of three numbers.\n",
    "    Input Paramenters: n1,n2,n3 - numeric values.\n",
    "    Return Values: number - numberic value.\n",
    "    '''\n",
    "    def max2(n1,n2):\n",
    "        '''\n",
    "        Objective: To find maximum of two numbers.\n",
    "        Input Parameters: n1,n2 - numeric values.\n",
    "        Return Values: number - numeric value.\n",
    "        '''\n",
    "        if n1>n2:\n",
    "            return n1\n",
    "        else:\n",
    "            return n2\n",
    "    return max2(max2(n1,n2),n3)\n",
    "def main():\n",
    "    '''\n",
    "    Objective: To find maximum of three numbers.\n",
    "    Input Parameters: None.\n",
    "    Return Values: None.\n",
    "    '''\n",
    "    n1=int(input(\"Enter first number: \"))\n",
    "    n2=int(input(\"Enter second number: \"))\n",
    "    n3=int(input(\"Enter third number: \"))\n",
    "    maximum=max3(n1,n2,n3)\n",
    "    print(\"Maximum number is\",maximum)\n",
    "if __name__==\"__main__\":\n",
    "    main()"
   ]
  },
  {
   "cell_type": "markdown",
   "id": "2136ee51-a8f2-4861-b688-8ab44b7d240a",
   "metadata": {},
   "source": [
    "### Football Administrator"
   ]
  },
  {
   "cell_type": "code",
   "execution_count": 6,
   "id": "9d980593-5c66-4f65-a9c5-e4550be7a004",
   "metadata": {},
   "outputs": [
    {
     "name": "stdin",
     "output_type": "stream",
     "text": [
      "What is the status of the match?  played\n",
      "What is the score of the home team?  0\n",
      "What is the score of the away team?  0\n"
     ]
    },
    {
     "name": "stdout",
     "output_type": "stream",
     "text": [
      "Match Draw!\n"
     ]
    }
   ],
   "source": [
    "match_status = input(\"What is the status of the match? \")\n",
    "if match_status == \"played\":\n",
    "    home_team_score = int(input(\"What is the score of the home team? \"))\n",
    "    away_team_score = int(input(\"What is the score of the away team? \"))\n",
    "    if home_team_score > away_team_score:\n",
    "        print(\"Home team won the match\")\n",
    "    elif home_team_score == away_team_score:\n",
    "        print(\"Match Draw!\")\n",
    "    else:\n",
    "        print(\"Away team won the match\")\n",
    "elif match_status == \"suspended\":\n",
    "    print(\"Match suspended\")\n",
    "else:\n",
    "    print(\"Invalid Match Status\")"
   ]
  },
  {
   "cell_type": "markdown",
   "id": "f02efd64-aadf-46b0-a40b-1563635f69d3",
   "metadata": {},
   "source": [
    "### Minutes to Hours"
   ]
  },
  {
   "cell_type": "code",
   "execution_count": 22,
   "id": "e41e0c5f-d1a9-45e8-bc88-6609d4ac983b",
   "metadata": {},
   "outputs": [
    {
     "name": "stdin",
     "output_type": "stream",
     "text": [
      "Enter the minutes you want to convert to hours:  372.5\n"
     ]
    },
    {
     "name": "stdout",
     "output_type": "stream",
     "text": [
      "6hrs 12mins 30secs\n"
     ]
    }
   ],
   "source": [
    "Minutes = float(input(\"Enter the minutes you want to convert to hours: \"))\n",
    "\n",
    "Hours = int(Minutes // 60)\n",
    "Rem_Min = Minutes % 60\n",
    "minutes = int(Rem_Min)\n",
    "Rem_Sec = int((Rem_Min - minutes) * 60)\n",
    "\n",
    "print(f\"{Hours}hrs {minutes}mins {Rem_Sec}secs\")"
   ]
  },
  {
   "cell_type": "markdown",
   "id": "63c4d846-4fc7-456c-ab79-23fb8897419f",
   "metadata": {},
   "source": [
    "### Control Statements"
   ]
  },
  {
   "cell_type": "code",
   "execution_count": 12,
   "id": "38d84098-4e64-446d-ab50-c17a3a890c9a",
   "metadata": {},
   "outputs": [
    {
     "name": "stdin",
     "output_type": "stream",
     "text": [
      "Enter the number:  10\n"
     ]
    },
    {
     "name": "stdout",
     "output_type": "stream",
     "text": [
      "0 1 2 3 4 5 6 7 8 9 "
     ]
    }
   ],
   "source": [
    "'''\n",
    "for loop\n",
    "Used to loop a condition until it is true.\n",
    "Syntax:\n",
    "for i in range(n):\n",
    "    statement\n",
    "'''\n",
    "n=int(input(\"Enter the number: \"))\n",
    "for i in range(n):\n",
    "    print(i,end=\" \")"
   ]
  },
  {
   "cell_type": "code",
   "execution_count": 15,
   "id": "adc6512d-47af-4fa5-a79b-7c71e0700293",
   "metadata": {},
   "outputs": [
    {
     "name": "stdin",
     "output_type": "stream",
     "text": [
      "Enter the number:  10\n"
     ]
    },
    {
     "name": "stdout",
     "output_type": "stream",
     "text": [
      "0 1 2 3 4 5 6 7 8 9 10 "
     ]
    }
   ],
   "source": [
    "''' \n",
    "while loop\n",
    "Used to loop a statemnt until the condition is true.\n",
    "Syntax:\n",
    "while(condition):\n",
    "    statement\n",
    "    '''\n",
    "n=int(input(\"Enter the number: \"))\n",
    "i=0\n",
    "while i<=n:\n",
    "    print(i,end=\" \")\n",
    "    i+=1\n"
   ]
  },
  {
   "cell_type": "code",
   "execution_count": 17,
   "id": "bf65ae78-3475-45d5-89ac-c68782d79bd0",
   "metadata": {},
   "outputs": [
    {
     "name": "stdout",
     "output_type": "stream",
     "text": [
      "0 1 2 3 4 5 6 7 8 9 "
     ]
    }
   ],
   "source": [
    "'''\n",
    "Break statement\n",
    "Used to exit the loop.\n",
    "Syntax:\n",
    "loop:\n",
    "    condition:\n",
    "        break\n",
    "'''\n",
    "i=0\n",
    "while 1:\n",
    "    if i==10:\n",
    "        break\n",
    "    else:\n",
    "        print(i,end=\" \")\n",
    "        i+=1"
   ]
  },
  {
   "cell_type": "code",
   "execution_count": 18,
   "id": "7a9e9108-ca62-47cd-8bca-27319a0c4ab0",
   "metadata": {},
   "outputs": [
    {
     "name": "stdout",
     "output_type": "stream",
     "text": [
      "1 2 3 4 6 7 8 9 "
     ]
    }
   ],
   "source": [
    "'''\n",
    "Continue statement\n",
    "Used to skip a iteration.\n",
    "Syntax:\n",
    "loop:\n",
    "    condition:\n",
    "        continue\n",
    "'''\n",
    "for i in range(1,10):\n",
    "    if i==5:\n",
    "        continue\n",
    "    print(i,end=\" \")"
   ]
  },
  {
   "cell_type": "code",
   "execution_count": null,
   "id": "24c6adfa-6fc1-4875-ba27-ca99aff7dcf2",
   "metadata": {},
   "outputs": [],
   "source": [
    "'''\n",
    "pass statement\n",
    "Used to tell a condition is empty.\n",
    "loop or class or function:\n",
    "    pass\n",
    "'''\n",
    "for i in range(1,10):\n",
    "    pass"
   ]
  },
  {
   "cell_type": "markdown",
   "id": "278aaeef-f330-48b6-8991-712ef1b16636",
   "metadata": {},
   "source": [
    "### FizzBuzz"
   ]
  },
  {
   "cell_type": "code",
   "execution_count": 24,
   "id": "d102be81-183b-4a0b-b438-b522dfe1067b",
   "metadata": {},
   "outputs": [
    {
     "name": "stdin",
     "output_type": "stream",
     "text": [
      "Enter the number:  15\n"
     ]
    },
    {
     "name": "stdout",
     "output_type": "stream",
     "text": [
      "1\n",
      "2\n",
      "3 --> Fizz\n",
      "4\n",
      "5 --> FizzBuzz\n",
      "6 --> Fizz\n",
      "7\n",
      "8\n",
      "9 --> Fizz\n",
      "10 --> FizzBuzz\n",
      "11\n",
      "12 --> Fizz\n",
      "13\n",
      "14\n",
      "15 --> Fizz\n"
     ]
    }
   ],
   "source": [
    "n = int(input(\"Enter the number: \"))\n",
    "for i in range(1, n+1):\n",
    "    if i % 3 and i % 5 == 0:\n",
    "        print(f\"{i} --> FizzBuzz\")\n",
    "    elif i % 3 == 0:\n",
    "        print(f\"{i} --> Fizz\")\n",
    "    elif i % 5 == 0:\n",
    "        print(f\"{i} --> Buzz\")\n",
    "    else:\n",
    "        print(i)"
   ]
  },
  {
   "cell_type": "markdown",
   "id": "b88448fc-177b-4757-8257-d2ba13b3714a",
   "metadata": {},
   "source": [
    "### Mean"
   ]
  },
  {
   "cell_type": "code",
   "execution_count": 25,
   "id": "78b54594-b3dd-46cd-988a-3b5e91fadbcc",
   "metadata": {},
   "outputs": [
    {
     "name": "stdout",
     "output_type": "stream",
     "text": [
      "Mean of [67, 43, 24, 45, 22] is 40.2\n"
     ]
    }
   ],
   "source": [
    "terms = [67, 43, 24, 45, 22]\n",
    "\n",
    "# sum of terms / total no.of terms\n",
    "\n",
    "# Step 1: Sum up all terms\n",
    "sum_of_terms = 0\n",
    "for num in terms:\n",
    "    sum_of_terms += num\n",
    "\n",
    "# Step 2: Get total no.of terms\n",
    "no_of_terms = len(terms)\n",
    "\n",
    "# Step 3: Divide sum of terms by total no.of terms\n",
    "mean = sum_of_terms / no_of_terms\n",
    "\n",
    "# Step 4: Print the mean\n",
    "print(f\"Mean of {terms} is {mean}\")"
   ]
  },
  {
   "cell_type": "markdown",
   "id": "5e7f7a5a-0dc6-4c56-9228-79ab710acbea",
   "metadata": {},
   "source": [
    "### Bank Balance Calculator"
   ]
  },
  {
   "cell_type": "code",
   "execution_count": 2,
   "id": "fbafb121-e3b8-49b8-977d-025f729f90b6",
   "metadata": {},
   "outputs": [
    {
     "name": "stdout",
     "output_type": "stream",
     "text": [
      "User has credited $200\n",
      "User has credited $455.23\n",
      "User has debited $-330.5\n",
      "User has credited $25000\n",
      "User has debited $-642.21\n",
      "User has debited $-133.9\n",
      "User has credited $79.97\n",
      "User has credited $1300\n",
      "User has credited $5000\n",
      "User has credited $3400\n",
      "User has debited $-150\n",
      "User has debited $-790\n",
      "User has debited $-3210\n",
      "User has debited $-1000\n",
      "User has credited $8500\n",
      "User has debited $-30\n",
      "User's total balance is $37648.59\n"
     ]
    }
   ],
   "source": [
    "transactions = [200, 455.23, -330.5, 25000, -642.21, -133.9, 79.97, 1300, 5000, 3400, -150, -790, -3210, -1000, 8500, -30]\n",
    "\n",
    "# Step 1: Create a variable balance\n",
    "balance = 0\n",
    "\n",
    "# Step 2: Loop through transactions list\n",
    "for transaction in transactions:\n",
    "\n",
    "    # Step 3: Add positive amount to balance and subtract negative amount from balance\n",
    "    if transaction > 0:\n",
    "        balance += transaction\n",
    "        print(f\"User has credited ${transaction}\")\n",
    "    else:\n",
    "        balance += transaction\n",
    "        print(f\"User has debited ${transaction}\")\n",
    "\n",
    "# Step 4: Print message -> User's balance is $4500\n",
    "print(f\"User's total balance is ${balance}\")\n"
   ]
  },
  {
   "cell_type": "markdown",
   "id": "71989cd9-646a-4fe7-8969-0c40cee8e7bd",
   "metadata": {},
   "source": [
    "### Hide the Debit Card Number"
   ]
  },
  {
   "cell_type": "code",
   "execution_count": 12,
   "id": "3ed9c98f-c09c-42c2-8814-71942a8d172c",
   "metadata": {},
   "outputs": [
    {
     "name": "stdin",
     "output_type": "stream",
     "text": [
      "Enter your 16 digit debit card number:  1234 5678 9123 4567\n"
     ]
    },
    {
     "name": "stdout",
     "output_type": "stream",
     "text": [
      "Masked card number: ***************4567\n"
     ]
    }
   ],
   "source": [
    "# Step 1: Get user's debit card number\n",
    "card_num = input(\"Enter your 16 digit debit card number: \")\n",
    "\n",
    "# Step 2: Mask the first 12 digits\n",
    "if len(card_num) == 19 and ' ' in card_num and '[@ - &]' not in card_num:\n",
    "    masked = '*' * 15 + card_num[-4:]  # last 4 digits visible\n",
    "    # Step 3: Print the formatted debit card number\n",
    "    print(\"Masked card number:\", masked)\n",
    "else:\n",
    "    print(\"Invalid card number. Please enter exactly 16 digits.\")\n"
   ]
  },
  {
   "cell_type": "markdown",
   "id": "b229e1e5-52d8-4222-9500-22cb6a804697",
   "metadata": {},
   "source": [
    "### Factorial Number Calculator"
   ]
  },
  {
   "cell_type": "code",
   "execution_count": 14,
   "id": "ef378447-40e7-480d-b110-9e10945e667c",
   "metadata": {},
   "outputs": [
    {
     "name": "stdin",
     "output_type": "stream",
     "text": [
      "Enter the number for which factorial need to be find:  5\n"
     ]
    },
    {
     "name": "stdout",
     "output_type": "stream",
     "text": [
      "Factorial of 5 is 120\n"
     ]
    }
   ],
   "source": [
    "# Step 1: Define the variable to assign the number\n",
    "n = int(input(\"Enter the number for which factorial need to be find: \"))\n",
    "\n",
    "# Step 2: Define the variable to store the factorial value\n",
    "fact = 1\n",
    "\n",
    "# Step 3: Check whether the number is zero if it is print 1 else check it is positive or negative\n",
    "if n == 0:\n",
    "    print(fact)\n",
    "elif n < 0:\n",
    "    print(\"Factorial can only be performed to non-negative numbers\")\n",
    "else:\n",
    "    # Step 4: Now perrform the loop to find the factorial\n",
    "    for i in range(1, n + 1):\n",
    "        fact *= i\n",
    "\n",
    "# Step 5: Print the factorial number\n",
    "print(f\"Factorial of {n} is {fact}\")"
   ]
  }
 ],
 "metadata": {
  "kernelspec": {
   "display_name": "Python 3 (ipykernel)",
   "language": "python",
   "name": "python3"
  },
  "language_info": {
   "codemirror_mode": {
    "name": "ipython",
    "version": 3
   },
   "file_extension": ".py",
   "mimetype": "text/x-python",
   "name": "python",
   "nbconvert_exporter": "python",
   "pygments_lexer": "ipython3",
   "version": "3.12.7"
  }
 },
 "nbformat": 4,
 "nbformat_minor": 5
}
