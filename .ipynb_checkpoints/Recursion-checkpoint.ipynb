{
 "cells": [
  {
   "cell_type": "markdown",
   "id": "f1732edf-de47-45ad-a11a-3d66f75a0520",
   "metadata": {},
   "source": [
    "##### Recursion\n",
    "The recursion is a function calling itself."
   ]
  },
  {
   "cell_type": "markdown",
   "id": "247cf1ad-2f56-46a6-883c-4f194ba49031",
   "metadata": {},
   "source": [
    "### Recusrion solutions for problems on numeric data"
   ]
  },
  {
   "cell_type": "code",
   "execution_count": 6,
   "id": "b81014f4-aee7-4fa7-b708-6e33e599da9c",
   "metadata": {},
   "outputs": [
    {
     "name": "stdin",
     "output_type": "stream",
     "text": [
      "Enter the number:  5\n"
     ]
    },
    {
     "name": "stdout",
     "output_type": "stream",
     "text": [
      "Factorial of 5 is 120\n"
     ]
    }
   ],
   "source": [
    "# Factorial\n",
    "def factorial(n):\n",
    "    '''\n",
    "    Objective: To compute factorial of a number.\n",
    "    Input Parameter: n - numeric.\n",
    "    Rrturn Value: factorial of n - numeric.\n",
    "    '''\n",
    "    assert n>=0\n",
    "    if n==1 or n==0:\n",
    "        return 1\n",
    "    else:\n",
    "        return n*factorial(n-1)\n",
    "def main():\n",
    "    '''\n",
    "    Objective: To compute factorial of a number provided by the user.\n",
    "    Input Parameter: None.\n",
    "    Return Value: None.\n",
    "    '''\n",
    "    n=int(input(\"Enter the number: \"))\n",
    "    fact=factorial(n)\n",
    "    print(\"Factorial of\", n, \"is\", fact)\n",
    "if __name__==\"__main__\":\n",
    "    main()"
   ]
  },
  {
   "cell_type": "code",
   "execution_count": 10,
   "id": "75087736-a1b3-4a24-95d9-9fe01eee7182",
   "metadata": {},
   "outputs": [
    {
     "name": "stdin",
     "output_type": "stream",
     "text": [
      "Enter the value of n:  4\n"
     ]
    },
    {
     "name": "stdout",
     "output_type": "stream",
     "text": [
      "4th fibonacci term is 2\n"
     ]
    }
   ],
   "source": [
    "# Fibonacci Sequence\n",
    "def fibonacci(n):\n",
    "    '''\n",
    "    Objective: To determine the nth term in a fibonacci sequence.\n",
    "    Input Parameter: n - numeric\n",
    "    Return Value: result - numeric\n",
    "    '''\n",
    "    assert n>=0\n",
    "    if n==1:\n",
    "        return 0\n",
    "    elif n==2:\n",
    "        return 1\n",
    "    else:\n",
    "        return fibonacci(n-1)+fibonacci(n-2)\n",
    "def main():\n",
    "    '''\n",
    "    Objective: To determine the nth term in a fibonacci sequence.\n",
    "    Input Parameter: None\n",
    "    Return Value: None\n",
    "    '''\n",
    "    n=int(input(\"Enter the value of n: \"))\n",
    "    fib = fibonacci(n)\n",
    "    print(f\"{n}th fibonacci term is {fib}\")\n",
    "if __name__==\"__main__\":\n",
    "    main()"
   ]
  },
  {
   "cell_type": "markdown",
   "id": "5cfcade2-5318-48fe-a9ea-a951ffba9cdf",
   "metadata": {},
   "source": [
    "### Recursive solutions for problems on strings"
   ]
  },
  {
   "cell_type": "code",
   "execution_count": 11,
   "id": "15283f12-ad10-4c27-8382-324be37de1cd",
   "metadata": {},
   "outputs": [
    {
     "name": "stdin",
     "output_type": "stream",
     "text": [
      "Enter the string:  hello\n"
     ]
    },
    {
     "name": "stdout",
     "output_type": "stream",
     "text": [
      "The length of the string hello is 5\n"
     ]
    }
   ],
   "source": [
    "# Length of a String\n",
    "def strLen(s):\n",
    "    '''\n",
    "    Objective: To determine the length of the string s.\n",
    "    Input Parameter: s - string\n",
    "    Return Value: length of string s - numeric\n",
    "    '''\n",
    "    if s == '':\n",
    "        return 0\n",
    "    else:\n",
    "        return 1+strLen(s[1:])\n",
    "def main():\n",
    "    '''\n",
    "    Objective: To determine the length of the string given by user.\n",
    "    Input Parameter: None\n",
    "    Return Value: None\n",
    "    '''\n",
    "    s = input(\"Enter the string: \")\n",
    "    Length = strLen(s)\n",
    "    print(f\"The length of the string {s} is {Length}\")\n",
    "if __name__==\"__main__\":\n",
    "    main()"
   ]
  },
  {
   "cell_type": "code",
   "execution_count": 15,
   "id": "def390f8-53ad-45b9-afb8-982ecc6d50dd",
   "metadata": {},
   "outputs": [
    {
     "name": "stdin",
     "output_type": "stream",
     "text": [
      "Enter the string:  hello\n"
     ]
    },
    {
     "name": "stdout",
     "output_type": "stream",
     "text": [
      " Reverse of the String hello is olleh\n"
     ]
    }
   ],
   "source": [
    "# Reversing a String\n",
    "def reverse(str1):\n",
    "    '''\n",
    "    Objective: To compute the reverse of a string\n",
    "    Input Parameter: str1 - string\n",
    "    Return Value: length of string - numeric\n",
    "    '''\n",
    "    if str1 == '':\n",
    "        return str1\n",
    "    else:\n",
    "        return reverse(str1[1:])+str1[0]\n",
    "def main():\n",
    "    '''\n",
    "    Objective: To compute the reverse of a string\n",
    "    Input Parameter: None\n",
    "    Return Value: None\n",
    "    '''\n",
    "    str1 = input(\"Enter the string: \")\n",
    "    rev = reverse(str1)\n",
    "    print(f\" Reverse of the String {str1} is {rev}\")\n",
    "if __name__ == \"__main__\":\n",
    "    main()"
   ]
  },
  {
   "cell_type": "code",
   "execution_count": 19,
   "id": "5998a99c-73be-4ffd-9fbb-355eed0d0b44",
   "metadata": {},
   "outputs": [
    {
     "name": "stdin",
     "output_type": "stream",
     "text": [
      "Enter the string: aaaaa\n"
     ]
    },
    {
     "name": "stdout",
     "output_type": "stream",
     "text": [
      "The string aaaaa is palindrome.\n"
     ]
    }
   ],
   "source": [
    "# Palindrome\n",
    "def isPalindrome(str1):\n",
    "    '''\n",
    "    Obective: To check whether the string is palindrome or not.\n",
    "    Input Parameter: str1 - string\n",
    "    Return Value: True or False\n",
    "    '''\n",
    "    if str1 == '':\n",
    "        return True\n",
    "    else:\n",
    "        return (str1[0] == str1[-1] and isPalindrome(str1[1:-1]))\n",
    "def main():\n",
    "    '''\n",
    "    Objective: To check whether the string is palindrome or not based on the user input.\n",
    "    Input Parameter: None\n",
    "    Return Value: None\n",
    "    '''\n",
    "    str1 = input(\"Enter the string:\")\n",
    "    if isPalindrome(str1):\n",
    "        print(f\"The string {str1} is palindrome.\")\n",
    "    else:\n",
    "        print(f\"The string {str1} is not palindrome.\")\n",
    "if __name__ == \"__main__\":\n",
    "    main()"
   ]
  },
  {
   "cell_type": "markdown",
   "id": "6b0ee673-5b84-4a23-b583-a32e45e71da0",
   "metadata": {},
   "source": [
    "### Recursive solutions for problems on lists"
   ]
  },
  {
   "cell_type": "code",
   "execution_count": 32,
   "id": "8508ab38-0451-48f7-a46f-5423c8400769",
   "metadata": {},
   "outputs": [
    {
     "name": "stdin",
     "output_type": "stream",
     "text": [
      "Enter the list1:  [1, [2, [3, 4, [5, 6, [7, 8], [9, [10]], 11], 12], 13], 14], [[15, 16], 17]\n"
     ]
    },
    {
     "name": "stdout",
     "output_type": "stream",
     "text": [
      "The flatted List:  [1, 2, 3, 4, 5, 6, 7, 8, 9, 10, 11, 12, 13, 14, 15, 16, 17]\n"
     ]
    }
   ],
   "source": [
    "# Flatten list\n",
    "def flatten(list1, list2 = None):\n",
    "    '''\n",
    "    Objective: To flatten a list list1\n",
    "    Input Parameter: list1 - list\n",
    "    Return Value: list2 - list\n",
    "    '''\n",
    "    if list2 is None:\n",
    "        list2 = []\n",
    "    for element in list1:\n",
    "        if isinstance(element,list):\n",
    "            flatten(element,list2)\n",
    "        else:\n",
    "            list2.append(element)\n",
    "    return list2\n",
    "def main():\n",
    "    '''\n",
    "    Objective: To flatten a list list1 given by user\n",
    "    Input Parameter: None\n",
    "    Return Value: None\n",
    "    '''\n",
    "    try:\n",
    "        list1 = eval(input(\"Enter the list1: \"))\n",
    "        result = flatten(list1)\n",
    "        print(\"The flatted List: \",result)\n",
    "    except Exception as e:\n",
    "        print(\"Error: Enter a valid list\")\n",
    "if __name__==\"__main__\":\n",
    "    main()"
   ]
  },
  {
   "cell_type": "code",
   "execution_count": 39,
   "id": "e9be2469-7818-44aa-8c3a-0086f07cdbf4",
   "metadata": {},
   "outputs": [
    {
     "name": "stdin",
     "output_type": "stream",
     "text": [
      "Enter the list: [1, [2, 3]]\n"
     ]
    },
    {
     "name": "stdout",
     "output_type": "stream",
     "text": [
      "Copy of list list1 is [1, [2, 3]]\n"
     ]
    }
   ],
   "source": [
    "# Copy\n",
    "def copy(list1, list2 = None):\n",
    "    '''\n",
    "    Objective: To copy the elements in list1 to list2\n",
    "    Input Parameter: list1 - list\n",
    "    Return Value: list2 - list\n",
    "    '''\n",
    "    if list2 is None:\n",
    "        list2 = []\n",
    "    if list1 == []:\n",
    "        return list2\n",
    "    else:\n",
    "        list2.append(list1[0])\n",
    "        return copy(list1[1:],list2)\n",
    "def main():\n",
    "    '''\n",
    "    Objective: To create copy of the list entered by user.\n",
    "    Input Parameter: None\n",
    "    Return Value: None\n",
    "    '''\n",
    "    list1 = eval(input(\"Enter the list:\"))\n",
    "    result = copy(list1)\n",
    "    print(\"Copy of list list1 is\",result)\n",
    "if __name__==\"__main__\":\n",
    "    main()"
   ]
  },
  {
   "cell_type": "code",
   "execution_count": 44,
   "id": "816a87b7-de1a-4558-89b0-d6690f770eae",
   "metadata": {},
   "outputs": [
    {
     "name": "stdin",
     "output_type": "stream",
     "text": [
      "Enter the list:  [1, [2, 3]]\n"
     ]
    },
    {
     "name": "stdout",
     "output_type": "stream",
     "text": [
      "Deep Copy of list list1 is [1, [2, 3]]\n"
     ]
    }
   ],
   "source": [
    "def deepcopy(list1, list2=None):\n",
    "    '''\n",
    "    Objective: To create a deepcopy of the list list1\n",
    "    Input Parameter: \n",
    "        list1 - list\n",
    "        list2 - list (default is None, used for recursive calls)\n",
    "    Return Value: list2 - list\n",
    "    '''\n",
    "    if list2 is None:\n",
    "        list2 = []  # Initialize list2 properly\n",
    "\n",
    "    if not list1:  # Corrected condition for empty list\n",
    "        return list2\n",
    "\n",
    "    if isinstance(list1[0], list):\n",
    "        list2.append([])  # Create a new sublist in list2\n",
    "        deepcopy(list1[0], list2[-1])  # Recursively copy sublist\n",
    "    else:\n",
    "        list2.append(list1[0])  # Append non-list element\n",
    "\n",
    "    deepcopy(list1[1:], list2)  # Recursive call for the rest of the list\n",
    "\n",
    "    return list2\n",
    "\n",
    "def main():\n",
    "    '''\n",
    "    Objective: To create a deepcopy of the list entered by user.\n",
    "    Input Parameter: None\n",
    "    Return Value: None\n",
    "    '''\n",
    "    list1 = eval(input(\"Enter the list: \"))  # Be cautious with eval, better to use json.loads\n",
    "    result = deepcopy(list1)\n",
    "    print(\"Deep Copy of list list1 is\", result)\n",
    "\n",
    "if __name__ == \"__main__\":\n",
    "    main()\n"
   ]
  },
  {
   "cell_type": "code",
   "execution_count": 48,
   "id": "dee987fc-2c84-413d-a381-cd45c2733527",
   "metadata": {},
   "outputs": [
    {
     "name": "stdin",
     "output_type": "stream",
     "text": [
      "Enter the list:  1 2 3\n"
     ]
    },
    {
     "name": "stdout",
     "output_type": "stream",
     "text": [
      "[3, 2, 1]\n",
      "[2, 3, 1]\n",
      "[2, 1, 3]\n",
      "[3, 1, 2]\n",
      "[1, 3, 2]\n",
      "[1, 2, 3]\n"
     ]
    }
   ],
   "source": [
    "# Permutation of a list\n",
    "def permutate(list1, list2=[], k=0, pos=0):\n",
    "    '''\n",
    "    Objective: To generate permutations of list list1\n",
    "    Input Parameters: list1, list2 - list\n",
    "                      k, pos - numeric value\n",
    "    Return Value: None\n",
    "    '''\n",
    "    # To insert element list1[k] at current position\n",
    "    list2.insert(pos,list1[k])\n",
    "    if len(list2) == len(list1):\n",
    "        print(list2) # If a permutation is generated\n",
    "    else:\n",
    "        permutate(list1, list2, k+1, 0) # To insert element list1[k+1]\n",
    "    # To generate other permutations, remove element list[k] from current position\n",
    "    list2.remove(list1[k])\n",
    "    if pos<k:\n",
    "        # Put element list1[k] at next available position\n",
    "        permutate(list1, list2, k, pos+1)\n",
    "def main():\n",
    "    '''\n",
    "    Objective: To generate permutations of list entered by user\n",
    "    Input Parameters: None\n",
    "    Return Value: None\n",
    "    '''\n",
    "    list1 = list(map(int,input(\"Enter the list: \").split()))\n",
    "    permutate(list1)\n",
    "if __name__==\"__main__\":\n",
    "    main()"
   ]
  },
  {
   "cell_type": "code",
   "execution_count": 54,
   "id": "abc21317-d2a9-4259-9f5c-a3f267700bea",
   "metadata": {},
   "outputs": [
    {
     "name": "stdin",
     "output_type": "stream",
     "text": [
      "Enter the number of discs:  3\n",
      "Enter source pole:  1\n",
      "Enter spare pole:  2\n",
      "Enter target pole:  3\n"
     ]
    },
    {
     "name": "stdout",
     "output_type": "stream",
     "text": [
      "Move a dick from 1 to 3\n",
      "Move a dick from 1 to 2\n",
      "Move a dick from 3 to 2\n",
      "Move a dick from 1 to 3\n",
      "Move a dick from 2 to 1\n",
      "Move a dick from 2 to 3\n",
      "Move a dick from 1 to 3\n"
     ]
    }
   ],
   "source": [
    "# Tower of Hanoi\n",
    "def hanoi(n, source, spare, target):\n",
    "    '''\n",
    "    Objective: To solve probelm of Tower of Hanoi using n disc and 3 poles\n",
    "    Input Parameters: n, source, space, target : numberic value\n",
    "    Return Value: None\n",
    "    '''\n",
    "    if n==1:\n",
    "        print(\"Move a dick from\",source,\"to\",target)\n",
    "    elif n==0:\n",
    "        return\n",
    "    else:\n",
    "        hanoi(n-1, source, target, spare)\n",
    "        print(\"Move a dick from\",source,\"to\", target)\n",
    "        hanoi(n-1, spare, source, target)\n",
    "def main():\n",
    "    '''\n",
    "    Objective: To solve Tower of Hanoi problem based on user input\n",
    "    Input Parameter: None\n",
    "    Return Value: None\n",
    "    '''\n",
    "    n = int(input(\"Enter the number of discs: \"))\n",
    "    source = int(input(\"Enter source pole: \"))\n",
    "    spare = int(input(\"Enter spare pole: \"))\n",
    "    target = int(input(\"Enter target pole: \"))\n",
    "    hanoi(n, source, spare, target)\n",
    "if __name__==\"__main__\":\n",
    "    main()"
   ]
  }
 ],
 "metadata": {
  "kernelspec": {
   "display_name": "Python 3 (ipykernel)",
   "language": "python",
   "name": "python3"
  },
  "language_info": {
   "codemirror_mode": {
    "name": "ipython",
    "version": 3
   },
   "file_extension": ".py",
   "mimetype": "text/x-python",
   "name": "python",
   "nbconvert_exporter": "python",
   "pygments_lexer": "ipython3",
   "version": "3.11.5"
  }
 },
 "nbformat": 4,
 "nbformat_minor": 5
}
