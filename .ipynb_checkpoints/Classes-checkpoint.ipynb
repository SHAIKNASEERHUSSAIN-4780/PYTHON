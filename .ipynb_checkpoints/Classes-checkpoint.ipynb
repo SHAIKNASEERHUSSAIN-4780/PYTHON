{
 "cells": [
  {
   "cell_type": "markdown",
   "id": "2cc155a7-d552-4da5-8fdc-af9db8e07afc",
   "metadata": {},
   "source": [
    "# Classes and Objects\n",
    "- The classes are similar to function where it used to call a function to run a code but the classes are the collections of methods that are executed when the class is called along with the method to execute the code inside it.\n",
    "  + Eg: str, int, float are also built-in classes.\n",
    "- Objects are the values that are stored in the memory."
   ]
  },
  {
   "cell_type": "markdown",
   "id": "1f0d9c52-f997-42a9-b716-56c6089a9bda",
   "metadata": {},
   "source": [
    "### Person: An Example Of Class"
   ]
  },
  {
   "cell_type": "code",
   "execution_count": 1,
   "id": "b778db90-2e80-4041-bc85-eb3ba44ab225",
   "metadata": {},
   "outputs": [
    {
     "name": "stdout",
     "output_type": "stream",
     "text": [
      "Name:Amir\n",
      "DOB:24-10-1990\n",
      "Address:38/4, IIT Delfi 110016\n",
      "Name:Riya\n",
      "DOB:11-10-1992\n",
      "Address:1, Vivek Vihar, Delhi-92\n",
      "2\n"
     ]
    }
   ],
   "source": [
    "class Person:\n",
    "    '''\n",
    "    The class Person describes a person\n",
    "    '''\n",
    "    count = 0\n",
    "    def __init__(self, name, DOB, address):\n",
    "        '''\n",
    "        Objectives: To initialize object of class Person\n",
    "        Input Parameters:\n",
    "            self (implicit parameter) - object of type Person\n",
    "            name - string\n",
    "            DOB - string (Date Of Birth)\n",
    "            address - string\n",
    "        Return Value: None\n",
    "        '''\n",
    "        self.name = name\n",
    "        self.DOB = DOB\n",
    "        self.address = address\n",
    "        Person.count += 1\n",
    "    def getName(self):\n",
    "        '''\n",
    "        Objective: To retrieve name of the person\n",
    "        Input Parameter: self (implicit parameter) - object of the type Person\n",
    "        Return Value: name - string\n",
    "        '''\n",
    "        return self.name\n",
    "    def getDOB(self):\n",
    "        '''\n",
    "        Objective: To retrieve the date of birth of a person\n",
    "        Input Parameter: self (implicit parameter) - object of type Person\n",
    "        Return Value: DOB - string\n",
    "        '''\n",
    "        return self.DOB\n",
    "    def getAddress(self):\n",
    "        '''\n",
    "        Objective: To retrieve address of person\n",
    "        Input Parameter: self (implicit parameter) - object of type Person\n",
    "        Return Value: address - string\n",
    "        '''\n",
    "        return self.address\n",
    "    def setName(self, name):\n",
    "        '''\n",
    "        Objective: To update name of a person\n",
    "        Input Parameter: self (implicit parameter) - object of type Person\n",
    "            name - string value\n",
    "        Return Value: None\n",
    "        '''\n",
    "        self.name = name\n",
    "    def setDOB(self, DOB):\n",
    "        '''\n",
    "        Objective: To update DOB of a person\n",
    "        Input Parameter: self (implicit parameter) - object of type Person\n",
    "            DOB - string value\n",
    "        Return Value: None\n",
    "        '''\n",
    "        self.DOB = DOB\n",
    "    def setaddress(self, address):\n",
    "        '''\n",
    "        Objective: To update address of a person\n",
    "        Input Parameter: self (implicit parameter) - object of type Person\n",
    "            address - string value\n",
    "        Return Value: None\n",
    "        '''\n",
    "        self.address = address\n",
    "    def getCount(self):\n",
    "        '''\n",
    "        Objective: To get count of objects of type Person\n",
    "        Input Parameter: self (implicit parameter) - object of type Person\n",
    "        Return Value: count: numeric\n",
    "        '''\n",
    "        return Person.count\n",
    "    def __str__(self):\n",
    "        '''\n",
    "        Objective: To return string represention of object of type Person\n",
    "        Input Parameter: self (implicit parameter) - object of type Person\n",
    "        Return Value: string\n",
    "        '''\n",
    "        return 'Name:'+self.name+'\\nDOB:'+str(self.DOB)+'\\nAddress:'+self.address\n",
    "p1 = Person('Amir', '24-10-1990', '38/4, IIT Delfi 110016')\n",
    "p2 = Person(\"Riya\", \"11-10-1992\", \"1, Vivek Vihar, Delhi-92\")\n",
    "print(p1.__str__())\n",
    "print(p2.__str__())\n",
    "print(p1.getCount())"
   ]
  },
  {
   "cell_type": "markdown",
   "id": "d38ead8f-056a-4592-a13c-0ba28d93fa70",
   "metadata": {},
   "source": [
    "### Destructor\n",
    "- When an object is no more requried, we use the del statement. However, an object may be\n",
    "referenced by multiple names. Excution of the del statement redues the reference count by one. When the reference count becomes zeero, the __del__ method is invoked."
   ]
  },
  {
   "cell_type": "code",
   "execution_count": 2,
   "id": "742ae1a1-4efb-4632-a332-e2aa40298c48",
   "metadata": {},
   "outputs": [
    {
     "name": "stdout",
     "output_type": "stream",
     "text": [
      "Name:Amir\n",
      "DOB:24-10-1990\n",
      "Address:38/4, IIT Delfi 110016\n",
      "Name:Riya\n",
      "DOB:11-10-1992\n",
      "Address:1, Vivek Vihar, Delhi-92\n",
      "2\n",
      "2\n",
      "Deleted !!\n",
      "Deleted !!\n"
     ]
    }
   ],
   "source": [
    "class Person:\n",
    "    '''\n",
    "    The class Person describes a person\n",
    "    '''\n",
    "    count = 0\n",
    "    def __init__(self, name, DOB, address):\n",
    "        '''\n",
    "        Objectives: To initialize object of class Person\n",
    "        Input Parameters:\n",
    "            self (implicit parameter) - object of type Person\n",
    "            name - string\n",
    "            DOB - string (Date Of Birth)\n",
    "            address - string\n",
    "        Return Value: None\n",
    "        '''\n",
    "        self.name = name\n",
    "        self.DOB = DOB\n",
    "        self.address = address\n",
    "        Person.count += 1\n",
    "    def getName(self):\n",
    "        '''\n",
    "        Objective: To retrieve name of the person\n",
    "        Input Parameter: self (implicit parameter) - object of the type Person\n",
    "        Return Value: name - string\n",
    "        '''\n",
    "        return self.name\n",
    "    def getDOB(self):\n",
    "        '''\n",
    "        Objective: To retrieve the date of birth of a person\n",
    "        Input Parameter: self (implicit parameter) - object of type Person\n",
    "        Return Value: DOB - string\n",
    "        '''\n",
    "        return self.DOB\n",
    "    def getAddress(self):\n",
    "        '''\n",
    "        Objective: To retrieve address of person\n",
    "        Input Parameter: self (implicit parameter) - object of type Person\n",
    "        Return Value: address - string\n",
    "        '''\n",
    "        return self.address\n",
    "    def setName(self, name):\n",
    "        '''\n",
    "        Objective: To update name of a person\n",
    "        Input Parameter: self (implicit parameter) - object of type Person\n",
    "            name - string value\n",
    "        Return Value: None\n",
    "        '''\n",
    "        self.name = name\n",
    "    def setDOB(self, DOB):\n",
    "        '''\n",
    "        Objective: To update DOB of a person\n",
    "        Input Parameter: self (implicit parameter) - object of type Person\n",
    "            DOB - string value\n",
    "        Return Value: None\n",
    "        '''\n",
    "        self.DOB = DOB\n",
    "    def setaddress(self, address):\n",
    "        '''\n",
    "        Objective: To update address of a person\n",
    "        Input Parameter: self (implicit parameter) - object of type Person\n",
    "            address - string value\n",
    "        Return Value: None\n",
    "        '''\n",
    "        self.address = address\n",
    "    def getCount(self):\n",
    "        '''\n",
    "        Objective: To get count of objects of type Person\n",
    "        Input Parameter: self (implicit parameter) - object of type Person\n",
    "        Return Value: count: numeric\n",
    "        '''\n",
    "        return Person.count\n",
    "    def __str__(self):\n",
    "        '''\n",
    "        Objective: To return string represention of object of type Person\n",
    "        Input Parameter: self (implicit parameter) - object of type Person\n",
    "        Return Value: string\n",
    "        '''\n",
    "        return 'Name:'+self.name+'\\nDOB:'+str(self.DOB)+'\\nAddress:'+self.address\n",
    "    def __del__(self):\n",
    "        '''\n",
    "        Objective: To be invoked on deletion of an instance of the class person\n",
    "        Input Parameter:\n",
    "            self (implicit parameter) - object of type Person\n",
    "        Return Value: None\n",
    "        '''\n",
    "        print(\"Deleted !!\")\n",
    "        Person.count -=1\n",
    "p1 = Person('Amir', '24-10-1990', '38/4, IIT Delfi 110016')\n",
    "p2 = Person(\"Riya\", \"11-10-1992\", \"1, Vivek Vihar, Delhi-92\")\n",
    "print(p1.__str__())\n",
    "print(p2.__str__())\n",
    "print(p1.getCount())\n",
    "print(p2.getCount())\n",
    "del p1\n",
    "del p2"
   ]
  },
  {
   "cell_type": "markdown",
   "id": "ff1883ac-00dc-4b51-98eb-3a4e80e5d91f",
   "metadata": {},
   "source": [
    "### Class As Abstract Datatype\n",
    "- existing in thought or idea but not having a physical or concrete existence,\n",
    "- the quality of dealing with ideas rather than events,\n",
    "- freedom from repersentational qualities,\n",
    "- the process of considering something independently of its associations or attributes."
   ]
  },
  {
   "cell_type": "code",
   "execution_count": 3,
   "id": "e4857b64-b8a1-4dd7-9418-460c3bef61df",
   "metadata": {},
   "outputs": [
    {
     "name": "stdout",
     "output_type": "stream",
     "text": [
      "***** dir(Person):\n",
      " ['__class__', '__del__', '__delattr__', '__dict__', '__dir__', '__doc__', '__eq__', '__format__', '__ge__', '__getattribute__', '__getstate__', '__gt__', '__hash__', '__init__', '__init_subclass__', '__le__', '__lt__', '__module__', '__ne__', '__new__', '__reduce__', '__reduce_ex__', '__repr__', '__setattr__', '__sizeof__', '__str__', '__subclasshook__', '__weakref__', 'count', 'getAddress', 'getCount', 'getDOB', 'getName', 'setDOB', 'setName', 'setaddress']\n",
      "***** Person.__doc__:\n",
      " \n",
      "    The class Person describes a person\n",
      "    \n",
      "***** Person.__module__:\n",
      " person\n",
      "*****************************************************************************\n",
      "***** Person.count:\n",
      " 1\n",
      "***** P1.getcount():\n",
      " 1\n",
      "***** P1.__doc__:\n",
      " \n",
      "    The class Person describes a person\n",
      "    \n",
      "***** p1.__module__:\n",
      " person\n",
      "***** p1:\n",
      " Name:Amir\n",
      "DOB:24-10-1991\n",
      "Address:38/4, IIT Delhi 110016\n",
      "***** dir(p1):\n",
      " ['DOB', '__class__', '__del__', '__delattr__', '__dict__', '__dir__', '__doc__', '__eq__', '__format__', '__ge__', '__getattribute__', '__getstate__', '__gt__', '__hash__', '__init__', '__init_subclass__', '__le__', '__lt__', '__module__', '__ne__', '__new__', '__reduce__', '__reduce_ex__', '__repr__', '__setattr__', '__sizeof__', '__str__', '__subclasshook__', '__weakref__', 'address', 'count', 'getAddress', 'getCount', 'getDOB', 'getName', 'name', 'setDOB', 'setName', 'setaddress']\n",
      "*****************************************************************************\n",
      "***** Person.count:\n",
      " 2\n",
      "***** P2.getCount():\n",
      " 2\n",
      "***** p2.__doc__:\n",
      " \n",
      "    The class Person describes a person\n",
      "    \n",
      "***** p2.__module__:\n",
      " person\n",
      "***** p2:\n",
      " Name:Riya\n",
      "DOB:11-10-1992\n",
      "Address:C-3, Vivek Vihar, Delhi-92\n",
      "***** dir(p2):\n",
      " ['DOB', '__class__', '__del__', '__delattr__', '__dict__', '__dir__', '__doc__', '__eq__', '__format__', '__ge__', '__getattribute__', '__getstate__', '__gt__', '__hash__', '__init__', '__init_subclass__', '__le__', '__lt__', '__module__', '__ne__', '__new__', '__reduce__', '__reduce_ex__', '__repr__', '__setattr__', '__sizeof__', '__str__', '__subclasshook__', '__weakref__', 'address', 'count', 'getAddress', 'getCount', 'getDOB', 'getName', 'name', 'setDOB', 'setName', 'setaddress']\n",
      "******************************************************************************\n",
      "***** id: Person.__doc__:\n",
      " 1708947996272\n",
      "***** id: Person.__module__:\n",
      " 140705091546752\n",
      "***** id: p1.__doc__:\n",
      " 1708947996272\n",
      "***** id: p1.__module__:\n",
      " 140705091546752\n",
      "***** id: p2.__doc__:\n",
      " 1708947996272\n",
      "***** id: p2.__module__:\n",
      " 140705091546752\n",
      "***** id: dir(Person):\n",
      " 1708948591616\n",
      "***** id: dir(p1):\n",
      " 1708948832960\n",
      "***** id: dir(p2):\n",
      " 1708948591616\n",
      "******************************************************************************\n",
      "***** Person.__dict___\n",
      " {'__module__': 'person', '__doc__': '\\n    The class Person describes a person\\n    ', 'count': 2, '__init__': <function Person.__init__ at 0x0000018DE54691C0>, 'getName': <function Person.getName at 0x0000018DE5469120>, 'getDOB': <function Person.getDOB at 0x0000018DE5469080>, 'getAddress': <function Person.getAddress at 0x0000018DE5468FE0>, 'setName': <function Person.setName at 0x0000018DE5468F40>, 'setDOB': <function Person.setDOB at 0x0000018DE5468EA0>, 'setaddress': <function Person.setaddress at 0x0000018DE546A480>, 'getCount': <function Person.getCount at 0x0000018DE546A660>, '__str__': <function Person.__str__ at 0x0000018DE546A700>, '__del__': <function Person.__del__ at 0x0000018DE546A7A0>, '__dict__': <attribute '__dict__' of 'Person' objects>, '__weakref__': <attribute '__weakref__' of 'Person' objects>}\n",
      "***** p1.__dict__\n",
      " {'name': 'Amir', 'DOB': '24-10-1991', 'address': '38/4, IIT Delhi 110016'}\n",
      "***** p2.__dict__\n",
      " {'name': 'Riya', 'DOB': '11-10-1992', 'address': 'C-3, Vivek Vihar, Delhi-92'}\n",
      "Deleted !!\n",
      "Deleted !!\n"
     ]
    }
   ],
   "source": [
    "'''\n",
    "Objective: To illustrate theh use of class Person\n",
    "'''\n",
    "import sys\n",
    "import os\n",
    "sys.path.append('PYTHON')\n",
    "from person import Person\n",
    "def main():\n",
    "    '''\n",
    "    Objective: To illustrate the use of class Person\n",
    "    Input Parameter: None\n",
    "    Return Value: None\n",
    "    '''\n",
    "    # About class Person : dir, __doc__, __module__\n",
    "    print('***** dir(Person):\\n', dir(Person))\n",
    "    print('***** Person.__doc__:\\n', Person.__doc__)\n",
    "    print(\"***** Person.__module__:\\n\", Person.__module__)\n",
    "    # Create an object p1\n",
    "    p1 = Person('Amir', '24-10-1991', '38/4, IIT Delhi 110016')\n",
    "    print(\"*****************************************************************************\")\n",
    "    print(\"***** Person.count:\\n\",Person.count) # Violation of principle of abstraction\n",
    "    print(\"***** P1.getcount():\\n\", p1.getCount()) # This is fine\n",
    "    print(\"***** P1.__doc__:\\n\", p1.__doc__)\n",
    "    print(\"***** p1.__module__:\\n\", p1.__module__)\n",
    "    print(\"***** p1:\\n\", p1)\n",
    "    print(\"***** dir(p1):\\n\", dir(p1))\n",
    "    # Create an object p2\n",
    "    print(\"*****************************************************************************\")\n",
    "    p2 = Person('Riya', '11-10-1992', 'C-3, Vivek Vihar, Delhi-92')\n",
    "    print(\"***** Person.count:\\n\", Person.count) # Violation of principle of abstraction\n",
    "    print(\"***** P2.getCount():\\n\", p2.getCount()) # This is fine\n",
    "    print(\"***** p2.__doc__:\\n\", p2.__doc__)\n",
    "    print(\"***** p2.__module__:\\n\", p2.__module__)\n",
    "    print(\"***** p2:\\n\", p2)\n",
    "    print(\"***** dir(p2):\\n\", dir(p2))\n",
    "    # Illustration: instances of __doc__, p1.__module__, dit\n",
    "    print(\"******************************************************************************\")\n",
    "    print(\"***** id: Person.__doc__:\\n\", id(Person.__doc__))\n",
    "    print(\"***** id: Person.__module__:\\n\", id(Person.__module__))\n",
    "    print(\"***** id: p1.__doc__:\\n\", id(p1.__doc__))\n",
    "    print(\"***** id: p1.__module__:\\n\", id(p1.__module__))\n",
    "    print(\"***** id: p2.__doc__:\\n\", id(p2.__doc__))\n",
    "    print(\"***** id: p2.__module__:\\n\", id(p2.__module__))\n",
    "    print(\"***** id: dir(Person):\\n\", id(dir(Person)))\n",
    "    print(\"***** id: dir(p1):\\n\", id(dir(p1)))\n",
    "    print(\"***** id: dir(p2):\\n\", id(dir(p2)))\n",
    "    # Use of __dict__\n",
    "    print(\"******************************************************************************\")\n",
    "    print(\"***** Person.__dict___\\n\", Person.__dict__)\n",
    "    print(\"***** p1.__dict__\\n\", p1.__dict__)\n",
    "    print(\"***** p2.__dict__\\n\", p2.__dict__)\n",
    "if __name__==\"__main__\":\n",
    "    main()"
   ]
  },
  {
   "cell_type": "code",
   "execution_count": 4,
   "id": "97abfc94-eede-4fe3-bb7a-e20666912b41",
   "metadata": {},
   "outputs": [
    {
     "name": "stdout",
     "output_type": "stream",
     "text": [
      "03-09-2014\n",
      "01-01-2000\n"
     ]
    }
   ],
   "source": [
    "# Date Class\n",
    "import sys\n",
    "class MyDate:\n",
    "    '''\n",
    "    MyDate: A simple implementation of date as a class.\n",
    "    '''\n",
    "    def __init__(self, day = 1, month = 1, year = 2000):\n",
    "        '''\n",
    "        Objective: To initialize data members of object MyDate\n",
    "        Input Parameters:\n",
    "            self (implicit parameter) - object of type MyDate\n",
    "            day, month, year - int\n",
    "        Return Value : None\n",
    "        '''\n",
    "        if not(isinstance(day, int) and isinstance(month, int) and isinstance(year, int)):\n",
    "            print(\"Invalid data provided for date\")\n",
    "            sys.exit()\n",
    "        if month>0 and month<=12:\n",
    "            self.month = month\n",
    "        else:\n",
    "            print(\"Invalid data provided for month\")\n",
    "            sys.exit()\n",
    "        if year>1990:\n",
    "            self.year = year\n",
    "        else:\n",
    "            print(\"Invalid data provided for year. Year should be greater than 1990\")\n",
    "            sys.exit()\n",
    "        self.day = self.checkDay(day) # Validate day\n",
    "    def checkDay(self, day):\n",
    "        '''\n",
    "        Objective: To validate day component\n",
    "        Input Parameters:\n",
    "            self (implicit parameter) - object of type MyDate\n",
    "            day - numeric\n",
    "        Return Value: day if it is correct else message 'Invalid value for the day' is\n",
    "                    printed and the program is terminated\n",
    "        '''\n",
    "        # currentYear: list of no of days in months of current year\n",
    "        if self.year%400 ==0 or (self.year%100!=0 and self.year%4 ==0): #  if leap year\n",
    "            currentYear = [31, 29, 31, 30, 31, 30, 31, 31, 30, 31, 30, 31]\n",
    "        else:\n",
    "            currentYear = [31, 28, 31, 30, 31, 30, 31, 31, 30, 31, 30, 31]\n",
    "        if (day > 0 and day <= currentYear[self.month - 1]):\n",
    "            return day\n",
    "        else:\n",
    "            print(\"Invalid value for day\")\n",
    "            sys.exit()\n",
    "    def __str__(self):\n",
    "        '''\n",
    "        Objective: To return string representation of object\n",
    "        Input parameter:\n",
    "            self (implicit parameter) - object of type MyDate\n",
    "        Return Value: string\n",
    "        '''\n",
    "        # Approach: Use dd-mm-yyyy format\n",
    "        if self.day <=9:\n",
    "            day = '0' + str(self.day)\n",
    "        else:\n",
    "            day = str(self.day)\n",
    "        if self.month <=9:\n",
    "            month = '0' +str(self.month)\n",
    "        else:\n",
    "            month = str(self.month)\n",
    "        return day+'-'+month+'-'+str(self.year)\n",
    "def main():\n",
    "    '''\n",
    "    Objective: To create objects of class Date and to perform operations on it\n",
    "    Input Parameter: None\n",
    "    Return Value: None\n",
    "    '''\n",
    "    today = MyDate(3, 9, 2014)\n",
    "    print(today)\n",
    "    defaultDate = MyDate()\n",
    "    print(defaultDate)\n",
    "if __name__==\"__main__\":\n",
    "    main()"
   ]
  },
  {
   "cell_type": "markdown",
   "id": "3ca733dd-56b8-4f1e-82f7-fd2003202c2e",
   "metadata": {},
   "source": [
    "### Plymorphism\n",
    "- Object-oriented programming revolves around the notion of objects. A method operator may be applied to objects of different types(classes). This feature of object-oriented programming is called polymorphism."
   ]
  },
  {
   "cell_type": "markdown",
   "id": "76427d04-f06d-451e-aed4-e124228fe8b5",
   "metadata": {},
   "source": [
    "### Operator Overloading\n",
    "- Passing multiple operators into same class is called operator overloading."
   ]
  },
  {
   "cell_type": "code",
   "execution_count": 5,
   "id": "126be950-2e25-49b9-a4b7-dad1e680175f",
   "metadata": {},
   "outputs": [
    {
     "name": "stdout",
     "output_type": "stream",
     "text": [
      "(5, 7)\n"
     ]
    }
   ],
   "source": [
    "# Plane points\n",
    "class Point:\n",
    "    def __init__(self, x, y):\n",
    "        '''\n",
    "        Objective: To initilize object of class Point\n",
    "        Input Parameters:\n",
    "            self (implicit parameter) - object of type point\n",
    "            x -x co-ordinates of point (numeric valuue)\n",
    "            y - y co-ordinate of point (numeric value)\n",
    "        Return Value: None\n",
    "        '''\n",
    "        self.x = x\n",
    "        self.y = y\n",
    "    def __add__(self, other):\n",
    "        '''\n",
    "        Objective: To add two Point objects\n",
    "        Input Parameters: \n",
    "            self (implicit parameter) -object of type Point\n",
    "            other - object of type Point\n",
    "        Return Value: result - object of type Point\n",
    "        '''\n",
    "        x = self.x + other.x\n",
    "        y = self.y + other.y\n",
    "        return Point(x, y)\n",
    "    def __str__(self):\n",
    "        '''\n",
    "        Objective: To return string represntation of object of type point\n",
    "        Input Parameter: self (implicit parameter) -object of type Point\n",
    "        Return Value: string\n",
    "        '''\n",
    "        return str((self.x, self.y))\n",
    "def main():\n",
    "    p = Point(3, 6)\n",
    "    p1 = Point(2, 1)\n",
    "    print(p.__add__(p1))\n",
    "if __name__==\"__main__\":\n",
    "    main()"
   ]
  },
  {
   "cell_type": "code",
   "execution_count": 6,
   "id": "98a38045-285c-4956-8411-ea096d7d57b9",
   "metadata": {},
   "outputs": [
    {
     "name": "stdout",
     "output_type": "stream",
     "text": [
      "1708948581280\n",
      "1708948585888\n",
      "True\n"
     ]
    }
   ],
   "source": [
    "from date import MyDate\n",
    "date1 = MyDate(31, 12, 2014)\n",
    "print(id(date1))\n",
    "date2 = MyDate(31, 12, 2014)\n",
    "print(id(date2))\n",
    "print(date1 == date2)"
   ]
  },
  {
   "cell_type": "code",
   "execution_count": 7,
   "id": "c46c9586-c5d9-4a98-b8b3-050ae08f1e74",
   "metadata": {},
   "outputs": [
    {
     "name": "stdout",
     "output_type": "stream",
     "text": [
      "03-09-2014\n",
      "01-01-2000\n"
     ]
    }
   ],
   "source": [
    "# Date Class\n",
    "import sys\n",
    "class MyDate:\n",
    "    '''\n",
    "    MyDate: A simple implementation of date as a class.\n",
    "    '''\n",
    "    def __init__(self, day = 1, month = 1, year = 2000):\n",
    "        '''\n",
    "        Objective: To initialize data members of object MyDate\n",
    "        Input Parameters:\n",
    "            self (implicit parameter) - object of type MyDate\n",
    "            day, month, year - int\n",
    "        Return Value : None\n",
    "        '''\n",
    "        if not(isinstance(day, int) and isinstance(month, int) and isinstance(year, int)):\n",
    "            print(\"Invalid data provided for date\")\n",
    "            sys.exit()\n",
    "        if month>0 and month<=12:\n",
    "            self.month = month\n",
    "        else:\n",
    "            print(\"Invalid data provided for month\")\n",
    "            sys.exit()\n",
    "        if year>1990:\n",
    "            self.year = year\n",
    "        else:\n",
    "            print(\"Invalid data provided for year. Year should be greater than 1990\")\n",
    "            sys.exit()\n",
    "        self.day = self.checkDay(day) # Validate day\n",
    "    def checkDay(self, day):\n",
    "        '''\n",
    "        Objective: To validate day component\n",
    "        Input Parameters:\n",
    "            self (implicit parameter) - object of type MyDate\n",
    "            day - numeric\n",
    "        Return Value: day if it is correct else message 'Invalid value for the day' is\n",
    "                    printed and the program is terminated\n",
    "        '''\n",
    "        # currentYear: list of no of days in months of current year\n",
    "        if self.year%400 ==0 or (self.year%100!=0 and self.year%4 ==0): #  if leap year\n",
    "            currentYear = [31, 29, 31, 30, 31, 30, 31, 31, 30, 31, 30, 31]\n",
    "        else:\n",
    "            currentYear = [31, 28, 31, 30, 31, 30, 31, 31, 30, 31, 30, 31]\n",
    "        if (day > 0 and day <= currentYear[self.month - 1]):\n",
    "            return day\n",
    "        else:\n",
    "            print(\"Invalid value for day\")\n",
    "            sys.exit()\n",
    "    def __str__(self):\n",
    "        '''\n",
    "        Objective: To return string representation of object\n",
    "        Input parameter:\n",
    "            self (implicit parameter) - object of type MyDate\n",
    "        Return Value: string\n",
    "        '''\n",
    "        # Approach: Use dd-mm-yyyy format\n",
    "        if self.day <=9:\n",
    "            day = '0' + str(self.day)\n",
    "        else:\n",
    "            day = str(self.day)\n",
    "        if self.month <=9:\n",
    "            month = '0' +str(self.month)\n",
    "        else:\n",
    "            month = str(self.month)\n",
    "        return day+'-'+month+'-'+str(self.year)\n",
    "def main():\n",
    "    '''\n",
    "    Objective: To create objects of class Date and to perform operations on it\n",
    "    Input Parameter: None\n",
    "    Return Value: None\n",
    "    '''\n",
    "    today = MyDate(3, 9, 2014)\n",
    "    print(today)\n",
    "    defaultDate = MyDate()\n",
    "    print(defaultDate)\n",
    "    date1 = MyDate(31, 12, 2014)\n",
    "    date2 = MyDate(31, 12, 2014)\n",
    "if __name__==\"__main__\":\n",
    "    main()"
   ]
  },
  {
   "cell_type": "code",
   "execution_count": 8,
   "id": "1233ba4e-93d2-414f-b98d-3f41feb8fc1d",
   "metadata": {},
   "outputs": [],
   "source": [
    "# Method to check if the given two dates are equal or not.\n",
    "def __eq__(self, other):\n",
    "        '''\n",
    "        Objective: To compare two MyDate objects for equality\n",
    "        Input Parameters:\n",
    "            self (implicit parameter) - object of type MyDate\n",
    "            other - object of type MyDate\n",
    "        Return Value: True if equal else False\n",
    "        '''\n",
    "        # check for equality of year, month, day\n",
    "        if isinstance(other, MyDate):\n",
    "            return (self.day == other.day) and (self.month == other.month) and (self.year == other.year)\n",
    "        else:\n",
    "            print(\"Type Mismatch\")\n",
    "            sys.exit()"
   ]
  },
  {
   "cell_type": "code",
   "execution_count": 9,
   "id": "63c1ca4b-30e1-4da3-94b2-b390ecd961fe",
   "metadata": {},
   "outputs": [
    {
     "name": "stdout",
     "output_type": "stream",
     "text": [
      "True\n",
      "False\n"
     ]
    }
   ],
   "source": [
    "import sys\n",
    "sys.path.append('PYTHON')\n",
    "from date import MyDate\n",
    "date1 = MyDate(31, 1, 2014)\n",
    "date2 = MyDate(31, 1, 2014)\n",
    "print(date1 == date2)\n",
    "date3 = MyDate(1, 1, 2014)\n",
    "print(date3 == date1)"
   ]
  },
  {
   "cell_type": "code",
   "execution_count": 10,
   "id": "1615920b-1c45-431b-8f60-f5a26c1469a4",
   "metadata": {},
   "outputs": [],
   "source": [
    "# Method to sort the dates in ascending order\n",
    "def __lt__(self, other):\n",
    "    '''\n",
    "    Objective: To compare two MyDate objects\n",
    "    Input Parameter:\n",
    "        self (implicit parameter) - object of type MyDate\n",
    "        other - object of type MyDate\n",
    "    Return Value: True if value of first MyDate object is less than second, else False\n",
    "    '''\n",
    "    if not isinstance(other, MyDate):\n",
    "        raise TypeError(\"Comparison is only supported between MyDate objects.\")\n",
    "\n",
    "    # Simplified comparison using tuple\n",
    "    return (self.year, self.month, self.day) < (other.year, other.month, other.day)"
   ]
  },
  {
   "cell_type": "code",
   "execution_count": 11,
   "id": "90ca98c0-4e77-4303-8e9c-c3b2c31341cb",
   "metadata": {},
   "outputs": [
    {
     "name": "stdout",
     "output_type": "stream",
     "text": [
      "31-10-2014\n",
      "17-12-2014\n",
      "31-12-2014\n"
     ]
    }
   ],
   "source": [
    "import sys\n",
    "sys.path.append('PYTHON')\n",
    "from date import MyDate\n",
    "dates = [MyDate(31, 12, 2014), MyDate(31, 10, 2014), MyDate(17, 12, 2014)]\n",
    "dates.sort()\n",
    "for date in dates:\n",
    "    print(date)"
   ]
  },
  {
   "cell_type": "markdown",
   "id": "80d2b150-15a7-48ba-9a09-2b090a073e56",
   "metadata": {},
   "source": [
    "### Fucntion Overloading\n",
    "- Function overloading provides the ability of writing different functions having the same name, but with different number of parameters, possibly of the various types."
   ]
  },
  {
   "cell_type": "code",
   "execution_count": 12,
   "id": "d25469d0-61c9-42d1-8960-c120f2ccf016",
   "metadata": {},
   "outputs": [
    {
     "name": "stdout",
     "output_type": "stream",
     "text": [
      "2\n"
     ]
    }
   ],
   "source": [
    "# Method to calculate area of the circle and square.\n",
    "def area(a, b = None):\n",
    "    '''\n",
    "    Objective: To compute area of a circle or rectangle depending on the number of parameters.\n",
    "    Input Parameters:\n",
    "        a : radius, in the case of the circle\n",
    "            side1, in the case of rectangle\n",
    "        b : None, in the case of a circle\n",
    "            side2, in the case of a rectangle\n",
    "    Return Values: area of circle or rectangle as applicable\n",
    "    '''\n",
    "    if b == None:\n",
    "        # Computes the area of circle\n",
    "        return 3.14*a*a\n",
    "    else:\n",
    "        # Computes the area of rectangle\n",
    "        return a*b\n",
    "print(area(2,1))"
   ]
  },
  {
   "cell_type": "markdown",
   "id": "fbeb6eaf-c6be-446e-86a9-909af879ed83",
   "metadata": {},
   "source": [
    "### Encapsulation, Data Hiding, and Data Abstraction\n"
   ]
  },
  {
   "cell_type": "markdown",
   "id": "6fe53e6a-08fb-4820-8741-a61d34cf40b9",
   "metadata": {},
   "source": [
    "##### Encapsulation\n",
    "- Encapsulation enables us to group together related data and its associated functions under one name. Classes provide an abstraction where essential featured of the real world are represented in the form of interfaces, hiding the lower-level complexities of implementation details.\n",
    "##### Abstraction\n",
    "- Abstraction is the method of preventing the instance variable from accessing the variables outside the class. We can tell Python that an attribute is a private attribute by prefixing the attribute name by at least two condecutive underscore characters. Further, the attribute name should not have more than one underscore character at the end. This technique of restricting access to private members outside the class is known aas name mangling.\n",
    "  + To access the private attributes outside the class we use the syntax\n",
    "    + today._MyDate__day"
   ]
  },
  {
   "cell_type": "markdown",
   "id": "2d67eb95-cf24-440f-80d8-ea035f53d6d5",
   "metadata": {},
   "source": [
    "### Modifier and Accessor Methods\n",
    "- The methods in the class definition that modify the value of one or more argumetns are known as modifiers. For example, the methods SetAddress and SetName in the class Person are modifiers since they change the value of the atttributes address and name respectively associated with parameter self."
   ]
  },
  {
   "cell_type": "markdown",
   "id": "b80c2a2f-56dd-4959-9c86-ccf46044bb8c",
   "metadata": {},
   "source": [
    "### Stactic Method\n",
    "- In the methods discussed so far, the object that invokes the method is passed as the first implicit argument (self). These methods are called instance methods. An instance method typically defines operations on the data members of an instance of a class. However, these are situations when we want to define a method for a class to modify the class data members. Such a method does not require a class object to be passed as the first parameter and is called a static method."
   ]
  },
  {
   "cell_type": "code",
   "execution_count": 13,
   "id": "82b39950-b3d1-4f19-94ab-fc6f5e133c80",
   "metadata": {},
   "outputs": [],
   "source": [
    "# Program to count no of person instances is created using a static method\n",
    "class Person:\n",
    "    personCount = 0\n",
    "    def __init__(self, name, DOB, address):\n",
    "        '''\n",
    "        Objective: To initialize object of class Person\n",
    "        Input Parameters:\n",
    "            self (implicit parameter) - object of type Person\n",
    "            name - string\n",
    "            DOB - string (Date Of Birth)\n",
    "            address - string\n",
    "        Return Value: None\n",
    "        '''\n",
    "        self.name = name\n",
    "        self.DOB = DOB\n",
    "        self. address =address\n",
    "        Person.incPersonCount()\n",
    "    @staticmethod\n",
    "    def incPersonCount():\n",
    "        '''\n",
    "        Objective: To increment value of class variable personCount\n",
    "        Input Parameter: None\n",
    "        Return Value: None\n",
    "        '''\n",
    "        Person.personCount+=1\n",
    "    @staticmethod\n",
    "    def getPersonCount():\n",
    "        '''\n",
    "        Objective: To determine value of class cariable personCount\n",
    "        Input Parameter: None\n",
    "        Return Value: personCount\n",
    "        '''\n",
    "        return Person.personCount"
   ]
  },
  {
   "cell_type": "code",
   "execution_count": 14,
   "id": "7af4e839-0744-4181-ad78-39ab33476d27",
   "metadata": {},
   "outputs": [
    {
     "name": "stdout",
     "output_type": "stream",
     "text": [
      "2\n"
     ]
    }
   ],
   "source": [
    "p1 = Person('Smita', '20 May 1980', 'House-17 Block-10, Shalimar Road, Delhi')\n",
    "p2 = Person('Aarushi', '20 April, 1990', 'House-175 Block-10, Shalimar Road, Delhi')\n",
    "print(Person.getPersonCount())"
   ]
  },
  {
   "cell_type": "markdown",
   "id": "bf615515-585d-4762-9421-d99efbc563ec",
   "metadata": {},
   "source": [
    "### Adding Methods Dynamically\n",
    "- Once all the methods of the class have been defined, one may realize the need to add another method to the class or a particular instance of the class. Python allows us to add methods dynamically to a class using the syntax\n",
    "  className . newMethodName = existingFunctionName"
   ]
  },
  {
   "cell_type": "code",
   "execution_count": 15,
   "id": "81229bf1-aa1b-4edf-a0a6-4c7bfc98d648",
   "metadata": {},
   "outputs": [],
   "source": [
    "from types import MethodType\n",
    "class Student:\n",
    "    maxMarks = 500\n",
    "    def __init__(self, name, rollNo, marks):\n",
    "        '''\n",
    "        Objective: To initialize object of class Student\n",
    "        Input Parameters:\n",
    "            self (implicit parameter) - object of type Student\n",
    "            name - string\n",
    "            rollNo, totalMarks - numeric value\n",
    "        Return Value: None\n",
    "        '''\n",
    "        self.name = name\n",
    "        self.rollNo = rollNo\n",
    "        self.marks = marks\n",
    "    def percentage(self):\n",
    "        '''\n",
    "        Objective: To compute the percentage of marks obtained by a student\n",
    "        Input parameters:\n",
    "            self (implicit parameter) - object of type Employee\n",
    "         Return Value: percent\n",
    "         '''\n",
    "        percent = (float(self.marks)/ Student.maxMarks) * 100\n",
    "        return percent\n",
    "def result(self):\n",
    "    '''\n",
    "    Objective: To compute the result of a student\n",
    "                Pass if percentage>=40, fail otherwise\n",
    "    Input Parameter:\n",
    "        self (implicit parameter) - object of type Student\n",
    "    Return Value: string\n",
    "    '''\n",
    "    return 'pass' if self.percentage() >= 40 else 'fail'"
   ]
  },
  {
   "cell_type": "code",
   "execution_count": 16,
   "id": "c27f6c9a-a76b-44b0-8c8a-b5081ca13f67",
   "metadata": {},
   "outputs": [
    {
     "name": "stdout",
     "output_type": "stream",
     "text": [
      "90.0\n"
     ]
    },
    {
     "data": {
      "text/plain": [
       "'pass'"
      ]
     },
     "execution_count": 16,
     "metadata": {},
     "output_type": "execute_result"
    }
   ],
   "source": [
    "s1 = Student('Amey', 47, 450)\n",
    "print(s1.percentage())\n",
    "s1.result = MethodType(result, s1)\n",
    "s1.result()"
   ]
  },
  {
   "cell_type": "markdown",
   "id": "9f092942-f45e-4af4-9759-aaf57338479d",
   "metadata": {},
   "source": [
    "### Composition\n",
    "- The process of using objects of the other classes as attribute values for other classes is called object composition."
   ]
  },
  {
   "cell_type": "code",
   "execution_count": 17,
   "id": "37ffa7d6-6ae5-420c-830e-a6513a66e772",
   "metadata": {},
   "outputs": [],
   "source": [
    "import sys\n",
    "sys.path.append('PYTHON')\n",
    "from date import MyDate\n",
    "class Person:\n",
    "    '''\n",
    "    The class Person describes a person\n",
    "    '''\n",
    "    count = 0\n",
    "    def __init__(self, name, DOB, address):\n",
    "        '''\n",
    "        Objectives: To initialize object of class Person\n",
    "        Input Parameters:\n",
    "            self (implicit parameter) - object of type Person\n",
    "            name - string\n",
    "            DOB - string (Date Of Birth)\n",
    "            address - string\n",
    "        Return Value: None\n",
    "        '''\n",
    "        self.name = name\n",
    "        self.DOB = DOB\n",
    "        self.address = address\n",
    "        Person.count += 1\n",
    "    def getName(self):\n",
    "        '''\n",
    "        Objective: To retrieve name of the person\n",
    "        Input Parameter: self (implicit parameter) - object of the type Person\n",
    "        Return Value: name - string\n",
    "        '''\n",
    "        return self.name\n",
    "    def getDOB(self):\n",
    "        '''\n",
    "        Objective: To retrieve the date of birth of a person\n",
    "        Input Parameter: self (implicit parameter) - object of type Person\n",
    "        Return Value: DOB - string\n",
    "        '''\n",
    "        return self.DOB\n",
    "    def getAddress(self):\n",
    "        '''\n",
    "        Objective: To retrieve address of person\n",
    "        Input Parameter: self (implicit parameter) - object of type Person\n",
    "        Return Value: address - string\n",
    "        '''\n",
    "        return self.address\n",
    "    def setName(self, name):\n",
    "        '''\n",
    "        Objective: To update name of a person\n",
    "        Input Parameter: self (implicit parameter) - object of type Person\n",
    "            name - string value\n",
    "        Return Value: None\n",
    "        '''\n",
    "        self.name = name\n",
    "    def setDOB(self, DOB):\n",
    "        '''\n",
    "        Objective: To update DOB of a person\n",
    "        Input Parameter: self (implicit parameter) - object of type Person\n",
    "            DOB - string value\n",
    "        Return Value: None\n",
    "        '''\n",
    "        self.DOB = DOB\n",
    "    def setaddress(self, address):\n",
    "        '''\n",
    "        Objective: To update address of a person\n",
    "        Input Parameter: self (implicit parameter) - object of type Person\n",
    "            address - string value\n",
    "        Return Value: None\n",
    "        '''\n",
    "        self.address = address\n",
    "    def getCount(self):\n",
    "        '''\n",
    "        Objective: To get count of objects of type Person\n",
    "        Input Parameter: self (implicit parameter) - object of type Person\n",
    "        Return Value: count: numeric\n",
    "        '''\n",
    "        return Person.count\n",
    "    def __str__(self):\n",
    "        '''\n",
    "        Objective: To return string represention of object of type Person\n",
    "        Input Parameter: self (implicit parameter) - object of type Person\n",
    "        Return Value: string\n",
    "        '''\n",
    "        return 'Name:'+self.name+'\\nDOB:'+str(self.DOB)+'\\nAddress:'+self.address"
   ]
  },
  {
   "cell_type": "code",
   "execution_count": 18,
   "id": "9a3ad1e6-c901-44f4-bab2-a9467d4a5b84",
   "metadata": {
    "scrolled": true
   },
   "outputs": [
    {
     "name": "stdout",
     "output_type": "stream",
     "text": [
      "Name:Rajat Mittal\n",
      "DOB:24-10-1991\n",
      "Address:B-23, Malviya Nagar, Delhi\n"
     ]
    }
   ],
   "source": [
    "dob = MyDate(24, 10, 1991)\n",
    "p1 = Person('Rajat Mittal', dob, 'B-23, Malviya Nagar, Delhi')\n",
    "print(p1)"
   ]
  },
  {
   "cell_type": "markdown",
   "id": "59adc885-b166-4f53-8f06-f62ded5326af",
   "metadata": {},
   "source": [
    "### Inheritance\n",
    "- Inheritence is an important feature of object oriented programming that imparts ability to a class to inherit properties and behaviour of another class. The class object includes a rich set of special Python functions as seen below:\n"
   ]
  },
  {
   "cell_type": "code",
   "execution_count": 19,
   "id": "98ba7c98-997c-4885-853f-c053df774515",
   "metadata": {},
   "outputs": [
    {
     "data": {
      "text/plain": [
       "['__class__',\n",
       " '__delattr__',\n",
       " '__dir__',\n",
       " '__doc__',\n",
       " '__eq__',\n",
       " '__format__',\n",
       " '__ge__',\n",
       " '__getattribute__',\n",
       " '__getstate__',\n",
       " '__gt__',\n",
       " '__hash__',\n",
       " '__init__',\n",
       " '__init_subclass__',\n",
       " '__le__',\n",
       " '__lt__',\n",
       " '__ne__',\n",
       " '__new__',\n",
       " '__reduce__',\n",
       " '__reduce_ex__',\n",
       " '__repr__',\n",
       " '__setattr__',\n",
       " '__sizeof__',\n",
       " '__str__',\n",
       " '__subclasshook__']"
      ]
     },
     "execution_count": 19,
     "metadata": {},
     "output_type": "execute_result"
    }
   ],
   "source": [
    "dir(object)"
   ]
  },
  {
   "cell_type": "markdown",
   "id": "4885dea2-88b7-44c5-b564-aad225a5be87",
   "metadata": {},
   "source": [
    "### Inheritance\n",
    "Inheritance is the process of extending the properties of one class to other class. The class extending the properties is called child or derived or sub class and the class that\n",
    "extended the properties is called the base or super or parent class."
   ]
  },
  {
   "cell_type": "markdown",
   "id": "7a737374-9f24-4188-a5b6-475af04dcd3a",
   "metadata": {},
   "source": [
    "##### Single Inheritance\n",
    "- When inheritance involves a derived class that derives its properties from a single bases class, it is called single inheritence."
   ]
  },
  {
   "cell_type": "code",
   "execution_count": 20,
   "id": "15ed1f13-e998-4933-a5bf-cd4cd1d77590",
   "metadata": {},
   "outputs": [],
   "source": [
    "from person import Person\n",
    "from date import MyDate\n",
    "class Employee(Person):\n",
    "    nextId = 1001\n",
    "    employeeCount = 0\n",
    "    def __init__(self, name, DOB, address, basicSalary, dateOfJoining):\n",
    "        '''\n",
    "        Objective: To initialize an object of class Employee\n",
    "        Input Parameters:\n",
    "            self (implicit parameter) - object of type Employee\n",
    "            name, address - string\n",
    "            DOB - Date of Birth - object of type MyDate\n",
    "            basicSalary - numeric value\n",
    "            dateOfJoining - object of type MyDate\n",
    "        Return Value: None\n",
    "        '''\n",
    "        Person.__init__(self, name, DOB, address)\n",
    "        self.idNum = Employee.nextId\n",
    "        self.basicSalary = basicSalary\n",
    "        self.dateOfJoining = dateOfJoining\n",
    "        Employee.nextId +=1\n",
    "        Employee.employeeCount +=1\n",
    "    def getId(self):\n",
    "        '''\n",
    "        Objective: To retrieve id of the Employee\n",
    "        Input Parameter: self (implicit parameter) - object of type Employee\n",
    "        Return Value: id -numeric value\n",
    "        '''\n",
    "        return self.idNum\n",
    "    def getSalary(self):\n",
    "        '''\n",
    "        Objective: To retrieve salary of the Employee\n",
    "        Input Parameter: self (implicit paramter) - object of type Employee\n",
    "        Return Value: basicSalary - numeric value\n",
    "        '''\n",
    "        return self.basicSalary\n",
    "    def reviseSalary(self, newSalary):\n",
    "        '''\n",
    "        Objective: To update salary of the Employee\n",
    "        Input Parameter: \n",
    "            self (implicit parameter) - object of type Employee\n",
    "            newSalary - numeric value\n",
    "        Return value: None\n",
    "        '''\n",
    "        self.basicSalary = newSalary\n",
    "    def getJoiningDate(self):\n",
    "        '''\n",
    "        Objective: To retrieve joining date of the Employee\n",
    "        Input Parameter: self (implicit parameter) - object of type Employee\n",
    "        Return Value: dateOfJoining - object of type MyDate\n",
    "        '''\n",
    "        return self.dateOfJoining\n",
    "    def __str__(self):\n",
    "        '''\n",
    "        Objective: To return string representation of object of type Employee.\n",
    "        Input Parameter: self (implicit parameter) - object of type Employee\n",
    "        Return Value: string\n",
    "        '''\n",
    "        return Person.__str__(self)+'\\nId:'+str(self.getId())+\\\n",
    "        '\\nSalary:'+str(self.getSalary())+\\\n",
    "        '\\nDate of Joining:'+str(self.getJoiningDate())\n",
    "    def __lt__(self, other):\n",
    "        '''\n",
    "        Objective: To check if id of the first employee is less than the other\n",
    "        Input Parameter:\n",
    "            self (implicit parameter) - object of type Employee\n",
    "            other - object of type Parameter\n",
    "        Return Value: True if self.getId() < other.getId(), else False\n",
    "        '''\n",
    "        return self.getId() < other.getId()\n",
    "    def __del__(self):\n",
    "        '''\n",
    "        Objective: To be invoked on the deletion of an instance of a class Employee\n",
    "        Input Parameter:\n",
    "            self (implicit parameter) - object of type Employee\n",
    "        Return Value: None\n",
    "        '''\n",
    "        Person.__del__(self)\n",
    "        Employee.employeeCount -= 1"
   ]
  },
  {
   "cell_type": "code",
   "execution_count": 21,
   "id": "ed24e5a3-9078-4ac2-91e5-e8c616d69c9d",
   "metadata": {},
   "outputs": [
    {
     "name": "stdout",
     "output_type": "stream",
     "text": [
      "1\n"
     ]
    }
   ],
   "source": [
    "Person1 = Person('ShyamKapoor', MyDate(24, 10, 1991), 'B-23, Malviya Nagar, Delhi')\n",
    "print(Person1.count)"
   ]
  },
  {
   "cell_type": "code",
   "execution_count": 22,
   "id": "7226b1b5-95fb-47f4-857c-a35ff3d6231c",
   "metadata": {},
   "outputs": [
    {
     "name": "stdout",
     "output_type": "stream",
     "text": [
      "Name:Rehman\n",
      "DOB:05-06-1991\n",
      "Address:D-9, Vivek Vihar, Delhi\n",
      "Id:1001\n",
      "Salary:50000\n",
      "Date of Joining:02-08-2013\n",
      "1\n"
     ]
    }
   ],
   "source": [
    "emp1 = Employee('Rehman', MyDate(5, 6, 1991), 'D-9, Vivek Vihar, Delhi', 50000, MyDate(2, 8, 2013))\n",
    "print(emp1.__str__())\n",
    "print(emp1.employeeCount)"
   ]
  },
  {
   "cell_type": "code",
   "execution_count": 23,
   "id": "27564ab4-1613-455c-aa4b-483bedcfab8b",
   "metadata": {},
   "outputs": [
    {
     "name": "stdout",
     "output_type": "stream",
     "text": [
      "Deleted !!\n"
     ]
    }
   ],
   "source": [
    "del emp1"
   ]
  },
  {
   "cell_type": "markdown",
   "id": "716608ba-d9e7-4405-a51a-30130c2c45ae",
   "metadata": {},
   "source": [
    "### Scope Rule\n",
    "- To access an instance attribute, Python will first look for it in the instance namespace, then in the class namespace, and then in the superclass namespace recursively going up in the hierarchy"
   ]
  },
  {
   "cell_type": "code",
   "execution_count": 24,
   "id": "92bba3a1-dd04-405f-9f14-6fe0a6ab7406",
   "metadata": {},
   "outputs": [
    {
     "name": "stdout",
     "output_type": "stream",
     "text": [
      "ob1:\n",
      "w:100, x:2, y:10, z:10\n",
      "ob2:\n",
      "w:100, x:6, y:10, z:10, v:50\n",
      "dir(A):\n",
      " ['__class__', '__delattr__', '__dict__', '__dir__', '__doc__', '__eq__', '__format__', '__ge__', '__getattribute__', '__getstate__', '__gt__', '__hash__', '__init__', '__init_subclass__', '__le__', '__lt__', '__module__', '__ne__', '__new__', '__reduce__', '__reduce_ex__', '__repr__', '__setattr__', '__sizeof__', '__str__', '__subclasshook__', '__weakref__', 'z']\n",
      "dir(ob1):\n",
      " ['__class__', '__delattr__', '__dict__', '__dir__', '__doc__', '__eq__', '__format__', '__ge__', '__getattribute__', '__getstate__', '__gt__', '__hash__', '__init__', '__init_subclass__', '__le__', '__lt__', '__module__', '__ne__', '__new__', '__reduce__', '__reduce_ex__', '__repr__', '__setattr__', '__sizeof__', '__str__', '__subclasshook__', '__weakref__', 'w', 'x', 'y', 'z']\n",
      "dir(B):\n",
      " ['__class__', '__delattr__', '__dict__', '__dir__', '__doc__', '__eq__', '__format__', '__ge__', '__getattribute__', '__getstate__', '__gt__', '__hash__', '__init__', '__init_subclass__', '__le__', '__lt__', '__module__', '__ne__', '__new__', '__reduce__', '__reduce_ex__', '__repr__', '__setattr__', '__sizeof__', '__str__', '__subclasshook__', '__weakref__', 'x', 'y', 'z']\n",
      "dir(ob2):\n",
      " ['__class__', '__delattr__', '__dict__', '__dir__', '__doc__', '__eq__', '__format__', '__ge__', '__getattribute__', '__getstate__', '__gt__', '__hash__', '__init__', '__init_subclass__', '__le__', '__lt__', '__module__', '__ne__', '__new__', '__reduce__', '__reduce_ex__', '__repr__', '__setattr__', '__sizeof__', '__str__', '__subclasshook__', '__weakref__', 'v', 'w', 'x', 'y', 'z']\n"
     ]
    }
   ],
   "source": [
    "class A:\n",
    "    z = 10\n",
    "    def __init__(self):\n",
    "        '''\n",
    "        Objective: To initialize object of class A\n",
    "        Input Parameter:\n",
    "            self (implicit parameter) - object of type A\n",
    "        Return Value: None\n",
    "        '''\n",
    "        self.x = 2\n",
    "        self.y = 10\n",
    "        self.w = 100\n",
    "    def __str__(self):\n",
    "        '''\n",
    "        Objective: To return string representation of object of type A\n",
    "        Input Parameter:\n",
    "            self (implicit parameter) - object of type A\n",
    "        Return Value: None\n",
    "        '''\n",
    "        return 'w:'+ str(self.w) + ', x:'+str(self.x) + ', y:' +str(self.y) + ', z:' + str(self.z)\n",
    "class B(A):\n",
    "    # B is subclass of A\n",
    "    x = 4\n",
    "    y = 20\n",
    "    def __init__(self):\n",
    "        A.__init__(self)\n",
    "        self.x = 6\n",
    "        self.v = 50\n",
    "    def __str__(self):\n",
    "        return A.__str__(self) + ', v:' + str(self.v)\n",
    "def main():\n",
    "    '''\n",
    "    Objective: To illustrate scope of attributes\n",
    "    Input Parameter: None\n",
    "    Return Value: None\n",
    "    '''\n",
    "    ob1 = A()\n",
    "    ob2 = B()\n",
    "    print('ob1:\\n' + str(ob1))\n",
    "    print('ob2:\\n' + str(ob2))\n",
    "    print('dir(A):\\n', dir(A))\n",
    "    print('dir(ob1):\\n',dir(ob1))\n",
    "    print('dir(B):\\n', dir(B))\n",
    "    print('dir(ob2):\\n', dir(ob2))\n",
    "if __name__==\"__main__\":\n",
    "    main()"
   ]
  },
  {
   "cell_type": "code",
   "execution_count": 25,
   "id": "8cf9010d-de8a-4cab-9b35-6995902d7a1b",
   "metadata": {},
   "outputs": [],
   "source": [
    "# Extending scope of int class Using a User Defined Class\n",
    "class MyInt(int):\n",
    "    def __len__(self):\n",
    "        '''\n",
    "        Objective: To find the number of digits in an integer\n",
    "        Input Parameter: self (implicit parameter) - object of type MyInt\n",
    "        Return VAlue: digits - numeric\n",
    "        '''\n",
    "        num = self\n",
    "        if num < 0:\n",
    "            num = -num\n",
    "        digits = 0\n",
    "        while num > 0 :\n",
    "            num = num // 10\n",
    "            digits += 1\n",
    "        return digits if digits > 0 else 1 # return 1 if number == 0"
   ]
  },
  {
   "cell_type": "code",
   "execution_count": 26,
   "id": "29528d6c-5db0-43f2-84cb-e5b323221e87",
   "metadata": {},
   "outputs": [
    {
     "name": "stdout",
     "output_type": "stream",
     "text": [
      "3\n"
     ]
    }
   ],
   "source": [
    "length = MyInt(101)\n",
    "print(length.__len__())"
   ]
  },
  {
   "cell_type": "markdown",
   "id": "7b718081-f3d6-4b33-844d-b3e7431bbca3",
   "metadata": {},
   "source": [
    "### Hierarchical Inheritance\n",
    "- A derived class is like any other class and may serve as base class for another class derived from it and so on. Each derived class may define its new attributes. Thus, inheritance allows us to create a class hierarchy, also called type hiererchy."
   ]
  },
  {
   "cell_type": "code",
   "execution_count": 27,
   "id": "ab4a6537-83f4-4162-8b48-b452e3392930",
   "metadata": {},
   "outputs": [],
   "source": [
    "import sys\n",
    "sys.path.append('PYTHON')\n",
    "from date import MyDate\n",
    "from employee import Employee\n",
    "class Clerk(Employee):\n",
    "    clerkcount = 0\n",
    "    def __init__(self, name, DOB, address, basicSalary, dateOfJoining):\n",
    "        '''\n",
    "        Objective: To initialize object of class Clerk\n",
    "        Input Parameter:\n",
    "            self (implicit parameter) - type object of Employee\n",
    "            name, address - string\n",
    "            basicSalary - numeric value\n",
    "            dateOfJoining - object of type MyDate\n",
    "        Return Value: None\n",
    "        '''\n",
    "        super().__init__(name, DOB, address, basicSalary, dateOfJoining)\n",
    "        Clerk.clerkcount +=1\n",
    "    def __del__(self):\n",
    "        '''\n",
    "        Objective: To initialize object of class Clerk\n",
    "        Input Parameter:\n",
    "            self (implicit parameter) - type of object Employee\n",
    "        Return Value: None\n",
    "        '''\n",
    "        super().__del__()\n",
    "        Clerk.clerkcount -= 1\n",
    "class Manager(Employee):\n",
    "    managercount = 0\n",
    "    def __init__(self, name, DOB, address, basicSalary, dateOfJoining, managerialPay):\n",
    "        '''\n",
    "        Objective: To initialize object of class Manger\n",
    "        Input Parameter:\n",
    "            self (implicit parameter) - type of object Employee\n",
    "            name, address - string\n",
    "            basicSalary - numeric value\n",
    "            dateOfJoining - object of type MyDate\n",
    "        Return Value: None\n",
    "        '''\n",
    "        super().__init__(name, DOB, address, basicSalary, dateOfJoining)\n",
    "        self.managerialPay = managerialPay\n",
    "        Manager.managercount += 1\n",
    "    def updatemanagerialPay(self, newManagerialPay):\n",
    "        '''\n",
    "        Objective: To initialize object of class Manager\n",
    "        Input Parameter:\n",
    "            self (implicit parameter) - type of object Manager\n",
    "            newMangerialPay - numeric value\n",
    "        Return Value: None\n",
    "        '''\n",
    "        self.managerialPay = newMangerialPay\n",
    "    def getSalary(self):\n",
    "        '''\n",
    "        Objective: To initialize of class Manager\n",
    "        Input Parameter:\n",
    "            self (implicit parameter) - type of object Manager\n",
    "        Return Value: salary - numeric value\n",
    "        '''\n",
    "        return Employee.getSalary(self) + self.managerialPay\n",
    "    def __str__(self):\n",
    "        '''\n",
    "        Objective: To initialize of class Manager\n",
    "        Input Parameter:\n",
    "            self (implicit parameter) - type of object Manager\n",
    "        Return Value: string\n",
    "        '''\n",
    "        return Employee.__str__(self)+'\\nManagerialPay:'+ str(self.managerialPay)\n",
    "    def __del__(self):\n",
    "        '''\n",
    "        Objective: To initialize of class Manager\n",
    "        Input Parameter:\n",
    "            self (implicit parameter) - type of object Manager\n",
    "        Return Value: None\n",
    "        '''\n",
    "        super().__del__()\n",
    "        Manager.managercount -=1"
   ]
  },
  {
   "cell_type": "code",
   "execution_count": 28,
   "id": "1e5bcaf4-178e-45c2-86a4-d2e7d8e7a37e",
   "metadata": {},
   "outputs": [
    {
     "name": "stdout",
     "output_type": "stream",
     "text": [
      "Name:Arun\n",
      "DOB:05-06-1991\n",
      "Address:D-9, Sarojni Nagar, Delhi\n",
      "Id:1001\n",
      "Salary:20000\n",
      "Date of Joining:05-06-2014\n"
     ]
    }
   ],
   "source": [
    "clerk1 = Clerk('Arun', MyDate(5, 6, 1991), 'D-9, Sarojni Nagar, Delhi', 20000, MyDate(5, 6, 2014))\n",
    "print(clerk1)"
   ]
  },
  {
   "cell_type": "code",
   "execution_count": 29,
   "id": "a6186ae0-d596-475c-adad-dac9dba2db9e",
   "metadata": {},
   "outputs": [
    {
     "name": "stdout",
     "output_type": "stream",
     "text": [
      "Name:Arun\n",
      "DOB:05-06-1991\n",
      "Address:D-9, Vivek Vihar, Delhi\n",
      "Id:1002\n",
      "Salary:52000\n",
      "Date of Joining:05-06-2014\n",
      "ManagerialPay:2000\n"
     ]
    }
   ],
   "source": [
    "manager1 = Manager('Arun', MyDate(5, 6, 1991), 'D-9, Vivek Vihar, Delhi', 50000, MyDate(5, 6, 2014), 2000)\n",
    "print(manager1)"
   ]
  },
  {
   "cell_type": "markdown",
   "id": "8c6f7377-d2f2-41c6-b09c-78f0ca848e1b",
   "metadata": {},
   "source": [
    "### Multiple Inheritance\n",
    "- A subclass dervies its attributes from two  or more classes."
   ]
  },
  {
   "cell_type": "code",
   "execution_count": 30,
   "id": "b28f6ccf-be5c-46c7-9998-89ec2cb07c0e",
   "metadata": {},
   "outputs": [],
   "source": [
    "# MyTime class\n",
    "import sys\n",
    "class MyTime:\n",
    "    def __init__(self, hours = 0, minutes = 0, seconds = 0):\n",
    "        '''\n",
    "        Objective: To initialize data members of an object of class MyTime\n",
    "        Input Parameters:\n",
    "            self (implicit parameter) - object of type MyTime\n",
    "            hours, minutes, seconds - numeric value\n",
    "        Return Value: None\n",
    "        '''\n",
    "        self.setHours(hours)\n",
    "        self.setMinutes(minutes)\n",
    "        self.setSeconds(seconds)\n",
    "    def setHours(self, hours):\n",
    "        '''\n",
    "        Objective: To set hours of object of class MyTime\n",
    "        Input Parameters:\n",
    "            self (implicit parameter) - object of type MyTime\n",
    "            hours - numeric value\n",
    "        Return Value: None\n",
    "        '''\n",
    "        if hours >=  0 and hours <=23:\n",
    "            self.hours = hours\n",
    "        else:\n",
    "            print(\"Invlaid value for hours\")\n",
    "            sys.exit()\n",
    "    def setMinutes(self, minutes):\n",
    "        '''\n",
    "        Objective: To set minutes of object of class MyTime\n",
    "        Input Parameters:\n",
    "            self (implicit parameter) - object of type MyTime\n",
    "            minutes - numeric value\n",
    "        Return Value: None\n",
    "        '''\n",
    "        if minutes >=0 and minutes <=59:\n",
    "            self.minutes = minutes\n",
    "        else:\n",
    "            print(\"Invalid value for minutes\")\n",
    "            sys.exit()\n",
    "    def setSeconds(self, seconds):\n",
    "        '''\n",
    "        Objective: To set seconds of object of class MyTime\n",
    "        Input Parameters:\n",
    "            self (implicit parameter) - object of type MyTime\n",
    "            seconds - numeric value\n",
    "        Return Value: None\n",
    "        '''\n",
    "        if seconds >= 0 and seconds <= 59:\n",
    "            self.seconds = seconds\n",
    "        else:\n",
    "            print(\"Invalid value for seconds\")\n",
    "            sys.exit()\n",
    "    def __str__(self):\n",
    "        '''\n",
    "        Objective: To return string representation of object of type MyTime\n",
    "        Input Parameter:\n",
    "            self (implicit parameter) - object of type MyTime\n",
    "        Return Value: string\n",
    "        '''\n",
    "        if self.hours <= 9:\n",
    "            hours = '0'+ str(self.hours)\n",
    "        else:\n",
    "            hours = str(self.hours)\n",
    "        if self.minutes <= 9:\n",
    "            minutes = '0'+str(self.minutes)\n",
    "        else:\n",
    "            minutes = str(self.minutes)\n",
    "        if self.seconds <= 9:\n",
    "            seconds = '0'+ str(self.seconds)\n",
    "        else:\n",
    "            seconds = str(self.seconds)\n",
    "        return 'hours:' + hours + 'minutes' + minutes + 'seconds:' + seconds # hh:mm:ss format"
   ]
  },
  {
   "cell_type": "code",
   "execution_count": 31,
   "id": "555cfdf4-cdf3-4820-9c66-8065ed1d2175",
   "metadata": {},
   "outputs": [],
   "source": [
    "# Appointment class to implement MyDate and MyTime for example of hierarchical inheritance\n",
    "import sys\n",
    "from date import MyDate\n",
    "from time1 import MyTime\n",
    "class Appointment(MyDate, MyTime):\n",
    "    def __init__(self, day, month, year, hours, minutes, seconds, description):\n",
    "        '''\n",
    "        Objective: To initialize data members of object\n",
    "        Input parameters:\n",
    "            self (implicit parameter) - object type of Appointment\n",
    "            day, month, year, hours, minutes, seconds - numeric value\n",
    "        Return Value: None\n",
    "        '''\n",
    "        MyDate.__init__(self, day, month, year)\n",
    "        MyTime.__init__(self, hours, minutes, seconds)\n",
    "        self.description = description\n",
    "    def __str__(self):\n",
    "        '''\n",
    "        Objective: To return string representation of object of type Appointment\n",
    "        Input Parameter:\n",
    "            self (implicit parameter) - object type of Appointment\n",
    "        Return Value: None\n",
    "        '''\n",
    "        return MyDate.__str__(self) + ', ' + MyTime.__str__(self) + '\\n' + self.description"
   ]
  },
  {
   "cell_type": "code",
   "execution_count": 32,
   "id": "87976b66-9877-4bfd-91df-1b24dd8b3a06",
   "metadata": {},
   "outputs": [
    {
     "name": "stdout",
     "output_type": "stream",
     "text": [
      "15-07-2014, 10:00:00\n",
      " Meeting with staff regarding admissions\n"
     ]
    }
   ],
   "source": [
    "meetStaff = Appointment(15, 7, 2014, 10, 0, 0, ' Meeting with staff regarding admissions')\n",
    "print(meetStaff)"
   ]
  },
  {
   "cell_type": "markdown",
   "id": "7b5b6af5-c8a6-4ca0-8b16-022eb3f1ca11",
   "metadata": {},
   "source": [
    "### Abstract Methods\n",
    "- Abstract methods in a base class identifies the functionality that should be implemented by all its subclasses. However, since the implementation of an abstract method would differ from one subclass to another, ofhten the method body comprises just a pass statement. Every subclass will override this method with its implementation. A class containing abstract method is called abstract class."
   ]
  },
  {
   "cell_type": "code",
   "execution_count": 33,
   "id": "2f9248c7-0c13-4738-80f8-542d7a75928f",
   "metadata": {},
   "outputs": [],
   "source": [
    "# Abstract method example\n",
    "from abc import ABCMeta, abstractmethod\n",
    "class Shape:\n",
    "    def __init__(self, shapeType):\n",
    "        '''\n",
    "        Objective: To initialize object of type Shape\n",
    "        Input Parameter: \n",
    "            self (implicit parameter) - object type of Shape\n",
    "            shapeType - string\n",
    "        Return Value: None\n",
    "        '''\n",
    "        self.shapeType = shapeType\n",
    "    @abstractmethod\n",
    "    def area(self):\n",
    "        pass\n",
    "    @abstractmethod\n",
    "    def perimeter(self):\n",
    "        pass\n",
    "class Rectangle(Shape):\n",
    "    def __init__(self, length, breadth):\n",
    "        '''\n",
    "        Objective: To initialize object of type Rectangle\n",
    "        Input Parameters:\n",
    "            self (implicit parameter) - object type of Rectangle\n",
    "            length, breadth - numeric value\n",
    "        Return Value: None\n",
    "        '''\n",
    "        Shape.__init__(self, Rectangle)\n",
    "        self.length = length\n",
    "        self.breadth = breadth\n",
    "    def area(self):\n",
    "        '''\n",
    "        Objective: To compute area of the Rectangle\n",
    "        Input Parameter:\n",
    "            self (implicit parameter) - object type of Rectangle\n",
    "        Return Value: area - numberic value\n",
    "        '''\n",
    "        return self.length * self.breadth\n",
    "    def perimeter(self):\n",
    "        '''\n",
    "        Objective: To compute perimeter of the Rectangle\n",
    "        Input Parameter:\n",
    "            self (implicit  parameter) - object of type Rectangle\n",
    "        Return Value: perimenter - numeric value\n",
    "        '''\n",
    "        return 2*(self.length+self.breadth)\n",
    "class Circle(Shape):\n",
    "    def __init__(self, radius):\n",
    "        '''\n",
    "        Objective: To initialize object of type Circle\n",
    "        Input Parameters:\n",
    "            self (implicit parameter) - object type of Circle\n",
    "            radius - numeric value\n",
    "        Return Value: None\n",
    "        '''\n",
    "        Shape.__init__(self, Circle)\n",
    "        self.radius = radius\n",
    "    def area(self):\n",
    "        '''\n",
    "        Objective: To compute area of the Circle\n",
    "        Input Parameter:\n",
    "            self (implicit parameter) - object type of Circle\n",
    "        Return Value: area - numberic value\n",
    "        '''\n",
    "        return round(3.14 * self.radius**2, 2)\n",
    "    def perimeter(self):\n",
    "        '''\n",
    "        Objective: To compute perimeter of the Rectangle\n",
    "        Input Parameter:\n",
    "            self (implicit  parameter) - object of type Rectangle\n",
    "        Return Value: perimenter - numeric value\n",
    "        '''\n",
    "        return round(2 * 3.14 * self.radius, 2)"
   ]
  },
  {
   "cell_type": "code",
   "execution_count": 34,
   "id": "c94f09e3-d1a2-43bc-b188-b3fbcef6feeb",
   "metadata": {},
   "outputs": [
    {
     "name": "stdout",
     "output_type": "stream",
     "text": [
      "Area of rectangle: 450\n",
      "Perimeter of rectangle: 90\n",
      "Area of circle: 78.5\n",
      "Perimeter of circle: 31.4\n"
     ]
    }
   ],
   "source": [
    "rectangle = Rectangle(30, 15)\n",
    "print(\"Area of rectangle:\", rectangle.area())\n",
    "print(\"Perimeter of rectangle:\", rectangle.perimeter())\n",
    "circle = Circle(5)\n",
    "print(\"Area of circle:\", circle.area())\n",
    "print(\"Perimeter of circle:\", circle.perimeter())"
   ]
  },
  {
   "cell_type": "markdown",
   "id": "7e781ab9-e4fc-48f9-83b3-861b3a094082",
   "metadata": {},
   "source": [
    "### Attribute Resolution Order for Inheritance\n",
    "- Python classes are categorized as old and new style classes. In the new style classes, to access an attribute of an object, Python typically looks for it in the namespace of the object itself, then in the namespace of the class, then in the namespace of the superclass in the order in which they are derived and so on."
   ]
  },
  {
   "cell_type": "code",
   "execution_count": 35,
   "id": "c9e77f66-c1a1-48b2-8e39-2e2b5ec29411",
   "metadata": {},
   "outputs": [
    {
     "name": "stdout",
     "output_type": "stream",
     "text": [
      "50\n"
     ]
    }
   ],
   "source": [
    "class A:\n",
    "    test = 20\n",
    "class B1(A):\n",
    "    pass\n",
    "class B2(A):\n",
    "    test = 50\n",
    "class C(B1, B2):\n",
    "    def __str__(self):\n",
    "        return str(self.test)\n",
    "def main():\n",
    "    '''\n",
    "    Objective: To illustrate attribute resolution order in new-style classes\n",
    "    Input Parameter: None\n",
    "    Return Value: None\n",
    "    '''\n",
    "    c1 = C()\n",
    "    print(c1)\n",
    "if __name__==\"__main__\":\n",
    "    main()"
   ]
  },
  {
   "cell_type": "code",
   "execution_count": 36,
   "id": "46740a3a-6670-45fd-b603-63d21828fef3",
   "metadata": {},
   "outputs": [
    {
     "data": {
      "text/plain": [
       "(__main__.C, __main__.B1, __main__.B2, __main__.A, object)"
      ]
     },
     "execution_count": 36,
     "metadata": {},
     "output_type": "execute_result"
    }
   ],
   "source": [
    "C.__mro__ # __mro stands for method resolution order which tells the order at which the methods are executed."
   ]
  },
  {
   "cell_type": "markdown",
   "id": "c6950164-92b9-4245-9b6b-b3e11b6f1baa",
   "metadata": {},
   "source": [
    "### Built-In Functions For Classes\n",
    "Python provides several built-in functions that deal with classes and their instances"
   ]
  },
  {
   "cell_type": "code",
   "execution_count": 37,
   "id": "ae9cc798-21b7-4c4c-b4c8-329de2aa12dd",
   "metadata": {},
   "outputs": [
    {
     "name": "stdout",
     "output_type": "stream",
     "text": [
      "The issubclass example: True\n",
      "\n",
      "The isinstance example\n",
      "True\n",
      "True\n",
      "False\n",
      "\n",
      "The hasattr example\n",
      "False\n",
      "True\n",
      "\n",
      "The getattr example\n",
      "15\n",
      "\n",
      "None\n",
      "23-07-2014, 10:00:00\n",
      " Meeting with staff regarding admissions\n",
      "\n",
      "None\n"
     ]
    },
    {
     "ename": "AttributeError",
     "evalue": "'Appointment' object has no attribute 'day'",
     "output_type": "error",
     "traceback": [
      "\u001b[1;31m---------------------------------------------------------------------------\u001b[0m",
      "\u001b[1;31mAttributeError\u001b[0m                            Traceback (most recent call last)",
      "Cell \u001b[1;32mIn[37], line 52\u001b[0m\n\u001b[0;32m     47\u001b[0m \u001b[38;5;124;03m'''\u001b[39;00m\n\u001b[0;32m     48\u001b[0m \u001b[38;5;124;03mWe may delete an attribute attr of instance obj as follows:\u001b[39;00m\n\u001b[0;32m     49\u001b[0m \u001b[38;5;124;03mSyntax: delattr(obj, attr)\u001b[39;00m\n\u001b[0;32m     50\u001b[0m \u001b[38;5;124;03m'''\u001b[39;00m\n\u001b[0;32m     51\u001b[0m \u001b[38;5;28mprint\u001b[39m(\u001b[38;5;28mdelattr\u001b[39m(meetStaff, \u001b[38;5;124m'\u001b[39m\u001b[38;5;124mday\u001b[39m\u001b[38;5;124m'\u001b[39m))\n\u001b[1;32m---> 52\u001b[0m \u001b[38;5;28mprint\u001b[39m(meetStaff)\n",
      "Cell \u001b[1;32mIn[31], line 24\u001b[0m, in \u001b[0;36mAppointment.__str__\u001b[1;34m(self)\u001b[0m\n\u001b[0;32m     17\u001b[0m \u001b[38;5;28;01mdef\u001b[39;00m \u001b[38;5;21m__str__\u001b[39m(\u001b[38;5;28mself\u001b[39m):\n\u001b[0;32m     18\u001b[0m \u001b[38;5;250m    \u001b[39m\u001b[38;5;124;03m'''\u001b[39;00m\n\u001b[0;32m     19\u001b[0m \u001b[38;5;124;03m    Objective: To return string representation of object of type Appointment\u001b[39;00m\n\u001b[0;32m     20\u001b[0m \u001b[38;5;124;03m    Input Parameter:\u001b[39;00m\n\u001b[0;32m     21\u001b[0m \u001b[38;5;124;03m        self (implicit parameter) - object type of Appointment\u001b[39;00m\n\u001b[0;32m     22\u001b[0m \u001b[38;5;124;03m    Return Value: None\u001b[39;00m\n\u001b[0;32m     23\u001b[0m \u001b[38;5;124;03m    '''\u001b[39;00m\n\u001b[1;32m---> 24\u001b[0m     \u001b[38;5;28;01mreturn\u001b[39;00m MyDate\u001b[38;5;241m.\u001b[39m\u001b[38;5;21m__str__\u001b[39m(\u001b[38;5;28mself\u001b[39m) \u001b[38;5;241m+\u001b[39m \u001b[38;5;124m'\u001b[39m\u001b[38;5;124m, \u001b[39m\u001b[38;5;124m'\u001b[39m \u001b[38;5;241m+\u001b[39m MyTime\u001b[38;5;241m.\u001b[39m\u001b[38;5;21m__str__\u001b[39m(\u001b[38;5;28mself\u001b[39m) \u001b[38;5;241m+\u001b[39m \u001b[38;5;124m'\u001b[39m\u001b[38;5;130;01m\\n\u001b[39;00m\u001b[38;5;124m'\u001b[39m \u001b[38;5;241m+\u001b[39m \u001b[38;5;28mself\u001b[39m\u001b[38;5;241m.\u001b[39mdescription\n",
      "File \u001b[1;32m~\\PYTHON\\date.py:56\u001b[0m, in \u001b[0;36mMyDate.__str__\u001b[1;34m(self)\u001b[0m\n\u001b[0;32m     49\u001b[0m \u001b[38;5;250m\u001b[39m\u001b[38;5;124;03m'''\u001b[39;00m\n\u001b[0;32m     50\u001b[0m \u001b[38;5;124;03mObjective: To return string representation of object\u001b[39;00m\n\u001b[0;32m     51\u001b[0m \u001b[38;5;124;03mInput parameter:\u001b[39;00m\n\u001b[0;32m     52\u001b[0m \u001b[38;5;124;03m    self (implicit parameter) - object of type MyDate\u001b[39;00m\n\u001b[0;32m     53\u001b[0m \u001b[38;5;124;03mReturn Value: string\u001b[39;00m\n\u001b[0;32m     54\u001b[0m \u001b[38;5;124;03m'''\u001b[39;00m\n\u001b[0;32m     55\u001b[0m \u001b[38;5;66;03m# Approach: Use dd-mm-yyyy format\u001b[39;00m\n\u001b[1;32m---> 56\u001b[0m \u001b[38;5;28;01mif\u001b[39;00m \u001b[38;5;28mself\u001b[39m\u001b[38;5;241m.\u001b[39mday \u001b[38;5;241m<\u001b[39m\u001b[38;5;241m=\u001b[39m\u001b[38;5;241m9\u001b[39m:\n\u001b[0;32m     57\u001b[0m     day \u001b[38;5;241m=\u001b[39m \u001b[38;5;124m'\u001b[39m\u001b[38;5;124m0\u001b[39m\u001b[38;5;124m'\u001b[39m \u001b[38;5;241m+\u001b[39m \u001b[38;5;28mstr\u001b[39m(\u001b[38;5;28mself\u001b[39m\u001b[38;5;241m.\u001b[39mday)\n\u001b[0;32m     58\u001b[0m \u001b[38;5;28;01melse\u001b[39;00m:\n",
      "\u001b[1;31mAttributeError\u001b[0m: 'Appointment' object has no attribute 'day'"
     ]
    }
   ],
   "source": [
    "# issubclass\n",
    "'''\n",
    "The function issubclass returns True if sub is the subvlass of class superr, and False \n",
    "otherwise. For example:\n",
    "isubclass(sub, super)\n",
    "'''\n",
    "print(\"The issubclass example:\",issubclass(Appointment, MyDate))\n",
    "print()\n",
    "# isinstance\n",
    "'''\n",
    "To find whether the instance obj is an object of class class1, we use the function\n",
    "isinstance.\n",
    "isinstance(obj, class1)\n",
    "The function returns True if either obj is an instance of class class1 or it is an instance\n",
    "of a subclass of a subclass of class class1, and False otherwise, for example\n",
    "'''\n",
    "print(\"The isinstance example\")\n",
    "print(isinstance(meetStaff, MyDate))\n",
    "print(isinstance(manager1, Employee))\n",
    "print(isinstance(manager1, MyDate))\n",
    "print()\n",
    "#hasattr\n",
    "'''\n",
    "To find whether an instance obj contains an attribute attr, we use the function attr:\n",
    "syntax: hasattr(obj, attr)\n",
    "This function returns True if instance obj contains an attribute attr, and False otherwise,\n",
    "for example:\n",
    "'''\n",
    "print(\"The hasattr example\")\n",
    "print(hasattr(manager1, 'hours'))\n",
    "print(hasattr(manager1, 'DOB'))\n",
    "print()\n",
    "# getattr and setattr\n",
    "'''\n",
    "The functions getattr and setattr may be used to retrieve and set respectively, the value \n",
    "val of an attribute attr of an instance obj, as illustrated below:\n",
    "Syntax: getattr(obj, attr)\n",
    "        setattr(obj, attr, val)\n",
    "'''\n",
    "print(\"The getattr example\")\n",
    "print(getattr(meetStaff, 'day'))\n",
    "print()\n",
    "print(setattr(meetStaff, 'day', 23))\n",
    "print(meetStaff)\n",
    "print()\n",
    "# delattr\n",
    "'''\n",
    "We may delete an attribute attr of instance obj as follows:\n",
    "Syntax: delattr(obj, attr)\n",
    "'''\n",
    "print(delattr(meetStaff, 'day'))\n",
    "print(meetStaff)"
   ]
  }
 ],
 "metadata": {
  "kernelspec": {
   "display_name": "Python 3 (ipykernel)",
   "language": "python",
   "name": "python3"
  },
  "language_info": {
   "codemirror_mode": {
    "name": "ipython",
    "version": 3
   },
   "file_extension": ".py",
   "mimetype": "text/x-python",
   "name": "python",
   "nbconvert_exporter": "python",
   "pygments_lexer": "ipython3",
   "version": "3.12.7"
  }
 },
 "nbformat": 4,
 "nbformat_minor": 5
}
