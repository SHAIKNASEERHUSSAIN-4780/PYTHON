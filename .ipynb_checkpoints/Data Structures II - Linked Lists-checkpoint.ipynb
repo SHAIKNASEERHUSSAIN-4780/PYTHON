{
 "cells": [
  {
   "cell_type": "markdown",
   "id": "63553e77-abba-4f73-a498-aca0fed49a75",
   "metadata": {},
   "source": [
    "# Linked List"
   ]
  },
  {
   "cell_type": "markdown",
   "id": "d37f9b17-b6f9-47b8-8506-8aded21f9088",
   "metadata": {},
   "source": [
    "### Introduction\n",
    "- A linked list is a sequence of objects called nodes. The relative positions of the objects in a linked list is maintained using next link. Thus, a linked list comprises a number of objects, each of which contains a link to the next object (node)."
   ]
  },
  {
   "cell_type": "code",
   "execution_count": 1,
   "id": "3bdfaec0-9f6b-4dae-ae0d-fd34cb27ef79",
   "metadata": {},
   "outputs": [],
   "source": [
    "class Node:\n",
    "    def __init__(self, value):\n",
    "        '''\n",
    "        Objective: To initialize an object of class Node\n",
    "        Input Parameter: self (implicit parameter) - object of type Node\n",
    "        Return Value: None\n",
    "        '''\n",
    "        self.data = value\n",
    "        self.next = None"
   ]
  },
  {
   "cell_type": "code",
   "execution_count": 3,
   "id": "87d52cd8-d564-447d-8e73-760b19de0cd9",
   "metadata": {},
   "outputs": [
    {
     "name": "stdout",
     "output_type": "stream",
     "text": [
      "lst:  <node.Node object at 0x0000016DF4133AA0>\n",
      "lst.data:  20\n",
      "lst.next:  <node.Node object at 0x0000016DF42E3FE0>\n",
      "lst.next.data:  15\n",
      "lst.next.next:  <node.Node object at 0x0000016DF4468770>\n",
      "lst.next.next.data:  25\n",
      "lst.next.next.next:  None\n"
     ]
    }
   ],
   "source": [
    "import sys\n",
    "sys.path.append('Python')\n",
    "from node import Node\n",
    "def main():\n",
    "    '''\n",
    "    Objective: To create a linked list comprising of three nodes\n",
    "    Input Parameter: None\n",
    "    Return Value: None\n",
    "    '''\n",
    "    lst = Node(20)\n",
    "    lst.next = Node(15)\n",
    "    lst.next.next = Node(25)\n",
    "    print('lst: ', lst)\n",
    "    print('lst.data: ', lst.data)\n",
    "    print('lst.next: ', lst.next)\n",
    "    print('lst.next.data: ', lst.next.data)\n",
    "    print('lst.next.next: ', lst.next.next)\n",
    "    print('lst.next.next.data: ', lst.next.next.data)\n",
    "    print('lst.next.next.next: ', lst.next.next.next)\n",
    "if __name__ == \"__main__\":\n",
    "    main()"
   ]
  },
  {
   "cell_type": "code",
   "execution_count": 46,
   "id": "afb7cd69-df36-4730-82f3-4f5aa1392311",
   "metadata": {},
   "outputs": [],
   "source": [
    "import sys\n",
    "sys.path.append(\"Python\")\n",
    "from node import Node\n",
    "def main():\n",
    "    '''\n",
    "    Objective: To create a linked list comprising of four nodes\n",
    "    Input Parameter: None\n",
    "    Return Value: None\n",
    "    '''\n",
    "    start, finish = 2, 5\n",
    "    lst = Node(1)\n",
    "    current = lst\n",
    "    for i in range(start, finish):\n",
    "        current.next = Node(i**3)\n",
    "        current = current.next\n",
    "if __name__ == \"__main__\":\n",
    "    main()"
   ]
  },
  {
   "cell_type": "markdown",
   "id": "e722e792-4ed7-438d-b6b5-2005d141acc1",
   "metadata": {},
   "source": [
    "### Insertion and Deletion at the beginning of a Linked List\n",
    "- Create an empty linked list\n",
    "- Insert a node at the beginning of linked list\n",
    "- Delete a node from the beginning of linked list"
   ]
  },
  {
   "cell_type": "code",
   "execution_count": 48,
   "id": "db16661a-4136-4aad-a695-9fa799349ec7",
   "metadata": {},
   "outputs": [],
   "source": [
    "import sys\n",
    "sys.path.append(\"Python\")\n",
    "from node import Node\n",
    "class LinkedList:\n",
    "    def __init__(self):\n",
    "        '''\n",
    "        Objective: To initialize object of class LinkedList\n",
    "        Input Parameter: self (implicit parameter) - object of type LinkedList\n",
    "        Return Value: None\n",
    "        '''\n",
    "        self.head = None\n",
    "    def insertBegin(self, value):\n",
    "        '''\n",
    "        Objective: To insert a node at the beginning of LinkedList\n",
    "        Input Parameter:\n",
    "            self (implicit parameter) - object of type LinkedList\n",
    "            value - data for the node to be inserted\n",
    "        Return Value: None\n",
    "        '''\n",
    "        if self.head is None:\n",
    "            self.head = Node(value)\n",
    "        else:\n",
    "            temp = Node(value)\n",
    "            temp.next = self.head\n",
    "            self.head = temp\n",
    "        print(\"Value inserted! !\")\n",
    "    def delBegin(self):\n",
    "        '''\n",
    "        Objective: To delete a node from the beginning of LinkedList\n",
    "        Input Parameter:\n",
    "            self (implicit parameter) - Object of type LinkedList\n",
    "        Return Value: Value in the deleted node\n",
    "        '''\n",
    "        if self.head is None: # Empty List\n",
    "            print(\"Empty List\")\n",
    "            return None\n",
    "        else:\n",
    "            temp = self.head\n",
    "            value = self.head.data\n",
    "            self.head = self.head.next\n",
    "            del temp\n",
    "            return value"
   ]
  },
  {
   "cell_type": "code",
   "execution_count": 50,
   "id": "4600ebd2-f244-4f26-9863-ea634c70578b",
   "metadata": {},
   "outputs": [
    {
     "name": "stdout",
     "output_type": "stream",
     "text": [
      "1: Insert in Beginning\n",
      "2: Delete from Beginning\n",
      "3: Quit\n"
     ]
    },
    {
     "name": "stdin",
     "output_type": "stream",
     "text": [
      "Enter the choice:  1\n",
      "Enter value to be inserrted:  12\n"
     ]
    },
    {
     "name": "stdout",
     "output_type": "stream",
     "text": [
      "Value inserted! !\n",
      "1: Insert in Beginning\n",
      "2: Delete from Beginning\n",
      "3: Quit\n"
     ]
    },
    {
     "name": "stdin",
     "output_type": "stream",
     "text": [
      "Enter the choice:  1\n",
      "Enter value to be inserrted:  10\n"
     ]
    },
    {
     "name": "stdout",
     "output_type": "stream",
     "text": [
      "Value inserted! !\n",
      "1: Insert in Beginning\n",
      "2: Delete from Beginning\n",
      "3: Quit\n"
     ]
    },
    {
     "name": "stdin",
     "output_type": "stream",
     "text": [
      "Enter the choice:  1\n",
      "Enter value to be inserrted:  20\n"
     ]
    },
    {
     "name": "stdout",
     "output_type": "stream",
     "text": [
      "Value inserted! !\n",
      "1: Insert in Beginning\n",
      "2: Delete from Beginning\n",
      "3: Quit\n"
     ]
    },
    {
     "name": "stdin",
     "output_type": "stream",
     "text": [
      "Enter the choice:  2\n"
     ]
    },
    {
     "name": "stdout",
     "output_type": "stream",
     "text": [
      "Value Deleted! ! 20\n",
      "1: Insert in Beginning\n",
      "2: Delete from Beginning\n",
      "3: Quit\n"
     ]
    },
    {
     "name": "stdin",
     "output_type": "stream",
     "text": [
      "Enter the choice:  3\n"
     ]
    }
   ],
   "source": [
    "import sys\n",
    "sys.path.append(\"Python\")\n",
    "from linkedList import LinkedList\n",
    "def main():\n",
    "    '''\n",
    "    Objective: To carry out linked list operations based on user inputs\n",
    "    Input Parameter: None\n",
    "    Return Value: None\n",
    "    '''\n",
    "    lst = LinkedList()\n",
    "    while 1:\n",
    "        print(\"1: Insert in Beginning\")\n",
    "        print(\"2: Delete from Beginning\")\n",
    "        print(\"3: Quit\")\n",
    "        choice = int(input(\"Enter the choice: \"))\n",
    "        if choice == 1:\n",
    "            value = input(\"Enter value to be inserrted: \")\n",
    "            lst.insertBegin(value)\n",
    "        elif choice == 2:\n",
    "            value = lst.delBegin()\n",
    "            print(\"Value Deleted! !\", value)\n",
    "        elif choice == 3:\n",
    "            break\n",
    "if __name__ == \"__main__\":\n",
    "    main()"
   ]
  },
  {
   "cell_type": "markdown",
   "id": "f594de4d-c795-4c7f-aece-63d04d0f8255",
   "metadata": {},
   "source": [
    "### Deleting a Node with a Particular Value From a Linked List"
   ]
  },
  {
   "cell_type": "code",
   "execution_count": 54,
   "id": "eb82716c-c3a1-4a91-b456-91f08685c59b",
   "metadata": {},
   "outputs": [],
   "source": [
    "def delVal(self, value):\n",
    "    '''\n",
    "    Objective: To delete a particular value from LinkedList\n",
    "    Input Parameters:\n",
    "        self (implicit parameter) - object of type LinkedList,\n",
    "        value - data for the node to be deleted\n",
    "    Return Value: value deleted\n",
    "    '''\n",
    "    if self.head is None: # Empty List\n",
    "        print(\"Empty List\")\n",
    "        return\n",
    "    if self.head.data == value: # First element is to be deleted\n",
    "        temp = self.head\n",
    "        self.head = self.head.next\n",
    "        del temp\n",
    "        print(\"Value Deleted! !\")\n",
    "    else:\n",
    "        current = self.head\n",
    "        prev = None\n",
    "        while current != None and current.data != value:\n",
    "            prev = current\n",
    "            current = current.next\n",
    "        if current != None:\n",
    "            prev.next = current.next\n",
    "            del current\n",
    "            print(\"Value\", value, \"Deleted! !\")\n",
    "        else:\n",
    "            print(\"Value not Found! !\")"
   ]
  },
  {
   "cell_type": "markdown",
   "id": "7dc7fc58-b2bc-4b4b-9334-11e06a7a52f9",
   "metadata": {},
   "source": [
    "### Traversing a LinkedList"
   ]
  },
  {
   "cell_type": "code",
   "execution_count": 28,
   "id": "76340ac3-5545-4cda-9750-cfa968647e63",
   "metadata": {},
   "outputs": [],
   "source": [
    "def __str__(self):\n",
    "    '''\n",
    "    Objective: To return string representation of an object of type LinkedList\n",
    "    Input Parameter: self (implicit parameter) - object of type LinkedList\n",
    "    Return alye: string\n",
    "    '''\n",
    "    current = self.head\n",
    "    result = ''\n",
    "    if current != None:\n",
    "        while current.next is not None:\n",
    "            result += str(current.data)+ '->'\n",
    "            current = current.next\n",
    "        result += str(current.data)\n",
    "    else:\n",
    "        result = \"Empty List\"\n",
    "    return result"
   ]
  },
  {
   "cell_type": "markdown",
   "id": "1a5cf32b-f8c3-4643-a36a-979a0b18802f",
   "metadata": {},
   "source": [
    "### Maintaining Sorted Linked List While Inserting"
   ]
  },
  {
   "cell_type": "code",
   "execution_count": 56,
   "id": "eaf27091-6586-48fc-9b83-ee47822d9fb9",
   "metadata": {},
   "outputs": [],
   "source": [
    "import sys\n",
    "sys.path.append(\"Python\")\n",
    "from node import Node\n",
    "class LinkedList:\n",
    "    def __init__(self):\n",
    "        '''\n",
    "        Objective: To initialize object of class LinkedList\n",
    "        Input Parameter: self (implicit parameter) - object of type LinkedList\n",
    "        Return Value: None\n",
    "        '''\n",
    "        self.head = None\n",
    "    def insertSort(self, value):\n",
    "        '''\n",
    "        Objective: To insert a node with given value in the sorted LinkedList\n",
    "        Input Parameterr:\n",
    "            self (implicit parameter) - object of type LinkedList\n",
    "            value - data for the node to be inserted\n",
    "        Return Valuue: None\n",
    "        '''\n",
    "        if self.head is None:\n",
    "            self.head = Node(value)\n",
    "        elif value < self.head.data:\n",
    "            temp = Node(value)\n",
    "            temp.next = self.head\n",
    "            self.head = temp\n",
    "        else:\n",
    "            current = self.head\n",
    "            prev = None\n",
    "            while current != None:\n",
    "                if current.data > value:\n",
    "                    break\n",
    "                prev = current\n",
    "                current = current.next\n",
    "            temp = Node(value)\n",
    "            prev.next = temp\n",
    "            temp.next = current\n",
    "        print(\"Value inserted! !\")\n",
    "    def __str__(self):\n",
    "        '''\n",
    "        Objective: To return string representation of object of type LinkedList\n",
    "        Input Parameter: self (implicit paramter) - object of type LinkedList\n",
    "        Return value: string\n",
    "        '''\n",
    "        temp = self.head\n",
    "        result = ''\n",
    "        if temp != None:\n",
    "            while temp.next != None:\n",
    "                result += str(temp.data)+ '->'\n",
    "                temp = temp.next\n",
    "            result += str(temp.data)\n",
    "        else:\n",
    "            result = \"Empty List\"\n",
    "        return result"
   ]
  },
  {
   "cell_type": "code",
   "execution_count": 60,
   "id": "189f39e0-1525-4f1e-a61b-c83bb22cc9f4",
   "metadata": {},
   "outputs": [
    {
     "name": "stdin",
     "output_type": "stream",
     "text": [
      "Enter value to be inserted:  1\n"
     ]
    },
    {
     "name": "stdout",
     "output_type": "stream",
     "text": [
      "Value inserted! !\n",
      "Current Linked List Status\n",
      "1\n"
     ]
    },
    {
     "name": "stdin",
     "output_type": "stream",
     "text": [
      "Enter value to be inserted:  2\n"
     ]
    },
    {
     "name": "stdout",
     "output_type": "stream",
     "text": [
      "Value inserted! !\n",
      "Current Linked List Status\n",
      "1->2\n"
     ]
    },
    {
     "name": "stdin",
     "output_type": "stream",
     "text": [
      "Enter value to be inserted:  3\n"
     ]
    },
    {
     "name": "stdout",
     "output_type": "stream",
     "text": [
      "Value inserted! !\n",
      "Current Linked List Status\n",
      "1->2->3\n"
     ]
    },
    {
     "name": "stdin",
     "output_type": "stream",
     "text": [
      "Enter value to be inserted:  \n"
     ]
    }
   ],
   "source": [
    "import sys\n",
    "sys.path.append(\"Python\")\n",
    "from linkedListSorted import LinkedList\n",
    "def main():\n",
    "    '''\n",
    "    Objective: To maintain a linked list in sorted reder\n",
    "    Input Parameter: None\n",
    "    Return Value: None\n",
    "    '''\n",
    "    lst = LinkedList()\n",
    "    while 1:\n",
    "        value = input(\"Enter value to be inserted: \")\n",
    "        if value == '':\n",
    "            break\n",
    "        lst.insertSort(value)\n",
    "        print(\"Current Linked List Status\")\n",
    "        print(lst)\n",
    "if __name__ == \"__main__\":\n",
    "    main()"
   ]
  },
  {
   "cell_type": "markdown",
   "id": "190edf7d-5e4a-46a4-bc66-1277dbc66bed",
   "metadata": {},
   "source": [
    "### Stack Implementation Using Linked List"
   ]
  },
  {
   "cell_type": "code",
   "execution_count": 62,
   "id": "e7958c4e-eda5-423a-b306-878d5ee3be6d",
   "metadata": {},
   "outputs": [],
   "source": [
    "import sys\n",
    "sys.path.append(\"Python\")\n",
    "from node import Node\n",
    "class LinkedStack:\n",
    "    def __init__(self):\n",
    "        '''\n",
    "        Objective: To initialize a LinkedStack object\n",
    "        Input Parameter: self (implicit parameter) - object of type LinkedStack\n",
    "        Return Value: None\n",
    "        '''\n",
    "        self.top = None\n",
    "    def push(self, value):\n",
    "        '''\n",
    "        Objective: To insert a node on top os the stack\n",
    "        Input Parameter: self (implicit parameter) - object of type LinkedStack\n",
    "        Return Value: None\n",
    "        '''\n",
    "        if self.top is None:\n",
    "            self.top = Node(value)\n",
    "        else:\n",
    "            temp = Node(value)\n",
    "            temp.next = self.top\n",
    "            self.top = temp\n",
    "    def pop(self):\n",
    "        '''\n",
    "        Objective: To remove a node from the top of stack\n",
    "        Input Parameter: self (implicit parameter) - object of type LinkedStack\n",
    "        Return Value: value of the data attribute of the Top element of the stack if stack \n",
    "        if not empty, otherwise None\n",
    "        '''\n",
    "        if self.top is None: # Empty List\n",
    "            print(\"Stack Underflow\")\n",
    "            return None\n",
    "        else:\n",
    "            temp = self.top\n",
    "            value = self.top.data\n",
    "            self.top = self.top.next\n",
    "            del temp\n",
    "            return temp\n",
    "    def isEmpty(self):\n",
    "        '''\n",
    "        Objective: To determine whether the stack is empty\n",
    "        Input Parameter: self (implicit parameter) - object of type LinkedStack\n",
    "        Return Value: True if the stack is empty, Fasle otherwise\n",
    "        '''\n",
    "        return self.top is None\n",
    "    def getTop(self):\n",
    "        '''\n",
    "        Objective: To return top element of the stack\n",
    "        Input Parameter: self (implicit parameter) - object of type LinkedStack\n",
    "        Return Value: value of the data attributes of the Top element of the stack if stack\n",
    "        is not empty, otherwise None\n",
    "        '''\n",
    "        if not(self.isEmpty()):\n",
    "            return self.top.data\n",
    "        else:\n",
    "            print(\"Stack Empty\")\n",
    "            return None\n",
    "    def __str__(self):\n",
    "        '''\n",
    "        Objective: To return striing representation of a LinkedStack\n",
    "        Input Parameter: self (implicit parameter) - object of type LinkedStack\n",
    "        Return Value: string\n",
    "        '''\n",
    "        temp = self.top\n",
    "        result = ''\n",
    "        if temp != None:\n",
    "            while temp.next != None:\n",
    "                result += str(temp.data) + '->'\n",
    "                temp = temp.next\n",
    "            result += str(temp.data)\n",
    "        else:\n",
    "            result = \"Empty Stack\"\n",
    "        return result"
   ]
  },
  {
   "cell_type": "code",
   "execution_count": 1,
   "id": "e25410c7-1f24-4b04-aebb-cf5df0061975",
   "metadata": {},
   "outputs": [
    {
     "name": "stdout",
     "output_type": "stream",
     "text": [
      "Choose an option \n",
      "\n",
      "1: Create stack\n",
      "2: Delete stack\n",
      "3: Push\n",
      "4: Pop\n",
      "5: Print Stack Data\n",
      "6: Top element\n"
     ]
    },
    {
     "name": "stdin",
     "output_type": "stream",
     "text": [
      "Enter Choice:  1\n"
     ]
    },
    {
     "name": "stdout",
     "output_type": "stream",
     "text": [
      "Stack Created\n",
      "Choose an option \n",
      "\n",
      "1: Create stack\n",
      "2: Delete stack\n",
      "3: Push\n",
      "4: Pop\n",
      "5: Print Stack Data\n",
      "6: Top element\n"
     ]
    },
    {
     "name": "stdin",
     "output_type": "stream",
     "text": [
      "Enter Choice:  3\n",
      "Enter integer value to be pushed:  10\n"
     ]
    },
    {
     "name": "stdout",
     "output_type": "stream",
     "text": [
      "Value pushed! !\n",
      "Choose an option \n",
      "\n",
      "1: Create stack\n",
      "2: Delete stack\n",
      "3: Push\n",
      "4: Pop\n",
      "5: Print Stack Data\n",
      "6: Top element\n"
     ]
    },
    {
     "name": "stdin",
     "output_type": "stream",
     "text": [
      "Enter Choice:  3\n",
      "Enter integer value to be pushed:  20\n"
     ]
    },
    {
     "name": "stdout",
     "output_type": "stream",
     "text": [
      "Value pushed! !\n",
      "Choose an option \n",
      "\n",
      "1: Create stack\n",
      "2: Delete stack\n",
      "3: Push\n",
      "4: Pop\n",
      "5: Print Stack Data\n",
      "6: Top element\n"
     ]
    },
    {
     "name": "stdin",
     "output_type": "stream",
     "text": [
      "Enter Choice:  3\n",
      "Enter integer value to be pushed:  30\n"
     ]
    },
    {
     "name": "stdout",
     "output_type": "stream",
     "text": [
      "Value pushed! !\n",
      "Choose an option \n",
      "\n",
      "1: Create stack\n",
      "2: Delete stack\n",
      "3: Push\n",
      "4: Pop\n",
      "5: Print Stack Data\n",
      "6: Top element\n"
     ]
    },
    {
     "name": "stdin",
     "output_type": "stream",
     "text": [
      "Enter Choice:  3\n",
      "Enter integer value to be pushed:  40\n"
     ]
    },
    {
     "name": "stdout",
     "output_type": "stream",
     "text": [
      "Value pushed! !\n",
      "Choose an option \n",
      "\n",
      "1: Create stack\n",
      "2: Delete stack\n",
      "3: Push\n",
      "4: Pop\n",
      "5: Print Stack Data\n",
      "6: Top element\n"
     ]
    },
    {
     "name": "stdin",
     "output_type": "stream",
     "text": [
      "Enter Choice:  3\n",
      "Enter integer value to be pushed:  50\n"
     ]
    },
    {
     "name": "stdout",
     "output_type": "stream",
     "text": [
      "Value pushed! !\n",
      "Choose an option \n",
      "\n",
      "1: Create stack\n",
      "2: Delete stack\n",
      "3: Push\n",
      "4: Pop\n",
      "5: Print Stack Data\n",
      "6: Top element\n"
     ]
    },
    {
     "name": "stdin",
     "output_type": "stream",
     "text": [
      "Enter Choice:  4\n"
     ]
    },
    {
     "name": "stdout",
     "output_type": "stream",
     "text": [
      "Element popped:  50\n",
      "Choose an option \n",
      "\n",
      "1: Create stack\n",
      "2: Delete stack\n",
      "3: Push\n",
      "4: Pop\n",
      "5: Print Stack Data\n",
      "6: Top element\n"
     ]
    },
    {
     "name": "stdin",
     "output_type": "stream",
     "text": [
      "Enter Choice:  5\n"
     ]
    },
    {
     "name": "stdout",
     "output_type": "stream",
     "text": [
      "40->30->20->10\n",
      "Choose an option \n",
      "\n",
      "1: Create stack\n",
      "2: Delete stack\n",
      "3: Push\n",
      "4: Pop\n",
      "5: Print Stack Data\n",
      "6: Top element\n"
     ]
    },
    {
     "name": "stdin",
     "output_type": "stream",
     "text": [
      "Enter Choice:  6\n"
     ]
    },
    {
     "name": "stdout",
     "output_type": "stream",
     "text": [
      "Top element 40\n",
      "Choose an option \n",
      "\n",
      "1: Create stack\n",
      "2: Delete stack\n",
      "3: Push\n",
      "4: Pop\n",
      "5: Print Stack Data\n",
      "6: Top element\n"
     ]
    },
    {
     "name": "stdin",
     "output_type": "stream",
     "text": [
      "Enter Choice:  2\n"
     ]
    },
    {
     "name": "stdout",
     "output_type": "stream",
     "text": [
      "Stack Deleted\n",
      "Choose an option \n",
      "\n",
      "1: Create stack\n",
      "2: Delete stack\n",
      "3: Push\n",
      "4: Pop\n",
      "5: Print Stack Data\n",
      "6: Top element\n"
     ]
    },
    {
     "name": "stdin",
     "output_type": "stream",
     "text": [
      "Enter Choice:  7\n"
     ]
    }
   ],
   "source": [
    "import sys\n",
    "sys.path.append(\"Python\")\n",
    "from linkedStack import LinkedStack\n",
    "def main():\n",
    "    '''\n",
    "    Objective: To study stack functionality\n",
    "    Input Parameter: None\n",
    "    Return Value: None\n",
    "    '''\n",
    "    while 1:\n",
    "        print(\"Choose an option \\n\")\n",
    "        print(\"1: Create stack\")\n",
    "        print(\"2: Delete stack\")\n",
    "        print(\"3: Push\")\n",
    "        print(\"4: Pop\")\n",
    "        print(\"5: Print Stack Data\")\n",
    "        print(\"6: Top element\")\n",
    "        choice = int(input(\"Enter Choice: \"))\n",
    "        if choice == 1:\n",
    "            stk = LinkedStack()\n",
    "            print(\"Stack Created\")\n",
    "        elif choice == 2:\n",
    "            del stk\n",
    "            print(\"Stack Deleted\")\n",
    "        elif choice == 3:\n",
    "            element = int(input(\"Enter integer value to be pushed: \"))\n",
    "            stk.push(element)\n",
    "            print(\"Value pushed! !\")\n",
    "        elif choice == 4:\n",
    "            value = stk.pop()\n",
    "            print(\"Element popped: \", value)\n",
    "        elif choice == 5:\n",
    "            print(stk)\n",
    "        elif choice == 6:\n",
    "            value = stk.getTop()\n",
    "            print(\"Top element\", value)\n",
    "        else:\n",
    "            break\n",
    "if __name__ == \"__main__\":\n",
    "    main()"
   ]
  },
  {
   "cell_type": "markdown",
   "id": "a60f61e4-ec09-4f86-bcc3-eacb4a0151db",
   "metadata": {},
   "source": [
    "### Queue Implementation Using Linked List"
   ]
  },
  {
   "cell_type": "code",
   "execution_count": 8,
   "id": "dfd0e3ef-0639-4e88-9d92-7c84f94527fc",
   "metadata": {},
   "outputs": [],
   "source": [
    "import sys\n",
    "sys.path.append(\"Python\")\n",
    "from node import Node\n",
    "class LinkedQueue:\n",
    "    def __init__(self):\n",
    "        '''\n",
    "        Objective: To initialize an object of class LinkedQueue\n",
    "        Input Parameter: self (implicit parameter) - object of type LinkedQueue\n",
    "        Return Value: None\n",
    "        '''\n",
    "        self.front = self.rear = None\n",
    "    def enqueue(self, value):\n",
    "        '''\n",
    "        objective: To insert a node in the queue at teh rear end\n",
    "        Input Parameter:\n",
    "            self (implicit paramter) - object of type LinkedQueue\n",
    "            value - data for the node to be inserted\n",
    "        Return Value: None\n",
    "        '''\n",
    "        if self.front is None:\n",
    "            self.front = self.rear = Node(value)\n",
    "        else:\n",
    "            self.rear.next = Node(value)\n",
    "            self.rear = self.rear.next\n",
    "    def dequeue(self):\n",
    "        '''\n",
    "        Objective: To remove a value from the front of LinkedQueue\n",
    "        Input Parameter: self (implicit parameter) - object of type LinkedQueue\n",
    "        Return Value: Value of the data attribute of the front node if the queue is not \n",
    "        empty, None otherwise\n",
    "        '''\n",
    "        if self.front is None: # Empty list\n",
    "            print(\"Queue Underflow\")\n",
    "            return None\n",
    "        else:\n",
    "            temp = self.front\n",
    "            value = self.front.data\n",
    "            self.front = self.front.next\n",
    "            del temp\n",
    "            return value\n",
    "    def isEmpty(self):\n",
    "        '''\n",
    "        Objective: To determine whether the queue is empty\n",
    "        Input paramter: self (implicit parameter) - object of type LinkedQueue\n",
    "        Return Value: True if the queue is empty, otherwise False\n",
    "        '''\n",
    "        return self.front is None\n",
    "    def getFront(self):\n",
    "        '''\n",
    "        Objective: To return value at the front of LinkedQueue\n",
    "        Input Parameter: self (implicit parameter) - object of type LinkedQueue\n",
    "        Return Value: Value of the data attribute of the front node of the queue if the \n",
    "        queu is not empty, None otherwise\n",
    "        '''\n",
    "        if not(isEmpty()):\n",
    "            return self.front.data\n",
    "        else:\n",
    "            print(\"Queue Empty\")\n",
    "            return None\n",
    "    def __str__(self):\n",
    "        '''\n",
    "        objective: To return string representation of object of type Queue\n",
    "        Input Paramter: self (implcit paramter) - object of type LinkedQueue\n",
    "        REturn Value: string\n",
    "        '''\n",
    "        temp = self.front\n",
    "        result = ''\n",
    "        if temp != None:\n",
    "            while temp.next != None:\n",
    "                result += str(temp.data) + '->'\n",
    "                temp = temp.next\n",
    "            result += str(temp.data)\n",
    "        else:\n",
    "            result = \"Empty Queue\"\n",
    "        return result"
   ]
  },
  {
   "cell_type": "code",
   "execution_count": 7,
   "id": "6c8a9973-243c-43c4-b47f-8bae7da79999",
   "metadata": {},
   "outputs": [
    {
     "name": "stdout",
     "output_type": "stream",
     "text": [
      "Choose an option: \n",
      "1: Create queue\n",
      "2: Delete queue\n",
      "3: Enqueue\n",
      "4: Dequeue\n",
      "5: Print Queue Data\n",
      "6: Front value\n"
     ]
    },
    {
     "name": "stdin",
     "output_type": "stream",
     "text": [
      "Enter Choice:  1\n"
     ]
    },
    {
     "name": "stdout",
     "output_type": "stream",
     "text": [
      "Choose an option: \n",
      "1: Create queue\n",
      "2: Delete queue\n",
      "3: Enqueue\n",
      "4: Dequeue\n",
      "5: Print Queue Data\n",
      "6: Front value\n"
     ]
    },
    {
     "name": "stdin",
     "output_type": "stream",
     "text": [
      "Enter Choice:  3\n",
      "Enter value to be inserted:  10\n"
     ]
    },
    {
     "name": "stdout",
     "output_type": "stream",
     "text": [
      "Node Inserted! !\n",
      "Choose an option: \n",
      "1: Create queue\n",
      "2: Delete queue\n",
      "3: Enqueue\n",
      "4: Dequeue\n",
      "5: Print Queue Data\n",
      "6: Front value\n"
     ]
    },
    {
     "name": "stdin",
     "output_type": "stream",
     "text": [
      "Enter Choice:  3\n",
      "Enter value to be inserted:  20\n"
     ]
    },
    {
     "name": "stdout",
     "output_type": "stream",
     "text": [
      "Node Inserted! !\n",
      "Choose an option: \n",
      "1: Create queue\n",
      "2: Delete queue\n",
      "3: Enqueue\n",
      "4: Dequeue\n",
      "5: Print Queue Data\n",
      "6: Front value\n"
     ]
    },
    {
     "name": "stdin",
     "output_type": "stream",
     "text": [
      "Enter Choice:  3\n",
      "Enter value to be inserted:  30\n"
     ]
    },
    {
     "name": "stdout",
     "output_type": "stream",
     "text": [
      "Node Inserted! !\n",
      "Choose an option: \n",
      "1: Create queue\n",
      "2: Delete queue\n",
      "3: Enqueue\n",
      "4: Dequeue\n",
      "5: Print Queue Data\n",
      "6: Front value\n"
     ]
    },
    {
     "name": "stdin",
     "output_type": "stream",
     "text": [
      "Enter Choice:  3\n",
      "Enter value to be inserted:  40\n"
     ]
    },
    {
     "name": "stdout",
     "output_type": "stream",
     "text": [
      "Node Inserted! !\n",
      "Choose an option: \n",
      "1: Create queue\n",
      "2: Delete queue\n",
      "3: Enqueue\n",
      "4: Dequeue\n",
      "5: Print Queue Data\n",
      "6: Front value\n"
     ]
    },
    {
     "name": "stdin",
     "output_type": "stream",
     "text": [
      "Enter Choice:  3\n",
      "Enter value to be inserted:  50\n"
     ]
    },
    {
     "name": "stdout",
     "output_type": "stream",
     "text": [
      "Node Inserted! !\n",
      "Choose an option: \n",
      "1: Create queue\n",
      "2: Delete queue\n",
      "3: Enqueue\n",
      "4: Dequeue\n",
      "5: Print Queue Data\n",
      "6: Front value\n"
     ]
    },
    {
     "name": "stdin",
     "output_type": "stream",
     "text": [
      "Enter Choice:  4\n"
     ]
    },
    {
     "name": "stdout",
     "output_type": "stream",
     "text": [
      "Value dequeued: 10\n",
      "Choose an option: \n",
      "1: Create queue\n",
      "2: Delete queue\n",
      "3: Enqueue\n",
      "4: Dequeue\n",
      "5: Print Queue Data\n",
      "6: Front value\n"
     ]
    },
    {
     "name": "stdin",
     "output_type": "stream",
     "text": [
      "Enter Choice:  5\n"
     ]
    },
    {
     "name": "stdout",
     "output_type": "stream",
     "text": [
      "20->30->40->50\n",
      "Choose an option: \n",
      "1: Create queue\n",
      "2: Delete queue\n",
      "3: Enqueue\n",
      "4: Dequeue\n",
      "5: Print Queue Data\n",
      "6: Front value\n"
     ]
    },
    {
     "name": "stdin",
     "output_type": "stream",
     "text": [
      "Enter Choice:  6\n"
     ]
    },
    {
     "name": "stdout",
     "output_type": "stream",
     "text": [
      "Front Value 20\n",
      "Choose an option: \n",
      "1: Create queue\n",
      "2: Delete queue\n",
      "3: Enqueue\n",
      "4: Dequeue\n",
      "5: Print Queue Data\n",
      "6: Front value\n"
     ]
    },
    {
     "name": "stdin",
     "output_type": "stream",
     "text": [
      "Enter Choice:  2\n"
     ]
    },
    {
     "name": "stdout",
     "output_type": "stream",
     "text": [
      "Choose an option: \n",
      "1: Create queue\n",
      "2: Delete queue\n",
      "3: Enqueue\n",
      "4: Dequeue\n",
      "5: Print Queue Data\n",
      "6: Front value\n"
     ]
    },
    {
     "name": "stdin",
     "output_type": "stream",
     "text": [
      "Enter Choice:  8\n"
     ]
    }
   ],
   "source": [
    "import sys\n",
    "sys.path.append(\"Python\")\n",
    "from linkedQueue import LinkedQueue\n",
    "def main():\n",
    "    '''\n",
    "    Objective: To provide queue finctionality\n",
    "    Input Parameter: None\n",
    "    Return Value: None\n",
    "    '''\n",
    "    while 1:\n",
    "        print(\"Choose an option: \")\n",
    "        print(\"1: Create queue\")\n",
    "        print(\"2: Delete queue\")\n",
    "        print(\"3: Enqueue\")\n",
    "        print(\"4: Dequeue\")\n",
    "        print(\"5: Print Queue Data\")\n",
    "        print(\"6: Front value\")\n",
    "        choice = int(input(\"Enter Choice: \"))\n",
    "        if choice == 1:\n",
    "            q = LinkedQueue()\n",
    "        elif choice == 2:\n",
    "            del q\n",
    "        elif choice == 3:\n",
    "            value = int(input(\"Enter value to be inserted: \"))\n",
    "            q.enqueue(value)\n",
    "            print(\"Node Inserted! !\")\n",
    "        elif choice == 4:\n",
    "            value = q.dequeue()\n",
    "            print(\"Value dequeued:\", value)\n",
    "        elif choice == 5:\n",
    "            print(q)\n",
    "        elif choice == 6:\n",
    "            value = q.getFront()\n",
    "            print(\"Front Value\", value)\n",
    "        else:\n",
    "            break\n",
    "if __name__ == \"__main__\":\n",
    "    main()"
   ]
  }
 ],
 "metadata": {
  "kernelspec": {
   "display_name": "Python [conda env:base] *",
   "language": "python",
   "name": "conda-base-py"
  },
  "language_info": {
   "codemirror_mode": {
    "name": "ipython",
    "version": 3
   },
   "file_extension": ".py",
   "mimetype": "text/x-python",
   "name": "python",
   "nbconvert_exporter": "python",
   "pygments_lexer": "ipython3",
   "version": "3.12.7"
  }
 },
 "nbformat": 4,
 "nbformat_minor": 5
}
