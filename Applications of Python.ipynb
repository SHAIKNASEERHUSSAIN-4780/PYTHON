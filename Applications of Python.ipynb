{
 "cells": [
  {
   "cell_type": "markdown",
   "id": "e13880f4-5277-403a-bd6f-b1d6572f4629",
   "metadata": {},
   "source": [
    "### Twitter"
   ]
  },
  {
   "cell_type": "markdown",
   "id": "2d970d84-37d8-433e-a1d3-5f1725f053ad",
   "metadata": {},
   "source": [
    "##### Collecting Information From Twitter"
   ]
  },
  {
   "cell_type": "code",
   "execution_count": 6,
   "id": "f16f0a02-163e-4d65-bd73-6e62c0572765",
   "metadata": {},
   "outputs": [],
   "source": [
    "import tweepy\n",
    "\n",
    "CONSUMER_KEY = \"alfyJdUcIlMnvb7OqkKjdjHNg\"\n",
    "CONSUMER_SECRET = \"deosRj169fPXm8vE2C4b8GezLoq5odXv8JFwf0qguF3mVu7uHD\"\n",
    "ACCESS_TOKEN = \"1834926730945155072-7W9cJT1xpzOjEaREMAX1Ngd6HDwCO1\"\n",
    "ACCESS_TOKEN_SECRET = \"6tkbH7zeOjvkyluN4sL2PDYivW5LWljgOAJcEXQvEX6jq\"\n",
    "\n",
    "BEARER_TOKEN = \"AAAAAAAAAAAAAAAAAAAAAOGe0QEAAAAA09QZig1C34Kp5eHGE%2BH3XS2o1K4%3DhJolcJ7y1agsBhSuDEFJFcRtPFvu4D5HbTrYdNnItrZksg2mKg\"\n",
    "\n",
    "def OAuthVerifier():\n",
    "    auth = tweepy.OAuth1UserHandler(\n",
    "        CONSUMER_KEY,\n",
    "        CONSUMER_SECRET,\n",
    "        ACCESS_TOKEN,\n",
    "        ACCESS_TOKEN_SECRET\n",
    "    )\n",
    "    api = tweepy.API(auth)\n",
    "    return api\n",
    "\n",
    "def get_bearer_token():\n",
    "    return BEARER_TOKEN\n"
   ]
  },
  {
   "cell_type": "code",
   "execution_count": 7,
   "id": "5c1aa77b-34ed-4fe2-9b17-5549be0bf547",
   "metadata": {},
   "outputs": [
    {
     "name": "stdout",
     "output_type": "stream",
     "text": [
      "Authenticated as: HussainNas69383\n"
     ]
    }
   ],
   "source": [
    "import sys\n",
    "sys.path.append(\"Python\")\n",
    "from TwitterOAuth import OAuthVerifier\n",
    "\n",
    "api = OAuthVerifier()\n",
    "\n",
    "try:\n",
    "    me = api.verify_credentials()\n",
    "    if me:\n",
    "        print(\"Authenticated as:\", me.screen_name)\n",
    "    else:\n",
    "        print(\"verify_credentials() returned None\")\n",
    "except Exception as e:\n",
    "    print(\"Authentication error:\", e)\n"
   ]
  },
  {
   "cell_type": "markdown",
   "id": "f3d59bc2-0dfe-4e97-b997-30e75806ef79",
   "metadata": {},
   "source": [
    "##### Collecting User Informatioon"
   ]
  },
  {
   "cell_type": "code",
   "execution_count": 6,
   "id": "27bfff79-1e03-40bb-9f7f-28bd44a2b746",
   "metadata": {
    "scrolled": true
   },
   "outputs": [
    {
     "name": "stdout",
     "output_type": "stream",
     "text": [
      "Fetching info for the authenticated user...\n",
      "<tweepy.api.API object at 0x0000019207750830>\n",
      "\n",
      "Name: Naseer Hussain\n",
      "Screen Name:  HussainNas69383\n",
      "ID:  1834926730945155072\n",
      "Account creation date and time: 2024-09-14 12:07:13+00:00\n",
      "Location: \n",
      "Description: \n",
      "No. of followers: 3\n",
      "No. of friends:  70\n",
      "No. of favorite tweets: 21\n",
      "No. of posted tweets: 77\n",
      "Associated URL: None\n"
     ]
    },
    {
     "name": "stdin",
     "output_type": "stream",
     "text": [
      "\n",
      "\n",
      "Enter the user identification:  naseer\n"
     ]
    },
    {
     "name": "stdout",
     "output_type": "stream",
     "text": [
      "Error fetching user data: 403 Forbidden\n",
      "453 - You currently have access to a subset of X API V2 endpoints and limited v1.1 endpoints (e.g. media post, oauth) only. If you need access to this endpoint, you may need a different access level. You can learn more here: https://developer.x.com/en/portal/product\n"
     ]
    }
   ],
   "source": [
    "import tweepy\n",
    "import sys\n",
    "sys.path.append(\"Python\")\n",
    "from TwitterOAuth import OAuthVerifier\n",
    "def getUserStatistics(user):\n",
    "    \"\"\"\n",
    "    Objective: To get user statistics using various variables of the API.\n",
    "    Input Parameter: user - string\n",
    "    Return Value: None\n",
    "    \"\"\"\n",
    "    print('\\nName:', user.name)\n",
    "    print('Screen Name: ', user.screen_name)\n",
    "    print('ID: ', user.id)\n",
    "    print('Account creation date and time:', user.created_at)\n",
    "    print('Location:', user.location)\n",
    "    print('Description:', user.description)\n",
    "    print('No. of followers:', user.followers_count)\n",
    "    print('No. of friends: ', user.friends_count)\n",
    "    print('No. of favorite tweets:', user.favourites_count)\n",
    "    print('No. of posted tweets:', user.statuses_count)\n",
    "    print('Associated URL:', user.url)\n",
    "def main():\n",
    "    # Objective: To collect user information\n",
    "    # Input Parameter: None\n",
    "    # Return Value: None\n",
    "    # To print user's information\n",
    "    try:\n",
    "        api = OAuthVerifier()\n",
    "        # Authenticated User\n",
    "        print(\"Fetching info for the authenticated user...\")\n",
    "        print(api)\n",
    "        me = api.verify_credentials()\n",
    "        if me:\n",
    "            getUserStatistics(me)\n",
    "        else:\n",
    "            print(\"Error verifying credentials.\")\n",
    "        # Different User\n",
    "        name = input('\\n\\nEnter the user identification: ')\n",
    "        user = api.get_user(screen_name = name)\n",
    "        getUserStatistics(user)\n",
    "    except Exception as e:\n",
    "        print(\"Error fetching user data:\",e)\n",
    "\n",
    "if __name__ == '__main__':\n",
    "    main()"
   ]
  },
  {
   "cell_type": "markdown",
   "id": "d43130d2-2c0f-447e-b4ee-6809c6a99746",
   "metadata": {},
   "source": [
    "##### Collecting Followers, Friends, and Tweets of a User"
   ]
  },
  {
   "cell_type": "code",
   "execution_count": 8,
   "id": "f3d719d2-a9f0-48ce-82d4-d970d8c85fb1",
   "metadata": {},
   "outputs": [
    {
     "name": "stdout",
     "output_type": "stream",
     "text": [
      "\n",
      "Followers:\n",
      "Error fetching followers: 403 Forbidden\n",
      "453 - You currently have access to a subset of X API V2 endpoints and limited v1.1 endpoints (e.g. media post, oauth) only. If you need access to this endpoint, you may need a different access level. You can learn more here: https://developer.x.com/en/portal/product\n",
      "\n",
      "Friends:\n",
      "Error fetching friends: 403 Forbidden\n",
      "453 - You currently have access to a subset of X API V2 endpoints and limited v1.1 endpoints (e.g. media post, oauth) only. If you need access to this endpoint, you may need a different access level. You can learn more here: https://developer.x.com/en/portal/product\n",
      "\n",
      "Recent Tweets:\n",
      "Error fetching tweets: 403 Forbidden\n",
      "453 - You currently have access to a subset of X API V2 endpoints and limited v1.1 endpoints (e.g. media post, oauth) only. If you need access to this endpoint, you may need a different access level. You can learn more here: https://developer.x.com/en/portal/product\n"
     ]
    }
   ],
   "source": [
    "from sys import path\n",
    "path.append(\"Python\")  # Assuming \"Python\" is a local folder with TwitterOAuth.py\n",
    "\n",
    "from TwitterOAuth import OAuthVerifier\n",
    "import tweepy\n",
    "\n",
    "def getUserFollowers(api):\n",
    "    '''\n",
    "    Objective: To get followers of the user\n",
    "    Input Parameter: api - object of class API\n",
    "    Return Value: None\n",
    "    '''\n",
    "    print(\"\\nFollowers:\")\n",
    "    try:\n",
    "        for follower in api.get_followers():\n",
    "            print(follower.screen_name)\n",
    "    except tweepy.errors.TweepyException as e:\n",
    "        print(\"Error fetching followers:\", e)\n",
    "def getUserFriends(api):\n",
    "    '''\n",
    "    Objective: To get friends of the user\n",
    "    Input Parameter: api - object of class API\n",
    "    Return Value: None\n",
    "    '''\n",
    "    print(\"\\nFriends:\")\n",
    "    try:\n",
    "        for friend in api.get_friends():\n",
    "            print(friend.screen_name)\n",
    "    except tweepy.errors.TweepyException as e:\n",
    "        print(\"Error fetching friends:\", e)\n",
    "\n",
    "def getUserTweets(api):\n",
    "    '''\n",
    "    Objective: To get tweets of the user\n",
    "    Input Parameter: api - object of class API\n",
    "    Return Value: None\n",
    "    '''\n",
    "    print(\"\\nRecent Tweets:\")\n",
    "    try:\n",
    "        for tweet in api.user_timeline(count=5):  # You can change `count` as needed\n",
    "            print(f\"- {tweet.text}\")\n",
    "    except tweepy.errors.TweepyException as e:\n",
    "        print(\"Error fetching tweets:\", e)\n",
    "\n",
    "def main():\n",
    "    '''\n",
    "    Objective: To print user information\n",
    "    Input Parameter: None\n",
    "    Return Value: None\n",
    "    '''\n",
    "    api = OAuthVerifier()  # Must return a valid tweepy.API object\n",
    "    getUserFollowers(api)\n",
    "    getUserFriends(api)\n",
    "    getUserTweets(api)\n",
    "\n",
    "if __name__ == \"__main__\":\n",
    "    main()\n"
   ]
  },
  {
   "cell_type": "code",
   "execution_count": 9,
   "id": "754b6325-34ee-49b5-a141-ddcd963ebee7",
   "metadata": {},
   "outputs": [
    {
     "name": "stdout",
     "output_type": "stream",
     "text": [
      "\n",
      "Followers:\n",
      "Error fetching followers:  403 Forbidden\n",
      "453 - You currently have access to a subset of X API V2 endpoints and limited v1.1 endpoints (e.g. media post, oauth) only. If you need access to this endpoint, you may need a different access level. You can learn more here: https://developer.x.com/en/portal/product\n",
      "\n",
      "Friends:\n",
      "Error fetching friends:  403 Forbidden\n",
      "453 - You currently have access to a subset of X API V2 endpoints and limited v1.1 endpoints (e.g. media post, oauth) only. If you need access to this endpoint, you may need a different access level. You can learn more here: https://developer.x.com/en/portal/product\n",
      "\n",
      "Tweets:\n",
      "Error fetching tweets:  403 Forbidden\n",
      "453 - You currently have access to a subset of X API V2 endpoints and limited v1.1 endpoints (e.g. media post, oauth) only. If you need access to this endpoint, you may need a different access level. You can learn more here: https://developer.x.com/en/portal/product\n"
     ]
    }
   ],
   "source": [
    "import sys\n",
    "sys.path.append(\"Python\")\n",
    "from tweepy import *\n",
    "from TwitterOAuth import *\n",
    "def getUserFollowers(api):\n",
    "    '''\n",
    "    Objective: To get followers of the user\n",
    "    Input Parameter: api - object of class API\n",
    "    Return Value: None\n",
    "    '''\n",
    "    print(\"\\nFollowers:\")\n",
    "    try:\n",
    "        for follower in Cursor(api.get_followers()).items():\n",
    "            print(follower.screen_name)\n",
    "    except tweepy.errors.TweepyException as e:\n",
    "        print(\"Error fetching followers: \",e)\n",
    "def getUserFriends(api):\n",
    "    '''\n",
    "    Objective: To get followers of the user\n",
    "    Input Parameter: api - object of class API\n",
    "    Return Value: None\n",
    "    '''\n",
    "    print(\"\\nFriends:\")\n",
    "    try:\n",
    "        for friend in Cursor(api.get_friends()).items():\n",
    "            print(friend.screen_name)\n",
    "    except tweepy.errors.TweepyException as e:\n",
    "        print(\"Error fetching friends: \",e)\n",
    "def getUserTweets(api):\n",
    "    '''\n",
    "    Objective: To get tweets of the user\n",
    "    Input Parameter: api - object of clean API\n",
    "    Return Value: None\n",
    "    '''\n",
    "    print(\"\\nTweets:\")\n",
    "    try:\n",
    "        for tweet in Cursor(api.user_timeline()).items():\n",
    "            print(tweet.text)\n",
    "    except tweepy.errors.TweepyException as e:\n",
    "        print(\"Error fetching tweets: \", e)\n",
    "def main():\n",
    "    '''\n",
    "    Objective: To print user information\n",
    "    Input Parameter: None\n",
    "    Return Value: None\n",
    "    '''\n",
    "    api = OAuthVerifier()\n",
    "    getUserFollowers(api)\n",
    "    getUserFriends(api)\n",
    "    getUserTweets(api)\n",
    "if __name__ == \"__main__\":\n",
    "    main()"
   ]
  },
  {
   "cell_type": "markdown",
   "id": "c3d98855-bbc7-46b6-aafc-95bcfb5e8f03",
   "metadata": {},
   "source": [
    "##### Collecting Tweets Having Specific Words"
   ]
  },
  {
   "cell_type": "code",
   "execution_count": 10,
   "id": "615de098-5f84-4a88-b04b-35bc02b3f27e",
   "metadata": {},
   "outputs": [
    {
     "name": "stdout",
     "output_type": "stream",
     "text": [
      "Error during streaming: 403 Forbidden\n",
      "When authenticating requests to the Twitter API v2 endpoints, you must use keys and tokens from a Twitter developer App that is attached to a Project. You can create a project via the developer portal.\n"
     ]
    }
   ],
   "source": [
    "import sys\n",
    "sys.path.append(\"Python\")\n",
    "\n",
    "import tweepy\n",
    "from TwitterOAuth import get_bearer_token  # You must implement this\n",
    "\n",
    "class MyStreamListener(tweepy.StreamingClient):\n",
    "    '''\n",
    "    Custom StreamingClient to handle incoming tweets in real time (Twitter API v2)\n",
    "    '''\n",
    "\n",
    "    def on_tweet(self, tweet):\n",
    "        '''\n",
    "        Called when a tweet matching the rules is received\n",
    "        '''\n",
    "        print(f\"[Tweet] {tweet.text}\\n\")\n",
    "\n",
    "    def on_errors(self, errors):\n",
    "        print(\"Stream error:\", errors)\n",
    "\n",
    "    def on_connection_error(self):\n",
    "        print(\"Connection error — disconnecting.\")\n",
    "        self.disconnect()\n",
    "\n",
    "    def on_request_error(self, status_code):\n",
    "        print(f\"Request error: {status_code}\")\n",
    "        if status_code == 420 or status_code == 429:\n",
    "            return False  # Disconnect on rate limit\n",
    "\n",
    "def main():\n",
    "    '''\n",
    "    Set up the stream and filter tweets based on keyword rules\n",
    "    '''\n",
    "    try:\n",
    "        bearer_token = get_bearer_token()  # Should return your Twitter API Bearer Token\n",
    "    \n",
    "        stream = MyStreamListener(bearer_token)\n",
    "    \n",
    "        # Delete existing rules\n",
    "        rules = stream.get_rules()\n",
    "        if rules.data:\n",
    "            rule_ids = [rule.id for rule in rules.data]\n",
    "            stream.delete_rules(rule_ids)\n",
    "    \n",
    "        # Input keywords\n",
    "        search_keywords = input(\"Enter search keywords (comma-separated): \").split(',')\n",
    "    \n",
    "        # Add rules for each keyword\n",
    "        for keyword in search_keywords:\n",
    "            stream.add_rules(tweepy.StreamRule(value=keyword.strip()))\n",
    "            print(f\"Streaming tweets containing: {search_keywords}\")\n",
    "        stream.filter(tweet_fields=[\"created_at\", \"lang\"])\n",
    "    except KeyboardInterrupt:\n",
    "        print(\"\\nStreaming stopped manually.\")\n",
    "    except Exception as e:\n",
    "        print(\"Error during streaming:\", e)\n",
    "\n",
    "if __name__ == \"__main__\":\n",
    "    main()"
   ]
  },
  {
   "cell_type": "markdown",
   "id": "c45fe821-14bd-4a55-a535-2204a30ab6a1",
   "metadata": {},
   "source": [
    "### Sharing Data Using Pockets"
   ]
  },
  {
   "cell_type": "markdown",
   "id": "b9714893-3bb3-490a-83c8-7765d0ef61bc",
   "metadata": {},
   "source": [
    "##### Client-Server Communication on the Same Machine"
   ]
  },
  {
   "cell_type": "code",
   "execution_count": null,
   "id": "424aedb1-5a33-414a-b30d-bf38082edea0",
   "metadata": {},
   "outputs": [],
   "source": [
    "# Client\n",
    "import socket\n",
    "\n",
    "mySock = socket.socket()\n",
    "host = socket.gethostname()\n",
    "port = 50000  # Same port as the server\n",
    "\n",
    "mySock.connect((host, port))\n",
    "data = mySock.recv(1024)\n",
    "\n",
    "print(\"Server says:\", data.decode())\n",
    "\n",
    "mySock.close()\n"
   ]
  },
  {
   "cell_type": "code",
   "execution_count": null,
   "id": "0c3f53e3-9ae8-44d0-8c2b-dfb2ace4310f",
   "metadata": {},
   "outputs": [
    {
     "name": "stdout",
     "output_type": "stream",
     "text": [
      "Server is listening on LAPTOP-RRNAREEI:50000...\n"
     ]
    }
   ],
   "source": [
    "# Server\n",
    "import socket\n",
    "\n",
    "# Create socket\n",
    "mySock = socket.socket()\n",
    "\n",
    "# Host and port setup\n",
    "host = socket.gethostname()\n",
    "port = 50000  # Reversed or arbitrary available port\n",
    "\n",
    "# Bind the socket\n",
    "mySock.bind((host, port))\n",
    "mySock.listen(1)\n",
    "\n",
    "print(f\"Server is listening on {host}:{port}...\")\n",
    "\n",
    "# Accept a connection\n",
    "conn, addr = mySock.accept()\n",
    "print(f\"Connected to client at {addr}\")\n",
    "\n",
    "# Send a message\n",
    "message = 'Thank you for connecting, client at ' + str(addr)\n",
    "conn.send(message.encode())\n",
    "\n",
    "# Close connection\n",
    "conn.close()\n",
    "mySock.close()\n"
   ]
  },
  {
   "cell_type": "markdown",
   "id": "68972239-4a03-4211-9646-4947297f502e",
   "metadata": {},
   "source": [
    "##### An Echo Server"
   ]
  },
  {
   "cell_type": "code",
   "execution_count": null,
   "id": "3b7a5195-3c60-405e-aa45-d17469d7966e",
   "metadata": {},
   "outputs": [],
   "source": [
    "import socket\n",
    "mySock = socket.socket()\n",
    "host = '192.168.2.107'\n",
    "port = 50000\n",
    "mySock.connect((host, port))\n",
    "while True:\n",
    "    data = input(\"Enter data to be sent: \")\n",
    "    if data == \"\":\n",
    "        mySock.send(\"EOF\".encode())\n",
    "        break\n",
    "    else:\n",
    "        mySock.send(data.encode())\n",
    "    data = mySock.recv(1024)\n",
    "    print(data.decode())\n",
    "mySock.close()"
   ]
  },
  {
   "cell_type": "code",
   "execution_count": null,
   "id": "071cbc05-1692-410a-9818-69246bfc14ef",
   "metadata": {},
   "outputs": [],
   "source": [
    "import socket\n",
    "mySock = socket.socket()\n",
    "host = '192.168.2.107'\n",
    "port = 50000\n",
    "mySock.bind((host, port)) # Reverse a port number\n",
    "mySock.listen(1)\n",
    "while True:\n",
    "    conn, addr = mySock.accept()\n",
    "    while True:\n",
    "        data = conn.recv(1024)\n",
    "        if data.decode() == 'EOF':\n",
    "            break\n",
    "        conn.send(data)\n",
    "    conn.close()\n",
    "mySock.close()"
   ]
  },
  {
   "cell_type": "markdown",
   "id": "6e4efcee-3639-4f1f-9c53-170efef63773",
   "metadata": {},
   "source": [
    "##### Accessing Web Data (Downloading a Pdf File)"
   ]
  },
  {
   "cell_type": "code",
   "execution_count": null,
   "id": "a6befba5-3d59-42dd-87ba-406d41d32556",
   "metadata": {},
   "outputs": [],
   "source": [
    "import socket\n",
    "\n",
    "mySock = socket.socket()\n",
    "host = 'marvin.cs.uidaho.edu'\n",
    "port = 80  # HTTP default port\n",
    "\n",
    "mySock.connect((host, port))\n",
    "\n",
    "# Correct GET request with only the path and proper line endings\n",
    "request = 'GET /Teaching/CS515/pythonTutorial.pdf HTTP/1.0\\r\\nHost: marvin.cs.uidaho.edu\\r\\n\\r\\n'\n",
    "mySock.send(request.encode())\n",
    "\n",
    "# Open file to write response data\n",
    "fp = open(\"PythonGuidoVanRossum.pdf\", \"wb\")\n",
    "\n",
    "# Read response\n",
    "response = b\"\"\n",
    "while True:\n",
    "    data = mySock.recv(512)\n",
    "    if len(data) < 1:\n",
    "        break\n",
    "    response += data\n",
    "\n",
    "# Split headers and body (headers end after first empty line)\n",
    "header_end = response.find(b'\\r\\n\\r\\n')\n",
    "if header_end != -1:\n",
    "    body = response[header_end+4:]\n",
    "else:\n",
    "    body = response  # just in case\n",
    "\n",
    "fp.write(body)\n",
    "fp.close()\n",
    "mySock.close()\n",
    "\n",
    "print(\"Download complete. Saved as PythonGuidoVanRossum.pdf\")\n"
   ]
  },
  {
   "cell_type": "markdown",
   "id": "aec4ab67-6e0d-4a80-b490-ec681e53cd18",
   "metadata": {},
   "source": [
    "### Managing Databases Using Structured Query Language"
   ]
  },
  {
   "cell_type": "markdown",
   "id": "bd064127-aa88-4e4d-b015-20a512446083",
   "metadata": {},
   "source": [
    "##### Database Concepts\n",
    "- The data is to be stored in the database is known as an entity, and the characteristics of this entity such as roll number, name, and percentage are called attributes. A two-dimensional table of rows and columns in the database is called a relation."
   ]
  },
  {
   "cell_type": "markdown",
   "id": "e0acbb10-904d-4125-8eac-fe74ac6ac1b2",
   "metadata": {},
   "source": [
    "##### Creating Databases and Tables"
   ]
  },
  {
   "cell_type": "code",
   "execution_count": 1,
   "id": "60badb61-b53f-4980-a5a3-7bcb3dc47a6a",
   "metadata": {},
   "outputs": [
    {
     "name": "stdout",
     "output_type": "stream",
     "text": [
      "Database connected successfully!\n",
      "Table created successfully!\n"
     ]
    }
   ],
   "source": [
    "import sqlite3\n",
    "\n",
    "def create():\n",
    "    # Establish database connection\n",
    "    conn = sqlite3.connect('college.db')\n",
    "    print(\"Database connected successfully!\")\n",
    "\n",
    "    # Create a cursor\n",
    "    cur = conn.cursor()\n",
    "\n",
    "    # Create a table\n",
    "    create_table_query = \"\"\"\n",
    "    CREATE TABLE IF NOT EXISTS student (\n",
    "        rollnum INTEGER PRIMARY KEY CHECK(typeof(rollnum) = 'integer'),\n",
    "        name TEXT NOT NULL CHECK(typeof(name) = 'text'),\n",
    "        percentage INTEGER NOT NULL CHECK(typeof(percentage) = 'integer')\n",
    "    );\n",
    "    \"\"\"\n",
    "    cur.execute(create_table_query)\n",
    "    print(\"Table created successfully!\")\n",
    "\n",
    "    # Close the connection\n",
    "    conn.close()\n",
    "\n",
    "if __name__ == \"__main__\":\n",
    "    create()\n"
   ]
  },
  {
   "cell_type": "markdown",
   "id": "7e30bf94-3e99-43c6-a3b9-b36a9aa9a340",
   "metadata": {},
   "source": [
    "##### Inserting Data into Table"
   ]
  },
  {
   "cell_type": "code",
   "execution_count": 2,
   "id": "998b2bde-715f-45ac-a4ea-f5e12fedc2a5",
   "metadata": {},
   "outputs": [
    {
     "name": "stdout",
     "output_type": "stream",
     "text": [
      "Database connected successfully!\n",
      "Error inserting data: UNIQUE constraint failed: student.rollnum\n"
     ]
    }
   ],
   "source": [
    "import sqlite3\n",
    "\n",
    "def insert():\n",
    "    # Connect to the database (creates it if it doesn't exist)\n",
    "    conn = sqlite3.connect('college.db')\n",
    "    print(\"Database connected successfully!\")\n",
    "\n",
    "    # Create a cursor\n",
    "    cur = conn.cursor()\n",
    "    \n",
    "    # Insert data into the student table\n",
    "    try:\n",
    "        cur.execute(\"INSERT INTO STUDENT VALUES (1, 'Hiten', 89);\")\n",
    "        cur.execute(\"INSERT INTO STUDENT VALUES (2, 'Muskan', 85);\")\n",
    "        cur.execute(\"INSERT INTO STUDENT VALUES (3, 'Nidhi', 78);\")\n",
    "        cur.execute(\"INSERT INTO STUDENT VALUES (4, 'Nikhil', 55);\")\n",
    "        cur.execute(\"INSERT INTO STUDENT VALUES (5, 'Deepthi', 95);\")\n",
    "\n",
    "        conn.commit()\n",
    "        print(\"Data inserted successfully!\")\n",
    "    except Exception as e:\n",
    "        print(\"Error inserting data:\", e)\n",
    "\n",
    "    # Close the connection\n",
    "    conn.close()\n",
    "\n",
    "if __name__ == \"__main__\":\n",
    "    insert()"
   ]
  },
  {
   "cell_type": "code",
   "execution_count": 4,
   "id": "d4f0496d-b420-4e20-bd38-dfb927cf9a88",
   "metadata": {},
   "outputs": [
    {
     "name": "stdin",
     "output_type": "stream",
     "text": [
      "Enter roll number:  9\n",
      "Enter name:  lol\n",
      "Enter percentage:  80\n"
     ]
    },
    {
     "name": "stdout",
     "output_type": "stream",
     "text": [
      "Data Inserted Successfully!!\n"
     ]
    },
    {
     "name": "stdin",
     "output_type": "stream",
     "text": [
      "\n",
      " Enter 0 to continue:  1\n"
     ]
    }
   ],
   "source": [
    "import sqlite3 as sql\n",
    "def insert1():\n",
    "    # Connect to the database (creates if it doesn't exist)\n",
    "    conn = sql.connect('college.db')\n",
    "    # Create a cursor\n",
    "    cur = conn.cursor()\n",
    "    # Insert data into the student table\n",
    "    try:\n",
    "        while True:\n",
    "            rollnum = int(input(\"Enter roll number: \"))\n",
    "            name = input(\"Enter name: \")\n",
    "            percent = int(input(\"Enter percentage: \"))\n",
    "            cur.execute(\"insert into student values (?, ?, ?);\", (rollnum, name, percent))\n",
    "            print(\"Data Inserted Successfully!!\")\n",
    "            con = int(input(\"\\n Enter 0 to continue: \"))\n",
    "            if con != 0:\n",
    "                break\n",
    "        conn.commit()\n",
    "    except Exception as e:\n",
    "        print(\"Error inserting data: \", e)\n",
    "    conn.close()\n",
    "if __name__ == \"__main__\":\n",
    "    insert1()"
   ]
  },
  {
   "cell_type": "markdown",
   "id": "bed3ce88-1174-4cb6-b644-43fca6a6fa71",
   "metadata": {},
   "source": [
    "##### Retriving Data from Table"
   ]
  },
  {
   "cell_type": "code",
   "execution_count": 5,
   "id": "7a50d03c-f996-4c8a-b9cc-2edaa9415fee",
   "metadata": {},
   "outputs": [
    {
     "name": "stdout",
     "output_type": "stream",
     "text": [
      "[(1, 'Hiten', 89), (2, 'Muskan', 85), (3, 'Nidhi', 78), (4, 'Nikhil', 55), (5, 'Deepthi', 95), (6, 'hi', 90), (7, 'k', 85), (8, 'l', 50), (9, 'lol', 80)]\n",
      "[(1, 'Hiten', 89), (2, 'Muskan', 85), (3, 'Nidhi', 78), (4, 'Nikhil', 55), (5, 'Deepthi', 95), (6, 'hi', 90), (7, 'k', 85), (8, 'l', 50), (9, 'lol', 80)]\n",
      "[(1, 'Hiten'), (2, 'Muskan'), (5, 'Deepthi'), (6, 'hi'), (7, 'k')]\n"
     ]
    }
   ],
   "source": [
    "import sqlite3 as sql\n",
    "def retrieve():\n",
    "    # Connect the database (Create if database doesn't exist)\n",
    "    conn = sql.connect(\"college.db\")\n",
    "    # Create a cursor\n",
    "    cur = conn.cursor()\n",
    "    # Retrieve thhe data from the student table\n",
    "    try:\n",
    "        cur.execute(\"select * from student;\")\n",
    "        print(cur.fetchall())\n",
    "        cur.execute(\"Select rollnum, name, percentage from student;\")\n",
    "        print(cur.fetchall())\n",
    "        cur.execute(\"select rollnum, name from student where percentage > 80;\")\n",
    "        print(cur.fetchall())\n",
    "    except Exception as e:\n",
    "        print(\"Error retriving data: \", e)\n",
    "    conn.close()\n",
    "if __name__ == \"__main__\":\n",
    "    retrieve()"
   ]
  },
  {
   "cell_type": "markdown",
   "id": "1a7003a0-d844-4b91-8fd3-2adf84f3e593",
   "metadata": {},
   "source": [
    "##### Updating Data in a Table"
   ]
  },
  {
   "cell_type": "code",
   "execution_count": 10,
   "id": "e91d322e-cf47-4280-8481-d8e6c0c41141",
   "metadata": {},
   "outputs": [
    {
     "name": "stdout",
     "output_type": "stream",
     "text": [
      "[(1, 'Hiten', 89), (2, 'Muskan', 85), (3, 'Nidhi', 78), (4, 'Nikhil', 55), (5, 'Deepthi', 95), (6, 'hi', 90), (7, 'k', 85), (8, 'l', 50), (9, 'lol', 80)]\n"
     ]
    }
   ],
   "source": [
    "import sqlite3\n",
    "def update():\n",
    "    # Connect the database(Create if database doesn't exist)\n",
    "    conn = sqlite3.connect('college.db')\n",
    "    # Create a cursor\n",
    "    cur = conn.cursor()\n",
    "    # update record\n",
    "    try:\n",
    "        cur.execute(\"update student set percentage = percentage * 1.02 where percentage < 50;\")\n",
    "        cur.execute(\"select * from student;\")\n",
    "        print(cur.fetchall())\n",
    "    except Exception as e:\n",
    "        print(\"Error updatind data: \", e)\n",
    "    conn.close()\n",
    "if __name__ == \"__main__\":\n",
    "    update()"
   ]
  },
  {
   "cell_type": "markdown",
   "id": "6eac84df-b10e-464e-9fd4-db48da650b3d",
   "metadata": {},
   "source": [
    "##### Deleting Data from Table/ Deleting Table"
   ]
  },
  {
   "cell_type": "code",
   "execution_count": 9,
   "id": "0dc79692-d25b-43fd-a03f-d84c267d3138",
   "metadata": {},
   "outputs": [
    {
     "name": "stdout",
     "output_type": "stream",
     "text": [
      "Table values deleted successfully\n"
     ]
    }
   ],
   "source": [
    "import sqlite3 as sql\n",
    "def delete():\n",
    "    # Connect the database(Create if database doesn't exist)\n",
    "    conn = sql.connect('college.db')\n",
    "    # Create a cursor\n",
    "    cur = conn.cursor()\n",
    "    # Delete the data from the student table\n",
    "    try:\n",
    "        cur.execute(\"delete from student where percentage < 100;\")\n",
    "        print(\"Table values deleted successfully\")\n",
    "    except Exception as e:\n",
    "        print(\"Error deleting data: \", e)\n",
    "    conn.close()\n",
    "if __name__ == \"__main__\":\n",
    "    delete()"
   ]
  },
  {
   "cell_type": "markdown",
   "id": "c51868dc-827e-4dd4-a2cf-78bb052eb024",
   "metadata": {},
   "source": [
    "### Developing Mobile Application For Android"
   ]
  },
  {
   "cell_type": "code",
   "execution_count": 15,
   "id": "21b15dba-4cdb-462e-9950-2ec89800f0e4",
   "metadata": {
    "scrolled": true
   },
   "outputs": [
    {
     "name": "stdout",
     "output_type": "stream",
     "text": [
      "Error occurred:  source code not available\n"
     ]
    }
   ],
   "source": [
    "from kivy.app import App\n",
    "from kivy.uix.button import Button\n",
    "class CreateButtonApp(App):\n",
    "    # Main class instantiated for running application\n",
    "    def build(self):\n",
    "        '''\n",
    "        Objective: To initialize application with widget tree\n",
    "        Input Parameter:\n",
    "            self (implicit parameter) - object of type CreateButtonApp\n",
    "        Return Value: instance of Button class (root widget)\n",
    "        '''\n",
    "        try:\n",
    "            kv_file = None\n",
    "            return Button(text = 'Hello')\n",
    "        except Exception as e:\n",
    "            print(\"Error occurred when creating app: \", e)\n",
    "if __name__ == \"__main__\":\n",
    "    try:\n",
    "        CreateButtonApp().run()\n",
    "    except Exception as e:\n",
    "        print(\"Error occurred: \", e)"
   ]
  },
  {
   "cell_type": "code",
   "execution_count": 18,
   "id": "5bfbcd96-4a37-45b9-888d-5bd80bdacca4",
   "metadata": {},
   "outputs": [
    {
     "name": "stdout",
     "output_type": "stream",
     "text": [
      "Error occurred:  source code not available\n"
     ]
    }
   ],
   "source": [
    "from kivy.app import App\n",
    "from kivy.uix.button import Button\n",
    "class CreateBttonApp(App):\n",
    "    # Main class instantiated for running application\n",
    "    def build(self):\n",
    "        '''\n",
    "        Objective: To initialize application with widget tree\n",
    "        Input Parameter: self (implicit parameter) - ovject of type CreateButtonApp\n",
    "        Return Value: instance of Button clasee (root widget)\n",
    "        '''\n",
    "        try:\n",
    "            kv_file = None\n",
    "            return Button()\n",
    "        except Exception as e:\n",
    "            print(\"Error occurred when creating app: \", e)\n",
    "if __name__ == \"__main__\":\n",
    "    try:\n",
    "        CreateButtonApp().run()\n",
    "    except Exception as e:\n",
    "        print(\"Error occurred: \", e)"
   ]
  },
  {
   "cell_type": "markdown",
   "id": "e72b164f-7dc3-4e7a-80f1-f770c3d5ee96",
   "metadata": {},
   "source": [
    "##### A Simple Application Containing Registration Interface"
   ]
  },
  {
   "cell_type": "code",
   "execution_count": 1,
   "id": "5c79d5d1-6588-41d4-8acb-192a79653f27",
   "metadata": {
    "scrolled": true
   },
   "outputs": [
    {
     "name": "stderr",
     "output_type": "stream",
     "text": [
      "[INFO   ] [Logger      ] Record log in C:\\Users\\sknas\\.kivy\\logs\\kivy_25-04-06_12.txt\n",
      "[INFO   ] [deps        ] Successfully imported \"kivy_deps.angle\" 0.4.0\n",
      "[INFO   ] [deps        ] Successfully imported \"kivy_deps.glew\" 0.3.1\n",
      "[INFO   ] [deps        ] Successfully imported \"kivy_deps.sdl2\" 0.8.0\n",
      "[INFO   ] [Kivy        ] v2.3.1\n",
      "[INFO   ] [Kivy        ] Installed at \"C:\\Users\\sknas\\anaconda3\\Lib\\site-packages\\kivy\\__init__.py\"\n",
      "[INFO   ] [Python      ] v3.12.7 | packaged by Anaconda, Inc. | (main, Oct  4 2024, 13:17:27) [MSC v.1929 64 bit (AMD64)]\n",
      "[INFO   ] [Python      ] Interpreter at \"C:\\Users\\sknas\\anaconda3\\python.exe\"\n",
      "[INFO   ] [Logger      ] Purge log fired. Processing...\n",
      "[INFO   ] [Logger      ] Purge finished!\n",
      "[INFO   ] [Factory     ] 195 symbols loaded\n",
      "[INFO   ] [Image       ] Providers: img_tex, img_dds, img_sdl2, img_pil (img_ffpyplayer ignored)\n",
      "[INFO   ] [Text        ] Provider: sdl2\n",
      "[INFO   ] [Window      ] Provider: sdl2\n",
      "[INFO   ] [GL          ] Using the \"OpenGL\" graphics system\n",
      "[INFO   ] [GL          ] GLEW initialization succeeded\n",
      "[INFO   ] [GL          ] Backend used <glew>\n",
      "[INFO   ] [GL          ] OpenGL version <b'4.6.0 Compatibility Profile Context 23.19.16.01.240712'>\n",
      "[INFO   ] [GL          ] OpenGL vendor <b'ATI Technologies Inc.'>\n",
      "[INFO   ] [GL          ] OpenGL renderer <b'AMD Radeon(TM) Graphics'>\n",
      "[INFO   ] [GL          ] OpenGL parsed version: 4, 6\n",
      "[INFO   ] [GL          ] Shading version <b'4.60'>\n",
      "[INFO   ] [GL          ] Texture max size <16384>\n",
      "[INFO   ] [GL          ] Texture max units <32>\n",
      "[INFO   ] [Window      ] auto add sdl2 input provider\n",
      "[INFO   ] [Window      ] virtual keyboard not allowed, single mode, not docked\n"
     ]
    },
    {
     "name": "stdout",
     "output_type": "stream",
     "text": [
      "source code not available\n"
     ]
    }
   ],
   "source": [
    "from kivy.app import App\n",
    "from kivy.uix.button import Button\n",
    "from kivy.uix.label import Label\n",
    "from kivy.uix.textinput import TextInput\n",
    "from kivy.uix.popup import Popup\n",
    "from kivy.uix.gridlayout import GridLayout\n",
    "class Register(GridLayout):\n",
    "    # To display a regestration interface\n",
    "    def __init__(self):\n",
    "        '''\n",
    "        Objective: To initialize application with widget tree\n",
    "        Input Parameter: self (implicit parameter) - object of type Register\n",
    "        Return Value: None\n",
    "        '''\n",
    "        super(Register, self).__init__(cols = 1, spacing = 10, padding = 150)\n",
    "        self.add_widget(Label(text = 'User name'))\n",
    "        self.add_widget(TextInput(multiline = False))\n",
    "        self.add_widget(Label(text = \"Password\"))\n",
    "        self.add_widget(TextInput(multiline = False, password = True))\n",
    "        self.add_widget(Button(text = \"Register\", on_press = self.dispalyPopup))\n",
    "    def displayPopup(self, btn):\n",
    "        '''\n",
    "        Objective: To open a Popup window when the button is clicked\n",
    "        Input Parameter:\n",
    "            self (implicit parameter) - object of type Register\n",
    "            btn - instance of Button\n",
    "        Return Value: None\n",
    "        '''\n",
    "        myPopUp = Popup(title = \"Registration Status\", content = Label(text = \"Registration Successful\"), size_hint = (.5, .5))\n",
    "        myPopUp.open()\n",
    "class RegistrationApp(App):\n",
    "    # Main class instantiated for running application\n",
    "    def build(self):\n",
    "        '''\n",
    "        Objective: To initialize application with widget tree\n",
    "        Input Parameter: self (implicit parameter) - object of type CreateButtonApp\n",
    "        Return Value: instance of RegisterClass root widget)\n",
    "        '''\n",
    "if __name__ == \"__main__\":\n",
    "    try:\n",
    "        RegistrationApp().run()\n",
    "    except Exception as e:\n",
    "        print(e)"
   ]
  },
  {
   "cell_type": "markdown",
   "id": "66443e01-4d8f-44e7-8627-f1fac22429bd",
   "metadata": {},
   "source": [
    "##### Tic-Tac-Toe Game"
   ]
  },
  {
   "cell_type": "code",
   "execution_count": 2,
   "id": "c5006a2e-c6f5-495c-9fb1-778eb724e6ca",
   "metadata": {
    "scrolled": true
   },
   "outputs": [
    {
     "name": "stderr",
     "output_type": "stream",
     "text": [
      "[INFO   ] [Logger      ] Record log in C:\\Users\\sknas\\.kivy\\logs\\kivy_25-04-06_13.txt\n",
      "[INFO   ] [deps        ] Successfully imported \"kivy_deps.angle\" 0.4.0\n",
      "[INFO   ] [deps        ] Successfully imported \"kivy_deps.glew\" 0.3.1\n",
      "[INFO   ] [deps        ] Successfully imported \"kivy_deps.sdl2\" 0.8.0\n",
      "[INFO   ] [Kivy        ] v2.3.1\n",
      "[INFO   ] [Kivy        ] Installed at \"C:\\Users\\sknas\\anaconda3\\Lib\\site-packages\\kivy\\__init__.py\"\n",
      "[INFO   ] [Python      ] v3.12.7 | packaged by Anaconda, Inc. | (main, Oct  4 2024, 13:17:27) [MSC v.1929 64 bit (AMD64)]\n",
      "[INFO   ] [Python      ] Interpreter at \"C:\\Users\\sknas\\anaconda3\\python.exe\"\n",
      "[INFO   ] [Logger      ] Purge log fired. Processing...\n",
      "[INFO   ] [Logger      ] Purge finished!\n",
      "[INFO   ] [Factory     ] 195 symbols loaded\n",
      "[INFO   ] [Image       ] Providers: img_tex, img_dds, img_sdl2, img_pil (img_ffpyplayer ignored)\n",
      "[INFO   ] [Text        ] Provider: sdl2\n"
     ]
    },
    {
     "ename": "OSError",
     "evalue": "source code not available",
     "output_type": "error",
     "traceback": [
      "\u001b[1;31m---------------------------------------------------------------------------\u001b[0m",
      "\u001b[1;31mOSError\u001b[0m                                   Traceback (most recent call last)",
      "Cell \u001b[1;32mIn[2], line 81\u001b[0m\n\u001b[0;32m     78\u001b[0m         \u001b[38;5;28;01mreturn\u001b[39;00m TicTacToeGame()\n\u001b[0;32m     80\u001b[0m \u001b[38;5;28;01mif\u001b[39;00m \u001b[38;5;18m__name__\u001b[39m \u001b[38;5;241m==\u001b[39m \u001b[38;5;124m'\u001b[39m\u001b[38;5;124m__main__\u001b[39m\u001b[38;5;124m'\u001b[39m:\n\u001b[1;32m---> 81\u001b[0m     TicTacToeApp()\u001b[38;5;241m.\u001b[39mrun()\n",
      "File \u001b[1;32m~\\anaconda3\\Lib\\site-packages\\kivy\\app.py:955\u001b[0m, in \u001b[0;36mApp.run\u001b[1;34m(self)\u001b[0m\n\u001b[0;32m    952\u001b[0m \u001b[38;5;28;01mdef\u001b[39;00m \u001b[38;5;21mrun\u001b[39m(\u001b[38;5;28mself\u001b[39m):\n\u001b[0;32m    953\u001b[0m \u001b[38;5;250m    \u001b[39m\u001b[38;5;124;03m'''Launches the app in standalone mode.\u001b[39;00m\n\u001b[0;32m    954\u001b[0m \u001b[38;5;124;03m    '''\u001b[39;00m\n\u001b[1;32m--> 955\u001b[0m     \u001b[38;5;28mself\u001b[39m\u001b[38;5;241m.\u001b[39m_run_prepare()\n\u001b[0;32m    956\u001b[0m     runTouchApp()\n\u001b[0;32m    957\u001b[0m     \u001b[38;5;28mself\u001b[39m\u001b[38;5;241m.\u001b[39m_stop()\n",
      "File \u001b[1;32m~\\anaconda3\\Lib\\site-packages\\kivy\\app.py:924\u001b[0m, in \u001b[0;36mApp._run_prepare\u001b[1;34m(self)\u001b[0m\n\u001b[0;32m    922\u001b[0m \u001b[38;5;28;01mif\u001b[39;00m \u001b[38;5;129;01mnot\u001b[39;00m \u001b[38;5;28mself\u001b[39m\u001b[38;5;241m.\u001b[39mbuilt:\n\u001b[0;32m    923\u001b[0m     \u001b[38;5;28mself\u001b[39m\u001b[38;5;241m.\u001b[39mload_config()\n\u001b[1;32m--> 924\u001b[0m     \u001b[38;5;28mself\u001b[39m\u001b[38;5;241m.\u001b[39mload_kv(filename\u001b[38;5;241m=\u001b[39m\u001b[38;5;28mself\u001b[39m\u001b[38;5;241m.\u001b[39mkv_file)\n\u001b[0;32m    925\u001b[0m     root \u001b[38;5;241m=\u001b[39m \u001b[38;5;28mself\u001b[39m\u001b[38;5;241m.\u001b[39mbuild()\n\u001b[0;32m    926\u001b[0m     \u001b[38;5;28;01mif\u001b[39;00m root:\n",
      "File \u001b[1;32m~\\anaconda3\\Lib\\site-packages\\kivy\\app.py:677\u001b[0m, in \u001b[0;36mApp.load_kv\u001b[1;34m(self, filename)\u001b[0m\n\u001b[0;32m    675\u001b[0m \u001b[38;5;28;01melse\u001b[39;00m:\n\u001b[0;32m    676\u001b[0m     \u001b[38;5;28;01mtry\u001b[39;00m:\n\u001b[1;32m--> 677\u001b[0m         default_kv_directory \u001b[38;5;241m=\u001b[39m dirname(getfile(\u001b[38;5;28mself\u001b[39m\u001b[38;5;241m.\u001b[39m\u001b[38;5;18m__class__\u001b[39m))\n\u001b[0;32m    678\u001b[0m         \u001b[38;5;28;01mif\u001b[39;00m default_kv_directory \u001b[38;5;241m==\u001b[39m \u001b[38;5;124m'\u001b[39m\u001b[38;5;124m'\u001b[39m:\n\u001b[0;32m    679\u001b[0m             default_kv_directory \u001b[38;5;241m=\u001b[39m \u001b[38;5;124m'\u001b[39m\u001b[38;5;124m.\u001b[39m\u001b[38;5;124m'\u001b[39m\n",
      "File \u001b[1;32m~\\anaconda3\\Lib\\inspect.py:923\u001b[0m, in \u001b[0;36mgetfile\u001b[1;34m(object)\u001b[0m\n\u001b[0;32m    921\u001b[0m             \u001b[38;5;28;01mreturn\u001b[39;00m module\u001b[38;5;241m.\u001b[39m\u001b[38;5;18m__file__\u001b[39m\n\u001b[0;32m    922\u001b[0m         \u001b[38;5;28;01mif\u001b[39;00m \u001b[38;5;28mobject\u001b[39m\u001b[38;5;241m.\u001b[39m\u001b[38;5;18m__module__\u001b[39m \u001b[38;5;241m==\u001b[39m \u001b[38;5;124m'\u001b[39m\u001b[38;5;124m__main__\u001b[39m\u001b[38;5;124m'\u001b[39m:\n\u001b[1;32m--> 923\u001b[0m             \u001b[38;5;28;01mraise\u001b[39;00m \u001b[38;5;167;01mOSError\u001b[39;00m(\u001b[38;5;124m'\u001b[39m\u001b[38;5;124msource code not available\u001b[39m\u001b[38;5;124m'\u001b[39m)\n\u001b[0;32m    924\u001b[0m     \u001b[38;5;28;01mraise\u001b[39;00m \u001b[38;5;167;01mTypeError\u001b[39;00m(\u001b[38;5;124m'\u001b[39m\u001b[38;5;132;01m{!r}\u001b[39;00m\u001b[38;5;124m is a built-in class\u001b[39m\u001b[38;5;124m'\u001b[39m\u001b[38;5;241m.\u001b[39mformat(\u001b[38;5;28mobject\u001b[39m))\n\u001b[0;32m    925\u001b[0m \u001b[38;5;28;01mif\u001b[39;00m ismethod(\u001b[38;5;28mobject\u001b[39m):\n",
      "\u001b[1;31mOSError\u001b[0m: source code not available"
     ]
    }
   ],
   "source": [
    "from kivy.app import App\n",
    "from kivy.uix.gridlayout import GridLayout\n",
    "from kivy.uix.button import Button\n",
    "from kivy.uix.label import Label\n",
    "from kivy.uix.boxlayout import BoxLayout\n",
    "from kivy.uix.popup import Popup\n",
    "\n",
    "class TicTacToeGame(GridLayout):\n",
    "    def __init__(self, **kwargs):\n",
    "        super().__init__(**kwargs)\n",
    "        self.cols = 3\n",
    "        self.rows = 3\n",
    "        self.current_player = 'X'\n",
    "        self.board = [['' for _ in range(3)] for _ in range(3)]\n",
    "        self.buttons = []\n",
    "\n",
    "        for row in range(3):\n",
    "            button_row = []\n",
    "            for col in range(3):\n",
    "                btn = Button(font_size=48)\n",
    "                btn.bind(on_press=self.make_move)\n",
    "                self.add_widget(btn)\n",
    "                button_row.append(btn)\n",
    "            self.buttons.append(button_row)\n",
    "\n",
    "    def make_move(self, instance):\n",
    "        for row in range(3):\n",
    "            for col in range(3):\n",
    "                if self.buttons[row][col] == instance:\n",
    "                    if self.board[row][col] == '':\n",
    "                        self.board[row][col] = self.current_player\n",
    "                        instance.text = self.current_player\n",
    "                        if self.check_winner():\n",
    "                            self.show_popup(f\"Player {self.current_player} wins!\")\n",
    "                            return\n",
    "                        elif self.check_draw():\n",
    "                            self.show_popup(\"It's a draw!\")\n",
    "                            return\n",
    "                        self.current_player = 'O' if self.current_player == 'X' else 'X'\n",
    "\n",
    "    def check_winner(self):\n",
    "        b = self.board\n",
    "        for i in range(3):\n",
    "            if b[i][0] == b[i][1] == b[i][2] != '':\n",
    "                return True\n",
    "            if b[0][i] == b[1][i] == b[2][i] != '':\n",
    "                return True\n",
    "        if b[0][0] == b[1][1] == b[2][2] != '':\n",
    "            return True\n",
    "        if b[0][2] == b[1][1] == b[2][0] != '':\n",
    "            return True\n",
    "        return False\n",
    "\n",
    "    def check_draw(self):\n",
    "        return all(self.board[row][col] != '' for row in range(3) for col in range(3))\n",
    "\n",
    "    def show_popup(self, message):\n",
    "        content = BoxLayout(orientation='vertical')\n",
    "        content.add_widget(Label(text=message, font_size=24))\n",
    "        restart_btn = Button(text='Play Again', size_hint=(1, 0.3))\n",
    "        content.add_widget(restart_btn)\n",
    "\n",
    "        popup = Popup(title='Game Over', content=content,\n",
    "                      size_hint=(0.6, 0.4), auto_dismiss=False)\n",
    "        restart_btn.bind(on_press=lambda *args: self.reset_game(popup))\n",
    "        popup.open()\n",
    "\n",
    "    def reset_game(self, popup):\n",
    "        self.current_player = 'X'\n",
    "        self.board = [['' for _ in range(3)] for _ in range(3)]\n",
    "        for row in self.buttons:\n",
    "            for btn in row:\n",
    "                btn.text = ''\n",
    "        popup.dismiss()\n",
    "\n",
    "class TicTacToeApp(App):\n",
    "    def build(self):\n",
    "        return TicTacToeGame()\n",
    "\n",
    "if __name__ == '__main__':\n",
    "    TicTacToeApp().run()\n"
   ]
  },
  {
   "cell_type": "markdown",
   "id": "b1563111-f1f4-48c9-96e9-817af6cba9f5",
   "metadata": {},
   "source": [
    "##### Python Chat Application Using Kivy and Socket Programming"
   ]
  },
  {
   "cell_type": "code",
   "execution_count": null,
   "id": "0d144f75-d87f-4ef2-bfeb-7edf7c463a25",
   "metadata": {},
   "outputs": [
    {
     "name": "stdout",
     "output_type": "stream",
     "text": [
      "[SERVER STARTED] Listening on port 5555...\n"
     ]
    }
   ],
   "source": [
    "# server code\n",
    "import socket\n",
    "import threading\n",
    "\n",
    "# Store connected clients\n",
    "clients = []\n",
    "\n",
    "def handle_client(client_socket, address):\n",
    "    print(f\"[NEW CONNECTION] {address} connected.\")\n",
    "    while True:\n",
    "        try:\n",
    "            msg = client_socket.recv(1024).decode()\n",
    "            if msg:\n",
    "                print(f\"[{address}] {msg}\")\n",
    "                broadcast(msg, client_socket)\n",
    "        except:\n",
    "            print(f\"[DISCONNECTED] {address}\")\n",
    "            clients.remove(client_socket)\n",
    "            client_socket.close()\n",
    "            break\n",
    "\n",
    "def broadcast(message, sender_socket):\n",
    "    for client in clients:\n",
    "        if client != sender_socket:\n",
    "            try:\n",
    "                client.send(message.encode())\n",
    "            except:\n",
    "                client.close()\n",
    "                clients.remove(client)\n",
    "\n",
    "def start_server():\n",
    "    server = socket.socket(socket.AF_INET, socket.SOCK_STREAM)\n",
    "    server.bind((\"localhost\", 5555))\n",
    "    server.listen()\n",
    "    print(\"[SERVER STARTED] Listening on port 5555...\")\n",
    "\n",
    "    while True:\n",
    "        client_socket, address = server.accept()\n",
    "        clients.append(client_socket)\n",
    "        thread = threading.Thread(target=handle_client, args=(client_socket, address))\n",
    "        thread.start()\n",
    "\n",
    "if __name__ == \"__main__\":\n",
    "    start_server()\n"
   ]
  },
  {
   "cell_type": "code",
   "execution_count": null,
   "id": "4719fd92-067a-4ff7-b2af-9b1c3455e201",
   "metadata": {},
   "outputs": [],
   "source": [
    "# client code\n",
    "import socket\n",
    "import threading\n",
    "\n",
    "from kivy.app import App\n",
    "from kivy.uix.boxlayout import BoxLayout\n",
    "from kivy.uix.textinput import TextInput\n",
    "from kivy.uix.button import Button\n",
    "from kivy.uix.label import Label\n",
    "from kivy.clock import Clock\n",
    "\n",
    "\n",
    "class ChatClient(BoxLayout):\n",
    "    def __init__(self, **kwargs):\n",
    "        super().__init__(orientation='vertical', **kwargs)\n",
    "\n",
    "        # Chat display area\n",
    "        self.chat_log = Label(\n",
    "            size_hint_y=8,\n",
    "            text='',\n",
    "            halign='left',\n",
    "            valign='top'\n",
    "        )\n",
    "        self.chat_log.bind(size=self.chat_log.setter('text_size'))\n",
    "\n",
    "        # Text input for message\n",
    "        self.input_box = TextInput(\n",
    "            size_hint_y=1,\n",
    "            multiline=False,\n",
    "            hint_text='Type your message...'\n",
    "        )\n",
    "\n",
    "        # Send button\n",
    "        self.send_button = Button(\n",
    "            text=\"Send\",\n",
    "            size_hint_y=1,\n",
    "            background_color=(0.2, 0.6, 1, 1)\n",
    "        )\n",
    "        self.send_button.bind(on_press=self.send_message)\n",
    "\n",
    "        # Add widgets to layout\n",
    "        self.add_widget(self.chat_log)\n",
    "        self.add_widget(self.input_box)\n",
    "        self.add_widget(self.send_button)\n",
    "\n",
    "        # Set up socket connection\n",
    "        self.client = socket.socket(socket.AF_INET, socket.SOCK_STREAM)\n",
    "        try:\n",
    "            self.client.connect((\"localhost\", 5555))\n",
    "        except Exception as e:\n",
    "            self.chat_log.text += f\"\\n[ERROR] {e}\"\n",
    "            return\n",
    "\n",
    "        # Start thread to listen for messages\n",
    "        threading.Thread(target=self.receive_messages, daemon=True).start()\n",
    "\n",
    "    def send_message(self, _):\n",
    "        msg = self.input_box.text.strip()\n",
    "        if msg:\n",
    "            try:\n",
    "                self.client.send(msg.encode())\n",
    "                self.chat_log.text += f\"\\n[You]: {msg}\"\n",
    "            except Exception as e:\n",
    "                self.chat_log.text += f\"\\n[Send Error]: {e}\"\n",
    "        self.input_box.text = \"\"\n",
    "\n",
    "    def receive_messages(self):\n",
    "        while True:\n",
    "            try:\n",
    "                msg = self.client.recv(1024).decode()\n",
    "                Clock.schedule_once(lambda dt: self.update_chat_log(msg))\n",
    "            except:\n",
    "                break\n",
    "\n",
    "    def update_chat_log(self, msg):\n",
    "        self.chat_log.text += f\"\\n{msg}\"\n",
    "\n",
    "\n",
    "class ChatApp(App):\n",
    "    def build(self):\n",
    "        return ChatClient()\n",
    "\n",
    "\n",
    "if __name__ == '__main__':\n",
    "    ChatApp().run()\n"
   ]
  }
 ],
 "metadata": {
  "kernelspec": {
   "display_name": "Python 3 (ipykernel)",
   "language": "python",
   "name": "python3"
  },
  "language_info": {
   "codemirror_mode": {
    "name": "ipython",
    "version": 3
   },
   "file_extension": ".py",
   "mimetype": "text/x-python",
   "name": "python",
   "nbconvert_exporter": "python",
   "pygments_lexer": "ipython3",
   "version": "3.12.7"
  }
 },
 "nbformat": 4,
 "nbformat_minor": 5
}
