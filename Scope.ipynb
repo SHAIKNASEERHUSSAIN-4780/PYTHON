{
 "cells": [
  {
   "cell_type": "markdown",
   "id": "97973365-efc5-4c6d-848c-d5a749545c8e",
   "metadata": {},
   "source": [
    "## Object and Object ids\n",
    "Object are assigned a unique identifier that can be accessed using the function id."
   ]
  },
  {
   "cell_type": "code",
   "execution_count": 1,
   "id": "cdc234ca-f85f-49ca-8874-6345b7ee72e6",
   "metadata": {},
   "outputs": [
    {
     "name": "stdout",
     "output_type": "stream",
     "text": [
      "a =  5 id(a):  140710169777064\n",
      "b =  5 id(b):  140710169777064\n",
      "a =  7 id(a):  140710169777128\n",
      "b =  5 id(b):  140710169777064\n"
     ]
    }
   ],
   "source": [
    "def main():\n",
    "    # To understand the objects and their ids.\n",
    "    a=5\n",
    "    print('a = ', a, 'id(a): ', id(a))\n",
    "    b=2+3\n",
    "    print('b = ', b, 'id(b): ', id(b))\n",
    "    a=7\n",
    "    print('a = ', a, 'id(a): ', id(a))\n",
    "    print('b = ', b, 'id(b): ', id(b))\n",
    "if __name__==\"__main__\":\n",
    "    main()"
   ]
  },
  {
   "cell_type": "markdown",
   "id": "c699e67f-acfb-4f5a-9ef9-7b078e100b88",
   "metadata": {},
   "source": [
    "As we can see on the output of the based on objects and their ids.<br>\n",
    "We used two variables a and b which should have different ids but in first case we can see that they have same id number as they are storing same values so it is not creating two different memory locations but using the location of object a to access the value of object b.<br>\n",
    "Now, in the second case we changed the value of a form 5 to 7. As the values the location of 5 will not useful to a so it creates a new unique id for the new value but b remains same."
   ]
  },
  {
   "cell_type": "markdown",
   "id": "f9bfcea2-462f-441f-ad1f-cd1501b5dee1",
   "metadata": {},
   "source": [
    "From the above example we can understand that a object have unique identifier but can have multiple names to it.<br>\n",
    "This may be possible for integer but it may not be possible to other datatypes.<br>"
   ]
  },
  {
   "cell_type": "code",
   "execution_count": 3,
   "id": "89c6bb08-e597-4b7c-8be5-65282c3de927",
   "metadata": {},
   "outputs": [
    {
     "name": "stdout",
     "output_type": "stream",
     "text": [
      "140710169776968\n",
      "140710169776968\n",
      "2298533877264\n",
      "2298533882160\n",
      "2298530776560\n",
      "2298530776560\n"
     ]
    }
   ],
   "source": [
    "# Example \n",
    "print(id(2))\n",
    "print(id(2))\n",
    "print(id(2.4))\n",
    "print(id(2.4))\n",
    "print(id('hello'))\n",
    "print(id('hello'))"
   ]
  },
  {
   "cell_type": "code",
   "execution_count": 4,
   "id": "7c3fd0ba-bb10-47ee-82e1-28dc464d48f7",
   "metadata": {},
   "outputs": [
    {
     "name": "stdout",
     "output_type": "stream",
     "text": [
      "140710169777064 140710169777064\n"
     ]
    },
    {
     "ename": "NameError",
     "evalue": "name 'a' is not defined",
     "output_type": "error",
     "traceback": [
      "\u001b[1;31m---------------------------------------------------------------------------\u001b[0m",
      "\u001b[1;31mNameError\u001b[0m                                 Traceback (most recent call last)",
      "Cell \u001b[1;32mIn[4], line 5\u001b[0m\n\u001b[0;32m      3\u001b[0m \u001b[38;5;28mprint\u001b[39m(\u001b[38;5;28mid\u001b[39m(a), \u001b[38;5;28mid\u001b[39m(b))\n\u001b[0;32m      4\u001b[0m \u001b[38;5;28;01mdel\u001b[39;00m a\n\u001b[1;32m----> 5\u001b[0m \u001b[38;5;28mprint\u001b[39m(a)\n\u001b[0;32m      6\u001b[0m \u001b[38;5;28;01mdel\u001b[39;00m b\n\u001b[0;32m      7\u001b[0m \u001b[38;5;28mprint\u001b[39m(b)\n",
      "\u001b[1;31mNameError\u001b[0m: name 'a' is not defined"
     ]
    }
   ],
   "source": [
    "a=5\n",
    "b=5\n",
    "print(id(a), id(b))\n",
    "del a\n",
    "print(a)\n",
    "del b\n",
    "print(b)"
   ]
  },
  {
   "cell_type": "markdown",
   "id": "d9fccf01-b81d-45e3-8f85-3a9cd9254fa5",
   "metadata": {},
   "source": [
    "## Scope of objects and names\n",
    "### Namespaces\n",
    "A namespace is a space that holds the some names. A namespace defines a mapping of names to the associated objects. In python a module, class, or function defines a namespace. Names that appear in global frame are called global names and collectively they define the namespacee called golbal namespace. The names introduced in a class or function are said to be local to it. The region in a script in which a name is accessible is called its scope.\n",
    "### Scope\n",
    "The scope rules for names in Python are often summarized as LEGB rule.LEGB stands for  local, enclosing, global, and built in.<br>\n",
    "+ All names introduced locally in function f can be accessed withih it.<br>\n",
    "+ If a name is not defined locally in fuunction f, but is defined in function g, that encloses it, then it is accessible in the function f. If the name being accessed is not defined in the function g that immediately encloses f, then python looks for it in a function that encloses g, and so on.\n",
    "+ If a name is not defined in any enclosing function, Puthon looks for  it outside of all functions and if found, it is accessible in function f."
   ]
  },
  {
   "cell_type": "code",
   "execution_count": 5,
   "id": "70ef8623-d173-444b-9b8b-0562826ca8ea",
   "metadata": {},
   "outputs": [
    {
     "name": "stdout",
     "output_type": "stream",
     "text": [
      "global a:  4\n"
     ]
    }
   ],
   "source": [
    "a = 4\n",
    "def f():\n",
    "    print('global a: ', a)\n",
    "f()"
   ]
  },
  {
   "cell_type": "code",
   "execution_count": 10,
   "id": "21095d08-743f-4881-b74f-31ca17d1acb5",
   "metadata": {},
   "outputs": [
    {
     "name": "stdout",
     "output_type": "stream",
     "text": [
      "local a:  5\n",
      "global a:  4\n"
     ]
    }
   ],
   "source": [
    "a=4\n",
    "def f():\n",
    "    a=5\n",
    "    print('local a: ', a)\n",
    "f()\n",
    "print('global a: ', a)"
   ]
  },
  {
   "cell_type": "code",
   "execution_count": 12,
   "id": "c14c13f3-a263-4a78-93cf-b81ef68bfbdd",
   "metadata": {},
   "outputs": [
    {
     "name": "stdout",
     "output_type": "stream",
     "text": [
      "inside function g, b:  5\n"
     ]
    }
   ],
   "source": [
    "del a\n",
    "a=6\n",
    "def f():\n",
    "    a = 5\n",
    "    def g():\n",
    "        b = a\n",
    "        print('inside function g, b: ', b)\n",
    "    g()\n",
    "f()"
   ]
  },
  {
   "cell_type": "code",
   "execution_count": 13,
   "id": "ef73c704-92fe-443d-acf2-e29ef153a579",
   "metadata": {},
   "outputs": [
    {
     "ename": "NameError",
     "evalue": "name 'a' is not defined",
     "output_type": "error",
     "traceback": [
      "\u001b[1;31m---------------------------------------------------------------------------\u001b[0m",
      "\u001b[1;31mNameError\u001b[0m                                 Traceback (most recent call last)",
      "Cell \u001b[1;32mIn[13], line 7\u001b[0m\n\u001b[0;32m      5\u001b[0m     g()\n\u001b[0;32m      6\u001b[0m     \u001b[38;5;28mprint\u001b[39m(\u001b[38;5;124m'\u001b[39m\u001b[38;5;124min outer function g, a =\u001b[39m\u001b[38;5;124m'\u001b[39m, a)\n\u001b[1;32m----> 7\u001b[0m f()\n",
      "Cell \u001b[1;32mIn[13], line 6\u001b[0m, in \u001b[0;36mf\u001b[1;34m()\u001b[0m\n\u001b[0;32m      4\u001b[0m     a\u001b[38;5;241m=\u001b[39m\u001b[38;5;241m5\u001b[39m\n\u001b[0;32m      5\u001b[0m g()\n\u001b[1;32m----> 6\u001b[0m \u001b[38;5;28mprint\u001b[39m(\u001b[38;5;124m'\u001b[39m\u001b[38;5;124min outer function g, a =\u001b[39m\u001b[38;5;124m'\u001b[39m, a)\n",
      "\u001b[1;31mNameError\u001b[0m: name 'a' is not defined"
     ]
    }
   ],
   "source": [
    "del a\n",
    "def f():\n",
    "    def g():\n",
    "        a=5\n",
    "    g()\n",
    "    print('in outer function g, a =', a)\n",
    "f()"
   ]
  },
  {
   "cell_type": "markdown",
   "id": "b5be327d-7318-420f-8f76-bdcfb66b24a8",
   "metadata": {},
   "source": [
    "In the above example, the variable a is defined in the body of the inner function. When we attempt to access the name a in line 6 of the outer function f. Python looks for its defiition first inside the body of function f, as there is no definition of a in the function f , it looks for definition of a in the next available enclosing scope, which is the global scope. Again, there is no definition of the name a in global name space, and hence the error message is printed."
   ]
  },
  {
   "cell_type": "code",
   "execution_count": 14,
   "id": "1831d00e-2aa4-43c2-a877-a5c9a423fd13",
   "metadata": {},
   "outputs": [
    {
     "ename": "UnboundLocalError",
     "evalue": "cannot access local variable 'a' where it is not associated with a value",
     "output_type": "error",
     "traceback": [
      "\u001b[1;31m---------------------------------------------------------------------------\u001b[0m",
      "\u001b[1;31mUnboundLocalError\u001b[0m                         Traceback (most recent call last)",
      "Cell \u001b[1;32mIn[14], line 9\u001b[0m\n\u001b[0;32m      7\u001b[0m         a\u001b[38;5;241m=\u001b[39m\u001b[38;5;241m5\u001b[39m\n\u001b[0;32m      8\u001b[0m     g()\n\u001b[1;32m----> 9\u001b[0m f()\n",
      "Cell \u001b[1;32mIn[14], line 8\u001b[0m, in \u001b[0;36mf\u001b[1;34m()\u001b[0m\n\u001b[0;32m      6\u001b[0m     \u001b[38;5;28mprint\u001b[39m(\u001b[38;5;124m'\u001b[39m\u001b[38;5;124minside function g\u001b[39m\u001b[38;5;124m'\u001b[39m, \u001b[38;5;124m'\u001b[39m\u001b[38;5;124ma = \u001b[39m\u001b[38;5;124m'\u001b[39m, a, \u001b[38;5;124m'\u001b[39m\u001b[38;5;124mb = \u001b[39m\u001b[38;5;124m'\u001b[39m,b)\n\u001b[0;32m      7\u001b[0m     a\u001b[38;5;241m=\u001b[39m\u001b[38;5;241m5\u001b[39m\n\u001b[1;32m----> 8\u001b[0m g()\n",
      "Cell \u001b[1;32mIn[14], line 5\u001b[0m, in \u001b[0;36mf.<locals>.g\u001b[1;34m()\u001b[0m\n\u001b[0;32m      4\u001b[0m \u001b[38;5;28;01mdef\u001b[39;00m \u001b[38;5;21mg\u001b[39m():\n\u001b[1;32m----> 5\u001b[0m     b \u001b[38;5;241m=\u001b[39m a\n\u001b[0;32m      6\u001b[0m     \u001b[38;5;28mprint\u001b[39m(\u001b[38;5;124m'\u001b[39m\u001b[38;5;124minside function g\u001b[39m\u001b[38;5;124m'\u001b[39m, \u001b[38;5;124m'\u001b[39m\u001b[38;5;124ma = \u001b[39m\u001b[38;5;124m'\u001b[39m, a, \u001b[38;5;124m'\u001b[39m\u001b[38;5;124mb = \u001b[39m\u001b[38;5;124m'\u001b[39m,b)\n\u001b[0;32m      7\u001b[0m     a\u001b[38;5;241m=\u001b[39m\u001b[38;5;241m5\u001b[39m\n",
      "\u001b[1;31mUnboundLocalError\u001b[0m: cannot access local variable 'a' where it is not associated with a value"
     ]
    }
   ],
   "source": [
    "a=4\n",
    "def f():\n",
    "    a = 5\n",
    "    def g():\n",
    "        b = a\n",
    "        print('inside function g', 'a = ', a, 'b = ',b)\n",
    "        a=5\n",
    "    g()\n",
    "f()"
   ]
  },
  {
   "cell_type": "markdown",
   "id": "a2ec44b7-2f72-4f77-a586-c7c1d43f9adc",
   "metadata": {},
   "source": [
    "In the above example, we are attempting to access the variable a at line 5 to assign the value of a to variable b, as it is enclosing in the inner function. Python looks for definition of a in the function g. Indeed, it finds the definition of a in the function g at line 7, but that definition occurs only after the variable call at line 5, where it is used. Hence, the system generates the error message."
   ]
  },
  {
   "cell_type": "code",
   "execution_count": 15,
   "id": "be4529f2-5733-4d68-b231-76622e565c0b",
   "metadata": {},
   "outputs": [
    {
     "name": "stdout",
     "output_type": "stream",
     "text": [
      "inside f, before calling g,  a =  5\n",
      "inside g, before modifying a,  a =  5\n",
      "inside g, after modifying a,  a =  10\n",
      "inside f, agter calling g,  a =  10\n",
      "after calling f,  a =  4\n"
     ]
    }
   ],
   "source": [
    "a=4\n",
    "def f():\n",
    "    a = 5\n",
    "    def g():\n",
    "        nonlocal a\n",
    "        print('inside g, before modifying a, ', 'a = ', a)\n",
    "        a=10\n",
    "        print('inside g, after modifying a, ', 'a = ', a)\n",
    "    print('inside f, before calling g, ', 'a = ', a)\n",
    "    g()\n",
    "    print('inside f, agter calling g, ', 'a = ', a)\n",
    "f()\n",
    "print('after calling f, ', 'a = ', a)"
   ]
  },
  {
   "cell_type": "markdown",
   "id": "0d11c3ae-98ff-4b0f-a408-e675639378c4",
   "metadata": {},
   "source": [
    "In the above example, python allows us to access a variable in an enclosing scope. We can access variable defined in a function f in the nested function g. Howeverm in order to modify the value of a local variable in the enclosing scope, Python provides the keyword nonlocal. We use the keyword nonlocal, to tell the name a being used in function g refers to the same object as the one associated with name a defined in function f because the function enclosing the function g. Thus, the assignment statements in line 7 modifies the variable a defined in function f , the new value being 10."
   ]
  },
  {
   "cell_type": "code",
   "execution_count": 16,
   "id": "34587481-0973-4651-a30c-4fbdcdcd9e70",
   "metadata": {},
   "outputs": [
    {
     "name": "stdout",
     "output_type": "stream",
     "text": [
      "inside function g, global a =  4\n",
      "inside function f, local a =  5\n",
      "outside of all function definitions a =  4\n"
     ]
    }
   ],
   "source": [
    "a = 3\n",
    "def f():\n",
    "    def g():\n",
    "        global a\n",
    "        a = 4\n",
    "        print('inside function g, global a = ', a)\n",
    "    g()\n",
    "    a=5\n",
    "    print('inside function f, local a = ', a)\n",
    "f()\n",
    "print('outside of all function definitions a = ', a)"
   ]
  },
  {
   "cell_type": "markdown",
   "id": "594fcf86-65c6-422d-a9b5-0bdd607821fc",
   "metadata": {},
   "source": [
    "In the above example, we tell Python that the variable a used in the scope of function g is from global scope by using the keyword global. Thus, the assignment in line 5 modifies the global variable a, thhe new value being 4. However, in line 8, as the variable a is locally available, no attempt is made to search it in the global scope. The value 5 is assigned to local variable a. Of course, this assignment of value 5 to local variable in funcion f does not the value of global variable which remains unaltered i.e. 4."
   ]
  },
  {
   "cell_type": "code",
   "execution_count": 17,
   "id": "ca69c970-8ab1-422f-a34e-e26fd93b2c58",
   "metadata": {},
   "outputs": [
    {
     "name": "stdout",
     "output_type": "stream",
     "text": [
      "in global namespacce: id(f):  2298551729056\n",
      "global f\n",
      "before re-definituin of f, id(f):  2298551729056\n",
      "after re-definition of f: , id(f):  2298551716416\n",
      "inner f\n",
      "in global namespace: id(f):  2298551716416\n",
      "global f\n",
      "inside h: id(f):  2298551716416\n",
      "inner f\n"
     ]
    },
    {
     "ename": "NameError",
     "evalue": "name 'fprime' is not defined",
     "output_type": "error",
     "traceback": [
      "\u001b[1;31m---------------------------------------------------------------------------\u001b[0m",
      "\u001b[1;31mNameError\u001b[0m                                 Traceback (most recent call last)",
      "Cell \u001b[1;32mIn[17], line 23\u001b[0m\n\u001b[0;32m     21\u001b[0m     h()\n\u001b[0;32m     22\u001b[0m \u001b[38;5;28;01mif\u001b[39;00m \u001b[38;5;18m__name__\u001b[39m\u001b[38;5;241m==\u001b[39m\u001b[38;5;124m\"\u001b[39m\u001b[38;5;124m__main__\u001b[39m\u001b[38;5;124m\"\u001b[39m:\n\u001b[1;32m---> 23\u001b[0m     main()\n",
      "Cell \u001b[1;32mIn[17], line 21\u001b[0m, in \u001b[0;36mmain\u001b[1;34m()\u001b[0m\n\u001b[0;32m     19\u001b[0m \u001b[38;5;28mprint\u001b[39m(\u001b[38;5;124m'\u001b[39m\u001b[38;5;124min global namespace: id(f): \u001b[39m\u001b[38;5;124m'\u001b[39m, \u001b[38;5;28mid\u001b[39m(f))\n\u001b[0;32m     20\u001b[0m fprime()\n\u001b[1;32m---> 21\u001b[0m h()\n",
      "Cell \u001b[1;32mIn[17], line 13\u001b[0m, in \u001b[0;36mh\u001b[1;34m()\u001b[0m\n\u001b[0;32m     11\u001b[0m \u001b[38;5;28mprint\u001b[39m(\u001b[38;5;124m'\u001b[39m\u001b[38;5;124minside h: id(f): \u001b[39m\u001b[38;5;124m'\u001b[39m, \u001b[38;5;28mid\u001b[39m(f))\n\u001b[0;32m     12\u001b[0m f()\n\u001b[1;32m---> 13\u001b[0m fprime()\n",
      "\u001b[1;31mNameError\u001b[0m: name 'fprime' is not defined"
     ]
    }
   ],
   "source": [
    "def f():\n",
    "    print('global f')\n",
    "def g():\n",
    "    global f\n",
    "    print('before re-definituin of f, id(f): ', id(f))\n",
    "    def f():\n",
    "        print('inner f')\n",
    "    print('after re-definition of f: , id(f): ', id(f))\n",
    "    f()\n",
    "def h():\n",
    "    print('inside h: id(f): ', id(f))\n",
    "    f()\n",
    "    fprime()\n",
    "def main():\n",
    "    print('in global namespacce: id(f): ', id(f))\n",
    "    fprime = f\n",
    "    f()\n",
    "    g()\n",
    "    print('in global namespace: id(f): ', id(f))\n",
    "    fprime()\n",
    "    h()\n",
    "if __name__==\"__main__\":\n",
    "    main()"
   ]
  },
  {
   "cell_type": "markdown",
   "id": "19b54cb2-0786-4132-a45a-f1c040d22d66",
   "metadata": {},
   "source": [
    "In the above example, at line 18, id(f) is printed for the global function f. Next the function f is assigned to fprime. On invoking the function f, line 2 is executed. During execution of function g, the execution of line 6 prints the id9f) for the global function f. Sebsequently, the global function f is redefined in the function g, and the execution on line 9 prints the id of this modified function f. However, it does not affect the defintion of function fprime, Thus, execution of line 23 invokes the function fprime, thereby, line 2 is executed.<br>\n",
    "Sebsequently, the function h is invoked, that further invokes the functions f and fprime. AS the definiton of global function f has been modified, the execution of line 8 prints inner f. However, when we attempt to invoke function fprime in line 15, Python first looks for its definition within function h, and when it dors not find the definition in the next outer scope, i.e. the global namespace. But no defintion of fprime is found even in the global namespace. Hence the system flags the error message."
   ]
  }
 ],
 "metadata": {
  "kernelspec": {
   "display_name": "Python 3 (ipykernel)",
   "language": "python",
   "name": "python3"
  },
  "language_info": {
   "codemirror_mode": {
    "name": "ipython",
    "version": 3
   },
   "file_extension": ".py",
   "mimetype": "text/x-python",
   "name": "python",
   "nbconvert_exporter": "python",
   "pygments_lexer": "ipython3",
   "version": "3.11.5"
  }
 },
 "nbformat": 4,
 "nbformat_minor": 5
}
