{
 "cells": [
  {
   "cell_type": "code",
   "execution_count": 2,
   "id": "e24792d6-54c8-4059-8b27-a0650d7d6da5",
   "metadata": {},
   "outputs": [
    {
     "name": "stdout",
     "output_type": "stream",
     "text": [
      "Hello\n",
      "H\n",
      "HelloWorld\n",
      "HelloHelloHello\n",
      "c\n",
      "az\n"
     ]
    }
   ],
   "source": [
    "# Strings\n",
    "'''\n",
    "Strings:\n",
    "- A string may be specified by placing the member characters of the sequence within quotes.\n",
    "'''\n",
    "a='Hello'\n",
    "print(a)\n",
    "'''\n",
    "Indexing:\n",
    "- To access the individual characters in a string are accessed using a technique known as \n",
    "indexing.\n",
    "- Note that indices start with 0 and end one less than the length of the string.\n",
    "Syntax:\n",
    "string[index]\n",
    "'''\n",
    "print(a[0])\n",
    "'''\n",
    "Concatenation:\n",
    "- Strings can be concatenated using concatenation operator + and can be repeated a multiple \n",
    "number of times using the operator *.\n",
    "Syntax:\n",
    "s1+s2\n",
    "s1*n\n",
    "'''\n",
    "b='World'\n",
    "print(a+b)\n",
    "print(a*3)\n",
    "'''\n",
    "Strings alse support the relational operators using max and min fumctions.\n",
    "'''\n",
    "print(max('ab','c','bd','bt'))\n",
    "print(min('bd','az','c'))"
   ]
  },
  {
   "cell_type": "code",
   "execution_count": 3,
   "id": "cfc68605-4959-45d3-bc35-817860829d3f",
   "metadata": {},
   "outputs": [
    {
     "name": "stdout",
     "output_type": "stream",
     "text": [
      "Hell\n",
      "Hello\n",
      "Hlo\n"
     ]
    }
   ],
   "source": [
    "# Slicing\n",
    "'''\n",
    "Slicing:\n",
    "- Slicing for retrieving a substring.\n",
    "- Syntax:\n",
    "    - string[start:end]\n",
    "- If we doesn't define the indeices the python assume the default value of start and \n",
    "default valueo of end.\n",
    "- Syntax:\n",
    "    - string[:]\n",
    "- We can even increment the indices of the string based on indices value.\n",
    "- Syntax:\n",
    "    - string[start:end:inc]\n",
    "'''\n",
    "a=\"Hello\"\n",
    "print(a[0:4])\n",
    "print(a[:])\n",
    "print(a[::2])"
   ]
  },
  {
   "cell_type": "code",
   "execution_count": 7,
   "id": "0b14b5bf-079a-41c8-9f1e-2f3e07439944",
   "metadata": {},
   "outputs": [
    {
     "name": "stdout",
     "output_type": "stream",
     "text": [
      "True\n"
     ]
    }
   ],
   "source": [
    "# Membership\n",
    "'''\n",
    "Membership:\n",
    "- Python allows us to check whether a character or substring is present in a string.\n",
    "- Syntax:\n",
    "    - str in string\n",
    "a='Hello'\n",
    "'''\n",
    "print('H' in a)"
   ]
  },
  {
   "cell_type": "code",
   "execution_count": 2,
   "id": "9be7476b-1536-4b60-a7f3-094a54d7f3e1",
   "metadata": {},
   "outputs": [
    {
     "name": "stdout",
     "output_type": "stream",
     "text": [
      "2\n",
      "2\n",
      "3\n",
      "Hello\n",
      "hello\n",
      "HELLO\n",
      "False\n",
      "False\n",
      "Hello\n",
      "True\n",
      "Hello World\n",
      "hello\n",
      "hello \n",
      " hello\n",
      "['Hello']\n",
      "('hello', '.', ' How are you?')\n",
      "' h e l l o ' , ' I ' , ' a m '\n",
      "False\n",
      "True\n",
      "False\n",
      "True\n",
      "True\n",
      "False\n",
      "b'\\xff\\xfe\\x00\\x00H\\x00\\x00\\x00e\\x00\\x00\\x00l\\x00\\x00\\x00l\\x00\\x00\\x00o\\x00\\x00\\x00'\n",
      "Hello\n"
     ]
    }
   ],
   "source": [
    "# Built-in Functions on Strings\n",
    "'''\n",
    "Count:\n",
    "- To count the number of occurrences of character in a string.\n",
    "- Syntax:\n",
    "    - String.count('char')\n",
    "'''\n",
    "a=\"Hello\"\n",
    "print(a.count(\"l\"))\n",
    "'''\n",
    "Find:\n",
    "- We use the find function to find the first position of the character or substring is \n",
    "present or else return -1.\n",
    "- Syntax:\n",
    "    - string.find('char')\n",
    "'''\n",
    "a=\"Hello\"\n",
    "print(a.find('l'))\n",
    "'''\n",
    "rfind:\n",
    "- We use the rfind function to find the last position of the character or substring is \n",
    "present or else return -1.\n",
    "'''\n",
    "a=\"Hello\"\n",
    "print(a.rfind('l'))\n",
    "'''\n",
    "captalize:\n",
    "- We use captalize to captalize the first character of the string.\n",
    "- Syntax:\n",
    "    - a.capitalize()\n",
    "'''\n",
    "print(a.capitalize())\n",
    "'''\n",
    "lower:\n",
    "- We use it to convert the string into lowercase.\n",
    "- Syntax:\n",
    "    - str.lower()\n",
    "'''\n",
    "print(a.lower())\n",
    "'''\n",
    "upper:\n",
    "- We use it to convert the string into uppercase.\n",
    "- Syntax:\n",
    "    - str.upper()\n",
    "'''\n",
    "print(a.upper())\n",
    "'''\n",
    "isupper:\n",
    "- We use it to check whether all the characters in the string are in uppercase.\n",
    "- Syntax:\n",
    "    - str.isupper()\n",
    "'''\n",
    "print(a.isupper())\n",
    "'''\n",
    "islower:\n",
    "- We use it it to check whether all the characters in the string are in lowercase.\n",
    "- Syntax:\n",
    "    - str.islower()\n",
    "'''\n",
    "print(a.islower())\n",
    "'''\n",
    "title:\n",
    "- We use it to captalize the first letter of each word in a string.\n",
    "- Syntax:\n",
    "    - str.title()\n",
    "'''\n",
    "print(a.title())\n",
    "'''\n",
    "istitle:\n",
    "- We use it to check whether they are in title format.\n",
    "- Syntax:\n",
    "    - str.istitle()\n",
    "'''\n",
    "print(a.istitle())\n",
    "'''\n",
    "replace:\n",
    "- We use it to replace a part of string by another string.\n",
    "- Syntax:\n",
    "    - str.replace(obj)\n",
    "'''\n",
    "print(a.replace('o','o World'))\n",
    "'''\n",
    "strip:\n",
    "- We use it to remove whitespaces on both direction.\n",
    "- Syntax:\n",
    "    - str.strip()\n",
    "'''\n",
    "print(' hello '.strip())\n",
    "'''\n",
    "lstrip:\n",
    "- We use it to remove whitepaces on left side.\n",
    "- Syntax:\n",
    "    - str.lstrip()\n",
    "'''\n",
    "print(' hello '.lstrip())\n",
    "'''\n",
    "rstrip:\n",
    "- We use it to remove whitespaces on right side.\n",
    "- Syntax:\n",
    "     - str.rstrip()\n",
    "'''\n",
    "print(' hello '.rstrip())\n",
    "'''\n",
    "split:\n",
    "- We use it to split a string into list.\n",
    "- Syntax:\n",
    "    - str.split()\n",
    "'''\n",
    "print(a.split())\n",
    "'''\n",
    "partition:\n",
    "- We use this function to a string into two parts vased on a delimiter and returns a tuple.\n",
    "- Syntax:\n",
    "    - str.partition(delimter)\n",
    "'''\n",
    "print('hello. How are you?'.partition('.'))\n",
    "'''\n",
    "join:\n",
    "- We use this function to join a string using a delimiter.\n",
    "- Syntax:\n",
    "    - 'delimiter'.join(str)\n",
    "'''\n",
    "print(' '.join(\"'hello','I','am'\"))\n",
    "'''\n",
    "isspace:\n",
    "- We use the isspace to find whether a string contain space or not.\n",
    "- Syntax:\n",
    "    - str.isspace()\n",
    "'''\n",
    "print(a.isspace())\n",
    "'''\n",
    "isalpha:\n",
    "- We use it to check whether the string contain only alphabets.\n",
    "- Syntax:\n",
    "    - str.isalpha()\n",
    "'''\n",
    "print(a.isalpha())\n",
    "'''\n",
    "isdigit:\n",
    "- We use it to check whether the string contain only digits.\n",
    "- Syntax:\n",
    "    - str.isdigit()\n",
    "'''\n",
    "print(a.isdigit())\n",
    "'''\n",
    "isalnum:\n",
    "- We use it to check whether the string contain alphabets and numbers.\n",
    "- Syntax:\n",
    "    - str.isalnum()\n",
    "'''\n",
    "print(a.isalnum())\n",
    "'''\n",
    "startswith:\n",
    "- We use it to check whether the string starts with the character or not.\n",
    "- Syntax:\n",
    "    - str.startswith('char')\n",
    "'''\n",
    "print(a.startswith('H'))\n",
    "'''\n",
    "endswith:\n",
    "- We use it to check whether the string starts with the character or not.\n",
    "- Syntax:\n",
    "    - str.endswith('char')\n",
    "'''\n",
    "print(a.endswith('e'))\n",
    "'''\n",
    "encode:\n",
    "- We use it to encode the data.\n",
    "- Syntax:\n",
    "    - str.encode('format')\n",
    "'''\n",
    "b=a.encode('utf32')\n",
    "print(b)\n",
    "'''\n",
    "decode:\n",
    "- We use ot to decode the encoded data.\n",
    "- Syntax:\n",
    "    - str.decode('format')\n",
    "'''\n",
    "print(b.decode('utf32'))"
   ]
  },
  {
   "cell_type": "code",
   "execution_count": 4,
   "id": "9e8f6de1-c684-450f-8205-cf940e576ee0",
   "metadata": {},
   "outputs": [
    {
     "name": "stdin",
     "output_type": "stream",
     "text": [
      " hello\n",
      " world\n"
     ]
    },
    {
     "name": "stdout",
     "output_type": "stream",
     "text": [
      "3\n"
     ]
    }
   ],
   "source": [
    "# String processing\n",
    "# Counting the Number of Matching Characters in a Pair of Strings.\n",
    "def nMatchedChar(str1,str2):\n",
    "    '''\n",
    "    Objective: To count number of occurrences of characters in str1 that are also in str2.\n",
    "    Input Parameters: str1, str2 - string\n",
    "    Return Value: count - numeric\n",
    "    '''\n",
    "    temp1 = str1.lower()\n",
    "    temp2 = str2.lower()\n",
    "    count=0\n",
    "    for ch1 in temp1:\n",
    "        # search for ch1 in temp2\n",
    "        for ch2 in temp2:\n",
    "            if ch1 == ch2:\n",
    "                count+=1\n",
    "    return count\n",
    "n1=input()\n",
    "n2=input()\n",
    "print(nMatchedChar(n1,n2))"
   ]
  },
  {
   "cell_type": "code",
   "execution_count": 6,
   "id": "7458aca3-c236-41a7-be7d-42f85f00e7cc",
   "metadata": {},
   "outputs": [
    {
     "name": "stdin",
     "output_type": "stream",
     "text": [
      " hello\n",
      " world\n"
     ]
    },
    {
     "name": "stdout",
     "output_type": "stream",
     "text": [
      "2\n"
     ]
    }
   ],
   "source": [
    "# Counting the Number of Common Characters in a Pair of Strings.\n",
    "def nCommonChars(str1,str2):\n",
    "    '''\n",
    "    Objective: To count number of characters common in two strings.\n",
    "    Input Parameters: str1, str2 - string\n",
    "    Return VAlue: count - nuumeric\n",
    "    '''\n",
    "    temp1 = str1.lower()\n",
    "    temp2 = str2.lower()\n",
    "    count = 0\n",
    "    for i in range(len(temp1)):\n",
    "        ch1=temp1[i]\n",
    "        if not (ch1 in temp1[:i]):\n",
    "            for ch2 in temp2:\n",
    "                if ch1==ch2:\n",
    "                    count+=1\n",
    "                    break\n",
    "    return count\n",
    "n1=input()\n",
    "n2=input()\n",
    "print(nCommonChars(n1,n2))"
   ]
  },
  {
   "cell_type": "code",
   "execution_count": 9,
   "id": "79d9710f-b685-4281-b761-ac42c214c8ec",
   "metadata": {},
   "outputs": [
    {
     "name": "stdin",
     "output_type": "stream",
     "text": [
      " hello\n"
     ]
    },
    {
     "name": "stdout",
     "output_type": "stream",
     "text": [
      "olleh\n"
     ]
    }
   ],
   "source": [
    "# Reverse a string.\n",
    "def reverse(str1):\n",
    "    '''\n",
    "    Objective: To reverse the string.\n",
    "    Input Parameters: str - string\n",
    "    Return value: reverse of str1 - string\n",
    "    '''\n",
    "    reversestr=''\n",
    "    for i in range(len(str1)):\n",
    "        reversestr=str1[i]+reversestr\n",
    "    return reversestr\n",
    "n1=input()\n",
    "print(reverse(n1))"
   ]
  },
  {
   "cell_type": "code",
   "execution_count": 10,
   "id": "a009cdef-2236-4d3d-aa73-fcef97aa2c7d",
   "metadata": {},
   "outputs": [
    {
     "name": "stdout",
     "output_type": "stream",
     "text": [
      "olleh\n"
     ]
    }
   ],
   "source": [
    "def reverse(str1):\n",
    "    '''\n",
    "    Objective: To reverse the string.\n",
    "    Input Parameters: str1 - string\n",
    "    Return Value: reverse of str1 - string\n",
    "    '''\n",
    "    reversestr=''\n",
    "    if str1=='':\n",
    "        return str1\n",
    "    else:\n",
    "        return reverse(str1[1:])+str1[0]\n",
    "print(reverse(n1))"
   ]
  },
  {
   "cell_type": "code",
   "execution_count": 24,
   "id": "892c7942-af32-43fd-89a3-ed5c3c2c556f",
   "metadata": {},
   "outputs": [
    {
     "name": "stdout",
     "output_type": "stream",
     "text": [
      "python\n",
      "python\n",
      "shell\n",
      "shel\n",
      "shell\n",
      "String length is greater than or equal to 5\n",
      "String does not start with \"python\"\n",
      "String does not ends with 'python'\n"
     ]
    }
   ],
   "source": [
    "import re\n",
    "str1='Welcome to python shell'\n",
    "match=re.search('python',str1)\n",
    "print(match.group())\n",
    "match=re.search('(p|P)ython',str1)\n",
    "print(match.group())\n",
    "match=re.search('shel*',str1)\n",
    "print(match.group())\n",
    "match=re.search('shel?',str1)\n",
    "print(match.group())\n",
    "match=re.search('shel{1,2}',str1)\n",
    "print(match.group())\n",
    "if re.search('.....',str1):\n",
    "    print(\"String length is greater than or equal to 5\")\n",
    "if re.search('^python', str1):\n",
    "    print(\"String starts with 'python'\")\n",
    "else:\n",
    "    print('String does not start with \"python\"')\n",
    "if re.search('python$',str1):\n",
    "    print('String ends with \"python\"')\n",
    "else:\n",
    "    print(\"String does not ends with 'python'\")\n",
    "match=re.search('\\d\\d\\d\\d\\d',str1)\n",
    "if match is not None:\n",
    "    print(match.group())\n",
    "match=re.search('\\d{4}',str1)\n",
    "if match is not None:\n",
    "    print(match.group())\n",
    "match=re.search('-[0-9]+\\.[0-9]+',str1)\n",
    "if match is not None:\n",
    "    print(match.group())"
   ]
  },
  {
   "cell_type": "markdown",
   "id": "36c36f6a-fc8b-4e22-ba46-bf0cd3d55d1c",
   "metadata": {},
   "source": [
    "### Special characters in string\n",
    "- In python the blackslash(\\\\) character is used to introduce a special character\n",
    "  |Escape sequences|Meaning|\n",
    "  |----------------|-------|\n",
    "  |\\n|Newline|\n",
    "  |\\t|Horizontal tab|\n",
    "  |\\\\|Backslash(\\)|\n",
    "  |\\\\'|Single quote|\n",
    "  |\\\\\"|Double quote|"
   ]
  },
  {
   "cell_type": "code",
   "execution_count": 1,
   "id": "d1f38922-8f1c-4b82-8277-e911d9315806",
   "metadata": {},
   "outputs": [
    {
     "name": "stdout",
     "output_type": "stream",
     "text": [
      "Hello python \n",
      " programming\n",
      "Hello python \t programming\n",
      "Hello python \\ programming\n",
      "Hello python ' programming\n",
      "Hello python \" programming\n"
     ]
    }
   ],
   "source": [
    "print(\"Hello python \\n programming\")\n",
    "print(\"Hello python \\t programming\")\n",
    "print(\"Hello python \\\\ programming\")\n",
    "print(\"Hello python \\' programming\")\n",
    "print(\"Hello python \\\" programming\")"
   ]
  },
  {
   "cell_type": "markdown",
   "id": "bc666f91-3ce2-4af6-8e82-7c859e1ad0c7",
   "metadata": {},
   "source": [
    "### String formatting operator\n",
    "- One of python's coolest features is the string format operator \"%\". This operator is unique to strings and it is a pack which is having functions from c language printf() family.\n",
    "  |format symbol|description|\n",
    "  |-------------|-----------|\n",
    "  |%c|character|\n",
    "  |%s|string conversion|\n",
    "  |%d|signed decimal integer|\n",
    "  |%u|unsigned decimal integer|\n",
    "  |%o|octal integer|\n",
    "  |%x|hexadecimal integer with lowercase letters|\n",
    "  |%X|hexadecimal integer with uppercase letters|\n",
    "  "
   ]
  },
  {
   "cell_type": "code",
   "execution_count": 4,
   "id": "9c6a639a-69c9-441d-8830-3deba514e757",
   "metadata": {},
   "outputs": [
    {
     "name": "stdout",
     "output_type": "stream",
     "text": [
      "Hemanth having 11+ years experience\n",
      "Hemanth having 11 years experience\n"
     ]
    }
   ],
   "source": [
    "print(\"%s having %s years experience\"%(\"Hemanth\", \"11+\"))\n",
    "print(\"%s having %d years experience\"%(\"Hemanth\", 11))"
   ]
  }
 ],
 "metadata": {
  "kernelspec": {
   "display_name": "Python 3 (ipykernel)",
   "language": "python",
   "name": "python3"
  },
  "language_info": {
   "codemirror_mode": {
    "name": "ipython",
    "version": 3
   },
   "file_extension": ".py",
   "mimetype": "text/x-python",
   "name": "python",
   "nbconvert_exporter": "python",
   "pygments_lexer": "ipython3",
   "version": "3.12.7"
  }
 },
 "nbformat": 4,
 "nbformat_minor": 5
}
