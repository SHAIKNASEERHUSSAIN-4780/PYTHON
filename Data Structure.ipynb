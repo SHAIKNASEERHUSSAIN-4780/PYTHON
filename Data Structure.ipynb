{
 "cells": [
  {
   "cell_type": "markdown",
   "id": "aa0779aa-059c-4996-9e31-86b58bd4d144",
   "metadata": {},
   "source": [
    "### Data\n",
    "- Data is set of values of qualitative and quantitative variables.\n",
    "  1. **Qualitative**\n",
    "     - It describes something descriptive information.\n",
    "    2. **Quantitative**\n",
    "       - It describes something descriptive information."
   ]
  },
  {
   "cell_type": "markdown",
   "id": "cf804cff-1de6-417a-ad20-0b2f6f0c6fff",
   "metadata": {},
   "source": [
    "### Data structure\n",
    "- A particular way of storing data in a computer is called data structure.\n",
    "### Algorithm\n",
    "- A set of rules to solve  a problem is called algorithm.\n",
    "### Types of Data structures\n",
    "  1. **Linear Data Structure**\n",
    "     - A Data Structure which is sequential and continuous in nature. You can access the data in sequential manner.\n",
    "     - Eg: array, linkedlist, stack, and queue.\n",
    "  2. **Non-Linear Data Structure**\n",
    "      - These are arranged in random manner. It can be used to hierarchical relationships among data elements.\n",
    "      - Eg: graph, tree\n",
    "### Data Structures in python\n",
    "- In python environment we have built-in datastructures.\n",
    "  1. Lists(Lists are enclosed in [] brackets) # Linear DS\n",
    "  2. Tuples(Tuples are enclosed in () paraenthesis) # Linear DS\n",
    "  3. Sets(Sets are enclosed in {} braces) # Non-Linear DS\n",
    "  4. Dictionaries(dictionaries are built with curly brackets{}) # Non-Lonear DS"
   ]
  }
 ],
 "metadata": {
  "kernelspec": {
   "display_name": "Python 3 (ipykernel)",
   "language": "python",
   "name": "python3"
  },
  "language_info": {
   "codemirror_mode": {
    "name": "ipython",
    "version": 3
   },
   "file_extension": ".py",
   "mimetype": "text/x-python",
   "name": "python",
   "nbconvert_exporter": "python",
   "pygments_lexer": "ipython3",
   "version": "3.12.7"
  }
 },
 "nbformat": 4,
 "nbformat_minor": 5
}
