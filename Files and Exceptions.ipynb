{
 "cells": [
  {
   "cell_type": "code",
   "execution_count": 1,
   "id": "598913f7-b3da-4520-b670-e5965d8ffe37",
   "metadata": {
    "scrolled": true
   },
   "outputs": [
    {
     "name": "stdout",
     "output_type": "stream",
     "text": [
      "C:\\Users\\sknas\\PYTHON\n",
      "b'C:\\\\Users\\\\sknas\\\\PYTHON'\n",
      "['.aiozworker', '.anaconda', '.android', '.chatgpt', '.conda', '.condarc', '.config', '.continuum', '.crossnote', '.docker', '.eclipse', '.gitconfig', '.idlerc', '.ipynb_checkpoints', '.ipython', '.jupyter', '.keras', '.kivy', '.kube', '.local', '.matplotlib', '.mysterium', '.p2', '.redhat', '.spyder-py3', '.viminfo', '.virtual_documents', '.vscode', 'AI&ML', 'anaconda3', 'AppData', 'Application Data', 'Contacts', 'Cookies', 'CrossDevice', 'CRT', 'data analysis', 'Data Analysis With Tabelu', 'Data Structure And Algorithm in Python', 'Documents', 'Downloads', 'eclipse', 'eclipse-workspace', 'Favorites', 'Google', 'Jedi', 'Links', 'Local Settings', 'logs', 'Music', 'My Documents', 'NetHood', 'NTUSER.DAT', 'ntuser.dat.LOG1', 'ntuser.dat.LOG2', 'NTUSER.DAT{1ecf2bfe-bbe4-11ef-a9ba-b57fa5b75627}.TM.blf', 'NTUSER.DAT{1ecf2bfe-bbe4-11ef-a9ba-b57fa5b75627}.TMContainer00000000000000000001.regtrans-ms', 'NTUSER.DAT{1ecf2bfe-bbe4-11ef-a9ba-b57fa5b75627}.TMContainer00000000000000000002.regtrans-ms', 'ntuser.ini', 'OneDrive', 'Oracle', 'Pictures', 'PrintHood', 'PYTHON', 'Recent', 'Saved Games', 'scikit_learn_data', 'Searches', 'SendTo', 'social network', 'Start Menu', 'technical training', 'Templates', 'Videos']\n",
      "C:\\Users\\sknas\n"
     ]
    }
   ],
   "source": [
    "import os\n",
    "print(os.getcwd()) # Returns the present working directory\n",
    "print(os.getcwdb()) # Returns the present working directory as a byte object\n",
    "\n",
    "os. chdir(\"C:/Users/sknas\")     # Use to change directory \n",
    "print(os.listdir())             # All files and sub directories inside a directory\n",
    "\n",
    "print(os.getcwd())              # Returns the present working directory\n",
    "\n",
    "os.mkdir(\"Test\")                # used to make a new directory\n",
    "\n",
    "os.rename(\"Test\", \"New_one\")    # used to rename a directory\n",
    "\n",
    "os.rmdir(\"New_one\")             # Used to remove a directory\n",
    "\n",
    "# os.remove(\"file_name.extension\")  # Used to remove a file\n",
    "os.chdir(\"C:/Users/sknas/PYTHON\")"
   ]
  },
  {
   "cell_type": "markdown",
   "id": "105e5aec-0ba3-4601-a0a5-d1dac95809dc",
   "metadata": {},
   "source": [
    "### Files Handling\n",
    "- file is a stream of bytes\n",
    "- Before performing a read or write operation a file, we need to open the file.\n",
    "  + open()\n",
    "- We can open file any of three modes\n",
    "  + read(r)\n",
    "  + write(w)\n",
    "  + append(a)\n",
    "- To open a file we need to perform open('file_name','w')"
   ]
  },
  {
   "cell_type": "code",
   "execution_count": 10,
   "id": "66f3786a-dfe2-4b36-824d-336cce795dda",
   "metadata": {},
   "outputs": [
    {
     "name": "stdout",
     "output_type": "stream",
     "text": [
      "Python is an ineractive programming language. Simple syntax of the language makes\n",
      "Python programs easy to read and write.\n",
      "122\n",
      "\n",
      "122\n",
      "an ineractive programming language. Simple syntax of the language makes\n",
      "Python programs easy to read and write.\n"
     ]
    }
   ],
   "source": [
    "f = open(\"python.txt\",'w')\n",
    "f.write('''Python is an ineractive programming language. Simple syntax of the language makes\n",
    "Python programs easy to read and write.''')\n",
    "f.close()\n",
    "\n",
    "f = open('python.txt','r')\n",
    "print(f.read())\n",
    "print(f.tell()) # It print number of characters are read in the file.\n",
    "print(f.read(20))\n",
    "print(f.tell())\n",
    "f.close()\n",
    "\n",
    "f = open('python.txt','r')\n",
    "f.readline() # It read a complete line in the file.\n",
    "\n",
    "f.seek(10) # It's used read from a particular position in a file is to use the seek function\n",
    "print(f.read())\n",
    "f.close()"
   ]
  },
  {
   "cell_type": "code",
   "execution_count": 6,
   "id": "bd70044a-b75d-402e-8c37-a21aa44d1b56",
   "metadata": {},
   "outputs": [
    {
     "name": "stdout",
     "output_type": "stream",
     "text": [
      "File Read: \n",
      "File Read: Hello, Good Morning!\n"
     ]
    }
   ],
   "source": [
    "file = open(\"Hello.txt\", 'w')\n",
    "file.close()\n",
    "\n",
    "with open(\"Hello.txt\", 'r') as file:\n",
    "    print(\"File Read:\", file.read())\n",
    "file.close()\n",
    "\n",
    "with open(\"Hello.txt\", \"w\") as file:\n",
    "    file.write(\"Hello, Good Morning!\")\n",
    "file.close()\n",
    "\n",
    "with open(\"Hello.txt\", \"r\") as file:\n",
    "    print(\"File Read:\", file.read())\n",
    "file.close()"
   ]
  },
  {
   "cell_type": "markdown",
   "id": "8abaaf50-7002-42ee-8505-b960cc6c0a3b",
   "metadata": {},
   "source": [
    "### Writer and Reader"
   ]
  },
  {
   "cell_type": "code",
   "execution_count": 11,
   "id": "4784cc7a-7322-48ed-8942-d93599eefe5a",
   "metadata": {},
   "outputs": [
    {
     "name": "stdout",
     "output_type": "stream",
     "text": [
      "['Name', 'Age', 'City']\n",
      "[]\n",
      "['John', '25', 'New York']\n",
      "[]\n",
      "['Alice', '30', 'London']\n",
      "[]\n",
      "['Bob', '35', 'Paris']\n",
      "[]\n",
      "['Johnny', '20', 'Florida']\n",
      "[]\n"
     ]
    }
   ],
   "source": [
    "import csv\n",
    "\n",
    "data = [[\"Name\", \"Age\", \"City\"],\n",
    "        [\"John\", 25, \"New York\"],\n",
    "        [\"Alice\", 30, \"London\"],\n",
    "        [\"Bob\", 35, \"Paris\"]]\n",
    "with open(\"data.csv\", \"w\") as file:\n",
    "    writer = csv.writer(file)\n",
    "    writer.writerows(data)\n",
    "    writer.writerow(['Johnny', 20, 'Florida'])\n",
    "file.close()\n",
    "\n",
    "with open(\"data.csv\", \"r\") as file:\n",
    "    reader = csv.reader(file)\n",
    "    for row in reader:\n",
    "        print(row)\n",
    "file.close()"
   ]
  },
  {
   "cell_type": "markdown",
   "id": "1d8a3b8e-1835-4dac-9453-ae000243e8be",
   "metadata": {},
   "source": [
    "### Writing Structures To a File\n",
    "- To write a structure such as list or dictionary to a file and read it subsequently, we may use the python module pickle. Pickling refers to the process of converting the structure to a byte stream before writing to the file. While reading the contents of the file, a reverse process called umpickling."
   ]
  },
  {
   "cell_type": "code",
   "execution_count": 21,
   "id": "97e277ff-83f6-42e0-936b-315b801a9f67",
   "metadata": {},
   "outputs": [
    {
     "name": "stdout",
     "output_type": "stream",
     "text": [
      "['hello', 'world'] {1: 'One', 2: 'Two'}\n"
     ]
    }
   ],
   "source": [
    "# fileStructure\n",
    "import pickle\n",
    "def main():\n",
    "    '''\n",
    "    Objective: To write and read a list and dicctionary to and from a file.\n",
    "    Input Parameter: None\n",
    "    Return Value: None\n",
    "    '''\n",
    "    f = open('file1', 'wb')\n",
    "    pickle.dump(['hello', 'world'], f)\n",
    "    pickle.dump({1:'One', 2:'Two'}, f)\n",
    "    f.close()\n",
    "    f = open('file1', 'rb')\n",
    "    value1 = pickle.load(f)\n",
    "    value2 = pickle.load(f)\n",
    "    print(value1, value2)\n",
    "    f.close()\n",
    "if __name__==\"__main__\":\n",
    "    main()"
   ]
  },
  {
   "cell_type": "markdown",
   "id": "6f2f10bf-4fd9-4df5-8b02-48bb439ac5a1",
   "metadata": {},
   "source": [
    "### Find Longest Word in File"
   ]
  },
  {
   "cell_type": "code",
   "execution_count": 11,
   "id": "6c1d3991-2db8-464e-ab7e-51326b53e74d",
   "metadata": {},
   "outputs": [
    {
     "name": "stdout",
     "output_type": "stream",
     "text": [
      "programming\n"
     ]
    }
   ],
   "source": [
    "f1 = open(\"python.txt\", 'r')\n",
    "word = f1.read().split()\n",
    "print(max(word, key = len))"
   ]
  },
  {
   "cell_type": "markdown",
   "id": "cd89c390-75f6-42e2-959d-64d19654dd4b",
   "metadata": {},
   "source": [
    "### Display the frequency of words from a file"
   ]
  },
  {
   "cell_type": "code",
   "execution_count": 12,
   "id": "5ede6b48-61ea-4e43-a643-40a06b0146ca",
   "metadata": {},
   "outputs": [
    {
     "name": "stdout",
     "output_type": "stream",
     "text": [
      "Counter({'Python': 2, 'is': 1, 'an': 1, 'ineractive': 1, 'programming': 1, 'language.': 1, 'Simple': 1, 'syntax': 1, 'of': 1, 'the': 1, 'language': 1, 'makes': 1, 'programs': 1, 'easy': 1, 'to': 1, 'read': 1, 'and': 1, 'write.': 1})\n"
     ]
    }
   ],
   "source": [
    "from collections import Counter\n",
    "f1 = open(\"python.txt\", \"r\")\n",
    "data = Counter(f1.read().split())\n",
    "print(data)"
   ]
  },
  {
   "cell_type": "markdown",
   "id": "d2b945d7-a20a-4c59-80ab-619f7d00a628",
   "metadata": {},
   "source": [
    "### Errors and Exceptions\n",
    "- Exceptions are errors that occur in a code"
   ]
  },
  {
   "cell_type": "code",
   "execution_count": 26,
   "id": "8160213a-3049-47be-94db-580a82187741",
   "metadata": {},
   "outputs": [
    {
     "name": "stdout",
     "output_type": "stream",
     "text": [
      "<class 'BaseException'>,<class 'BaseExceptionGroup'>,<class 'Exception'>,<class 'GeneratorExit'>,<class 'KeyboardInterrupt'>,<class 'SystemExit'>,<class 'ArithmeticError'>,<class 'AssertionError'>,<class 'AttributeError'>,<class 'BufferError'>,<class 'EOFError'>,<class 'ImportError'>,<class 'LookupError'>,<class 'MemoryError'>,<class 'NameError'>,<class 'OSError'>,<class 'ReferenceError'>,<class 'RuntimeError'>,<class 'StopAsyncIteration'>,<class 'StopIteration'>,<class 'SyntaxError'>,<class 'SystemError'>,<class 'TypeError'>,<class 'ValueError'>,<class 'Warning'>,<class 'FloatingPointError'>,<class 'OverflowError'>,<class 'ZeroDivisionError'>,<class 'BytesWarning'>,<class 'DeprecationWarning'>,<class 'EncodingWarning'>,<class 'FutureWarning'>,<class 'ImportWarning'>,<class 'PendingDeprecationWarning'>,<class 'ResourceWarning'>,<class 'RuntimeWarning'>,<class 'SyntaxWarning'>,<class 'UnicodeWarning'>,<class 'UserWarning'>,<class 'BlockingIOError'>,<class 'ChildProcessError'>,<class 'ConnectionError'>,<class 'FileExistsError'>,<class 'FileNotFoundError'>,<class 'InterruptedError'>,<class 'IsADirectoryError'>,<class 'NotADirectoryError'>,<class 'PermissionError'>,<class 'ProcessLookupError'>,<class 'TimeoutError'>,<class 'IndentationError'>,<class 'IndexError'>,<class 'KeyError'>,<class 'ModuleNotFoundError'>,<class 'NotImplementedError'>,<class 'RecursionError'>,<class 'UnboundLocalError'>,<class 'UnicodeError'>,<class 'BrokenPipeError'>,<class 'ConnectionAbortedError'>,<class 'ConnectionRefusedError'>,<class 'ConnectionResetError'>,<class 'TabError'>,<class 'UnicodeDecodeError'>,<class 'UnicodeEncodeError'>,<class 'UnicodeTranslateError'>,<class 'ExceptionGroup'>,<class 'OSError'>,<class 'OSError'>,<class 'OSError'>,"
     ]
    }
   ],
   "source": [
    "exceptions_list = [obj for name, obj in __builtins__.__dict__.items() if isinstance(obj, type) and issubclass(obj, BaseException)]\n",
    "\n",
    "for exception in exceptions_list:\n",
    "    print(exception,end=\",\")"
   ]
  },
  {
   "cell_type": "markdown",
   "id": "c0201a45-aac8-4f50-b2e1-d585a991a470",
   "metadata": {},
   "source": [
    "##### NameError:\n",
    "- This exception occurs whenever a name tahat appers in a statement is not found globally.\n",
    "##### TypeError:\n",
    "- This exception occurs when an operation or function is applied to an object of inappropiate type.\n",
    "##### ValueError:\n",
    "- This exception occurs whenever an inappropriate argument value, even though of correct type, is used in a function call.\n",
    "##### ZeroDivisionError:\n",
    "- This exception occurs when we try to perform numeric division in which the denominator happend to be zero.\n",
    "##### OSError:\n",
    "- This exceptioin occurs wheneer there is a system related error such as disk full or an error related to input/output.\n",
    "##### IndexError:\n",
    "- This exception occurs whenever we try to access an index that is out of a valid range."
   ]
  },
  {
   "cell_type": "markdown",
   "id": "a9e32109-b818-44e9-953b-aff3a3c20eb0",
   "metadata": {},
   "source": [
    "### Handling Exceptions Using Try...Except\n",
    "- To handle the exceptions, we use the try block comprises statement that have the potential to raise an exception, except block describes the action to be taken when an exception is raised."
   ]
  },
  {
   "cell_type": "code",
   "execution_count": 28,
   "id": "774b8583-3abe-4968-8ee7-b5df903163f8",
   "metadata": {},
   "outputs": [
    {
     "name": "stdout",
     "output_type": "stream",
     "text": [
      "Problem with Input Output...\n",
      "Program continues smoothly beyond try...except block\n"
     ]
    }
   ],
   "source": [
    "# File Exception Error\n",
    "def main():\n",
    "    '''\n",
    "    Objective: To open a file for reading\n",
    "    Input Parameter: None\n",
    "    Output Parameter: None\n",
    "    '''\n",
    "    try:\n",
    "        f = open('file_name', 'r')\n",
    "    except IOError:\n",
    "        print(\"Problem with Input Output...\")\n",
    "    print(\"Program continues smoothly beyond try...except block\")\n",
    "if __name__==\"__main__\":\n",
    "    main()"
   ]
  },
  {
   "cell_type": "code",
   "execution_count": 29,
   "id": "289f34a5-4303-4736-bbd5-c565ba4c9e26",
   "metadata": {},
   "outputs": [
    {
     "name": "stdout",
     "output_type": "stream",
     "text": [
      "Problem with Input Ouptu...\n",
      "(<class 'FileNotFoundError'>, FileNotFoundError(2, 'No such file or directory'), <traceback object at 0x000002EA0988D300>)\n",
      "Program continues smoothly beyond try...except block\n"
     ]
    }
   ],
   "source": [
    "import sys\n",
    "def main():\n",
    "    '''\n",
    "    Objective: To open a file for reading\n",
    "    Input Parameter: None\n",
    "    Output Parameter: None\n",
    "    '''\n",
    "    try:\n",
    "        f= open('file_name','r')\n",
    "    except IOError:\n",
    "        print(\"Problem with Input Ouptu...\")\n",
    "        print(sys.exc_info())\n",
    "    print(\"Program continues smoothly beyond try...except block\")\n",
    "if __name__==\"__main__\":\n",
    "    main()"
   ]
  },
  {
   "cell_type": "code",
   "execution_count": 30,
   "id": "187f2939-ff59-4dd8-9107-c1826b0cf144",
   "metadata": {},
   "outputs": [
    {
     "name": "stdin",
     "output_type": "stream",
     "text": [
      "Enter price of item purchased: 400\n",
      "Enter weight of item purchased: 0\n"
     ]
    },
    {
     "name": "stdout",
     "output_type": "stream",
     "text": [
      "Invalid input provided by user \n",
      "(<class 'ZeroDivisionError'>, ZeroDivisionError('float division by zero'), <traceback object at 0x000002EA09899400>)\n"
     ]
    }
   ],
   "source": [
    "import sys\n",
    "def main():\n",
    "    '''\n",
    "    Objective: To compute price per unit weight of an item\n",
    "    Input Parameter: None\n",
    "    Return Value: None\n",
    "    '''\n",
    "    price=float(input(\"Enter price of item purchased:\"))\n",
    "    weight = float(input(\"Enter weight of item purchased:\"))\n",
    "    try:\n",
    "        assert price>=0 and weight>=0\n",
    "        result = price/weight\n",
    "    except(ValueError, TypeError, ZeroDivisionError):\n",
    "        print(\"Invalid input provided by user \\n\" + str(sys.exc_info()))\n",
    "    else:\n",
    "        print(\"Price per unit weight: \",result)\n",
    "if __name__==\"__main__\":\n",
    "    main()"
   ]
  },
  {
   "cell_type": "code",
   "execution_count": 33,
   "id": "e7986882-a0a1-448c-b1fc-fd8d38dd6d02",
   "metadata": {},
   "outputs": [
    {
     "name": "stdin",
     "output_type": "stream",
     "text": [
      "Enter price of item purchased: 20\n",
      "Enter weight of item purchased: x\n"
     ]
    },
    {
     "name": "stdout",
     "output_type": "stream",
     "text": [
      "Invalid input provided by user \n",
      "(<class 'ValueError'>, ValueError(\"could not convert string to float: 'x'\"), <traceback object at 0x000002EA0A584800>)\n"
     ]
    }
   ],
   "source": [
    "import sys\n",
    "def main():\n",
    "    '''\n",
    "    Objective: To compute price per unit weight of an item\n",
    "    Input Parameter: None\n",
    "    Return Value: None\n",
    "    '''\n",
    "    try:\n",
    "        price=float(input(\"Enter price of item purchased:\"))\n",
    "        weight = float(input(\"Enter weight of item purchased:\"))\n",
    "        assert price>=0 and weight>=0\n",
    "        result = price/weight\n",
    "    except(ValueError, TypeError, ZeroDivisionError):\n",
    "        print(\"Invalid input provided by user \\n\" + str(sys.exc_info()))\n",
    "    except:\n",
    "        print(str(sys.exc_info()))\n",
    "    else:\n",
    "        print(\"Price per unit weight: \",result)\n",
    "if __name__==\"__main__\":\n",
    "    main()"
   ]
  },
  {
   "cell_type": "markdown",
   "id": "62719ff5-3ff1-4f5b-b400-13bcff583136",
   "metadata": {},
   "source": [
    "##### Raise\n",
    "- Raise is a keyword used to raise an exception.\n",
    "##### finally\n",
    "- finally is akeyword used to print after exceptions are cleared."
   ]
  },
  {
   "cell_type": "code",
   "execution_count": 41,
   "id": "0e274851-9798-4c71-9a90-1300c10b1dde",
   "metadata": {},
   "outputs": [
    {
     "name": "stdout",
     "output_type": "stream",
     "text": [
      "Bye\n",
      "Program continues after handling exception\n"
     ]
    }
   ],
   "source": [
    "# RaiseFinally\n",
    "def main():\n",
    "    '''\n",
    "    Objective: To illustrate the use of raise and dinally clauses.\n",
    "    Input Parameter: None\n",
    "    Return Value: None\n",
    "    '''\n",
    "    marks = 110\n",
    "    try:\n",
    "        if marks<0 or marks>100:\n",
    "            raise ValueError(\"Marks out of range\")\n",
    "    except:\n",
    "        pass\n",
    "    finally:\n",
    "        print(\"Bye\")\n",
    "    print(\"Program continues after handling exception\")\n",
    "if __name__==\"__main__\":\n",
    "    main()"
   ]
  },
  {
   "cell_type": "markdown",
   "id": "8ca38846-ec9a-4d8a-83a8-eef5ade57773",
   "metadata": {},
   "source": [
    "### File Processing Example"
   ]
  },
  {
   "cell_type": "code",
   "execution_count": 7,
   "id": "e8a66835-5d50-40cb-b062-ef18592db48a",
   "metadata": {},
   "outputs": [
    {
     "name": "stdin",
     "output_type": "stream",
     "text": [
      "Enter name of file containing marks:  student.txt\n",
      "Enter output file for moderated marks:  marks.txt\n",
      "Enter moderation percentage:  10\n"
     ]
    },
    {
     "name": "stdout",
     "output_type": "stream",
     "text": [
      "1,Alice,100.0\n",
      "2,Bob,90.0\n",
      "3,Charan,80.0\n",
      "Bye\n"
     ]
    }
   ],
   "source": [
    "import sys\n",
    "\n",
    "def computeModeratedMarks(file1, file2, addPercent):\n",
    "    '''\n",
    "    Objective: To compute moderated marks of students\n",
    "    Input Parameters:\n",
    "        file1: string - input file name containing marks\n",
    "        file2: string - output file name for moderated marks\n",
    "        addPercent: int - moderation percentage to be added\n",
    "    Return Value: None\n",
    "    '''\n",
    "    try:\n",
    "        fIn = open(file1, 'r')\n",
    "        fOut = open(file2, 'w')  # Open in write mode\n",
    "    except IOError:\n",
    "        print(\"Problem in opening the file\")\n",
    "        sys.exit()\n",
    "\n",
    "    line1 = fIn.readline()\n",
    "    while line1 != '':\n",
    "        sList = line1.strip().split(', ')\n",
    "        try:\n",
    "            rollNo = int(sList[0])\n",
    "            name = sList[1]\n",
    "            marks = float(sList[2])\n",
    "        except IndexError:\n",
    "            print(\"Undefined Index\")\n",
    "            sys.exit()\n",
    "        except ValueError:\n",
    "            print(\"Unsuccessful conversion to int\")\n",
    "            sys.exit()\n",
    "\n",
    "        maxMarks = 100\n",
    "        moderatedMarks = marks + (addPercent * maxMarks) / 100\n",
    "        if moderatedMarks > 100:\n",
    "            moderatedMarks = 100\n",
    "        print(f\"{rollNo},{name},{round(moderatedMarks, 2)}\")\n",
    "        fOut.write(f\"{rollNo},{name},{int(moderatedMarks)}\\n\")\n",
    "        line1 = fIn.readline()\n",
    "\n",
    "    fIn.close()\n",
    "    fOut.close()\n",
    "\n",
    "\n",
    "def main():\n",
    "    '''\n",
    "    Objective: To compute moderated marks based on user input.\n",
    "    Input Parameter: None\n",
    "    Return Value: None\n",
    "    '''\n",
    "    try:\n",
    "        file1 = input(\"Enter name of file containing marks: \")\n",
    "        file2 = input(\"Enter output file for moderated marks: \")\n",
    "        addPercent = int(input(\"Enter moderation percentage: \"))\n",
    "        computeModeratedMarks(file1, file2, addPercent)\n",
    "    except IOError as e:\n",
    "        print('I/O error:', e)\n",
    "    finally:\n",
    "        print(\"Bye\")\n",
    "\n",
    "\n",
    "if __name__ == \"__main__\":\n",
    "    main()\n"
   ]
  },
  {
   "cell_type": "code",
   "execution_count": 3,
   "id": "27cb550f-c51d-4694-b1d4-714401b2908b",
   "metadata": {},
   "outputs": [
    {
     "name": "stdout",
     "output_type": "stream",
     "text": [
      "Age is less than 18\n",
      "End of the program\n"
     ]
    }
   ],
   "source": [
    "class VotersElligibility(Exception):\n",
    "    def __init__(self):\n",
    "        super()\n",
    "try:\n",
    "    age = 12\n",
    "    if age < 18:\n",
    "        raise VotersElligibility\n",
    "except VotersElligibility:\n",
    "    print(\"Age is less than 18\")\n",
    "else:\n",
    "    print(\"Age is greater than or equla to 18\")\n",
    "finally:\n",
    "    print(\"End of the program\")"
   ]
  }
 ],
 "metadata": {
  "kernelspec": {
   "display_name": "Python 3 (ipykernel)",
   "language": "python",
   "name": "python3"
  },
  "language_info": {
   "codemirror_mode": {
    "name": "ipython",
    "version": 3
   },
   "file_extension": ".py",
   "mimetype": "text/x-python",
   "name": "python",
   "nbconvert_exporter": "python",
   "pygments_lexer": "ipython3",
   "version": "3.12.7"
  }
 },
 "nbformat": 4,
 "nbformat_minor": 5
}
